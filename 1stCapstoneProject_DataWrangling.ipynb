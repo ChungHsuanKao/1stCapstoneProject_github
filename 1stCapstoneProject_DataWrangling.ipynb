{
 "cells": [
  {
   "cell_type": "markdown",
   "metadata": {},
   "source": [
    "# Data wrangling"
   ]
  },
  {
   "cell_type": "markdown",
   "metadata": {},
   "source": [
    "# 1. Import  packages and dataset"
   ]
  },
  {
   "cell_type": "code",
   "execution_count": 64,
   "metadata": {
    "collapsed": false
   },
   "outputs": [],
   "source": [
    "import pandas as pd\n",
    "import numpy as np\n",
    "import math\n",
    "from collections import Counter\n",
    "import re\n",
    "import json\n",
    "import requests\n",
    "from bs4 import BeautifulSoup\n",
    "import datetime"
   ]
  },
  {
   "cell_type": "code",
   "execution_count": 65,
   "metadata": {
    "collapsed": true
   },
   "outputs": [],
   "source": [
    "import matplotlib.pyplot as plt\n",
    "import seaborn as sns\n",
    "%matplotlib inline\n"
   ]
  },
  {
   "cell_type": "code",
   "execution_count": 3,
   "metadata": {
    "collapsed": false
   },
   "outputs": [],
   "source": [
    "df = pd.read_csv('movie_metadata.csv')\n"
   ]
  },
  {
   "cell_type": "markdown",
   "metadata": {},
   "source": [
    "# 2. Checking data's shape and overall information"
   ]
  },
  {
   "cell_type": "code",
   "execution_count": 4,
   "metadata": {
    "collapsed": false
   },
   "outputs": [
    {
     "data": {
      "text/plain": [
       "(5043, 28)"
      ]
     },
     "execution_count": 4,
     "metadata": {},
     "output_type": "execute_result"
    }
   ],
   "source": [
    "df.shape"
   ]
  },
  {
   "cell_type": "code",
   "execution_count": 5,
   "metadata": {
    "collapsed": false
   },
   "outputs": [
    {
     "name": "stdout",
     "output_type": "stream",
     "text": [
      "<class 'pandas.core.frame.DataFrame'>\n",
      "RangeIndex: 5043 entries, 0 to 5042\n",
      "Data columns (total 28 columns):\n",
      "color                        5024 non-null object\n",
      "director_name                4939 non-null object\n",
      "num_critic_for_reviews       4993 non-null float64\n",
      "duration                     5028 non-null float64\n",
      "director_facebook_likes      4939 non-null float64\n",
      "actor_3_facebook_likes       5020 non-null float64\n",
      "actor_2_name                 5030 non-null object\n",
      "actor_1_facebook_likes       5036 non-null float64\n",
      "gross                        4159 non-null float64\n",
      "genres                       5043 non-null object\n",
      "actor_1_name                 5036 non-null object\n",
      "movie_title                  5043 non-null object\n",
      "num_voted_users              5043 non-null int64\n",
      "cast_total_facebook_likes    5043 non-null int64\n",
      "actor_3_name                 5020 non-null object\n",
      "facenumber_in_poster         5030 non-null float64\n",
      "plot_keywords                4890 non-null object\n",
      "movie_imdb_link              5043 non-null object\n",
      "num_user_for_reviews         5022 non-null float64\n",
      "language                     5031 non-null object\n",
      "country                      5038 non-null object\n",
      "content_rating               4740 non-null object\n",
      "budget                       4551 non-null float64\n",
      "title_year                   4935 non-null float64\n",
      "actor_2_facebook_likes       5030 non-null float64\n",
      "imdb_score                   5043 non-null float64\n",
      "aspect_ratio                 4714 non-null float64\n",
      "movie_facebook_likes         5043 non-null int64\n",
      "dtypes: float64(13), int64(3), object(12)\n",
      "memory usage: 1.1+ MB\n"
     ]
    }
   ],
   "source": [
    "df.info()"
   ]
  },
  {
   "cell_type": "markdown",
   "metadata": {
    "collapsed": true
   },
   "source": [
    "# 3. Check missing values in columns or rows"
   ]
  },
  {
   "cell_type": "code",
   "execution_count": 6,
   "metadata": {
    "collapsed": false
   },
   "outputs": [
    {
     "name": "stdout",
     "output_type": "stream",
     "text": [
      "color 19 0.38%\n",
      "director_name 104 2.06%\n",
      "num_critic_for_reviews 50 0.99%\n",
      "duration 15 0.30%\n",
      "director_facebook_likes 104 2.06%\n",
      "actor_3_facebook_likes 23 0.46%\n",
      "actor_2_name 13 0.26%\n",
      "actor_1_facebook_likes 7 0.14%\n",
      "gross 884 17.53%\n",
      "actor_1_name 7 0.14%\n",
      "actor_3_name 23 0.46%\n",
      "facenumber_in_poster 13 0.26%\n",
      "plot_keywords 153 3.03%\n",
      "num_user_for_reviews 21 0.42%\n",
      "language 12 0.24%\n",
      "country 5 0.10%\n",
      "content_rating 303 6.01%\n",
      "budget 492 9.76%\n",
      "title_year 108 2.14%\n",
      "actor_2_facebook_likes 13 0.26%\n",
      "aspect_ratio 329 6.52%\n"
     ]
    }
   ],
   "source": [
    "# iterate each col; check how many null in each variable\n",
    "for col in df:\n",
    "    null = df[col].isnull().sum()\n",
    "    if null > 0:\n",
    "        print col, null, '{0:.2%}'.format(float(null)/float(5043))\n",
    "        "
   ]
  },
  {
   "cell_type": "code",
   "execution_count": 7,
   "metadata": {
    "collapsed": false
   },
   "outputs": [
    {
     "name": "stdout",
     "output_type": "stream",
     "text": [
      "4 Star Wars: Episode VII - The Force Awakens              14\n",
      "279 10,000 B.C.              15\n",
      "2241 Yu-Gi-Oh! Duel Monsters              11\n",
      "4945 The Brain That Sings  11\n"
     ]
    }
   ],
   "source": [
    "# iterate each row; check how many null in each movie\n",
    "for i in range(0, 5043):\n",
    "    row = df.iloc[i, :]\n",
    "    null = row.isnull().sum()\n",
    "    if null > 10:\n",
    "        print i, df.loc[i, 'movie_title'], null\n",
    "        "
   ]
  },
  {
   "cell_type": "markdown",
   "metadata": {},
   "source": [
    "# 4. [Cleaning] duplicates removal\n",
    "Orignial df has 45 duplicates\n",
    "\n",
    "After pandas.drop_duplicates(), df has 5043-45=4998 rows"
   ]
  },
  {
   "cell_type": "code",
   "execution_count": 8,
   "metadata": {
    "collapsed": false
   },
   "outputs": [
    {
     "data": {
      "text/plain": [
       "(45, 28)"
      ]
     },
     "execution_count": 8,
     "metadata": {},
     "output_type": "execute_result"
    }
   ],
   "source": [
    "df[df.duplicated()].shape\n"
   ]
  },
  {
   "cell_type": "code",
   "execution_count": 9,
   "metadata": {
    "collapsed": true
   },
   "outputs": [],
   "source": [
    "df = df.drop_duplicates()\n"
   ]
  },
  {
   "cell_type": "code",
   "execution_count": 10,
   "metadata": {
    "collapsed": false
   },
   "outputs": [
    {
     "data": {
      "text/plain": [
       "(4998, 28)"
      ]
     },
     "execution_count": 10,
     "metadata": {},
     "output_type": "execute_result"
    }
   ],
   "source": [
    "df.shape\n"
   ]
  },
  {
   "cell_type": "markdown",
   "metadata": {},
   "source": [
    "# 5. [Cleaning] correct variables without missing values"
   ]
  },
  {
   "cell_type": "markdown",
   "metadata": {},
   "source": [
    "### movie_title variable\n",
    "1. remove weird ending w/ \"\\wc2\\xa0\"\n",
    "2. remove weird space"
   ]
  },
  {
   "cell_type": "code",
   "execution_count": 29,
   "metadata": {
    "collapsed": false
   },
   "outputs": [],
   "source": [
    "df.movie_title = df.movie_title.str.replace('\\xc2\\xa0', '')\n"
   ]
  },
  {
   "cell_type": "code",
   "execution_count": 30,
   "metadata": {
    "collapsed": false
   },
   "outputs": [],
   "source": [
    "df.movie_title = df.movie_title.str.strip(' ')\n"
   ]
  },
  {
   "cell_type": "markdown",
   "metadata": {
    "collapsed": true
   },
   "source": [
    "# 6. [Cleaning] handling variables with low missing value rate \n",
    "Clean up variables with low missing value rate "
   ]
  },
  {
   "cell_type": "markdown",
   "metadata": {},
   "source": [
    "## color variable (19 null objects)"
   ]
  },
  {
   "cell_type": "code",
   "execution_count": 11,
   "metadata": {
    "collapsed": false
   },
   "outputs": [
    {
     "data": {
      "text/plain": [
       "array(['Color', nan, ' Black and White'], dtype=object)"
      ]
     },
     "execution_count": 11,
     "metadata": {},
     "output_type": "execute_result"
    }
   ],
   "source": [
    "# extra space in ' Black and White' object\n",
    "df.color.unique()\n"
   ]
  },
  {
   "cell_type": "code",
   "execution_count": 12,
   "metadata": {
    "collapsed": false
   },
   "outputs": [],
   "source": [
    "df.color = df.color.str.replace(' Black and White', 'Black and White')\n"
   ]
  },
  {
   "cell_type": "code",
   "execution_count": 13,
   "metadata": {
    "collapsed": false
   },
   "outputs": [],
   "source": [
    "# filter \"whole dataframe\" based on \"color is nan\"\n",
    "color_null = df[df.color.isnull()]\n"
   ]
  },
  {
   "cell_type": "code",
   "execution_count": 17,
   "metadata": {
    "collapsed": false
   },
   "outputs": [
    {
     "data": {
      "text/html": [
       "<div>\n",
       "<style scoped>\n",
       "    .dataframe tbody tr th:only-of-type {\n",
       "        vertical-align: middle;\n",
       "    }\n",
       "\n",
       "    .dataframe tbody tr th {\n",
       "        vertical-align: top;\n",
       "    }\n",
       "\n",
       "    .dataframe thead th {\n",
       "        text-align: right;\n",
       "    }\n",
       "</style>\n",
       "<table border=\"1\" class=\"dataframe\">\n",
       "  <thead>\n",
       "    <tr style=\"text-align: right;\">\n",
       "      <th></th>\n",
       "      <th>movie_title</th>\n",
       "      <th>title_year</th>\n",
       "      <th>color</th>\n",
       "    </tr>\n",
       "  </thead>\n",
       "  <tbody>\n",
       "    <tr>\n",
       "      <th>4</th>\n",
       "      <td>Star Wars: Episode VII - The Force Awakens    ...</td>\n",
       "      <td>NaN</td>\n",
       "      <td>NaN</td>\n",
       "    </tr>\n",
       "    <tr>\n",
       "      <th>279</th>\n",
       "      <td>10,000 B.C.</td>\n",
       "      <td>NaN</td>\n",
       "      <td>NaN</td>\n",
       "    </tr>\n",
       "    <tr>\n",
       "      <th>459</th>\n",
       "      <td>Daredevil</td>\n",
       "      <td>NaN</td>\n",
       "      <td>NaN</td>\n",
       "    </tr>\n",
       "    <tr>\n",
       "      <th>1948</th>\n",
       "      <td>Dear John</td>\n",
       "      <td>2010.0</td>\n",
       "      <td>NaN</td>\n",
       "    </tr>\n",
       "    <tr>\n",
       "      <th>2015</th>\n",
       "      <td>Red Sky</td>\n",
       "      <td>2014.0</td>\n",
       "      <td>NaN</td>\n",
       "    </tr>\n",
       "  </tbody>\n",
       "</table>\n",
       "</div>"
      ],
      "text/plain": [
       "                                            movie_title  title_year color\n",
       "4     Star Wars: Episode VII - The Force Awakens    ...         NaN   NaN\n",
       "279                            10,000 B.C.                      NaN   NaN\n",
       "459                              Daredevil                      NaN   NaN\n",
       "1948                                         Dear John       2010.0   NaN\n",
       "2015                                           Red Sky       2014.0   NaN"
      ]
     },
     "execution_count": 17,
     "metadata": {},
     "output_type": "execute_result"
    }
   ],
   "source": [
    "# Select title, year and color to decide what to fill for nan\n",
    "# confirm 19 null are all color movies based on the year\n",
    "color_null[['movie_title', 'title_year', 'color']].head()\n"
   ]
  },
  {
   "cell_type": "code",
   "execution_count": 18,
   "metadata": {
    "collapsed": true
   },
   "outputs": [],
   "source": [
    "# fill nan with color\n",
    "df.color = df.color.fillna(value='Color')\n"
   ]
  },
  {
   "cell_type": "markdown",
   "metadata": {},
   "source": [
    "## country variable\n",
    "fill up 5 missing values"
   ]
  },
  {
   "cell_type": "code",
   "execution_count": 19,
   "metadata": {
    "collapsed": false
   },
   "outputs": [
    {
     "data": {
      "text/plain": [
       "(5, 28)"
      ]
     },
     "execution_count": 19,
     "metadata": {},
     "output_type": "execute_result"
    }
   ],
   "source": [
    "df[df.country.isnull()].shape\n"
   ]
  },
  {
   "cell_type": "code",
   "execution_count": 20,
   "metadata": {
    "collapsed": false
   },
   "outputs": [
    {
     "data": {
      "text/html": [
       "<div>\n",
       "<style scoped>\n",
       "    .dataframe tbody tr th:only-of-type {\n",
       "        vertical-align: middle;\n",
       "    }\n",
       "\n",
       "    .dataframe tbody tr th {\n",
       "        vertical-align: top;\n",
       "    }\n",
       "\n",
       "    .dataframe thead th {\n",
       "        text-align: right;\n",
       "    }\n",
       "</style>\n",
       "<table border=\"1\" class=\"dataframe\">\n",
       "  <thead>\n",
       "    <tr style=\"text-align: right;\">\n",
       "      <th></th>\n",
       "      <th>movie_title</th>\n",
       "      <th>language</th>\n",
       "      <th>country</th>\n",
       "      <th>title_year</th>\n",
       "    </tr>\n",
       "  </thead>\n",
       "  <tbody>\n",
       "    <tr>\n",
       "      <th>4</th>\n",
       "      <td>Star Wars: Episode VII - The Force Awakens    ...</td>\n",
       "      <td>NaN</td>\n",
       "      <td>NaN</td>\n",
       "      <td>NaN</td>\n",
       "    </tr>\n",
       "    <tr>\n",
       "      <th>279</th>\n",
       "      <td>10,000 B.C.</td>\n",
       "      <td>NaN</td>\n",
       "      <td>NaN</td>\n",
       "      <td>NaN</td>\n",
       "    </tr>\n",
       "    <tr>\n",
       "      <th>2370</th>\n",
       "      <td>Gone, Baby, Gone</td>\n",
       "      <td>English</td>\n",
       "      <td>NaN</td>\n",
       "      <td>NaN</td>\n",
       "    </tr>\n",
       "    <tr>\n",
       "      <th>3397</th>\n",
       "      <td>Preacher</td>\n",
       "      <td>English</td>\n",
       "      <td>NaN</td>\n",
       "      <td>NaN</td>\n",
       "    </tr>\n",
       "    <tr>\n",
       "      <th>4021</th>\n",
       "      <td>Dawn Patrol</td>\n",
       "      <td>English</td>\n",
       "      <td>NaN</td>\n",
       "      <td>2014.0</td>\n",
       "    </tr>\n",
       "  </tbody>\n",
       "</table>\n",
       "</div>"
      ],
      "text/plain": [
       "                                            movie_title language country  \\\n",
       "4     Star Wars: Episode VII - The Force Awakens    ...      NaN     NaN   \n",
       "279                            10,000 B.C.                   NaN     NaN   \n",
       "2370                      Gone, Baby, Gone               English     NaN   \n",
       "3397                              Preacher               English     NaN   \n",
       "4021                                       Dawn Patrol   English     NaN   \n",
       "\n",
       "      title_year  \n",
       "4            NaN  \n",
       "279          NaN  \n",
       "2370         NaN  \n",
       "3397         NaN  \n",
       "4021      2014.0  "
      ]
     },
     "execution_count": 20,
     "metadata": {},
     "output_type": "execute_result"
    }
   ],
   "source": [
    "# filter \"whole df\" based on \"country == null\"\n",
    "# use language variable to confirm country variable manually\n",
    "country_null = df[df.country.isnull()]\n",
    "country_null[['movie_title', 'language', 'country', 'title_year']]\n"
   ]
  },
  {
   "cell_type": "code",
   "execution_count": 21,
   "metadata": {
    "collapsed": true
   },
   "outputs": [],
   "source": [
    "df.country = df.country.fillna(value='USA')"
   ]
  },
  {
   "cell_type": "markdown",
   "metadata": {},
   "source": [
    "## language variable\n",
    "fill up 12 missing values"
   ]
  },
  {
   "cell_type": "code",
   "execution_count": 23,
   "metadata": {
    "collapsed": false
   },
   "outputs": [
    {
     "data": {
      "text/plain": [
       "(12, 28)"
      ]
     },
     "execution_count": 23,
     "metadata": {},
     "output_type": "execute_result"
    }
   ],
   "source": [
    "df[df.language.isnull()].shape\n"
   ]
  },
  {
   "cell_type": "code",
   "execution_count": 24,
   "metadata": {
    "collapsed": false
   },
   "outputs": [
    {
     "data": {
      "text/html": [
       "<div>\n",
       "<style scoped>\n",
       "    .dataframe tbody tr th:only-of-type {\n",
       "        vertical-align: middle;\n",
       "    }\n",
       "\n",
       "    .dataframe tbody tr th {\n",
       "        vertical-align: top;\n",
       "    }\n",
       "\n",
       "    .dataframe thead th {\n",
       "        text-align: right;\n",
       "    }\n",
       "</style>\n",
       "<table border=\"1\" class=\"dataframe\">\n",
       "  <thead>\n",
       "    <tr style=\"text-align: right;\">\n",
       "      <th></th>\n",
       "      <th>movie_title</th>\n",
       "      <th>language</th>\n",
       "      <th>country</th>\n",
       "    </tr>\n",
       "  </thead>\n",
       "  <tbody>\n",
       "    <tr>\n",
       "      <th>4</th>\n",
       "      <td>Star Wars: Episode VII - The Force Awakens    ...</td>\n",
       "      <td>NaN</td>\n",
       "      <td>USA</td>\n",
       "    </tr>\n",
       "    <tr>\n",
       "      <th>279</th>\n",
       "      <td>10,000 B.C.</td>\n",
       "      <td>NaN</td>\n",
       "      <td>USA</td>\n",
       "    </tr>\n",
       "    <tr>\n",
       "      <th>2459</th>\n",
       "      <td>Unforgettable</td>\n",
       "      <td>NaN</td>\n",
       "      <td>USA</td>\n",
       "    </tr>\n",
       "    <tr>\n",
       "      <th>3086</th>\n",
       "      <td>September Dawn</td>\n",
       "      <td>NaN</td>\n",
       "      <td>USA</td>\n",
       "    </tr>\n",
       "    <tr>\n",
       "      <th>3539</th>\n",
       "      <td>Alpha and Omega 4: The Legend of the Saw Tooth...</td>\n",
       "      <td>NaN</td>\n",
       "      <td>USA</td>\n",
       "    </tr>\n",
       "    <tr>\n",
       "      <th>3869</th>\n",
       "      <td>Silent Movie</td>\n",
       "      <td>NaN</td>\n",
       "      <td>USA</td>\n",
       "    </tr>\n",
       "    <tr>\n",
       "      <th>4110</th>\n",
       "      <td>Love's Abiding Joy</td>\n",
       "      <td>NaN</td>\n",
       "      <td>USA</td>\n",
       "    </tr>\n",
       "    <tr>\n",
       "      <th>4409</th>\n",
       "      <td>Kickboxer: Vengeance</td>\n",
       "      <td>NaN</td>\n",
       "      <td>USA</td>\n",
       "    </tr>\n",
       "    <tr>\n",
       "      <th>4630</th>\n",
       "      <td>A Fine Step</td>\n",
       "      <td>NaN</td>\n",
       "      <td>USA</td>\n",
       "    </tr>\n",
       "    <tr>\n",
       "      <th>4810</th>\n",
       "      <td>Intolerance: Love's Struggle Throughout the Ages</td>\n",
       "      <td>NaN</td>\n",
       "      <td>USA</td>\n",
       "    </tr>\n",
       "    <tr>\n",
       "      <th>4885</th>\n",
       "      <td>The Big Parade</td>\n",
       "      <td>NaN</td>\n",
       "      <td>USA</td>\n",
       "    </tr>\n",
       "    <tr>\n",
       "      <th>4958</th>\n",
       "      <td>Over the Hill to the Poorhouse</td>\n",
       "      <td>NaN</td>\n",
       "      <td>USA</td>\n",
       "    </tr>\n",
       "  </tbody>\n",
       "</table>\n",
       "</div>"
      ],
      "text/plain": [
       "                                            movie_title language country\n",
       "4     Star Wars: Episode VII - The Force Awakens    ...      NaN     USA\n",
       "279                            10,000 B.C.                   NaN     USA\n",
       "2459                         Unforgettable                   NaN     USA\n",
       "3086                                    September Dawn       NaN     USA\n",
       "3539  Alpha and Omega 4: The Legend of the Saw Tooth...      NaN     USA\n",
       "3869                                      Silent Movie       NaN     USA\n",
       "4110                                Love's Abiding Joy       NaN     USA\n",
       "4409                              Kickboxer: Vengeance       NaN     USA\n",
       "4630                                       A Fine Step       NaN     USA\n",
       "4810  Intolerance: Love's Struggle Throughout the Ages       NaN     USA\n",
       "4885                                    The Big Parade       NaN     USA\n",
       "4958                    Over the Hill to the Poorhouse       NaN     USA"
      ]
     },
     "execution_count": 24,
     "metadata": {},
     "output_type": "execute_result"
    }
   ],
   "source": [
    "# filter \"whole df\" based on \"language is null\"\n",
    "language_null = df[df.language.isnull()]\n",
    "language_null[['movie_title','language', 'country']]\n"
   ]
  },
  {
   "cell_type": "code",
   "execution_count": 26,
   "metadata": {
    "collapsed": true
   },
   "outputs": [],
   "source": [
    "# fill na with English\n",
    "df.language = df.language.fillna(value='English')"
   ]
  },
  {
   "cell_type": "markdown",
   "metadata": {},
   "source": [
    "# Midpoint1: How does df look like now?\n",
    "\n",
    "** Budget and Gross columns have around 10% missing values**"
   ]
  },
  {
   "cell_type": "code",
   "execution_count": 28,
   "metadata": {
    "collapsed": false
   },
   "outputs": [
    {
     "name": "stdout",
     "output_type": "stream",
     "text": [
      "director_name 103 2.06%\n",
      "num_critic_for_reviews 49 0.98%\n",
      "duration 15 0.30%\n",
      "director_facebook_likes 103 2.06%\n",
      "actor_3_facebook_likes 23 0.46%\n",
      "actor_2_name 13 0.26%\n",
      "actor_1_facebook_likes 7 0.14%\n",
      "gross 874 17.49%\n",
      "actor_1_name 7 0.14%\n",
      "actor_3_name 23 0.46%\n",
      "facenumber_in_poster 13 0.26%\n",
      "plot_keywords 152 3.04%\n",
      "num_user_for_reviews 21 0.42%\n",
      "content_rating 301 6.02%\n",
      "budget 487 9.74%\n",
      "title_year 107 2.14%\n",
      "actor_2_facebook_likes 13 0.26%\n",
      "aspect_ratio 327 6.54%\n"
     ]
    }
   ],
   "source": [
    "for col in df:\n",
    "    null = df[col].isnull().sum()\n",
    "    if null > 0:\n",
    "        print col, null, '{0:.2%}'.format(float(null)/float(len(df)))"
   ]
  },
  {
   "cell_type": "code",
   "execution_count": null,
   "metadata": {
    "collapsed": true
   },
   "outputs": [],
   "source": []
  },
  {
   "cell_type": "markdown",
   "metadata": {},
   "source": [
    "# 7. [Cleaning] High missing values rate ex: budget and gross\n",
    "\n",
    "Scraping data from the IMDB websites\n",
    "* a. scrape information from imdb website                \n",
    "\n",
    "* b. fill budget or gross by scraped information         \n"
   ]
  },
  {
   "cell_type": "code",
   "execution_count": 31,
   "metadata": {
    "collapsed": false
   },
   "outputs": [],
   "source": [
    "import requests\n",
    "from bs4 import BeautifulSoup"
   ]
  },
  {
   "cell_type": "markdown",
   "metadata": {},
   "source": [
    "### budget variable \n",
    "\n",
    "fill up 40 missing values\n",
    "\n",
    "Star Wars: Episode VII - The Force Awakens (index4) and 10,000 B.C. (index279) have wrong links \n",
    "\n",
    "Ref: https://stackoverflow.com/questions/9942594/unicodeencodeerror-ascii-codec-cant-encode-character-u-xa0-in-position-20\n"
   ]
  },
  {
   "cell_type": "code",
   "execution_count": 32,
   "metadata": {
    "collapsed": false
   },
   "outputs": [
    {
     "data": {
      "text/plain": [
       "487"
      ]
     },
     "execution_count": 32,
     "metadata": {},
     "output_type": "execute_result"
    }
   ],
   "source": [
    "len(df[df.budget.isnull()])\n"
   ]
  },
  {
   "cell_type": "code",
   "execution_count": 33,
   "metadata": {
    "collapsed": false
   },
   "outputs": [],
   "source": [
    "budget_null = df[df.budget.isnull()]"
   ]
  },
  {
   "cell_type": "code",
   "execution_count": 34,
   "metadata": {
    "collapsed": false
   },
   "outputs": [
    {
     "data": {
      "text/plain": [
       "487"
      ]
     },
     "execution_count": 34,
     "metadata": {},
     "output_type": "execute_result"
    }
   ],
   "source": [
    "# get movie links whose \"budget == null\"\n",
    "budget_null_linklist = list(budget_null['movie_imdb_link'])\n",
    "len(budget_null_linklist)"
   ]
  },
  {
   "cell_type": "markdown",
   "metadata": {
    "collapsed": false
   },
   "source": [
    "### DON\"T RUN THIS. I already save it to JSON file. If you need the list, turn the Markdown to the Code and run it.\n",
    "\n",
    "%%time\n",
    "imdb_budget = {}\n",
    "for link in budget_null_linklist:\n",
    "    r = requests.get(link)\n",
    "    text = r.text\n",
    "    soup = BeautifulSoup(text)\n",
    "    budget_location = soup.find(name='h4', attrs={'class':'inline'}, string='Budget:')\n",
    "    if str(type(budget_location)) == \"<class 'bs4.element.Tag'>\":\n",
    "        budget = budget_location.find_previous()\n",
    "        imdb_budget[link] = float(filter(str.isdigit, budget.text.encode('utf-8')))\n",
    "    else:\n",
    "        imdb_budget[link] = np.NaN\n",
    "        "
   ]
  },
  {
   "cell_type": "markdown",
   "metadata": {
    "collapsed": true
   },
   "source": [
    "### save imbd_budget to a json file\n",
    "with open('imdb_budget.json', 'w') as f:\n",
    "    json.dump(imdb_budget, f)"
   ]
  },
  {
   "cell_type": "code",
   "execution_count": 35,
   "metadata": {
    "collapsed": false,
    "scrolled": false
   },
   "outputs": [
    {
     "data": {
      "text/plain": [
       "485"
      ]
     },
     "execution_count": 35,
     "metadata": {},
     "output_type": "execute_result"
    }
   ],
   "source": [
    "with open('imdb_budget.json') as f:\n",
    "    imdb_budget = json.load(f)\n",
    "    \n",
    "len(imdb_budget) # Somwhow it is less than budget_null_linklist\n"
   ]
  },
  {
   "cell_type": "code",
   "execution_count": 37,
   "metadata": {
    "collapsed": false
   },
   "outputs": [],
   "source": [
    "# 1. Find a match with imdb_budget dict. by map() in imdb link column\n",
    "# 2. fillna() in budget column\n",
    "df.budget = df.movie_imdb_link.map(imdb_budget).fillna(df.budget)\n"
   ]
  },
  {
   "cell_type": "code",
   "execution_count": 38,
   "metadata": {
    "collapsed": false
   },
   "outputs": [
    {
     "data": {
      "text/plain": [
       "447"
      ]
     },
     "execution_count": 38,
     "metadata": {},
     "output_type": "execute_result"
    }
   ],
   "source": [
    "# check how many rows we recover in budget column; only 487 - 447 = 40 rows b/c wrong imdb links or without budget info\n",
    "len(df[df.budget.isnull()])\n"
   ]
  },
  {
   "cell_type": "markdown",
   "metadata": {},
   "source": [
    "### During I was fixing the budget variable, there are some movie's link are TV-series. Remove them form the dataset\n",
    "remove 4998 - 4924 = 74 rows\n"
   ]
  },
  {
   "cell_type": "code",
   "execution_count": 39,
   "metadata": {
    "collapsed": false
   },
   "outputs": [],
   "source": [
    "# remove data whose \"content_rating == TV- \"\n",
    "df = df.drop(df[(df.content_rating == 'TV-PG') | (df.content_rating == 'TV-14') | (df.content_rating == 'TV-MA') | (df.content_rating == 'TV-G') | (df.content_rating == 'TV-Y') | (df.content_rating == 'TV-Y7')].index)\n"
   ]
  },
  {
   "cell_type": "code",
   "execution_count": 40,
   "metadata": {
    "collapsed": false
   },
   "outputs": [
    {
     "data": {
      "text/plain": [
       "array(['PG-13', nan, 'PG', 'G', 'R', 'Not Rated', 'Unrated', 'Approved',\n",
       "       'NC-17', 'X', 'GP', 'Passed', 'M'], dtype=object)"
      ]
     },
     "execution_count": 40,
     "metadata": {},
     "output_type": "execute_result"
    }
   ],
   "source": [
    "# confirm it\n",
    "df.content_rating.unique()\n"
   ]
  },
  {
   "cell_type": "code",
   "execution_count": 41,
   "metadata": {
    "collapsed": false
   },
   "outputs": [
    {
     "data": {
      "text/plain": [
       "(4924, 28)"
      ]
     },
     "execution_count": 41,
     "metadata": {},
     "output_type": "execute_result"
    }
   ],
   "source": [
    "df.shape"
   ]
  },
  {
   "cell_type": "markdown",
   "metadata": {},
   "source": [
    "### title_year variable\n",
    "\n",
    "fill up 43 missing values (all)\n",
    "\n",
    "Ref: https://stackoverflow.com/questions/13851535/how-to-delete-rows-from-a-pandas-dataframe-based-on-a-conditional-expression, https://stackoverflow.com/questions/48793222/pandas-replace-value-in-cells-from-one-column-that-match-condition-in-other-col\n",
    "\n",
    " "
   ]
  },
  {
   "cell_type": "code",
   "execution_count": 42,
   "metadata": {
    "collapsed": false
   },
   "outputs": [
    {
     "data": {
      "text/plain": [
       "43"
      ]
     },
     "execution_count": 42,
     "metadata": {},
     "output_type": "execute_result"
    }
   ],
   "source": [
    "len(df[df.title_year.isnull()])\n"
   ]
  },
  {
   "cell_type": "code",
   "execution_count": 43,
   "metadata": {
    "collapsed": false
   },
   "outputs": [
    {
     "data": {
      "text/plain": [
       "43"
      ]
     },
     "execution_count": 43,
     "metadata": {},
     "output_type": "execute_result"
    }
   ],
   "source": [
    "title_year_null = df[df.title_year.isnull()]\n",
    "title_year_null_linklist = list(title_year_null['movie_imdb_link'])\n",
    "len(title_year_null_linklist)\n"
   ]
  },
  {
   "cell_type": "markdown",
   "metadata": {
    "collapsed": false
   },
   "source": [
    "### DON\"T RUN THIS. I already save it to JSON file. If you need the list, turn the Markdown to the Code and run it.\n",
    "\n",
    "%%time\n",
    "imdb_titleyear = {}\n",
    "for link in title_year_null_linklist:\n",
    "    r = requests.get(link)\n",
    "    text = r.text\n",
    "    soup = BeautifulSoup(text)\n",
    "    year_location = soup.find(name='h4', attrs={'class':'inline'}, string='Release Date:')\n",
    "    if str(type(year_location)) == \"<class 'bs4.element.Tag'>\":\n",
    "        year = year_location.find_previous()\n",
    "        pattern = re.compile('\\d\\d\\d\\d')\n",
    "        match = re.search(pattern, year.text.encode('utf-8'))\n",
    "        imdb_titleyear[link] = int(match.group())\n",
    "    else:\n",
    "        imdb_titleyear[link] = np.NaN\n",
    "        "
   ]
  },
  {
   "cell_type": "markdown",
   "metadata": {
    "collapsed": false
   },
   "source": [
    "### save imdb_titleyear into a json file\n",
    "with open('imdb_titleyear.json', 'w') as f:\n",
    "    json.dump(imdb_titleyear, f)"
   ]
  },
  {
   "cell_type": "code",
   "execution_count": 45,
   "metadata": {
    "collapsed": false
   },
   "outputs": [
    {
     "data": {
      "text/plain": [
       "43"
      ]
     },
     "execution_count": 45,
     "metadata": {},
     "output_type": "execute_result"
    }
   ],
   "source": [
    "with open('imdb_titleyear.json') as f:\n",
    "    imdb_titleyear = json.load(f)\n",
    "\n",
    "len(imdb_titleyear)"
   ]
  },
  {
   "cell_type": "code",
   "execution_count": 46,
   "metadata": {
    "collapsed": true
   },
   "outputs": [],
   "source": [
    "df.title_year = df.movie_imdb_link.map(imdb_titleyear).fillna(df.title_year)\n"
   ]
  },
  {
   "cell_type": "markdown",
   "metadata": {},
   "source": [
    "### gross variable \n",
    "\n",
    "fill up 802 - 582 = 220 missing values\n",
    "\n",
    "Ref: https://automatetheboringstuff.com/chapter7/"
   ]
  },
  {
   "cell_type": "code",
   "execution_count": 48,
   "metadata": {
    "collapsed": false
   },
   "outputs": [
    {
     "data": {
      "text/plain": [
       "802"
      ]
     },
     "execution_count": 48,
     "metadata": {},
     "output_type": "execute_result"
    }
   ],
   "source": [
    "gross_null = df[df.gross.isnull()]\n",
    "gross_null_linklist = list(gross_null['movie_imdb_link'])\n",
    "len(gross_null)"
   ]
  },
  {
   "cell_type": "markdown",
   "metadata": {
    "collapsed": true
   },
   "source": [
    "### DON\"T RUN THIS. I already save it to JSON file. If you need the list, turn the Markdown to the Code and run it.\n",
    "\n",
    "%%time\n",
    "imdb_gross = {}\n",
    "for link in gross_null_linklist:\n",
    "    r = requests.get(link)\n",
    "    text = r.text\n",
    "    soup = BeautifulSoup(text)\n",
    "    gross_location = soup.find(name='h4', attrs={'class':'inline'}, string='Gross USA:')\n",
    "    if str(type(gross_location)) == \"<class 'bs4.element.Tag'>\":\n",
    "        gross = gross_location.find_previous()\n",
    "        pattern = re.compile('\\$(.*)\\W +')\n",
    "        match = re.search(pattern, gross.text.encode('utf-8'))\n",
    "        imdb_gross[link] = float(filter(str.isdigit, match.group()))\n",
    "    else:\n",
    "        imdb_gross[link] = np.NaN"
   ]
  },
  {
   "cell_type": "code",
   "execution_count": 49,
   "metadata": {
    "collapsed": false
   },
   "outputs": [],
   "source": [
    "# Since the dictionary is long, I save into a json file\n",
    "# Here I can just upload it \n",
    "with open('imdb_gross.json') as f:\n",
    "    imdb_gross = json.load(f)"
   ]
  },
  {
   "cell_type": "code",
   "execution_count": 54,
   "metadata": {
    "collapsed": false
   },
   "outputs": [],
   "source": [
    "df.gross = df.movie_imdb_link.map(imdb_gross).fillna(df.gross)"
   ]
  },
  {
   "cell_type": "code",
   "execution_count": 55,
   "metadata": {
    "collapsed": false
   },
   "outputs": [],
   "source": [
    "# change 'wrong url' to NaN\n",
    "df.gross = df.gross.replace('wrong url', np.NaN)"
   ]
  },
  {
   "cell_type": "code",
   "execution_count": 56,
   "metadata": {
    "collapsed": false
   },
   "outputs": [
    {
     "data": {
      "text/plain": [
       "582"
      ]
     },
     "execution_count": 56,
     "metadata": {},
     "output_type": "execute_result"
    }
   ],
   "source": [
    "# chekc missing values after scraping\n",
    "len(df[df.gross.isnull()])"
   ]
  },
  {
   "cell_type": "markdown",
   "metadata": {},
   "source": [
    "# Midpoint2: How does df look like?"
   ]
  },
  {
   "cell_type": "code",
   "execution_count": 57,
   "metadata": {
    "collapsed": false
   },
   "outputs": [
    {
     "name": "stdout",
     "output_type": "stream",
     "text": [
      "director_name 39 0.79%\n",
      "num_critic_for_reviews 46 0.93%\n",
      "duration 14 0.28%\n",
      "director_facebook_likes 39 0.79%\n",
      "actor_3_facebook_likes 23 0.47%\n",
      "actor_2_name 13 0.26%\n",
      "actor_1_facebook_likes 7 0.14%\n",
      "gross 582 11.82%\n",
      "actor_1_name 7 0.14%\n",
      "actor_3_name 23 0.47%\n",
      "facenumber_in_poster 13 0.26%\n",
      "plot_keywords 147 2.99%\n",
      "num_user_for_reviews 20 0.41%\n",
      "content_rating 301 6.11%\n",
      "budget 389 7.90%\n",
      "actor_2_facebook_likes 13 0.26%\n",
      "aspect_ratio 323 6.56%\n"
     ]
    }
   ],
   "source": [
    "for col in df:\n",
    "    null = df[col].isnull().sum()\n",
    "    if null > 0:\n",
    "        print col, null, '{0:.2%}'.format(float(null)/float(len(df)))"
   ]
  },
  {
   "cell_type": "code",
   "execution_count": 58,
   "metadata": {
    "collapsed": false
   },
   "outputs": [
    {
     "name": "stdout",
     "output_type": "stream",
     "text": [
      "<class 'pandas.core.frame.DataFrame'>\n",
      "Int64Index: 4924 entries, 0 to 5042\n",
      "Data columns (total 28 columns):\n",
      "color                        4924 non-null object\n",
      "director_name                4885 non-null object\n",
      "num_critic_for_reviews       4878 non-null float64\n",
      "duration                     4910 non-null float64\n",
      "director_facebook_likes      4885 non-null float64\n",
      "actor_3_facebook_likes       4901 non-null float64\n",
      "actor_2_name                 4911 non-null object\n",
      "actor_1_facebook_likes       4917 non-null float64\n",
      "gross                        4342 non-null float64\n",
      "genres                       4924 non-null object\n",
      "actor_1_name                 4917 non-null object\n",
      "movie_title                  4924 non-null object\n",
      "num_voted_users              4924 non-null int64\n",
      "cast_total_facebook_likes    4924 non-null int64\n",
      "actor_3_name                 4901 non-null object\n",
      "facenumber_in_poster         4911 non-null float64\n",
      "plot_keywords                4777 non-null object\n",
      "movie_imdb_link              4924 non-null object\n",
      "num_user_for_reviews         4904 non-null float64\n",
      "language                     4924 non-null object\n",
      "country                      4924 non-null object\n",
      "content_rating               4623 non-null object\n",
      "budget                       4535 non-null float64\n",
      "title_year                   4924 non-null float64\n",
      "actor_2_facebook_likes       4911 non-null float64\n",
      "imdb_score                   4924 non-null float64\n",
      "aspect_ratio                 4601 non-null float64\n",
      "movie_facebook_likes         4924 non-null int64\n",
      "dtypes: float64(13), int64(3), object(12)\n",
      "memory usage: 1.1+ MB\n"
     ]
    }
   ],
   "source": [
    "df.info()"
   ]
  },
  {
   "cell_type": "markdown",
   "metadata": {},
   "source": [
    "### Remove all NaN in budget and gross columns\n",
    "\n",
    "4099 rows left"
   ]
  },
  {
   "cell_type": "code",
   "execution_count": 59,
   "metadata": {
    "collapsed": false
   },
   "outputs": [
    {
     "data": {
      "text/plain": [
       "(4099, 28)"
      ]
     },
     "execution_count": 59,
     "metadata": {},
     "output_type": "execute_result"
    }
   ],
   "source": [
    "df = df.dropna(subset=['budget', 'gross'])\n",
    "df.shape"
   ]
  },
  {
   "cell_type": "markdown",
   "metadata": {},
   "source": [
    "### director_name variable\n",
    "\n",
    "It has no missing values after the clean up in budget and gross columns"
   ]
  },
  {
   "cell_type": "code",
   "execution_count": 60,
   "metadata": {
    "collapsed": false
   },
   "outputs": [
    {
     "data": {
      "text/plain": [
       "0"
      ]
     },
     "execution_count": 60,
     "metadata": {},
     "output_type": "execute_result"
    }
   ],
   "source": [
    "director_name_null = df[df.director_name.isnull()]\n",
    "director_name_null_linklist = list(director_name_null['movie_imdb_link'])\n",
    "len(director_name_null)"
   ]
  },
  {
   "cell_type": "markdown",
   "metadata": {},
   "source": [
    "# 8. Export files"
   ]
  },
  {
   "cell_type": "markdown",
   "metadata": {
    "collapsed": true
   },
   "source": [
    "### DON\"T RUN THIS. I already save it. Check the file in the Github\n",
    "df.to_csv('wrangle.csv')"
   ]
  },
  {
   "cell_type": "markdown",
   "metadata": {},
   "source": [
    "# 9. Add new features"
   ]
  },
  {
   "cell_type": "markdown",
   "metadata": {},
   "source": [
    "## Total gross\n",
    "\n",
    "**The scraping is not really successful. I only can get the total gross for 2272 movies**"
   ]
  },
  {
   "cell_type": "code",
   "execution_count": 69,
   "metadata": {
    "collapsed": false
   },
   "outputs": [
    {
     "data": {
      "text/plain": [
       "4099"
      ]
     },
     "execution_count": 69,
     "metadata": {},
     "output_type": "execute_result"
    }
   ],
   "source": [
    "TotalGross_linklist = list(df['movie_imdb_link'])\n",
    "len(TotalGross_linklist)"
   ]
  },
  {
   "cell_type": "code",
   "execution_count": 71,
   "metadata": {
    "collapsed": true
   },
   "outputs": [],
   "source": [
    "imdb_totalgross = {}"
   ]
  },
  {
   "cell_type": "code",
   "execution_count": 72,
   "metadata": {
    "collapsed": false
   },
   "outputs": [
    {
     "name": "stdout",
     "output_type": "stream",
     "text": [
      "CPU times: user 22.7 s, sys: 611 ms, total: 23.3 s\n",
      "Wall time: 2min 23s\n"
     ]
    }
   ],
   "source": [
    "%%time\n",
    "pattern_usd = re.compile('\\$(.*)\\W +')\n",
    "pattern_euro = re.compile('\\d(.*)\\W +')\n",
    "for link in TotalGross_linklist[0:99]:\n",
    "    r = requests.get(link)\n",
    "    text = r.text\n",
    "    soup = BeautifulSoup(text)\n",
    "    TotalGross_location = soup.find(name='h4', attrs={'class':'inline'}, string='Cumulative Worldwide Gross:')\n",
    "    if str(type(TotalGross_location)) == \"<class 'bs4.element.Tag'>\":\n",
    "        totalgross = TotalGross_location.find_previous()\n",
    "        usd_match = re.search(pattern_usd, totalgross.text.encode('utf-8'))\n",
    "        if str(type(usd_match)) == \"<type '_sre.SRE_Match'>\":\n",
    "            imdb_totalgross[link] = float(filter(str.isdigit, usd_match.group()))\n",
    "        else:\n",
    "            euro_match = re.search(pattern_euro, totalgross.text.encode('utf-8'))\n",
    "            euro = float(filter(str.isdigit, euro_match.group()))\n",
    "            imdb_totalgross[link] = euro*1.15\n",
    "    else:\n",
    "        imdb_totalgross[link] = np.NaN\n",
    "        "
   ]
  },
  {
   "cell_type": "code",
   "execution_count": 17,
   "metadata": {
    "collapsed": true
   },
   "outputs": [],
   "source": [
    "def chunks(l, n):\n",
    "    \"\"\"Yield successive n-sized chunks from l.\"\"\"\n",
    "    for i in xrange(0, len(l), n):\n",
    "        yield l[i:i + n]"
   ]
  },
  {
   "cell_type": "code",
   "execution_count": 128,
   "metadata": {
    "collapsed": false
   },
   "outputs": [],
   "source": [
    "split = list(chunks(TotalGross_linklist[2000:2999], 400))\n"
   ]
  },
  {
   "cell_type": "code",
   "execution_count": 80,
   "metadata": {
    "collapsed": false
   },
   "outputs": [],
   "source": [
    "def get_total_gross(linklist, destination, original_dic):\n",
    "    pattern_usd = re.compile('\\$(.*)\\W +')\n",
    "    pattern_euro = re.compile('\\d(.*)\\W +')\n",
    "    for link in linklist:\n",
    "        r = requests.get(link)\n",
    "        text = r.text\n",
    "        soup = BeautifulSoup(text)\n",
    "        TotalGross_location = soup.find(name='h4', attrs={'class':'inline'}, string='Cumulative Worldwide Gross:')\n",
    "        if str(type(TotalGross_location)) == \"<class 'bs4.element.Tag'>\":\n",
    "            totalgross = TotalGross_location.find_previous()\n",
    "            usd_match = re.search(pattern_usd, totalgross.text.encode('utf-8'))\n",
    "            if str(type(usd_match)) == \"<type '_sre.SRE_Match'>\":\n",
    "                destination[link] = float(filter(str.isdigit, usd_match.group()))\n",
    "                original_dic.update(destination)\n",
    "            else:\n",
    "                euro_match = re.search(pattern_euro, totalgross.text.encode('utf-8'))\n",
    "                euro = float(filter(str.isdigit, euro_match.group()))\n",
    "                destination[link] = euro*1.15\n",
    "                original_dic.update(destination)\n",
    "        else:\n",
    "            destination[link] = np.NaN  "
   ]
  },
  {
   "cell_type": "code",
   "execution_count": 89,
   "metadata": {
    "collapsed": false
   },
   "outputs": [
    {
     "name": "stdout",
     "output_type": "stream",
     "text": [
      "CPU times: user 3min 40s, sys: 5.18 s, total: 3min 45s\n",
      "Wall time: 19min 41s\n"
     ]
    }
   ],
   "source": [
    "%%time\n",
    "temp = {}\n",
    "for i in split:\n",
    "    get_total_gross(i, temp, imdb_totalgross)"
   ]
  },
  {
   "cell_type": "code",
   "execution_count": 144,
   "metadata": {
    "collapsed": false
   },
   "outputs": [],
   "source": [
    "with open('imdb_totalgross.json', 'w') as f:\n",
    "    json.dump(imdb_totalgross, f)"
   ]
  },
  {
   "cell_type": "code",
   "execution_count": 131,
   "metadata": {
    "collapsed": false
   },
   "outputs": [],
   "source": [
    "# add new column\n",
    "df['total_gross'] = df.movie_imdb_link.map(imdb_totalgross) "
   ]
  },
  {
   "cell_type": "code",
   "execution_count": 137,
   "metadata": {
    "collapsed": false
   },
   "outputs": [
    {
     "data": {
      "text/plain": [
       "1827"
      ]
     },
     "execution_count": 137,
     "metadata": {},
     "output_type": "execute_result"
    }
   ],
   "source": [
    "len(df[df.total_gross.isnull()])"
   ]
  },
  {
   "cell_type": "code",
   "execution_count": 138,
   "metadata": {
    "collapsed": false
   },
   "outputs": [
    {
     "data": {
      "text/html": [
       "<div>\n",
       "<table border=\"1\" class=\"dataframe\">\n",
       "  <thead>\n",
       "    <tr style=\"text-align: right;\">\n",
       "      <th></th>\n",
       "      <th>color</th>\n",
       "      <th>director_name</th>\n",
       "      <th>num_critic_for_reviews</th>\n",
       "      <th>duration</th>\n",
       "      <th>director_facebook_likes</th>\n",
       "      <th>actor_3_facebook_likes</th>\n",
       "      <th>actor_2_name</th>\n",
       "      <th>actor_1_facebook_likes</th>\n",
       "      <th>gross</th>\n",
       "      <th>genres</th>\n",
       "      <th>...</th>\n",
       "      <th>language</th>\n",
       "      <th>country</th>\n",
       "      <th>content_rating</th>\n",
       "      <th>budget</th>\n",
       "      <th>title_year</th>\n",
       "      <th>actor_2_facebook_likes</th>\n",
       "      <th>imdb_score</th>\n",
       "      <th>aspect_ratio</th>\n",
       "      <th>movie_facebook_likes</th>\n",
       "      <th>total_gross</th>\n",
       "    </tr>\n",
       "  </thead>\n",
       "  <tbody>\n",
       "    <tr>\n",
       "      <th>0</th>\n",
       "      <td>Color</td>\n",
       "      <td>James Cameron</td>\n",
       "      <td>723</td>\n",
       "      <td>178</td>\n",
       "      <td>0</td>\n",
       "      <td>855</td>\n",
       "      <td>Joel David Moore</td>\n",
       "      <td>1000</td>\n",
       "      <td>760505847</td>\n",
       "      <td>Action|Adventure|Fantasy|Sci-Fi</td>\n",
       "      <td>...</td>\n",
       "      <td>English</td>\n",
       "      <td>USA</td>\n",
       "      <td>PG-13</td>\n",
       "      <td>237000000</td>\n",
       "      <td>2009</td>\n",
       "      <td>936</td>\n",
       "      <td>7.9</td>\n",
       "      <td>1.78</td>\n",
       "      <td>33000</td>\n",
       "      <td>2787965087</td>\n",
       "    </tr>\n",
       "    <tr>\n",
       "      <th>1</th>\n",
       "      <td>Color</td>\n",
       "      <td>Gore Verbinski</td>\n",
       "      <td>302</td>\n",
       "      <td>169</td>\n",
       "      <td>563</td>\n",
       "      <td>1000</td>\n",
       "      <td>Orlando Bloom</td>\n",
       "      <td>40000</td>\n",
       "      <td>309404152</td>\n",
       "      <td>Action|Adventure|Fantasy</td>\n",
       "      <td>...</td>\n",
       "      <td>English</td>\n",
       "      <td>USA</td>\n",
       "      <td>PG-13</td>\n",
       "      <td>300000000</td>\n",
       "      <td>2007</td>\n",
       "      <td>5000</td>\n",
       "      <td>7.1</td>\n",
       "      <td>2.35</td>\n",
       "      <td>0</td>\n",
       "      <td>963420425</td>\n",
       "    </tr>\n",
       "    <tr>\n",
       "      <th>2</th>\n",
       "      <td>Color</td>\n",
       "      <td>Sam Mendes</td>\n",
       "      <td>602</td>\n",
       "      <td>148</td>\n",
       "      <td>0</td>\n",
       "      <td>161</td>\n",
       "      <td>Rory Kinnear</td>\n",
       "      <td>11000</td>\n",
       "      <td>200074175</td>\n",
       "      <td>Action|Adventure|Thriller</td>\n",
       "      <td>...</td>\n",
       "      <td>English</td>\n",
       "      <td>UK</td>\n",
       "      <td>PG-13</td>\n",
       "      <td>245000000</td>\n",
       "      <td>2015</td>\n",
       "      <td>393</td>\n",
       "      <td>6.8</td>\n",
       "      <td>2.35</td>\n",
       "      <td>85000</td>\n",
       "      <td>880674175</td>\n",
       "    </tr>\n",
       "    <tr>\n",
       "      <th>3</th>\n",
       "      <td>Color</td>\n",
       "      <td>Christopher Nolan</td>\n",
       "      <td>813</td>\n",
       "      <td>164</td>\n",
       "      <td>22000</td>\n",
       "      <td>23000</td>\n",
       "      <td>Christian Bale</td>\n",
       "      <td>27000</td>\n",
       "      <td>448130642</td>\n",
       "      <td>Action|Thriller</td>\n",
       "      <td>...</td>\n",
       "      <td>English</td>\n",
       "      <td>USA</td>\n",
       "      <td>PG-13</td>\n",
       "      <td>250000000</td>\n",
       "      <td>2012</td>\n",
       "      <td>23000</td>\n",
       "      <td>8.5</td>\n",
       "      <td>2.35</td>\n",
       "      <td>164000</td>\n",
       "      <td>1084939099</td>\n",
       "    </tr>\n",
       "    <tr>\n",
       "      <th>5</th>\n",
       "      <td>Color</td>\n",
       "      <td>Andrew Stanton</td>\n",
       "      <td>462</td>\n",
       "      <td>132</td>\n",
       "      <td>475</td>\n",
       "      <td>530</td>\n",
       "      <td>Samantha Morton</td>\n",
       "      <td>640</td>\n",
       "      <td>73058679</td>\n",
       "      <td>Action|Adventure|Sci-Fi</td>\n",
       "      <td>...</td>\n",
       "      <td>English</td>\n",
       "      <td>USA</td>\n",
       "      <td>PG-13</td>\n",
       "      <td>263700000</td>\n",
       "      <td>2012</td>\n",
       "      <td>632</td>\n",
       "      <td>6.6</td>\n",
       "      <td>2.35</td>\n",
       "      <td>24000</td>\n",
       "      <td>284139100</td>\n",
       "    </tr>\n",
       "  </tbody>\n",
       "</table>\n",
       "<p>5 rows × 29 columns</p>\n",
       "</div>"
      ],
      "text/plain": [
       "   color      director_name  num_critic_for_reviews  duration  \\\n",
       "0  Color      James Cameron                     723       178   \n",
       "1  Color     Gore Verbinski                     302       169   \n",
       "2  Color         Sam Mendes                     602       148   \n",
       "3  Color  Christopher Nolan                     813       164   \n",
       "5  Color     Andrew Stanton                     462       132   \n",
       "\n",
       "   director_facebook_likes  actor_3_facebook_likes      actor_2_name  \\\n",
       "0                        0                     855  Joel David Moore   \n",
       "1                      563                    1000     Orlando Bloom   \n",
       "2                        0                     161      Rory Kinnear   \n",
       "3                    22000                   23000    Christian Bale   \n",
       "5                      475                     530   Samantha Morton   \n",
       "\n",
       "   actor_1_facebook_likes      gross                           genres  \\\n",
       "0                    1000  760505847  Action|Adventure|Fantasy|Sci-Fi   \n",
       "1                   40000  309404152         Action|Adventure|Fantasy   \n",
       "2                   11000  200074175        Action|Adventure|Thriller   \n",
       "3                   27000  448130642                  Action|Thriller   \n",
       "5                     640   73058679          Action|Adventure|Sci-Fi   \n",
       "\n",
       "      ...     language country  content_rating     budget title_year  \\\n",
       "0     ...      English     USA           PG-13  237000000       2009   \n",
       "1     ...      English     USA           PG-13  300000000       2007   \n",
       "2     ...      English      UK           PG-13  245000000       2015   \n",
       "3     ...      English     USA           PG-13  250000000       2012   \n",
       "5     ...      English     USA           PG-13  263700000       2012   \n",
       "\n",
       "   actor_2_facebook_likes imdb_score aspect_ratio  movie_facebook_likes  \\\n",
       "0                     936        7.9         1.78                 33000   \n",
       "1                    5000        7.1         2.35                     0   \n",
       "2                     393        6.8         2.35                 85000   \n",
       "3                   23000        8.5         2.35                164000   \n",
       "5                     632        6.6         2.35                 24000   \n",
       "\n",
       "  total_gross  \n",
       "0  2787965087  \n",
       "1   963420425  \n",
       "2   880674175  \n",
       "3  1084939099  \n",
       "5   284139100  \n",
       "\n",
       "[5 rows x 29 columns]"
      ]
     },
     "execution_count": 138,
     "metadata": {},
     "output_type": "execute_result"
    }
   ],
   "source": [
    "df.head()\n"
   ]
  },
  {
   "cell_type": "code",
   "execution_count": 140,
   "metadata": {
    "collapsed": false
   },
   "outputs": [],
   "source": [
    "# remove all rows if total_gross is null\n",
    "df = df.dropna(subset=['total_gross'])\n"
   ]
  },
  {
   "cell_type": "code",
   "execution_count": 142,
   "metadata": {
    "collapsed": false
   },
   "outputs": [
    {
     "data": {
      "text/plain": [
       "(2272, 29)"
      ]
     },
     "execution_count": 142,
     "metadata": {},
     "output_type": "execute_result"
    }
   ],
   "source": [
    "df.shape\n"
   ]
  },
  {
   "cell_type": "code",
   "execution_count": 143,
   "metadata": {
    "collapsed": true
   },
   "outputs": [],
   "source": [
    "# export to csv file\n",
    "df.to_csv('df_totalgross.csv')"
   ]
  },
  {
   "cell_type": "markdown",
   "metadata": {},
   "source": [
    "## Date (month+day)\n",
    "\n",
    "**The scraping is not really successful. I only get 745 targets.**"
   ]
  },
  {
   "cell_type": "code",
   "execution_count": 4,
   "metadata": {
    "collapsed": false
   },
   "outputs": [
    {
     "data": {
      "text/plain": [
       "4099"
      ]
     },
     "execution_count": 4,
     "metadata": {},
     "output_type": "execute_result"
    }
   ],
   "source": [
    "# get a full list(4099) of imdb links from wrangle.csv file\n",
    "wrangle = pd.read_csv('wrangle.csv')\n",
    "df_linklist = list(wrangle.movie_imdb_link)\n",
    "len(df_linklist)"
   ]
  },
  {
   "cell_type": "code",
   "execution_count": 14,
   "metadata": {
    "collapsed": false
   },
   "outputs": [
    {
     "name": "stdout",
     "output_type": "stream",
     "text": [
      "CPU times: user 2.28 s, sys: 73.8 ms, total: 2.35 s\n",
      "Wall time: 18.1 s\n"
     ]
    }
   ],
   "source": [
    "%%time\n",
    "imdb_date = {}\n",
    "for link in df_linklist[0:10]:\n",
    "    r = requests.get(link)\n",
    "    text = r.text\n",
    "    soup = BeautifulSoup(text)\n",
    "    date_location = soup.find(name='h4', attrs={'class':'inline'}, string='Release Date:')\n",
    "    if str(type(date_location)) == \"<class 'bs4.element.Tag'>\":\n",
    "        date = date_location.find_previous()\n",
    "        pattern = re.compile('\\: +(.*)\\d\\d\\d\\d')\n",
    "        match = re.search(pattern, date.text.encode('utf-8'))\n",
    "        clean_up = match.group().replace(':', '')\n",
    "        transform = datetime.datetime.strptime(clean_up, \" %d %B %Y\")\n",
    "        imdb_date[link] = [transform.month, transform.day]\n",
    "    else:\n",
    "        imdb_date[link] = np.NaN\n",
    "        "
   ]
  },
  {
   "cell_type": "code",
   "execution_count": 15,
   "metadata": {
    "collapsed": false
   },
   "outputs": [
    {
     "data": {
      "text/plain": [
       "{'http://www.imdb.com/title/tt0398286/?ref_=fn_tt_tt_1': [11, 24],\n",
       " 'http://www.imdb.com/title/tt0401729/?ref_=fn_tt_tt_1': [3, 9],\n",
       " 'http://www.imdb.com/title/tt0413300/?ref_=fn_tt_tt_1': [5, 4],\n",
       " 'http://www.imdb.com/title/tt0417741/?ref_=fn_tt_tt_1': [7, 15],\n",
       " 'http://www.imdb.com/title/tt0449088/?ref_=fn_tt_tt_1': [5, 25],\n",
       " 'http://www.imdb.com/title/tt0499549/?ref_=fn_tt_tt_1': [12, 18],\n",
       " 'http://www.imdb.com/title/tt1345836/?ref_=fn_tt_tt_1': [7, 20],\n",
       " 'http://www.imdb.com/title/tt2379713/?ref_=fn_tt_tt_1': [11, 6],\n",
       " 'http://www.imdb.com/title/tt2395427/?ref_=fn_tt_tt_1': [5, 1],\n",
       " 'http://www.imdb.com/title/tt2975590/?ref_=fn_tt_tt_1': [3, 25]}"
      ]
     },
     "execution_count": 15,
     "metadata": {},
     "output_type": "execute_result"
    }
   ],
   "source": [
    "# get a original dictionary with the first 10 rows\n",
    "imdb_date\n"
   ]
  },
  {
   "cell_type": "code",
   "execution_count": 25,
   "metadata": {
    "collapsed": false
   },
   "outputs": [],
   "source": [
    "# split links to different chunks\n",
    "date_split1 = list(chunks(df_linklist[400:2000], 400))\n",
    "date_split2 = list(chunks(df_linklist[2001:], 400))"
   ]
  },
  {
   "cell_type": "code",
   "execution_count": 21,
   "metadata": {
    "collapsed": false
   },
   "outputs": [],
   "source": [
    "def get_date(linklist, destination, original_dic):\n",
    "    for link in linklist:\n",
    "        r = requests.get(link)\n",
    "        text = r.text\n",
    "        soup = BeautifulSoup(text)\n",
    "        date_location = soup.find(name='h4', attrs={'class':'inline'}, string='Release Date:')\n",
    "        if str(type(date_location)) == \"<class 'bs4.element.Tag'>\":\n",
    "            date = date_location.find_previous()\n",
    "            pattern = re.compile('\\: +(.*)\\d\\d\\d\\d')\n",
    "            match = re.search(pattern, date.text.encode('utf-8'))\n",
    "            clean_up = match.group().replace(':', '')\n",
    "            \n",
    "            transform = datetime.datetime.strptime(clean_up, \" %d %B %Y\")\n",
    "            destination[link] = [transform.month, transform.day]\n",
    "            original_dic.update(destination)\n",
    "        else:\n",
    "            destination[link] = np.NaN\n",
    "            "
   ]
  },
  {
   "cell_type": "code",
   "execution_count": 28,
   "metadata": {
    "collapsed": false
   },
   "outputs": [
    {
     "data": {
      "text/plain": [
       "745"
      ]
     },
     "execution_count": 28,
     "metadata": {},
     "output_type": "execute_result"
    }
   ],
   "source": [
    "len(imdb_date)"
   ]
  },
  {
   "cell_type": "code",
   "execution_count": 26,
   "metadata": {
    "collapsed": true
   },
   "outputs": [
    {
     "ename": "KeyboardInterrupt",
     "evalue": "",
     "output_type": "error",
     "traceback": [
      "\u001b[0;31m---------------------------------------------------------------------------\u001b[0m",
      "\u001b[0;31mKeyboardInterrupt\u001b[0m                         Traceback (most recent call last)",
      "\u001b[0;32m<ipython-input-26-7d9b6e207e25>\u001b[0m in \u001b[0;36m<module>\u001b[0;34m()\u001b[0m\n\u001b[0;32m----> 1\u001b[0;31m \u001b[0mget_ipython\u001b[0m\u001b[0;34m(\u001b[0m\u001b[0;34m)\u001b[0m\u001b[0;34m.\u001b[0m\u001b[0mrun_cell_magic\u001b[0m\u001b[0;34m(\u001b[0m\u001b[0;34mu'time'\u001b[0m\u001b[0;34m,\u001b[0m \u001b[0;34mu''\u001b[0m\u001b[0;34m,\u001b[0m \u001b[0;34mu'temp={}\\nfor i in date_split1:\\n    get_date(i, temp, imdb_date)'\u001b[0m\u001b[0;34m)\u001b[0m\u001b[0;34m\u001b[0m\u001b[0m\n\u001b[0m",
      "\u001b[0;32m/Users/GaryKao/miniconda3/envs/tutorial/lib/python2.7/site-packages/IPython/core/interactiveshell.pyc\u001b[0m in \u001b[0;36mrun_cell_magic\u001b[0;34m(self, magic_name, line, cell)\u001b[0m\n\u001b[1;32m   2291\u001b[0m             \u001b[0mmagic_arg_s\u001b[0m \u001b[0;34m=\u001b[0m \u001b[0mself\u001b[0m\u001b[0;34m.\u001b[0m\u001b[0mvar_expand\u001b[0m\u001b[0;34m(\u001b[0m\u001b[0mline\u001b[0m\u001b[0;34m,\u001b[0m \u001b[0mstack_depth\u001b[0m\u001b[0;34m)\u001b[0m\u001b[0;34m\u001b[0m\u001b[0m\n\u001b[1;32m   2292\u001b[0m             \u001b[0;32mwith\u001b[0m \u001b[0mself\u001b[0m\u001b[0;34m.\u001b[0m\u001b[0mbuiltin_trap\u001b[0m\u001b[0;34m:\u001b[0m\u001b[0;34m\u001b[0m\u001b[0m\n\u001b[0;32m-> 2293\u001b[0;31m                 \u001b[0mresult\u001b[0m \u001b[0;34m=\u001b[0m \u001b[0mfn\u001b[0m\u001b[0;34m(\u001b[0m\u001b[0mmagic_arg_s\u001b[0m\u001b[0;34m,\u001b[0m \u001b[0mcell\u001b[0m\u001b[0;34m)\u001b[0m\u001b[0;34m\u001b[0m\u001b[0m\n\u001b[0m\u001b[1;32m   2294\u001b[0m             \u001b[0;32mreturn\u001b[0m \u001b[0mresult\u001b[0m\u001b[0;34m\u001b[0m\u001b[0m\n\u001b[1;32m   2295\u001b[0m \u001b[0;34m\u001b[0m\u001b[0m\n",
      "\u001b[0;32m/Users/GaryKao/miniconda3/envs/tutorial/lib/python2.7/site-packages/IPython/core/magics/execution.pyc\u001b[0m in \u001b[0;36mtime\u001b[0;34m(self, line, cell, local_ns)\u001b[0m\n",
      "\u001b[0;32m/Users/GaryKao/miniconda3/envs/tutorial/lib/python2.7/site-packages/IPython/core/magic.pyc\u001b[0m in \u001b[0;36m<lambda>\u001b[0;34m(f, *a, **k)\u001b[0m\n\u001b[1;32m    191\u001b[0m     \u001b[0;31m# but it's overkill for just that one bit of state.\u001b[0m\u001b[0;34m\u001b[0m\u001b[0;34m\u001b[0m\u001b[0m\n\u001b[1;32m    192\u001b[0m     \u001b[0;32mdef\u001b[0m \u001b[0mmagic_deco\u001b[0m\u001b[0;34m(\u001b[0m\u001b[0marg\u001b[0m\u001b[0;34m)\u001b[0m\u001b[0;34m:\u001b[0m\u001b[0;34m\u001b[0m\u001b[0m\n\u001b[0;32m--> 193\u001b[0;31m         \u001b[0mcall\u001b[0m \u001b[0;34m=\u001b[0m \u001b[0;32mlambda\u001b[0m \u001b[0mf\u001b[0m\u001b[0;34m,\u001b[0m \u001b[0;34m*\u001b[0m\u001b[0ma\u001b[0m\u001b[0;34m,\u001b[0m \u001b[0;34m**\u001b[0m\u001b[0mk\u001b[0m\u001b[0;34m:\u001b[0m \u001b[0mf\u001b[0m\u001b[0;34m(\u001b[0m\u001b[0;34m*\u001b[0m\u001b[0ma\u001b[0m\u001b[0;34m,\u001b[0m \u001b[0;34m**\u001b[0m\u001b[0mk\u001b[0m\u001b[0;34m)\u001b[0m\u001b[0;34m\u001b[0m\u001b[0m\n\u001b[0m\u001b[1;32m    194\u001b[0m \u001b[0;34m\u001b[0m\u001b[0m\n\u001b[1;32m    195\u001b[0m         \u001b[0;32mif\u001b[0m \u001b[0mcallable\u001b[0m\u001b[0;34m(\u001b[0m\u001b[0marg\u001b[0m\u001b[0;34m)\u001b[0m\u001b[0;34m:\u001b[0m\u001b[0;34m\u001b[0m\u001b[0m\n",
      "\u001b[0;32m/Users/GaryKao/miniconda3/envs/tutorial/lib/python2.7/site-packages/IPython/core/magics/execution.pyc\u001b[0m in \u001b[0;36mtime\u001b[0;34m(self, line, cell, local_ns)\u001b[0m\n\u001b[1;32m   1165\u001b[0m         \u001b[0;32melse\u001b[0m\u001b[0;34m:\u001b[0m\u001b[0;34m\u001b[0m\u001b[0m\n\u001b[1;32m   1166\u001b[0m             \u001b[0mst\u001b[0m \u001b[0;34m=\u001b[0m \u001b[0mclock2\u001b[0m\u001b[0;34m(\u001b[0m\u001b[0;34m)\u001b[0m\u001b[0;34m\u001b[0m\u001b[0m\n\u001b[0;32m-> 1167\u001b[0;31m             \u001b[0;32mexec\u001b[0m\u001b[0;34m(\u001b[0m\u001b[0mcode\u001b[0m\u001b[0;34m,\u001b[0m \u001b[0mglob\u001b[0m\u001b[0;34m,\u001b[0m \u001b[0mlocal_ns\u001b[0m\u001b[0;34m)\u001b[0m\u001b[0;34m\u001b[0m\u001b[0m\n\u001b[0m\u001b[1;32m   1168\u001b[0m             \u001b[0mend\u001b[0m \u001b[0;34m=\u001b[0m \u001b[0mclock2\u001b[0m\u001b[0;34m(\u001b[0m\u001b[0;34m)\u001b[0m\u001b[0;34m\u001b[0m\u001b[0m\n\u001b[1;32m   1169\u001b[0m             \u001b[0mout\u001b[0m \u001b[0;34m=\u001b[0m \u001b[0mNone\u001b[0m\u001b[0;34m\u001b[0m\u001b[0m\n",
      "\u001b[0;32m<timed exec>\u001b[0m in \u001b[0;36m<module>\u001b[0;34m()\u001b[0m\n",
      "\u001b[0;32m<ipython-input-21-500253ba71e2>\u001b[0m in \u001b[0;36mget_date\u001b[0;34m(linklist, destination, original_dic)\u001b[0m\n\u001b[1;32m      1\u001b[0m \u001b[0;32mdef\u001b[0m \u001b[0mget_date\u001b[0m\u001b[0;34m(\u001b[0m\u001b[0mlinklist\u001b[0m\u001b[0;34m,\u001b[0m \u001b[0mdestination\u001b[0m\u001b[0;34m,\u001b[0m \u001b[0moriginal_dic\u001b[0m\u001b[0;34m)\u001b[0m\u001b[0;34m:\u001b[0m\u001b[0;34m\u001b[0m\u001b[0m\n\u001b[1;32m      2\u001b[0m     \u001b[0;32mfor\u001b[0m \u001b[0mlink\u001b[0m \u001b[0;32min\u001b[0m \u001b[0mlinklist\u001b[0m\u001b[0;34m:\u001b[0m\u001b[0;34m\u001b[0m\u001b[0m\n\u001b[0;32m----> 3\u001b[0;31m         \u001b[0mr\u001b[0m \u001b[0;34m=\u001b[0m \u001b[0mrequests\u001b[0m\u001b[0;34m.\u001b[0m\u001b[0mget\u001b[0m\u001b[0;34m(\u001b[0m\u001b[0mlink\u001b[0m\u001b[0;34m)\u001b[0m\u001b[0;34m\u001b[0m\u001b[0m\n\u001b[0m\u001b[1;32m      4\u001b[0m         \u001b[0mtext\u001b[0m \u001b[0;34m=\u001b[0m \u001b[0mr\u001b[0m\u001b[0;34m.\u001b[0m\u001b[0mtext\u001b[0m\u001b[0;34m\u001b[0m\u001b[0m\n\u001b[1;32m      5\u001b[0m         \u001b[0msoup\u001b[0m \u001b[0;34m=\u001b[0m \u001b[0mBeautifulSoup\u001b[0m\u001b[0;34m(\u001b[0m\u001b[0mtext\u001b[0m\u001b[0;34m)\u001b[0m\u001b[0;34m\u001b[0m\u001b[0m\n",
      "\u001b[0;32m/Users/GaryKao/miniconda3/envs/tutorial/lib/python2.7/site-packages/requests/api.pyc\u001b[0m in \u001b[0;36mget\u001b[0;34m(url, params, **kwargs)\u001b[0m\n\u001b[1;32m     70\u001b[0m \u001b[0;34m\u001b[0m\u001b[0m\n\u001b[1;32m     71\u001b[0m     \u001b[0mkwargs\u001b[0m\u001b[0;34m.\u001b[0m\u001b[0msetdefault\u001b[0m\u001b[0;34m(\u001b[0m\u001b[0;34m'allow_redirects'\u001b[0m\u001b[0;34m,\u001b[0m \u001b[0mTrue\u001b[0m\u001b[0;34m)\u001b[0m\u001b[0;34m\u001b[0m\u001b[0m\n\u001b[0;32m---> 72\u001b[0;31m     \u001b[0;32mreturn\u001b[0m \u001b[0mrequest\u001b[0m\u001b[0;34m(\u001b[0m\u001b[0;34m'get'\u001b[0m\u001b[0;34m,\u001b[0m \u001b[0murl\u001b[0m\u001b[0;34m,\u001b[0m \u001b[0mparams\u001b[0m\u001b[0;34m=\u001b[0m\u001b[0mparams\u001b[0m\u001b[0;34m,\u001b[0m \u001b[0;34m**\u001b[0m\u001b[0mkwargs\u001b[0m\u001b[0;34m)\u001b[0m\u001b[0;34m\u001b[0m\u001b[0m\n\u001b[0m\u001b[1;32m     73\u001b[0m \u001b[0;34m\u001b[0m\u001b[0m\n\u001b[1;32m     74\u001b[0m \u001b[0;34m\u001b[0m\u001b[0m\n",
      "\u001b[0;32m/Users/GaryKao/miniconda3/envs/tutorial/lib/python2.7/site-packages/requests/api.pyc\u001b[0m in \u001b[0;36mrequest\u001b[0;34m(method, url, **kwargs)\u001b[0m\n\u001b[1;32m     56\u001b[0m     \u001b[0;31m# cases, and look like a memory leak in others.\u001b[0m\u001b[0;34m\u001b[0m\u001b[0;34m\u001b[0m\u001b[0m\n\u001b[1;32m     57\u001b[0m     \u001b[0;32mwith\u001b[0m \u001b[0msessions\u001b[0m\u001b[0;34m.\u001b[0m\u001b[0mSession\u001b[0m\u001b[0;34m(\u001b[0m\u001b[0;34m)\u001b[0m \u001b[0;32mas\u001b[0m \u001b[0msession\u001b[0m\u001b[0;34m:\u001b[0m\u001b[0;34m\u001b[0m\u001b[0m\n\u001b[0;32m---> 58\u001b[0;31m         \u001b[0;32mreturn\u001b[0m \u001b[0msession\u001b[0m\u001b[0;34m.\u001b[0m\u001b[0mrequest\u001b[0m\u001b[0;34m(\u001b[0m\u001b[0mmethod\u001b[0m\u001b[0;34m=\u001b[0m\u001b[0mmethod\u001b[0m\u001b[0;34m,\u001b[0m \u001b[0murl\u001b[0m\u001b[0;34m=\u001b[0m\u001b[0murl\u001b[0m\u001b[0;34m,\u001b[0m \u001b[0;34m**\u001b[0m\u001b[0mkwargs\u001b[0m\u001b[0;34m)\u001b[0m\u001b[0;34m\u001b[0m\u001b[0m\n\u001b[0m\u001b[1;32m     59\u001b[0m \u001b[0;34m\u001b[0m\u001b[0m\n\u001b[1;32m     60\u001b[0m \u001b[0;34m\u001b[0m\u001b[0m\n",
      "\u001b[0;32m/Users/GaryKao/miniconda3/envs/tutorial/lib/python2.7/site-packages/requests/sessions.pyc\u001b[0m in \u001b[0;36mrequest\u001b[0;34m(self, method, url, params, data, headers, cookies, files, auth, timeout, allow_redirects, proxies, hooks, stream, verify, cert, json)\u001b[0m\n\u001b[1;32m    510\u001b[0m         }\n\u001b[1;32m    511\u001b[0m         \u001b[0msend_kwargs\u001b[0m\u001b[0;34m.\u001b[0m\u001b[0mupdate\u001b[0m\u001b[0;34m(\u001b[0m\u001b[0msettings\u001b[0m\u001b[0;34m)\u001b[0m\u001b[0;34m\u001b[0m\u001b[0m\n\u001b[0;32m--> 512\u001b[0;31m         \u001b[0mresp\u001b[0m \u001b[0;34m=\u001b[0m \u001b[0mself\u001b[0m\u001b[0;34m.\u001b[0m\u001b[0msend\u001b[0m\u001b[0;34m(\u001b[0m\u001b[0mprep\u001b[0m\u001b[0;34m,\u001b[0m \u001b[0;34m**\u001b[0m\u001b[0msend_kwargs\u001b[0m\u001b[0;34m)\u001b[0m\u001b[0;34m\u001b[0m\u001b[0m\n\u001b[0m\u001b[1;32m    513\u001b[0m \u001b[0;34m\u001b[0m\u001b[0m\n\u001b[1;32m    514\u001b[0m         \u001b[0;32mreturn\u001b[0m \u001b[0mresp\u001b[0m\u001b[0;34m\u001b[0m\u001b[0m\n",
      "\u001b[0;32m/Users/GaryKao/miniconda3/envs/tutorial/lib/python2.7/site-packages/requests/sessions.pyc\u001b[0m in \u001b[0;36msend\u001b[0;34m(self, request, **kwargs)\u001b[0m\n\u001b[1;32m    642\u001b[0m \u001b[0;34m\u001b[0m\u001b[0m\n\u001b[1;32m    643\u001b[0m         \u001b[0;31m# Resolve redirects if allowed.\u001b[0m\u001b[0;34m\u001b[0m\u001b[0;34m\u001b[0m\u001b[0m\n\u001b[0;32m--> 644\u001b[0;31m         \u001b[0mhistory\u001b[0m \u001b[0;34m=\u001b[0m \u001b[0;34m[\u001b[0m\u001b[0mresp\u001b[0m \u001b[0;32mfor\u001b[0m \u001b[0mresp\u001b[0m \u001b[0;32min\u001b[0m \u001b[0mgen\u001b[0m\u001b[0;34m]\u001b[0m \u001b[0;32mif\u001b[0m \u001b[0mallow_redirects\u001b[0m \u001b[0;32melse\u001b[0m \u001b[0;34m[\u001b[0m\u001b[0;34m]\u001b[0m\u001b[0;34m\u001b[0m\u001b[0m\n\u001b[0m\u001b[1;32m    645\u001b[0m \u001b[0;34m\u001b[0m\u001b[0m\n\u001b[1;32m    646\u001b[0m         \u001b[0;31m# Shuffle things around if there's history.\u001b[0m\u001b[0;34m\u001b[0m\u001b[0;34m\u001b[0m\u001b[0m\n",
      "\u001b[0;32m/Users/GaryKao/miniconda3/envs/tutorial/lib/python2.7/site-packages/requests/sessions.pyc\u001b[0m in \u001b[0;36mresolve_redirects\u001b[0;34m(self, resp, req, stream, timeout, verify, cert, proxies, yield_requests, **adapter_kwargs)\u001b[0m\n\u001b[1;32m    220\u001b[0m                     \u001b[0mproxies\u001b[0m\u001b[0;34m=\u001b[0m\u001b[0mproxies\u001b[0m\u001b[0;34m,\u001b[0m\u001b[0;34m\u001b[0m\u001b[0m\n\u001b[1;32m    221\u001b[0m                     \u001b[0mallow_redirects\u001b[0m\u001b[0;34m=\u001b[0m\u001b[0mFalse\u001b[0m\u001b[0;34m,\u001b[0m\u001b[0;34m\u001b[0m\u001b[0m\n\u001b[0;32m--> 222\u001b[0;31m                     \u001b[0;34m**\u001b[0m\u001b[0madapter_kwargs\u001b[0m\u001b[0;34m\u001b[0m\u001b[0m\n\u001b[0m\u001b[1;32m    223\u001b[0m                 )\n\u001b[1;32m    224\u001b[0m \u001b[0;34m\u001b[0m\u001b[0m\n",
      "\u001b[0;32m/Users/GaryKao/miniconda3/envs/tutorial/lib/python2.7/site-packages/requests/sessions.pyc\u001b[0m in \u001b[0;36msend\u001b[0;34m(self, request, **kwargs)\u001b[0m\n\u001b[1;32m    660\u001b[0m \u001b[0;34m\u001b[0m\u001b[0m\n\u001b[1;32m    661\u001b[0m         \u001b[0;32mif\u001b[0m \u001b[0;32mnot\u001b[0m \u001b[0mstream\u001b[0m\u001b[0;34m:\u001b[0m\u001b[0;34m\u001b[0m\u001b[0m\n\u001b[0;32m--> 662\u001b[0;31m             \u001b[0mr\u001b[0m\u001b[0;34m.\u001b[0m\u001b[0mcontent\u001b[0m\u001b[0;34m\u001b[0m\u001b[0m\n\u001b[0m\u001b[1;32m    663\u001b[0m \u001b[0;34m\u001b[0m\u001b[0m\n\u001b[1;32m    664\u001b[0m         \u001b[0;32mreturn\u001b[0m \u001b[0mr\u001b[0m\u001b[0;34m\u001b[0m\u001b[0m\n",
      "\u001b[0;32m/Users/GaryKao/miniconda3/envs/tutorial/lib/python2.7/site-packages/requests/models.pyc\u001b[0m in \u001b[0;36mcontent\u001b[0;34m(self)\u001b[0m\n\u001b[1;32m    825\u001b[0m                 \u001b[0mself\u001b[0m\u001b[0;34m.\u001b[0m\u001b[0m_content\u001b[0m \u001b[0;34m=\u001b[0m \u001b[0mNone\u001b[0m\u001b[0;34m\u001b[0m\u001b[0m\n\u001b[1;32m    826\u001b[0m             \u001b[0;32melse\u001b[0m\u001b[0;34m:\u001b[0m\u001b[0;34m\u001b[0m\u001b[0m\n\u001b[0;32m--> 827\u001b[0;31m                 \u001b[0mself\u001b[0m\u001b[0;34m.\u001b[0m\u001b[0m_content\u001b[0m \u001b[0;34m=\u001b[0m \u001b[0;34mb''\u001b[0m\u001b[0;34m.\u001b[0m\u001b[0mjoin\u001b[0m\u001b[0;34m(\u001b[0m\u001b[0mself\u001b[0m\u001b[0;34m.\u001b[0m\u001b[0miter_content\u001b[0m\u001b[0;34m(\u001b[0m\u001b[0mCONTENT_CHUNK_SIZE\u001b[0m\u001b[0;34m)\u001b[0m\u001b[0;34m)\u001b[0m \u001b[0;32mor\u001b[0m \u001b[0;34mb''\u001b[0m\u001b[0;34m\u001b[0m\u001b[0m\n\u001b[0m\u001b[1;32m    828\u001b[0m \u001b[0;34m\u001b[0m\u001b[0m\n\u001b[1;32m    829\u001b[0m         \u001b[0mself\u001b[0m\u001b[0;34m.\u001b[0m\u001b[0m_content_consumed\u001b[0m \u001b[0;34m=\u001b[0m \u001b[0mTrue\u001b[0m\u001b[0;34m\u001b[0m\u001b[0m\n",
      "\u001b[0;32m/Users/GaryKao/miniconda3/envs/tutorial/lib/python2.7/site-packages/requests/models.pyc\u001b[0m in \u001b[0;36mgenerate\u001b[0;34m()\u001b[0m\n\u001b[1;32m    747\u001b[0m             \u001b[0;32mif\u001b[0m \u001b[0mhasattr\u001b[0m\u001b[0;34m(\u001b[0m\u001b[0mself\u001b[0m\u001b[0;34m.\u001b[0m\u001b[0mraw\u001b[0m\u001b[0;34m,\u001b[0m \u001b[0;34m'stream'\u001b[0m\u001b[0;34m)\u001b[0m\u001b[0;34m:\u001b[0m\u001b[0;34m\u001b[0m\u001b[0m\n\u001b[1;32m    748\u001b[0m                 \u001b[0;32mtry\u001b[0m\u001b[0;34m:\u001b[0m\u001b[0;34m\u001b[0m\u001b[0m\n\u001b[0;32m--> 749\u001b[0;31m                     \u001b[0;32mfor\u001b[0m \u001b[0mchunk\u001b[0m \u001b[0;32min\u001b[0m \u001b[0mself\u001b[0m\u001b[0;34m.\u001b[0m\u001b[0mraw\u001b[0m\u001b[0;34m.\u001b[0m\u001b[0mstream\u001b[0m\u001b[0;34m(\u001b[0m\u001b[0mchunk_size\u001b[0m\u001b[0;34m,\u001b[0m \u001b[0mdecode_content\u001b[0m\u001b[0;34m=\u001b[0m\u001b[0mTrue\u001b[0m\u001b[0;34m)\u001b[0m\u001b[0;34m:\u001b[0m\u001b[0;34m\u001b[0m\u001b[0m\n\u001b[0m\u001b[1;32m    750\u001b[0m                         \u001b[0;32myield\u001b[0m \u001b[0mchunk\u001b[0m\u001b[0;34m\u001b[0m\u001b[0m\n\u001b[1;32m    751\u001b[0m                 \u001b[0;32mexcept\u001b[0m \u001b[0mProtocolError\u001b[0m \u001b[0;32mas\u001b[0m \u001b[0me\u001b[0m\u001b[0;34m:\u001b[0m\u001b[0;34m\u001b[0m\u001b[0m\n",
      "\u001b[0;32m/Users/GaryKao/miniconda3/envs/tutorial/lib/python2.7/site-packages/urllib3/response.pyc\u001b[0m in \u001b[0;36mstream\u001b[0;34m(self, amt, decode_content)\u001b[0m\n\u001b[1;32m    459\u001b[0m         \"\"\"\n\u001b[1;32m    460\u001b[0m         \u001b[0;32mif\u001b[0m \u001b[0mself\u001b[0m\u001b[0;34m.\u001b[0m\u001b[0mchunked\u001b[0m \u001b[0;32mand\u001b[0m \u001b[0mself\u001b[0m\u001b[0;34m.\u001b[0m\u001b[0msupports_chunked_reads\u001b[0m\u001b[0;34m(\u001b[0m\u001b[0;34m)\u001b[0m\u001b[0;34m:\u001b[0m\u001b[0;34m\u001b[0m\u001b[0m\n\u001b[0;32m--> 461\u001b[0;31m             \u001b[0;32mfor\u001b[0m \u001b[0mline\u001b[0m \u001b[0;32min\u001b[0m \u001b[0mself\u001b[0m\u001b[0;34m.\u001b[0m\u001b[0mread_chunked\u001b[0m\u001b[0;34m(\u001b[0m\u001b[0mamt\u001b[0m\u001b[0;34m,\u001b[0m \u001b[0mdecode_content\u001b[0m\u001b[0;34m=\u001b[0m\u001b[0mdecode_content\u001b[0m\u001b[0;34m)\u001b[0m\u001b[0;34m:\u001b[0m\u001b[0;34m\u001b[0m\u001b[0m\n\u001b[0m\u001b[1;32m    462\u001b[0m                 \u001b[0;32myield\u001b[0m \u001b[0mline\u001b[0m\u001b[0;34m\u001b[0m\u001b[0m\n\u001b[1;32m    463\u001b[0m         \u001b[0;32melse\u001b[0m\u001b[0;34m:\u001b[0m\u001b[0;34m\u001b[0m\u001b[0m\n",
      "\u001b[0;32m/Users/GaryKao/miniconda3/envs/tutorial/lib/python2.7/site-packages/urllib3/response.pyc\u001b[0m in \u001b[0;36mread_chunked\u001b[0;34m(self, amt, decode_content)\u001b[0m\n\u001b[1;32m    635\u001b[0m \u001b[0;34m\u001b[0m\u001b[0m\n\u001b[1;32m    636\u001b[0m             \u001b[0;32mwhile\u001b[0m \u001b[0mTrue\u001b[0m\u001b[0;34m:\u001b[0m\u001b[0;34m\u001b[0m\u001b[0m\n\u001b[0;32m--> 637\u001b[0;31m                 \u001b[0mself\u001b[0m\u001b[0;34m.\u001b[0m\u001b[0m_update_chunk_length\u001b[0m\u001b[0;34m(\u001b[0m\u001b[0;34m)\u001b[0m\u001b[0;34m\u001b[0m\u001b[0m\n\u001b[0m\u001b[1;32m    638\u001b[0m                 \u001b[0;32mif\u001b[0m \u001b[0mself\u001b[0m\u001b[0;34m.\u001b[0m\u001b[0mchunk_left\u001b[0m \u001b[0;34m==\u001b[0m \u001b[0;36m0\u001b[0m\u001b[0;34m:\u001b[0m\u001b[0;34m\u001b[0m\u001b[0m\n\u001b[1;32m    639\u001b[0m                     \u001b[0;32mbreak\u001b[0m\u001b[0;34m\u001b[0m\u001b[0m\n",
      "\u001b[0;32m/Users/GaryKao/miniconda3/envs/tutorial/lib/python2.7/site-packages/urllib3/response.pyc\u001b[0m in \u001b[0;36m_update_chunk_length\u001b[0;34m(self)\u001b[0m\n\u001b[1;32m    567\u001b[0m         \u001b[0;32mif\u001b[0m \u001b[0mself\u001b[0m\u001b[0;34m.\u001b[0m\u001b[0mchunk_left\u001b[0m \u001b[0;32mis\u001b[0m \u001b[0;32mnot\u001b[0m \u001b[0mNone\u001b[0m\u001b[0;34m:\u001b[0m\u001b[0;34m\u001b[0m\u001b[0m\n\u001b[1;32m    568\u001b[0m             \u001b[0;32mreturn\u001b[0m\u001b[0;34m\u001b[0m\u001b[0m\n\u001b[0;32m--> 569\u001b[0;31m         \u001b[0mline\u001b[0m \u001b[0;34m=\u001b[0m \u001b[0mself\u001b[0m\u001b[0;34m.\u001b[0m\u001b[0m_fp\u001b[0m\u001b[0;34m.\u001b[0m\u001b[0mfp\u001b[0m\u001b[0;34m.\u001b[0m\u001b[0mreadline\u001b[0m\u001b[0;34m(\u001b[0m\u001b[0;34m)\u001b[0m\u001b[0;34m\u001b[0m\u001b[0m\n\u001b[0m\u001b[1;32m    570\u001b[0m         \u001b[0mline\u001b[0m \u001b[0;34m=\u001b[0m \u001b[0mline\u001b[0m\u001b[0;34m.\u001b[0m\u001b[0msplit\u001b[0m\u001b[0;34m(\u001b[0m\u001b[0;34mb';'\u001b[0m\u001b[0;34m,\u001b[0m \u001b[0;36m1\u001b[0m\u001b[0;34m)\u001b[0m\u001b[0;34m[\u001b[0m\u001b[0;36m0\u001b[0m\u001b[0;34m]\u001b[0m\u001b[0;34m\u001b[0m\u001b[0m\n\u001b[1;32m    571\u001b[0m         \u001b[0;32mtry\u001b[0m\u001b[0;34m:\u001b[0m\u001b[0;34m\u001b[0m\u001b[0m\n",
      "\u001b[0;32m/Users/GaryKao/miniconda3/envs/tutorial/lib/python2.7/socket.pyc\u001b[0m in \u001b[0;36mreadline\u001b[0;34m(self, size)\u001b[0m\n\u001b[1;32m    449\u001b[0m             \u001b[0;32mwhile\u001b[0m \u001b[0mTrue\u001b[0m\u001b[0;34m:\u001b[0m\u001b[0;34m\u001b[0m\u001b[0m\n\u001b[1;32m    450\u001b[0m                 \u001b[0;32mtry\u001b[0m\u001b[0;34m:\u001b[0m\u001b[0;34m\u001b[0m\u001b[0m\n\u001b[0;32m--> 451\u001b[0;31m                     \u001b[0mdata\u001b[0m \u001b[0;34m=\u001b[0m \u001b[0mself\u001b[0m\u001b[0;34m.\u001b[0m\u001b[0m_sock\u001b[0m\u001b[0;34m.\u001b[0m\u001b[0mrecv\u001b[0m\u001b[0;34m(\u001b[0m\u001b[0mself\u001b[0m\u001b[0;34m.\u001b[0m\u001b[0m_rbufsize\u001b[0m\u001b[0;34m)\u001b[0m\u001b[0;34m\u001b[0m\u001b[0m\n\u001b[0m\u001b[1;32m    452\u001b[0m                 \u001b[0;32mexcept\u001b[0m \u001b[0merror\u001b[0m\u001b[0;34m,\u001b[0m \u001b[0me\u001b[0m\u001b[0;34m:\u001b[0m\u001b[0;34m\u001b[0m\u001b[0m\n\u001b[1;32m    453\u001b[0m                     \u001b[0;32mif\u001b[0m \u001b[0me\u001b[0m\u001b[0;34m.\u001b[0m\u001b[0margs\u001b[0m\u001b[0;34m[\u001b[0m\u001b[0;36m0\u001b[0m\u001b[0;34m]\u001b[0m \u001b[0;34m==\u001b[0m \u001b[0mEINTR\u001b[0m\u001b[0;34m:\u001b[0m\u001b[0;34m\u001b[0m\u001b[0m\n",
      "\u001b[0;32m/Users/GaryKao/miniconda3/envs/tutorial/lib/python2.7/site-packages/urllib3/contrib/pyopenssl.pyc\u001b[0m in \u001b[0;36mrecv\u001b[0;34m(self, *args, **kwargs)\u001b[0m\n\u001b[1;32m    262\u001b[0m     \u001b[0;32mdef\u001b[0m \u001b[0mrecv\u001b[0m\u001b[0;34m(\u001b[0m\u001b[0mself\u001b[0m\u001b[0;34m,\u001b[0m \u001b[0;34m*\u001b[0m\u001b[0margs\u001b[0m\u001b[0;34m,\u001b[0m \u001b[0;34m**\u001b[0m\u001b[0mkwargs\u001b[0m\u001b[0;34m)\u001b[0m\u001b[0;34m:\u001b[0m\u001b[0;34m\u001b[0m\u001b[0m\n\u001b[1;32m    263\u001b[0m         \u001b[0;32mtry\u001b[0m\u001b[0;34m:\u001b[0m\u001b[0;34m\u001b[0m\u001b[0m\n\u001b[0;32m--> 264\u001b[0;31m             \u001b[0mdata\u001b[0m \u001b[0;34m=\u001b[0m \u001b[0mself\u001b[0m\u001b[0;34m.\u001b[0m\u001b[0mconnection\u001b[0m\u001b[0;34m.\u001b[0m\u001b[0mrecv\u001b[0m\u001b[0;34m(\u001b[0m\u001b[0;34m*\u001b[0m\u001b[0margs\u001b[0m\u001b[0;34m,\u001b[0m \u001b[0;34m**\u001b[0m\u001b[0mkwargs\u001b[0m\u001b[0;34m)\u001b[0m\u001b[0;34m\u001b[0m\u001b[0m\n\u001b[0m\u001b[1;32m    265\u001b[0m         \u001b[0;32mexcept\u001b[0m \u001b[0mOpenSSL\u001b[0m\u001b[0;34m.\u001b[0m\u001b[0mSSL\u001b[0m\u001b[0;34m.\u001b[0m\u001b[0mSysCallError\u001b[0m \u001b[0;32mas\u001b[0m \u001b[0me\u001b[0m\u001b[0;34m:\u001b[0m\u001b[0;34m\u001b[0m\u001b[0m\n\u001b[1;32m    266\u001b[0m             \u001b[0;32mif\u001b[0m \u001b[0mself\u001b[0m\u001b[0;34m.\u001b[0m\u001b[0msuppress_ragged_eofs\u001b[0m \u001b[0;32mand\u001b[0m \u001b[0me\u001b[0m\u001b[0;34m.\u001b[0m\u001b[0margs\u001b[0m \u001b[0;34m==\u001b[0m \u001b[0;34m(\u001b[0m\u001b[0;34m-\u001b[0m\u001b[0;36m1\u001b[0m\u001b[0;34m,\u001b[0m \u001b[0;34m'Unexpected EOF'\u001b[0m\u001b[0;34m)\u001b[0m\u001b[0;34m:\u001b[0m\u001b[0;34m\u001b[0m\u001b[0m\n",
      "\u001b[0;32m/Users/GaryKao/miniconda3/envs/tutorial/lib/python2.7/site-packages/OpenSSL/SSL.pyc\u001b[0m in \u001b[0;36mrecv\u001b[0;34m(self, bufsiz, flags)\u001b[0m\n\u001b[1;32m   1780\u001b[0m             \u001b[0mresult\u001b[0m \u001b[0;34m=\u001b[0m \u001b[0m_lib\u001b[0m\u001b[0;34m.\u001b[0m\u001b[0mSSL_peek\u001b[0m\u001b[0;34m(\u001b[0m\u001b[0mself\u001b[0m\u001b[0;34m.\u001b[0m\u001b[0m_ssl\u001b[0m\u001b[0;34m,\u001b[0m \u001b[0mbuf\u001b[0m\u001b[0;34m,\u001b[0m \u001b[0mbufsiz\u001b[0m\u001b[0;34m)\u001b[0m\u001b[0;34m\u001b[0m\u001b[0m\n\u001b[1;32m   1781\u001b[0m         \u001b[0;32melse\u001b[0m\u001b[0;34m:\u001b[0m\u001b[0;34m\u001b[0m\u001b[0m\n\u001b[0;32m-> 1782\u001b[0;31m             \u001b[0mresult\u001b[0m \u001b[0;34m=\u001b[0m \u001b[0m_lib\u001b[0m\u001b[0;34m.\u001b[0m\u001b[0mSSL_read\u001b[0m\u001b[0;34m(\u001b[0m\u001b[0mself\u001b[0m\u001b[0;34m.\u001b[0m\u001b[0m_ssl\u001b[0m\u001b[0;34m,\u001b[0m \u001b[0mbuf\u001b[0m\u001b[0;34m,\u001b[0m \u001b[0mbufsiz\u001b[0m\u001b[0;34m)\u001b[0m\u001b[0;34m\u001b[0m\u001b[0m\n\u001b[0m\u001b[1;32m   1783\u001b[0m         \u001b[0mself\u001b[0m\u001b[0;34m.\u001b[0m\u001b[0m_raise_ssl_error\u001b[0m\u001b[0;34m(\u001b[0m\u001b[0mself\u001b[0m\u001b[0;34m.\u001b[0m\u001b[0m_ssl\u001b[0m\u001b[0;34m,\u001b[0m \u001b[0mresult\u001b[0m\u001b[0;34m)\u001b[0m\u001b[0;34m\u001b[0m\u001b[0m\n\u001b[1;32m   1784\u001b[0m         \u001b[0;32mreturn\u001b[0m \u001b[0m_ffi\u001b[0m\u001b[0;34m.\u001b[0m\u001b[0mbuffer\u001b[0m\u001b[0;34m(\u001b[0m\u001b[0mbuf\u001b[0m\u001b[0;34m,\u001b[0m \u001b[0mresult\u001b[0m\u001b[0;34m)\u001b[0m\u001b[0;34m[\u001b[0m\u001b[0;34m:\u001b[0m\u001b[0;34m]\u001b[0m\u001b[0;34m\u001b[0m\u001b[0m\n",
      "\u001b[0;31mKeyboardInterrupt\u001b[0m: "
     ]
    }
   ],
   "source": [
    "%%time\n",
    "temp={}\n",
    "for i in date_split1:\n",
    "    get_date(i, temp, imdb_date)"
   ]
  },
  {
   "cell_type": "code",
   "execution_count": 301,
   "metadata": {
    "collapsed": true
   },
   "outputs": [],
   "source": [
    "with open('imdb_date.json', 'w') as f:\n",
    "    json.dump(imdb_date, f)"
   ]
  },
  {
   "cell_type": "code",
   "execution_count": 280,
   "metadata": {
    "collapsed": false
   },
   "outputs": [],
   "source": [
    "df['date'] = df.movie_imdb_link.map(imdb_date)"
   ]
  },
  {
   "cell_type": "code",
   "execution_count": 292,
   "metadata": {
    "collapsed": false
   },
   "outputs": [],
   "source": [
    "df['day'] = df.date.str[0]\n",
    "df['month'] = df.date.str[1]"
   ]
  },
  {
   "cell_type": "code",
   "execution_count": 297,
   "metadata": {
    "collapsed": false
   },
   "outputs": [
    {
     "data": {
      "text/plain": [
       "657"
      ]
     },
     "execution_count": 297,
     "metadata": {},
     "output_type": "execute_result"
    }
   ],
   "source": [
    "# df = df.drop(['column_name'], axis=1) --> remove column\n",
    "len(df[df.date.isnull()])"
   ]
  },
  {
   "cell_type": "code",
   "execution_count": 298,
   "metadata": {
    "collapsed": true
   },
   "outputs": [],
   "source": [
    "# remove all rows if date, or day, month is null\n",
    "df = df.dropna(subset=['total_gross', 'day', 'month'])"
   ]
  },
  {
   "cell_type": "code",
   "execution_count": 320,
   "metadata": {
    "collapsed": true
   },
   "outputs": [
    {
     "name": "stdout",
     "output_type": "stream",
     "text": [
      "<class 'pandas.core.frame.DataFrame'>\n",
      "Int64Index: 1615 entries, 0 to 5012\n",
      "Data columns (total 32 columns):\n",
      "color                        1615 non-null object\n",
      "director_name                1615 non-null object\n",
      "num_critic_for_reviews       1615 non-null float64\n",
      "duration                     1615 non-null float64\n",
      "director_facebook_likes      1615 non-null float64\n",
      "actor_3_facebook_likes       1614 non-null float64\n",
      "actor_2_name                 1615 non-null object\n",
      "actor_1_facebook_likes       1615 non-null float64\n",
      "gross                        1615 non-null float64\n",
      "genres                       1615 non-null object\n",
      "actor_1_name                 1615 non-null object\n",
      "movie_title                  1615 non-null object\n",
      "num_voted_users              1615 non-null int64\n",
      "cast_total_facebook_likes    1615 non-null int64\n",
      "actor_3_name                 1614 non-null object\n",
      "facenumber_in_poster         1612 non-null float64\n",
      "plot_keywords                1614 non-null object\n",
      "movie_imdb_link              1615 non-null object\n",
      "num_user_for_reviews         1615 non-null float64\n",
      "language                     1615 non-null object\n",
      "country                      1615 non-null object\n",
      "content_rating               1611 non-null object\n",
      "budget                       1615 non-null float64\n",
      "title_year                   1615 non-null float64\n",
      "actor_2_facebook_likes       1615 non-null float64\n",
      "imdb_score                   1615 non-null float64\n",
      "aspect_ratio                 1614 non-null float64\n",
      "movie_facebook_likes         1615 non-null int64\n",
      "total_gross                  1615 non-null float64\n",
      "date                         1615 non-null object\n",
      "day                          1615 non-null float64\n",
      "month                        1615 non-null float64\n",
      "dtypes: float64(16), int64(3), object(13)\n",
      "memory usage: 416.4+ KB\n"
     ]
    }
   ],
   "source": [
    "# 1615 rows left\n",
    "df.info()"
   ]
  },
  {
   "cell_type": "code",
   "execution_count": 300,
   "metadata": {
    "collapsed": true
   },
   "outputs": [],
   "source": [
    "df.to_csv('df_totalgross_date.csv')"
   ]
  },
  {
   "cell_type": "markdown",
   "metadata": {
    "collapsed": true
   },
   "source": [
    "## Month"
   ]
  },
  {
   "cell_type": "code",
   "execution_count": 66,
   "metadata": {
    "collapsed": false
   },
   "outputs": [
    {
     "data": {
      "text/plain": [
       "4099"
      ]
     },
     "execution_count": 66,
     "metadata": {},
     "output_type": "execute_result"
    }
   ],
   "source": [
    "# get a full list(4099) of imdb links from wrangle.csv file\n",
    "wrangle = pd.read_csv('wrangle.csv')\n",
    "df_linklist = list(wrangle.movie_imdb_link)\n",
    "len(df_linklist)"
   ]
  },
  {
   "cell_type": "code",
   "execution_count": null,
   "metadata": {
    "collapsed": true
   },
   "outputs": [],
   "source": [
    "# 1st scraping codes."
   ]
  },
  {
   "cell_type": "code",
   "execution_count": 71,
   "metadata": {
    "collapsed": false
   },
   "outputs": [
    {
     "name": "stdout",
     "output_type": "stream",
     "text": [
      "CPU times: user 2.39 s, sys: 342 ms, total: 2.73 s\n",
      "Wall time: 23.6 s\n"
     ]
    }
   ],
   "source": [
    "%%time\n",
    "imdb_month = {}\n",
    "for link in df_linklist[0:10]:\n",
    "    r = requests.get(link)\n",
    "    text = r.text\n",
    "    soup = BeautifulSoup(text)\n",
    "    month_location = soup.find(name='h4', attrs={'class':'inline'}, string='Release Date:')\n",
    "    if str(type(month_location)) == \"<class 'bs4.element.Tag'>\":\n",
    "        month = month_location.find_previous()\n",
    "        pattern = re.compile('\\d +(.*) +\\d\\d\\d\\d')\n",
    "        match = re.findall(pattern, month.text.encode('utf-8'))\n",
    "        imdb_month[link] = match\n",
    "    else:\n",
    "        imdb_month[link] = np.NaN"
   ]
  },
  {
   "cell_type": "code",
   "execution_count": 72,
   "metadata": {
    "collapsed": false
   },
   "outputs": [
    {
     "data": {
      "text/plain": [
       "{'http://www.imdb.com/title/tt0398286/?ref_=fn_tt_tt_1': ['November'],\n",
       " 'http://www.imdb.com/title/tt0401729/?ref_=fn_tt_tt_1': ['March'],\n",
       " 'http://www.imdb.com/title/tt0413300/?ref_=fn_tt_tt_1': ['May'],\n",
       " 'http://www.imdb.com/title/tt0417741/?ref_=fn_tt_tt_1': ['July'],\n",
       " 'http://www.imdb.com/title/tt0449088/?ref_=fn_tt_tt_1': ['May'],\n",
       " 'http://www.imdb.com/title/tt0499549/?ref_=fn_tt_tt_1': ['December'],\n",
       " 'http://www.imdb.com/title/tt1345836/?ref_=fn_tt_tt_1': ['July'],\n",
       " 'http://www.imdb.com/title/tt2379713/?ref_=fn_tt_tt_1': ['November'],\n",
       " 'http://www.imdb.com/title/tt2395427/?ref_=fn_tt_tt_1': ['May'],\n",
       " 'http://www.imdb.com/title/tt2975590/?ref_=fn_tt_tt_1': ['March']}"
      ]
     },
     "execution_count": 72,
     "metadata": {},
     "output_type": "execute_result"
    }
   ],
   "source": [
    "imdb_month"
   ]
  },
  {
   "cell_type": "code",
   "execution_count": 73,
   "metadata": {
    "collapsed": false
   },
   "outputs": [
    {
     "ename": "SyntaxError",
     "evalue": "invalid syntax (<ipython-input-73-ae0942a69758>, line 16)",
     "output_type": "error",
     "traceback": [
      "\u001b[0;36m  File \u001b[0;32m\"<ipython-input-73-ae0942a69758>\"\u001b[0;36m, line \u001b[0;32m16\u001b[0m\n\u001b[0;31m    elif:\u001b[0m\n\u001b[0m        ^\u001b[0m\n\u001b[0;31mSyntaxError\u001b[0m\u001b[0;31m:\u001b[0m invalid syntax\n"
     ]
    }
   ],
   "source": [
    "# 2nd scraping function based on 1st one\n",
    "\n",
    "def get_month(linklist, destination, original_dic):\n",
    "    for link in linklist:\n",
    "        r = requests.get(link)\n",
    "        text = r.text\n",
    "        soup = BeautifulSoup(text)\n",
    "        month_location = soup.find(name='h4', attrs={'class':'inline'}, string='Release Date:')\n",
    "        if str(type(month_location)) == \"<class 'bs4.element.Tag'>\":\n",
    "            month = month_location.find_previous()\n",
    "            pattern = re.compile('\\d +(.*) +\\d\\d\\d\\d')\n",
    "            match = re.findall(pattern, month.text.encode('utf-8'))\n",
    "            if str(type(match)) == \"<type '_sre.SRE_Match'>\":\n",
    "                destination[link] = match\n",
    "                original_dic.update(destination)\n",
    "            elif:\n",
    "                pattern_backup = re.compile('\\W +(.*) +\\d\\d\\d\\d')\n",
    "                match = re.findall(pattern_backup, month.text.encode('utf-8'))\n",
    "                destination[link] = match\n",
    "                original_dic.update(destination)\n",
    "            else:\n",
    "                destination[link] = np.NaN\n",
    "        else:\n",
    "            destination[link] = np.NaN\n",
    "            "
   ]
  },
  {
   "cell_type": "markdown",
   "metadata": {},
   "source": [
    "### Split links to different chunks for scraping function"
   ]
  },
  {
   "cell_type": "code",
   "execution_count": 39,
   "metadata": {
    "collapsed": false
   },
   "outputs": [],
   "source": [
    "def chunks(l, n):\n",
    "    \"\"\"Yield successive n-sized chunks from l.\"\"\"\n",
    "    for i in xrange(0, len(l), n):\n",
    "        yield l[i:i + n]"
   ]
  },
  {
   "cell_type": "code",
   "execution_count": 40,
   "metadata": {
    "collapsed": true
   },
   "outputs": [],
   "source": [
    "date_split1 = list(chunks(df_linklist[11:2000], 300))\n",
    "date_split2 = list(chunks(df_linklist[2001:], 300))"
   ]
  },
  {
   "cell_type": "code",
   "execution_count": null,
   "metadata": {
    "collapsed": true
   },
   "outputs": [],
   "source": [
    "### DON\"T RUN THIS. I already save it to JSON file. If you need the list, turn the Markdown to the Code and run it.\n",
    "\n",
    "%%time\n",
    "temp={}\n",
    "for i in date_split1:\n",
    "    get_month(i, temp, imdb_month)"
   ]
  },
  {
   "cell_type": "markdown",
   "metadata": {
    "collapsed": false
   },
   "source": [
    "### save imbd_month to a json file\n",
    "\n",
    "with open('imdb_month.json', 'w') as f:\n",
    "    json.dump(imdb_month, f)"
   ]
  },
  {
   "cell_type": "code",
   "execution_count": 62,
   "metadata": {
    "collapsed": false
   },
   "outputs": [
    {
     "data": {
      "text/plain": [
       "3657"
      ]
     },
     "execution_count": 62,
     "metadata": {},
     "output_type": "execute_result"
    }
   ],
   "source": [
    "with open('imdb_month.json') as f:\n",
    "    imdb_month = json.load(f)\n",
    "\n",
    "len(imdb_month)\n"
   ]
  },
  {
   "cell_type": "markdown",
   "metadata": {},
   "source": [
    "# ---------------------------------------------------------------------"
   ]
  },
  {
   "cell_type": "code",
   "execution_count": 89,
   "metadata": {
    "collapsed": false
   },
   "outputs": [
    {
     "name": "stdout",
     "output_type": "stream",
     "text": [
      "CPU times: user 2.57 s, sys: 236 ms, total: 2.8 s\n",
      "Wall time: 18.9 s\n"
     ]
    }
   ],
   "source": [
    "%%time\n",
    "imdb_month = {}\n",
    "for link in df_linklist[0:10]:\n",
    "    r = requests.get(link)\n",
    "    text = r.text\n",
    "    soup = BeautifulSoup(text)\n",
    "    month_location = soup.find(name='h4', attrs={'class':'inline'}, string='Release Date:')\n",
    "    if str(type(month_location)) == \"<class 'bs4.element.Tag'>\":\n",
    "        month = month_location.nextSibling\n",
    "        imdb_month[link] = month\n",
    "    else:\n",
    "        imdb_month[link] = np.NaN"
   ]
  },
  {
   "cell_type": "code",
   "execution_count": 90,
   "metadata": {
    "collapsed": false
   },
   "outputs": [
    {
     "data": {
      "text/plain": [
       "{'http://www.imdb.com/title/tt0398286/?ref_=fn_tt_tt_1': u' 24 November 2010 (USA)\\n    ',\n",
       " 'http://www.imdb.com/title/tt0401729/?ref_=fn_tt_tt_1': u' 9 March 2012 (USA)\\n    ',\n",
       " 'http://www.imdb.com/title/tt0413300/?ref_=fn_tt_tt_1': u' 4 May 2007 (USA)\\n    ',\n",
       " 'http://www.imdb.com/title/tt0417741/?ref_=fn_tt_tt_1': u' 15 July 2009 (USA)\\n    ',\n",
       " 'http://www.imdb.com/title/tt0449088/?ref_=fn_tt_tt_1': u' 25 May 2007 (USA)\\n    ',\n",
       " 'http://www.imdb.com/title/tt0499549/?ref_=fn_tt_tt_1': u' 18 December 2009 (USA)\\n    ',\n",
       " 'http://www.imdb.com/title/tt1345836/?ref_=fn_tt_tt_1': u' 20 July 2012 (USA)\\n    ',\n",
       " 'http://www.imdb.com/title/tt2379713/?ref_=fn_tt_tt_1': u' 6 November 2015 (USA)\\n    ',\n",
       " 'http://www.imdb.com/title/tt2395427/?ref_=fn_tt_tt_1': u' 1 May 2015 (USA)\\n    ',\n",
       " 'http://www.imdb.com/title/tt2975590/?ref_=fn_tt_tt_1': u' 25 March 2016 (USA)\\n    '}"
      ]
     },
     "execution_count": 90,
     "metadata": {},
     "output_type": "execute_result"
    }
   ],
   "source": [
    "imdb_month"
   ]
  },
  {
   "cell_type": "code",
   "execution_count": 95,
   "metadata": {
    "collapsed": true
   },
   "outputs": [],
   "source": [
    "def get_released_date(linklist, destination):\n",
    "    for link in linklist:\n",
    "        r = requests.get(link)\n",
    "        text = r.text\n",
    "        soup = BeautifulSoup(text)\n",
    "        month_location = soup.find(name='h4', attrs={'class':'inline'}, string='Release Date:')\n",
    "        if str(type(month_location)) == \"<class 'bs4.element.Tag'>\":\n",
    "            month = month_location.nextSibling\n",
    "            destination[link] = month\n",
    "        else:\n",
    "            destination[link] = np.NaN"
   ]
  },
  {
   "cell_type": "code",
   "execution_count": 92,
   "metadata": {
    "collapsed": true
   },
   "outputs": [],
   "source": [
    "def chunks(l, n):\n",
    "    \"\"\"Yield successive n-sized chunks from l.\"\"\"\n",
    "    for i in xrange(0, len(l), n):\n",
    "        yield l[i:i + n]"
   ]
  },
  {
   "cell_type": "code",
   "execution_count": 94,
   "metadata": {
    "collapsed": true
   },
   "outputs": [],
   "source": [
    "date_split1 = list(chunks(df_linklist[0:2000], 300))\n",
    "date_split2 = list(chunks(df_linklist[2001:], 300))"
   ]
  },
  {
   "cell_type": "code",
   "execution_count": 100,
   "metadata": {
    "collapsed": false
   },
   "outputs": [
    {
     "name": "stdout",
     "output_type": "stream",
     "text": [
      "CPU times: user 8min 17s, sys: 5min 15s, total: 13min 33s\n",
      "Wall time: 1h 15min 39s\n"
     ]
    }
   ],
   "source": [
    "%%time\n",
    "imdb_month={}\n",
    "for i in date_split1:\n",
    "    get_released_date(i, imdb_month)"
   ]
  },
  {
   "cell_type": "code",
   "execution_count": 103,
   "metadata": {
    "collapsed": false
   },
   "outputs": [
    {
     "data": {
      "text/plain": [
       "1989"
      ]
     },
     "execution_count": 103,
     "metadata": {},
     "output_type": "execute_result"
    }
   ],
   "source": [
    "len(imdb_month)"
   ]
  },
  {
   "cell_type": "code",
   "execution_count": null,
   "metadata": {
    "collapsed": false
   },
   "outputs": [],
   "source": [
    "%%time\n",
    "imdb_month_2={}\n",
    "for i in date_split2:\n",
    "    get_released_date(i, imdb_month_2)"
   ]
  },
  {
   "cell_type": "code",
   "execution_count": 112,
   "metadata": {
    "collapsed": true
   },
   "outputs": [
    {
     "data": {
      "text/plain": [
       "{'http://www.imdb.com/title/tt0095889/?ref_=fn_tt_tt_1': u' 10 June 1988 (USA)\\n    ',\n",
       " 'http://www.imdb.com/title/tt0165831/?ref_=fn_tt_tt_1': u' 12 May 2000 (USA)\\n    ',\n",
       " 'http://www.imdb.com/title/tt0114825/?ref_=fn_tt_tt_1': u' 27 October 1995 (USA)\\n    ',\n",
       " 'http://www.imdb.com/title/tt0096320/?ref_=fn_tt_tt_1': u' 9 December 1988 (USA)\\n    ',\n",
       " 'http://www.imdb.com/title/tt0120772/?ref_=fn_tt_tt_1': u' 17 April 1998 (USA)\\n    ',\n",
       " 'http://www.imdb.com/title/tt0926129/?ref_=fn_tt_tt_1': u' 11 April 2008 (USA)\\n    ',\n",
       " 'http://www.imdb.com/title/tt0375679/?ref_=fn_tt_tt_1': u' 6 May 2005 (USA)\\n    ',\n",
       " 'http://www.imdb.com/title/tt1596346/?ref_=fn_tt_tt_1': u' 8 April 2011 (USA)\\n    ',\n",
       " 'http://www.imdb.com/title/tt0104940/?ref_=fn_tt_tt_1': u' 11 December 1992 (USA)\\n    ',\n",
       " 'http://www.imdb.com/title/tt0218619/?ref_=fn_tt_tt_1': u' 7 September 2001 (USA)\\n    ',\n",
       " 'http://www.imdb.com/title/tt0404203/?ref_=fn_tt_tt_1': u' 9 February 2007 (USA)\\n    ',\n",
       " 'http://www.imdb.com/title/tt1343092/?ref_=fn_tt_tt_1': u' 10 May 2013 (USA)\\n    ',\n",
       " 'http://www.imdb.com/title/tt0416185/?ref_=fn_tt_tt_1': u' 24 August 2007 (USA)\\n    ',\n",
       " 'http://www.imdb.com/title/tt1220198/?ref_=fn_tt_tt_1': u' 6 November 2009 (USA)\\n    ',\n",
       " 'http://www.imdb.com/title/tt0106611/?ref_=fn_tt_tt_1': u' 1 October 1993 (USA)\\n    ',\n",
       " 'http://www.imdb.com/title/tt0289043/?ref_=fn_tt_tt_1': u' 27 June 2003 (USA)\\n    ',\n",
       " 'http://www.imdb.com/title/tt0406650/?ref_=fn_tt_tt_1': u' 5 October 2006 (Germany)\\n    ',\n",
       " 'http://www.imdb.com/title/tt1860213/?ref_=fn_tt_tt_1': u' 22 January 2016 (USA)\\n    ',\n",
       " 'http://www.imdb.com/title/tt0805564/?ref_=fn_tt_tt_1': u' 2 November 2007 (USA)\\n    ',\n",
       " 'http://www.imdb.com/title/tt0354595/?ref_=fn_tt_tt_1': u' 22 April 2005 (USA)\\n    ',\n",
       " 'http://www.imdb.com/title/tt0479884/?ref_=fn_tt_tt_1': u' 1 September 2006 (USA)\\n    ',\n",
       " 'http://www.imdb.com/title/tt0383694/?ref_=fn_tt_tt_1': u' 4 February 2005 (USA)\\n    ',\n",
       " 'http://www.imdb.com/title/tt0129332/?ref_=fn_tt_tt_1': u' 19 March 1999 (USA)\\n    ',\n",
       " 'http://www.imdb.com/title/tt0195778/?ref_=fn_tt_tt_1': u' 24 March 2000 (USA)\\n    ',\n",
       " 'http://www.imdb.com/title/tt0395169/?ref_=fn_tt_tt_1': u' 4 February 2005 (USA)\\n    ',\n",
       " 'http://www.imdb.com/title/tt0367082/?ref_=fn_tt_tt_1': u' 10 February 2005 (Hungary)\\n    ',\n",
       " 'http://www.imdb.com/title/tt0077296/?ref_=fn_tt_tt_1': u' 2 November 1978 (USA)\\n    ',\n",
       " 'http://www.imdb.com/title/tt0156323/?ref_=fn_tt_tt_1': u' 12 May 2000 (USA)\\n    ',\n",
       " 'http://www.imdb.com/title/tt3850590/?ref_=fn_tt_tt_1': u' 4 December 2015 (USA)\\n    ',\n",
       " 'http://www.imdb.com/title/tt0096054/?ref_=fn_tt_tt_1': u' 12 February 1988 (USA)\\n    ',\n",
       " 'http://www.imdb.com/title/tt0301199/?ref_=fn_tt_tt_1': u' 5 September 2003 (USA)\\n    ',\n",
       " 'http://www.imdb.com/title/tt0275022/?ref_=fn_tt_tt_1': u' 15 February 2002 (USA)\\n    ',\n",
       " 'http://www.imdb.com/title/tt0270846/?ref_=fn_tt_tt_1': u' 27 August 2004 (USA)\\n    ',\n",
       " 'http://www.imdb.com/title/tt0107943/?ref_=fn_tt_tt_1': u' 19 November 1993 (USA)\\n    ',\n",
       " 'http://www.imdb.com/title/tt0466342/?ref_=fn_tt_tt_1': u' 17 February 2006 (USA)\\n    ',\n",
       " 'http://www.imdb.com/title/tt0077651/?ref_=fn_tt_tt_1': u' 27 October 1978 (USA)\\n    ',\n",
       " 'http://www.imdb.com/title/tt0293815/?ref_=fn_tt_tt_1': u' 22 November 2002 (USA)\\n    ',\n",
       " 'http://www.imdb.com/title/tt0479500/?ref_=fn_tt_tt_1': u' 15 June 2007 (USA)\\n    ',\n",
       " 'http://www.imdb.com/title/tt0115641/?ref_=fn_tt_tt_1': u' 20 December 1996 (USA)\\n    ',\n",
       " 'http://www.imdb.com/title/tt0081071/?ref_=fn_tt_tt_1': u' 16 May 1980 (USA)\\n    ',\n",
       " 'http://www.imdb.com/title/tt0083722/?ref_=fn_tt_tt_1': u' 2 April 1982 (USA)\\n    ',\n",
       " 'http://www.imdb.com/title/tt0277371/?ref_=fn_tt_tt_1': u' 14 December 2001 (USA)\\n    ',\n",
       " 'http://www.imdb.com/title/tt0088170/?ref_=fn_tt_tt_1': u' 1 June 1984 (USA)\\n    ',\n",
       " 'http://www.imdb.com/title/tt1294226/?ref_=fn_tt_tt_1': u' 31 March 2010 (USA)\\n    ',\n",
       " 'http://www.imdb.com/title/tt0114609/?ref_=fn_tt_tt_1': u' 24 May 1995 (USA)\\n    ',\n",
       " 'http://www.imdb.com/title/tt0164108/?ref_=fn_tt_tt_1': u' 27 August 1999 (USA)\\n    ',\n",
       " 'http://www.imdb.com/title/tt0118715/?ref_=fn_tt_tt_1': u' 6 March 1998 (USA)\\n    ',\n",
       " 'http://www.imdb.com/title/tt0115963/?ref_=fn_tt_tt_1': u' 3 May 1996 (USA)\\n    ',\n",
       " 'http://www.imdb.com/title/tt0085868/?ref_=fn_tt_tt_1': u' 22 April 1983 (USA)\\n    ',\n",
       " 'http://www.imdb.com/title/tt0404032/?ref_=fn_tt_tt_1': u' 9 September 2005 (USA)\\n    ',\n",
       " 'http://www.imdb.com/title/tt0455407/?ref_=fn_tt_tt_1': u' 26 February 2010 (USA)\\n    ',\n",
       " 'http://www.imdb.com/title/tt0416320/?ref_=fn_tt_tt_1': u' 20 January 2006 (USA)\\n    ',\n",
       " 'http://www.imdb.com/title/tt0804461/?ref_=fn_tt_tt_1': u' 31 August 2007 (USA)\\n    ',\n",
       " 'http://www.imdb.com/title/tt2017038/?ref_=fn_tt_tt_1': u' 7 November 2013 (Greece)\\n    ',\n",
       " 'http://www.imdb.com/title/tt0881891/?ref_=fn_tt_tt_1': u' 4 September 2009 (USA)\\n    ',\n",
       " 'http://www.imdb.com/title/tt1371150/?ref_=fn_tt_tt_1': u' 19 September 2014 (USA)\\n    ',\n",
       " 'http://www.imdb.com/title/tt2004420/?ref_=fn_tt_tt_1': u' 9 May 2014 (USA)\\n    ',\n",
       " 'http://www.imdb.com/title/tt1027862/?ref_=fn_tt_tt_1': u' 1 August 2008 (USA)\\n    ',\n",
       " 'http://www.imdb.com/title/tt1174730/?ref_=fn_tt_tt_1': u' 30 April 2010 (USA)\\n    ',\n",
       " 'http://www.imdb.com/title/tt0110912/?ref_=fn_tt_tt_1': u' 14 October 1994 (USA)\\n    ',\n",
       " 'http://www.imdb.com/title/tt0120857/?ref_=fn_tt_tt_1': u' 14 May 1999 (USA)\\n    ',\n",
       " 'http://www.imdb.com/title/tt1366365/?ref_=fn_tt_tt_1': u' 7 September 2012 (USA)\\n    ',\n",
       " 'http://www.imdb.com/title/tt0146336/?ref_=fn_tt_tt_1': u' 25 September 1998 (USA)\\n    ',\n",
       " 'http://www.imdb.com/title/tt0105459/?ref_=fn_tt_tt_1': u' 1 May 1992 (USA)\\n    ',\n",
       " 'http://www.imdb.com/title/tt0160862/?ref_=fn_tt_tt_1': u' 29 January 1999 (USA)\\n    ',\n",
       " 'http://www.imdb.com/title/tt1817273/?ref_=fn_tt_tt_1': u' 19 April 2013 (USA)\\n    ',\n",
       " 'http://www.imdb.com/title/tt0280653/?ref_=fn_tt_tt_1': u' 27 February 2002 (France)\\n    ',\n",
       " 'http://www.imdb.com/title/tt0089907/?ref_=fn_tt_tt_1': u' 16 August 1985 (USA)\\n    ',\n",
       " 'http://www.imdb.com/title/tt2084970/?ref_=fn_tt_tt_1': u' 25 December 2014 (USA)\\n    ',\n",
       " 'http://www.imdb.com/title/tt0365957/?ref_=fn_tt_tt_1': u' 30 January 2004 (USA)\\n    ',\n",
       " 'http://www.imdb.com/title/tt0070328/?ref_=fn_tt_tt_1': u' 27 June 1973 (USA)\\n    ',\n",
       " 'http://www.imdb.com/title/tt0310778/?ref_=fn_tt_tt_1': u' 21 May 2004 (USA)\\n    ',\n",
       " 'http://www.imdb.com/title/tt0119217/?ref_=fn_tt_tt_1': u' 9 January 1998 (USA)\\n    ',\n",
       " 'http://www.imdb.com/title/tt0120094/?ref_=fn_tt_tt_1': u' 21 March 1997 (USA)\\n    ',\n",
       " 'http://www.imdb.com/title/tt0082971/?ref_=fn_tt_tt_1': u' 12 June 1981 (USA)\\n    ',\n",
       " 'http://www.imdb.com/title/tt0388795/?ref_=fn_tt_tt_1': u' 13 January 2006 (USA)\\n    ',\n",
       " 'http://www.imdb.com/title/tt1931533/?ref_=fn_tt_tt_1': u' 12 October 2012 (USA)\\n    ',\n",
       " 'http://www.imdb.com/title/tt0116367/?ref_=fn_tt_tt_1': u' 19 January 1996 (USA)\\n    ',\n",
       " 'http://www.imdb.com/title/tt0218839/?ref_=fn_tt_tt_1': u' 20 October 2000 (USA)\\n    ',\n",
       " 'http://www.imdb.com/title/tt0089348/?ref_=fn_tt_tt_1': u' 27 September 1985 (USA)\\n    ',\n",
       " 'http://www.imdb.com/title/tt0361715/?ref_=fn_tt_tt_1': u' 27 May 2005 (UK)\\n    ',\n",
       " 'http://www.imdb.com/title/tt1477837/?ref_=fn_tt_tt_1': u' 18 March 2011 (USA)\\n    ',\n",
       " 'http://www.imdb.com/title/tt1655442/?ref_=fn_tt_tt_1': u' 20 January 2012 (USA)\\n    ',\n",
       " 'http://www.imdb.com/title/tt0780511/?ref_=fn_tt_tt_1': u' 4 December 2009 (USA)\\n    ',\n",
       " 'http://www.imdb.com/title/tt1748179/?ref_=fn_tt_tt_1': u' 2 March 2012 (Spain)\\n    ',\n",
       " 'http://www.imdb.com/title/tt0795461/?ref_=fn_tt_tt_1': u' 12 April 2013 (USA)\\n    ',\n",
       " 'http://www.imdb.com/title/tt0066769/?ref_=fn_tt_tt_1': u' 12 March 1971 (USA)\\n    ',\n",
       " 'http://www.imdb.com/title/tt0120586/?ref_=fn_tt_tt_1': u' 20 November 1998 (USA)\\n    ',\n",
       " 'http://www.imdb.com/title/tt1017451/?ref_=fn_tt_tt_1': u' 19 March 2010 (USA)\\n    ',\n",
       " 'http://www.imdb.com/title/tt1235189/?ref_=fn_tt_tt_1': u' 18 June 2010 (UK)\\n    ',\n",
       " 'http://www.imdb.com/title/tt0192071/?ref_=fn_tt_tt_1': u' 9 March 2001 (USA)\\n    ',\n",
       " 'http://www.imdb.com/title/tt0122541/?ref_=fn_tt_tt_1': u' 30 June 1999 (USA)\\n    ',\n",
       " 'http://www.imdb.com/title/tt0097474/?ref_=fn_tt_tt_1': u' 13 October 1989 (USA)\\n    ',\n",
       " 'http://www.imdb.com/title/tt0094764/?ref_=fn_tt_tt_1': u' 23 February 1990 (USA)\\n    ',\n",
       " 'http://www.imdb.com/title/tt0473700/?ref_=fn_tt_tt_1': u' 24 August 2007 (USA)\\n    ',\n",
       " 'http://www.imdb.com/title/tt0112722/?ref_=fn_tt_tt_1': u' 27 October 1995 (USA)\\n    ',\n",
       " 'http://www.imdb.com/title/tt0107840/?ref_=fn_tt_tt_1': u' 23 July 1993 (USA)\\n    ',\n",
       " 'http://www.imdb.com/title/tt0076451/?ref_=fn_tt_tt_1': u' 21 June 1977 (USA)\\n    ',\n",
       " 'http://www.imdb.com/title/tt0423977/?ref_=fn_tt_tt_1': u' 22 February 2008 (USA)\\n    ',\n",
       " 'http://www.imdb.com/title/tt1650043/?ref_=fn_tt_tt_1': u' 25 March 2011 (USA)\\n    ',\n",
       " 'http://www.imdb.com/title/tt1869716/?ref_=fn_tt_tt_1': u' 28 June 2013 (UK)\\n    ',\n",
       " 'http://www.imdb.com/title/tt0229260/?ref_=fn_tt_tt_1': u' 27 October 2000 (USA)\\n    ',\n",
       " 'http://www.imdb.com/title/tt2555736/?ref_=fn_tt_tt_1': u' 6 March 2015 (USA)\\n    ',\n",
       " 'http://www.imdb.com/title/tt0271259/?ref_=fn_tt_tt_1': u' 18 October 2002 (USA)\\n    ',\n",
       " 'http://www.imdb.com/title/tt1951181/?ref_=fn_tt_tt_1': u' 23 May 2014 (USA)\\n    ',\n",
       " 'http://www.imdb.com/title/tt2752758/?ref_=fn_tt_tt_1': u' 17 January 2014 (USA)\\n    ',\n",
       " 'http://www.imdb.com/title/tt1196141/?ref_=fn_tt_tt_1': u' 19 March 2010 (USA)\\n    ',\n",
       " 'http://www.imdb.com/title/tt1142433/?ref_=fn_tt_tt_1': u' 21 August 2009 (USA)\\n    ',\n",
       " 'http://www.imdb.com/title/tt1706593/?ref_=fn_tt_tt_1': u' 3 February 2012 (USA)\\n    ',\n",
       " 'http://www.imdb.com/title/tt0844286/?ref_=fn_tt_tt_1': u' 19 June 2009 (USA)\\n    ',\n",
       " 'http://www.imdb.com/title/tt0059800/?ref_=fn_tt_tt_1': u' 22 December 1965 (USA)\\n    ',\n",
       " 'http://www.imdb.com/title/tt1132626/?ref_=fn_tt_tt_1': u' 24 October 2008 (USA)\\n    ',\n",
       " 'http://www.imdb.com/title/tt0479968/?ref_=fn_tt_tt_1': u' 4 January 2008 (USA)\\n    ',\n",
       " 'http://www.imdb.com/title/tt0381061/?ref_=fn_tt_tt_1': u' 17 November 2006 (USA)\\n    ',\n",
       " 'http://www.imdb.com/title/tt1124052/?ref_=fn_tt_tt_1': u' 22 April 2009 (China)\\n    ',\n",
       " 'http://www.imdb.com/title/tt0076009/?ref_=fn_tt_tt_1': u' 17 June 1977 (USA)\\n    ',\n",
       " 'http://www.imdb.com/title/tt0083113/?ref_=fn_tt_tt_1': u' 11 February 1981 (USA)\\n    ',\n",
       " 'http://www.imdb.com/title/tt0430770/?ref_=fn_tt_tt_1': u' 12 September 2008 (USA)\\n    ',\n",
       " 'http://www.imdb.com/title/tt0432402/?ref_=fn_tt_tt_1': u' 16 February 2007 (USA)\\n    ',\n",
       " 'http://www.imdb.com/title/tt0113749/?ref_=fn_tt_tt_1': u' 20 October 1995 (USA)\\n    ',\n",
       " 'http://www.imdb.com/title/tt0074812/?ref_=fn_tt_tt_1': u' 23 June 1976 (USA)\\n    ',\n",
       " 'http://www.imdb.com/title/tt0298744/?ref_=fn_tt_tt_1': u' 1 November 2002 (USA)\\n    ',\n",
       " 'http://www.imdb.com/title/tt0054215/?ref_=fn_tt_tt_1': u' 8 September 1960 (USA)\\n    ',\n",
       " 'http://www.imdb.com/title/tt1486193/?ref_=fn_tt_tt_1': u' 6 June 2011 (Georgia)\\n    ',\n",
       " 'http://www.imdb.com/title/tt0433386/?ref_=fn_tt_tt_1': u' 13 October 2006 (USA)\\n    ',\n",
       " 'http://www.imdb.com/title/tt1640484/?ref_=fn_tt_tt_1': u' 6 May 2011 (USA)\\n    ',\n",
       " 'http://www.imdb.com/title/tt0311289/?ref_=fn_tt_tt_1': u' 18 April 2003 (USA)\\n    ',\n",
       " 'http://www.imdb.com/title/tt0118836/?ref_=fn_tt_tt_1': u' 18 September 1998 (Singapore)\\n    ',\n",
       " 'http://www.imdb.com/title/tt0204175/?ref_=fn_tt_tt_1': u' 16 June 2000 (USA)\\n    ',\n",
       " 'http://www.imdb.com/title/tt3622592/?ref_=fn_tt_tt_1': u' 24 July 2015 (USA)\\n    ',\n",
       " 'http://www.imdb.com/title/tt0920458/?ref_=fn_tt_tt_1': u' 28 March 2008 (Denmark)\\n    ',\n",
       " 'http://www.imdb.com/title/tt0120802/?ref_=fn_tt_tt_1': u' 11 June 1999 (USA)\\n    ',\n",
       " 'http://www.imdb.com/title/tt1285309/?ref_=fn_tt_tt_1': u' 23 April 2010 (USA)\\n    ',\n",
       " 'http://www.imdb.com/title/tt1582507/?ref_=fn_tt_tt_1': u' 21 September 2012 (USA)\\n    ',\n",
       " 'http://www.imdb.com/title/tt0106677/?ref_=fn_tt_tt_1': u' 10 February 1994 (Argentina)\\n    ',\n",
       " 'http://www.imdb.com/title/tt0419946/?ref_=fn_tt_tt_1': u' 13 October 2006 (USA)\\n    ',\n",
       " 'http://www.imdb.com/title/tt0200469/?ref_=fn_tt_tt_1': u' 22 October 1999 (USA)\\n    ',\n",
       " 'http://www.imdb.com/title/tt0120770/?ref_=fn_tt_tt_1': u' 2 October 1998 (USA)\\n    ',\n",
       " 'http://www.imdb.com/title/tt1403981/?ref_=fn_tt_tt_1': u' 12 March 2010 (USA)\\n    ',\n",
       " 'http://www.imdb.com/title/tt0080492/?ref_=fn_tt_tt_1': u' 20 June 1980 (USA)\\n    ',\n",
       " 'http://www.imdb.com/title/tt0116260/?ref_=fn_tt_tt_1': u' 12 January 1996 (USA)\\n    ',\n",
       " 'http://www.imdb.com/title/tt1002563/?ref_=fn_tt_tt_1': u' 11 March 2016 (USA)\\n    ',\n",
       " 'http://www.imdb.com/title/tt0192731/?ref_=fn_tt_tt_1': u' 22 September 2000 (USA)\\n    ',\n",
       " 'http://www.imdb.com/title/tt0099487/?ref_=fn_tt_tt_1': u' 14 December 1990 (USA)\\n    ',\n",
       " 'http://www.imdb.com/title/tt1781827/?ref_=fn_tt_tt_1': u' 26 August 2016 (USA)\\n    ',\n",
       " 'http://www.imdb.com/title/tt0342735/?ref_=fn_tt_tt_1': u' 3 June 2005 (Denmark)\\n    ',\n",
       " 'http://www.imdb.com/title/tt0112818/?ref_=fn_tt_tt_1': u' 2 February 1996 (USA)\\n    ',\n",
       " 'http://www.imdb.com/title/tt0082085/?ref_=fn_tt_tt_1': u' 24 July 1981 (USA)\\n    ',\n",
       " 'http://www.imdb.com/title/tt3508840/?ref_=fn_tt_tt_1': u' 27 August 2015 (China)\\n    ',\n",
       " 'http://www.imdb.com/title/tt0449999/?ref_=fn_tt_tt_1': u' 11 August 2006 (India)\\n    ',\n",
       " 'http://www.imdb.com/title/tt0071807/?ref_=fn_tt_tt_1': u' 20 December 1974 (USA)\\n    ',\n",
       " 'http://www.imdb.com/title/tt1171222/?ref_=fn_tt_tt_1': u' 27 September 2013 (USA)\\n    ',\n",
       " 'http://www.imdb.com/title/tt0314166/?ref_=fn_tt_tt_1': u' 28 June 2002 (USA)\\n    ',\n",
       " 'http://www.imdb.com/title/tt0160216/?ref_=fn_tt_tt_1': u' 27 August 1999 (USA)\\n    ',\n",
       " 'http://www.imdb.com/title/tt1046163/?ref_=fn_tt_tt_1': u' 19 September 2008 (USA)\\n    ',\n",
       " 'http://www.imdb.com/title/tt0279331/?ref_=fn_tt_tt_1': u' 21 February 2003 (USA)\\n    ',\n",
       " 'http://www.imdb.com/title/tt1666801/?ref_=fn_tt_tt_1': u' 20 February 2015 (USA)\\n    ',\n",
       " 'http://www.imdb.com/title/tt0297037/?ref_=fn_tt_tt_1': u' 11 October 2002 (USA)\\n    ',\n",
       " 'http://www.imdb.com/title/tt0116324/?ref_=fn_tt_tt_1': u' 12 April 1996 (USA)\\n    ',\n",
       " 'http://www.imdb.com/title/tt0104692/?ref_=fn_tt_tt_1': u' 6 March 1992 (USA)\\n    ',\n",
       " 'http://www.imdb.com/title/tt0462395/?ref_=fn_tt_tt_1': u' 24 March 2006 (USA)\\n    ',\n",
       " 'http://www.imdb.com/title/tt0266747/?ref_=fn_tt_tt_1': u' 22 August 2003 (USA)\\n    ',\n",
       " 'http://www.imdb.com/title/tt0780536/?ref_=fn_tt_tt_1': u' 29 February 2008 (USA)\\n    ',\n",
       " 'http://www.imdb.com/title/tt0079826/?ref_=fn_tt_tt_1': u' 7 November 1979 (USA)\\n    ',\n",
       " 'http://www.imdb.com/title/tt0795368/?ref_=fn_tt_tt_1': u' 7 September 2007 (USA)\\n    ',\n",
       " 'http://www.imdb.com/title/tt3195644/?ref_=fn_tt_tt_1': u' 5 June 2015 (USA)\\n    ',\n",
       " 'http://www.imdb.com/title/tt1042877/?ref_=fn_tt_tt_1': u' 5 December 2008 (USA)\\n    ',\n",
       " 'http://www.imdb.com/title/tt2176013/?ref_=fn_tt_tt_1': u' 13 November 2012 (India)\\n    ',\n",
       " 'http://www.imdb.com/title/tt0077416/?ref_=fn_tt_tt_1': u' 23 February 1979 (USA)\\n    ',\n",
       " 'http://www.imdb.com/title/tt1064932/?ref_=fn_tt_tt_1': u' 27 February 2008 (France)\\n    ',\n",
       " 'http://www.imdb.com/title/tt0413300/?ref_=fn_tt_tt_1': u' 4 May 2007 (USA)\\n    ',\n",
       " 'http://www.imdb.com/title/tt0192614/?ref_=fn_tt_tt_1': u' 31 March 2000 (USA)\\n    ',\n",
       " 'http://www.imdb.com/title/tt0382765/?ref_=fn_tt_tt_1': u' 20 July 2006 (Australia)\\n    ',\n",
       " 'http://www.imdb.com/title/tt3850214/?ref_=fn_tt_tt_1': u' 19 June 2015 (USA)\\n    ',\n",
       " 'http://www.imdb.com/title/tt0282209/?ref_=fn_tt_tt_1': u' 24 January 2003 (USA)\\n    ',\n",
       " 'http://www.imdb.com/title/tt0082763/?ref_=fn_tt_tt_1': u' 25 December 1981 (USA)\\n    ',\n",
       " 'http://www.imdb.com/title/tt0462200/?ref_=fn_tt_tt_1': u' 2 March 2007 (USA)\\n    ',\n",
       " 'http://www.imdb.com/title/tt0288477/?ref_=fn_tt_tt_1': u' 25 October 2002 (USA)\\n    ',\n",
       " 'http://www.imdb.com/title/tt0307987/?ref_=fn_tt_tt_1': u' 26 November 2003 (USA)\\n    ',\n",
       " 'http://www.imdb.com/title/tt1172233/?ref_=fn_tt_tt_1': u' 2 October 2009 (USA)\\n    ',\n",
       " 'http://www.imdb.com/title/tt0283832/?ref_=fn_tt_tt_1': u' 4 October 2002 (USA)\\n    ',\n",
       " 'http://www.imdb.com/title/tt1054588/?ref_=fn_tt_tt_1': u' 3 October 2008 (USA)\\n    ',\n",
       " 'http://www.imdb.com/title/tt1179891/?ref_=fn_tt_tt_1': u' 16 January 2009 (USA)\\n    ',\n",
       " 'http://www.imdb.com/title/tt0065214/?ref_=fn_tt_tt_1': u' 7 August 1969 (Hong Kong)\\n    ',\n",
       " 'http://www.imdb.com/title/tt0081398/?ref_=fn_tt_tt_1': u' 19 December 1980 (USA)\\n    ',\n",
       " 'http://www.imdb.com/title/tt0076175/?ref_=fn_tt_tt_1': u' 13 October 1977 (UK)\\n    ',\n",
       " 'http://www.imdb.com/title/tt0087078/?ref_=fn_tt_tt_1': u' 29 June 1984 (USA)\\n    ',\n",
       " 'http://www.imdb.com/title/tt0401711/?ref_=fn_tt_tt_1': u' 15 June 2007 (USA)\\n    ',\n",
       " 'http://www.imdb.com/title/tt0082096/?ref_=fn_tt_tt_1': u' 10 February 1982 (USA)\\n    ',\n",
       " 'http://www.imdb.com/title/tt0079758/?ref_=fn_tt_tt_1': u' 22 August 1979 (France)\\n    ',\n",
       " 'http://www.imdb.com/title/tt0059245/?ref_=fn_tt_tt_1': u' 9 April 1965 (UK)\\n    ',\n",
       " 'http://www.imdb.com/title/tt0297884/?ref_=fn_tt_tt_1': u' 10 January 2003 (USA)\\n    ',\n",
       " 'http://www.imdb.com/title/tt1268799/?ref_=fn_tt_tt_1': u' 4 November 2011 (USA)\\n    ',\n",
       " 'http://www.imdb.com/title/tt0349416/?ref_=fn_tt_tt_1': u' 26 September 2004 (Greece)\\n    ',\n",
       " 'http://www.imdb.com/title/tt0918927/?ref_=fn_tt_tt_1': u' 25 December 2008 (USA)\\n    ',\n",
       " 'http://www.imdb.com/title/tt0865554/?ref_=fn_tt_tt_1': u' 24 April 2009 (USA)\\n    ',\n",
       " 'http://www.imdb.com/title/tt0887719/?ref_=fn_tt_tt_1': u' 10 January 2008 (Russia)\\n    ',\n",
       " 'http://www.imdb.com/title/tt1411664/?ref_=fn_tt_tt_1': u' 9 September 2011 (USA)\\n    ',\n",
       " 'http://www.imdb.com/title/tt0093105/?ref_=fn_tt_tt_1': u' 15 January 1988 (USA)\\n    ',\n",
       " 'http://www.imdb.com/title/tt0436331/?ref_=fn_tt_tt_1': u' 21 April 2006 (USA)\\n    ',\n",
       " 'http://www.imdb.com/title/tt0183649/?ref_=fn_tt_tt_1': u' 4 April 2003 (USA)\\n    ',\n",
       " 'http://www.imdb.com/title/tt0184791/?ref_=fn_tt_tt_1': u' 31 August 2001 (USA)\\n    ',\n",
       " 'http://www.imdb.com/title/tt0119345/?ref_=fn_tt_tt_1': u' 17 October 1997 (USA)\\n    ',\n",
       " 'http://www.imdb.com/title/tt0384686/?ref_=fn_tt_tt_1': u' 31 March 2006 (UK)\\n    ',\n",
       " 'http://www.imdb.com/title/tt2883434/?ref_=fn_tt_tt_1': u' 30 January 2015 (USA)\\n    ',\n",
       " 'http://www.imdb.com/title/tt0108308/?ref_=fn_tt_tt_1': u' 19 March 1993 (USA)\\n    ',\n",
       " 'http://www.imdb.com/title/tt0064115/?ref_=fn_tt_tt_1': u' 24 October 1969 (USA)\\n    ',\n",
       " 'http://www.imdb.com/title/tt0420609/?ref_=fn_tt_tt_1': u' 13 October 2006 (USA)\\n    ',\n",
       " 'http://www.imdb.com/title/tt1131734/?ref_=fn_tt_tt_1': u' 18 September 2009 (USA)\\n    ',\n",
       " 'http://www.imdb.com/title/tt1270262/?ref_=fn_tt_tt_1': u' 8 September 2011 (Netherlands)\\n    ',\n",
       " 'http://www.imdb.com/title/tt0128442/?ref_=fn_tt_tt_1': u' 11 September 1998 (USA)\\n    ',\n",
       " 'http://www.imdb.com/title/tt0373469/?ref_=fn_tt_tt_1': u' 18 November 2005 (USA)\\n    ',\n",
       " 'http://www.imdb.com/title/tt0183659/?ref_=fn_tt_tt_1': u' 23 March 2001 (USA)\\n    ',\n",
       " 'http://www.imdb.com/title/tt0278500/?ref_=fn_tt_tt_1': u' 21 June 2002 (USA)\\n    ',\n",
       " 'http://www.imdb.com/title/tt1023111/?ref_=fn_tt_tt_1': u' 14 March 2008 (USA)\\n    ',\n",
       " 'http://www.imdb.com/title/tt0429591/?ref_=fn_tt_tt_1': u' 3 March 2006 (USA)\\n    ',\n",
       " 'http://www.imdb.com/title/tt0084726/?ref_=fn_tt_tt_1': u' 4 June 1982 (USA)\\n    ',\n",
       " 'http://www.imdb.com/title/tt1198101/?ref_=fn_tt_tt_1': u' 21 May 2010 (India)\\n    ',\n",
       " 'http://www.imdb.com/title/tt0072271/?ref_=fn_tt_tt_1': u' 4 October 1974 (USA)\\n    ',\n",
       " 'http://www.imdb.com/title/tt0338325/?ref_=fn_tt_tt_1': u' 3 September 2004 (USA)\\n    ',\n",
       " 'http://www.imdb.com/title/tt0098206/?ref_=fn_tt_tt_1': u' 19 May 1989 (USA)\\n    ',\n",
       " 'http://www.imdb.com/title/tt0824758/?ref_=fn_tt_tt_1': u' 26 February 2010 (USA)\\n    ',\n",
       " 'http://www.imdb.com/title/tt0421082/?ref_=fn_tt_tt_1': u' 26 September 2007 (France)\\n    ',\n",
       " 'http://www.imdb.com/title/tt1554091/?ref_=fn_tt_tt_1': u' 28 July 2011 (Thailand)\\n    ',\n",
       " 'http://www.imdb.com/title/tt0889588/?ref_=fn_tt_tt_1': u' 13 June 2008 (USA)\\n    ',\n",
       " 'http://www.imdb.com/title/tt0191636/?ref_=fn_tt_tt_1': u' 13 April 2001 (USA)\\n    ',\n",
       " 'http://www.imdb.com/title/tt0116269/?ref_=fn_tt_tt_1': u' 3 April 1996 (USA)\\n    ',\n",
       " 'http://www.imdb.com/title/tt0107079/?ref_=fn_tt_tt_1': u' 25 February 1994 (USA)\\n    ',\n",
       " 'http://www.imdb.com/title/tt0104348/?ref_=fn_tt_tt_1': u' 2 October 1992 (USA)\\n    ',\n",
       " 'http://www.imdb.com/title/tt0085407/?ref_=fn_tt_tt_1': u' 21 October 1983 (USA)\\n    ',\n",
       " 'http://www.imdb.com/title/tt0457430/?ref_=fn_tt_tt_1': u' 19 January 2007 (USA)\\n    ',\n",
       " 'http://www.imdb.com/title/tt1321860/?ref_=fn_tt_tt_1': u' 19 May 2011 (Germany)\\n    ',\n",
       " 'http://www.imdb.com/title/tt1355630/?ref_=fn_tt_tt_1': u' 22 August 2014 (USA)\\n    ',\n",
       " 'http://www.imdb.com/title/tt0094737/?ref_=fn_tt_tt_1': u' 3 June 1988 (USA)\\n    ',\n",
       " 'http://www.imdb.com/title/tt0437232/?ref_=fn_tt_tt_1': u' 27 October 2006 (USA)\\n    ',\n",
       " 'http://www.imdb.com/title/tt0240468/?ref_=fn_tt_tt_1': u' 25 January 2002 (USA)\\n    ',\n",
       " 'http://www.imdb.com/title/tt0062711/?ref_=fn_tt_tt_1': u' 10 October 1968 (USA)\\n    ',\n",
       " 'http://www.imdb.com/title/tt0380623/?ref_=fn_tt_tt_1': u' 17 June 2005 (USA)\\n    ',\n",
       " 'http://www.imdb.com/title/tt0203408/?ref_=fn_tt_tt_1': u' 27 August 1999 (Spain)\\n    ',\n",
       " 'http://www.imdb.com/title/tt2515086/?ref_=fn_tt_tt_1': u' 30 August 2013 (USA)\\n    ',\n",
       " 'http://www.imdb.com/title/tt0808279/?ref_=fn_tt_tt_1': u' 4 April 2008 (UK)\\n    ',\n",
       " 'http://www.imdb.com/title/tt0180073/?ref_=fn_tt_tt_1': u' 25 December 2000 (USA)\\n    ',\n",
       " 'http://www.imdb.com/title/tt0242423/?ref_=fn_tt_tt_1': u' 15 December 2000 (USA)\\n    ',\n",
       " 'http://www.imdb.com/title/tt0493949/?ref_=fn_tt_tt_1': u' 23 July 2010 (USA)\\n    ',\n",
       " 'http://www.imdb.com/title/tt0421073/?ref_=fn_tt_tt_1': u' 11 April 2008 (USA)\\n    ',\n",
       " 'http://www.imdb.com/title/tt1226753/?ref_=fn_tt_tt_1': u' 31 August 2011 (USA)\\n    ',\n",
       " 'http://www.imdb.com/title/tt0097441/?ref_=fn_tt_tt_1': u' 16 February 1990 (USA)\\n    ',\n",
       " 'http://www.imdb.com/title/tt0090357/?ref_=fn_tt_tt_1': u' 4 December 1985 (USA)\\n    ',\n",
       " 'http://www.imdb.com/title/tt0424908/?ref_=fn_tt_tt_1': u' 8 March 2007 (Hungary)\\n    ',\n",
       " 'http://www.imdb.com/title/tt0056172/?ref_=fn_tt_tt_1': u' 11 December 1962 (UK)\\n    ',\n",
       " 'http://www.imdb.com/title/tt0106223/?ref_=fn_tt_tt_1': u' 2 April 1993 (USA)\\n    ',\n",
       " 'http://www.imdb.com/title/tt0486822/?ref_=fn_tt_tt_1': u' 13 April 2007 (USA)\\n    ',\n",
       " 'http://www.imdb.com/title/tt0286112/?ref_=fn_tt_tt_1': u' 12 July 2001 (Hong Kong)\\n    ',\n",
       " 'http://www.imdb.com/title/tt0144640/?ref_=fn_tt_tt_1': u' 22 October 1999 (USA)\\n    ',\n",
       " 'http://www.imdb.com/title/tt1226236/?ref_=fn_tt_tt_1': u' 23 July 2010 (USA)\\n    ',\n",
       " 'http://www.imdb.com/title/tt1104733/?ref_=fn_tt_tt_1': u' 27 August 2008 (USA)\\n    ',\n",
       " 'http://www.imdb.com/title/tt0102926/?ref_=fn_tt_tt_1': u' 14 February 1991 (USA)\\n    ',\n",
       " 'http://www.imdb.com/title/tt0200465/?ref_=fn_tt_tt_1': u' 7 March 2008 (USA)\\n    ',\n",
       " 'http://www.imdb.com/title/tt0107659/?ref_=fn_tt_tt_1': u' 5 February 1993 (USA)\\n    ',\n",
       " 'http://www.imdb.com/title/tt0110944/?ref_=fn_tt_tt_1': u' 9 September 1994 (USA)\\n    ',\n",
       " 'http://www.imdb.com/title/tt2465146/?ref_=fn_tt_tt_1': u' 25 July 2014 (USA)\\n    ',\n",
       " 'http://www.imdb.com/title/tt4651520/?ref_=fn_tt_tt_1': u' 29 July 2016 (USA)\\n    ',\n",
       " 'http://www.imdb.com/title/tt0184907/?ref_=fn_tt_tt_1': u' 11 February 2000 (USA)\\n    ',\n",
       " 'http://www.imdb.com/title/tt0465494/?ref_=fn_tt_tt_1': u' 21 November 2007 (USA)\\n    ',\n",
       " 'http://www.imdb.com/title/tt0250224/?ref_=fn_tt_tt_1': u' 29 June 2001 (USA)\\n    ',\n",
       " 'http://www.imdb.com/title/tt0134619/?ref_=fn_tt_tt_1': u' 24 July 1998 (USA)\\n    ',\n",
       " 'http://www.imdb.com/title/tt2582846/?ref_=fn_tt_tt_1': u' 6 June 2014 (USA)\\n    ',\n",
       " 'http://www.imdb.com/title/tt1764183/?ref_=fn_tt_tt_1': u' 14 September 2012 (USA)\\n    ',\n",
       " 'http://www.imdb.com/title/tt0323939/?ref_=fn_tt_tt_1': u' 9 May 2004 (USA)\\n    ',\n",
       " 'http://www.imdb.com/title/tt0118589/?ref_=fn_tt_tt_1': u' 21 September 2001 (USA)\\n    ',\n",
       " 'http://www.imdb.com/title/tt0116414/?ref_=fn_tt_tt_1': u' 22 March 1996 (USA)\\n    ',\n",
       " 'http://www.imdb.com/title/tt0062512/?ref_=fn_tt_tt_1': u' 13 June 1967 (USA)\\n    ',\n",
       " 'http://www.imdb.com/title/tt0120618/?ref_=fn_tt_tt_1': u' 18 February 1999 (Germany)\\n    ',\n",
       " 'http://www.imdb.com/title/tt0250310/?ref_=fn_tt_tt_1': u' 12 October 2001 (USA)\\n    ',\n",
       " 'http://www.imdb.com/title/tt1748227/?ref_=fn_tt_tt_1': u' 30 November 2012 (USA)\\n    ',\n",
       " 'http://www.imdb.com/title/tt0309912/?ref_=fn_tt_tt_1': u' 27 June 2003 (UK)\\n    ',\n",
       " 'http://www.imdb.com/title/tt0815244/?ref_=fn_tt_tt_1': u' 21 September 2007 (USA)\\n    ',\n",
       " 'http://www.imdb.com/title/tt0996382/?ref_=fn_tt_tt_1': u' 10 June 2009 (France)\\n    ',\n",
       " 'http://www.imdb.com/title/tt0375063/?ref_=fn_tt_tt_1': u' 21 January 2005 (USA)\\n    ',\n",
       " 'http://www.imdb.com/title/tt0322589/?ref_=fn_tt_tt_1': u' 5 December 2003 (USA)\\n    ',\n",
       " 'http://www.imdb.com/title/tt1541995/?ref_=fn_tt_tt_1': u' 24 June 2011 (China)\\n    ',\n",
       " 'http://www.imdb.com/title/tt0283139/?ref_=fn_tt_tt_1': u' 11 October 2002 (USA)\\n    ',\n",
       " 'http://www.imdb.com/title/tt2024544/?ref_=fn_tt_tt_1': u' 8 November 2013 (USA)\\n    ',\n",
       " 'http://www.imdb.com/title/tt2638144/?ref_=fn_tt_tt_1': u' 19 August 2016 (USA)\\n    ',\n",
       " 'http://www.imdb.com/title/tt0317132/?ref_=fn_tt_tt_1': u' 18 February 2005 (USA)\\n    ',\n",
       " 'http://www.imdb.com/title/tt0278488/?ref_=fn_tt_tt_1': u' 21 December 2001 (USA)\\n    ',\n",
       " 'http://www.imdb.com/title/tt1711425/?ref_=fn_tt_tt_1': u' 1 March 2013 (USA)\\n    ',\n",
       " 'http://www.imdb.com/title/tt0327437/?ref_=fn_tt_tt_1': u' 16 June 2004 (USA)\\n    ',\n",
       " 'http://www.imdb.com/title/tt0078869/?ref_=fn_tt_tt_1': u' 21 December 1979 (USA)\\n    ',\n",
       " 'http://www.imdb.com/title/tt0278731/?ref_=fn_tt_tt_1': u' 13 November 2002 (France)\\n    ',\n",
       " 'http://www.imdb.com/title/tt0490204/?ref_=fn_tt_tt_1': u' 23 March 2007 (USA)\\n    ',\n",
       " 'http://www.imdb.com/title/tt0345061/?ref_=fn_tt_tt_1': u' 17 September 2004 (UK)\\n    ',\n",
       " 'http://www.imdb.com/title/tt0059742/?ref_=fn_tt_tt_1': u' 29 March 1965 (UK)\\n    ',\n",
       " 'http://www.imdb.com/title/tt0305669/?ref_=fn_tt_tt_1': u' 7 March 2003 (USA)\\n    ',\n",
       " 'http://www.imdb.com/title/tt0063385/?ref_=fn_tt_tt_1': u' 27 September 1968 (UK)\\n    ',\n",
       " 'http://www.imdb.com/title/tt0092240/?ref_=fn_tt_tt_1': u' 21 November 1986 (USA)\\n    ',\n",
       " 'http://www.imdb.com/title/tt0117509/?ref_=fn_tt_tt_1': u' 1 November 1996 (USA)\\n    ',\n",
       " 'http://www.imdb.com/title/tt0281364/?ref_=fn_tt_tt_1': u' 31 October 2001 (France)\\n    ',\n",
       " 'http://www.imdb.com/title/tt2398231/?ref_=fn_tt_tt_1': u' 18 May 2014 (France)\\n    ',\n",
       " 'http://www.imdb.com/title/tt0273799/?ref_=fn_tt_tt_1': u' 5 October 2001 (USA)\\n    ',\n",
       " 'http://www.imdb.com/title/tt2752772/?ref_=fn_tt_tt_1': u' 21 August 2015 (USA)\\n    ',\n",
       " 'http://www.imdb.com/title/tt0295427/?ref_=fn_tt_tt_1': u' 2 August 2002 (USA)\\n    ',\n",
       " 'http://www.imdb.com/title/tt1545106/?ref_=fn_tt_tt_1': u' 2 November 2012 (USA)\\n    ',\n",
       " 'http://www.imdb.com/title/tt0790712/?ref_=fn_tt_tt_1': u' 4 December 2009 (USA)\\n    ',\n",
       " 'http://www.imdb.com/title/tt1235796/?ref_=fn_tt_tt_1': u' 5 March 2010 (Ireland)\\n    ',\n",
       " 'http://www.imdb.com/title/tt0100405/?ref_=fn_tt_tt_1': u' 23 March 1990 (USA)\\n    ',\n",
       " 'http://www.imdb.com/title/tt0283426/?ref_=fn_tt_tt_1': u' 14 February 2003 (USA)\\n    ',\n",
       " 'http://www.imdb.com/title/tt0369702/?ref_=fn_tt_tt_1': u' 4 March 2005 (USA)\\n    ',\n",
       " 'http://www.imdb.com/title/tt0799949/?ref_=fn_tt_tt_1': u' 26 January 2007 (USA)\\n    ',\n",
       " 'http://www.imdb.com/title/tt0120018/?ref_=fn_tt_tt_1': u' 24 October 1997 (USA)\\n    ',\n",
       " 'http://www.imdb.com/title/tt1228987/?ref_=fn_tt_tt_1': u' 1 October 2010 (USA)\\n    ',\n",
       " 'http://www.imdb.com/title/tt0165710/?ref_=fn_tt_tt_1': u' 13 August 1999 (USA)\\n    ',\n",
       " 'http://www.imdb.com/title/tt0210616/?ref_=fn_tt_tt_1': u' 12 May 2000 (USA)\\n    ',\n",
       " 'http://www.imdb.com/title/tt0235737/?ref_=fn_tt_tt_1': u' 21 June 2002 (Ireland)\\n    ',\n",
       " 'http://www.imdb.com/title/tt0890870/?ref_=fn_tt_tt_1': u' 26 October 2007 (USA)\\n    ',\n",
       " 'http://www.imdb.com/title/tt0406759/?ref_=fn_tt_tt_1': u' 1 February 2008 (USA)\\n    ',\n",
       " 'http://www.imdb.com/title/tt0160401/?ref_=fn_tt_tt_1': u' 25 August 1999 (USA)\\n    ',\n",
       " 'http://www.imdb.com/title/tt0278823/?ref_=fn_tt_tt_1': u' 3 May 2002 (USA)\\n    ',\n",
       " 'http://www.imdb.com/title/tt1314655/?ref_=fn_tt_tt_1': u' 17 September 2010 (USA)\\n    ',\n",
       " 'http://www.imdb.com/title/tt0100827/?ref_=fn_tt_tt_1': u' 25 October 1991 (USA)\\n    ',\n",
       " 'http://www.imdb.com/title/tt0126886/?ref_=fn_tt_tt_1': u' 7 May 1999 (USA)\\n    ',\n",
       " 'http://www.imdb.com/title/tt0230600/?ref_=fn_tt_tt_1': u' 10 August 2001 (USA)\\n    ',\n",
       " 'http://www.imdb.com/title/tt0079550/?ref_=fn_tt_tt_1': u' 19 October 1979 (USA)\\n    ',\n",
       " 'http://www.imdb.com/title/tt0399862/?ref_=fn_tt_tt_1': u' 20 January 2006 (USA)\\n    ',\n",
       " 'http://www.imdb.com/title/tt1263670/?ref_=fn_tt_tt_1': u' 5 February 2010 (USA)\\n    ',\n",
       " 'http://www.imdb.com/title/tt0419843/?ref_=fn_tt_tt_1': u' 20 April 2007 (USA)\\n    ',\n",
       " 'http://www.imdb.com/title/tt2224026/?ref_=fn_tt_tt_1': u' 27 March 2015 (USA)\\n    ',\n",
       " 'http://www.imdb.com/title/tt1682180/?ref_=fn_tt_tt_1': u' 1 March 2013 (UK)\\n    ',\n",
       " 'http://www.imdb.com/title/tt0156812/?ref_=fn_tt_tt_1': u' 3 March 2000 (USA)\\n    ',\n",
       " 'http://www.imdb.com/title/tt1300851/?ref_=fn_tt_tt_1': u' 11 December 2009 (USA)\\n    ',\n",
       " 'http://www.imdb.com/title/tt2473794/?ref_=fn_tt_tt_1': u' 31 October 2014 (UK)\\n    ',\n",
       " 'http://www.imdb.com/title/tt0080749/?ref_=fn_tt_tt_1': u' 8 February 1980 (USA)\\n    ',\n",
       " 'http://www.imdb.com/title/tt1504320/?ref_=fn_tt_tt_1': u' 25 December 2010 (USA)\\n    ',\n",
       " 'http://www.imdb.com/title/tt1588334/?ref_=fn_tt_tt_1': u' 11 May 2012 (UK)\\n    ',\n",
       " 'http://www.imdb.com/title/tt2334873/?ref_=fn_tt_tt_1': u' 23 August 2013 (USA)\\n    ',\n",
       " 'http://www.imdb.com/title/tt1174732/?ref_=fn_tt_tt_1': u' 5 February 2010 (USA)\\n    ',\n",
       " 'http://www.imdb.com/title/tt0360323/?ref_=fn_tt_tt_1': u' 12 April 2007 (Lebanon)\\n    ',\n",
       " 'http://www.imdb.com/title/tt0086567/?ref_=fn_tt_tt_1': u' 3 June 1983 (USA)\\n    ',\n",
       " 'http://www.imdb.com/title/tt0280030/?ref_=fn_tt_tt_1': u' 15 February 2002 (USA)\\n    ',\n",
       " 'http://www.imdb.com/title/tt0377992/?ref_=fn_tt_tt_1': u' 14 November 2003 (USA)\\n    ',\n",
       " 'http://www.imdb.com/title/tt0065528/?ref_=fn_tt_tt_1': u' 24 June 1970 (USA)\\n    ',\n",
       " 'http://www.imdb.com/title/tt2467046/?ref_=fn_tt_tt_1': u' 3 October 2014 (USA)\\n    ',\n",
       " 'http://www.imdb.com/title/tt0810922/?ref_=fn_tt_tt_1': u' 4 March 2011 (USA)\\n    ',\n",
       " 'http://www.imdb.com/title/tt1974419/?ref_=fn_tt_tt_1': u' 24 June 2016 (USA)\\n    ',\n",
       " 'http://www.imdb.com/title/tt0252223/?ref_=fn_tt_tt_1': u' 13 December 2001 (Germany)\\n    ',\n",
       " 'http://www.imdb.com/title/tt0106308/?ref_=fn_tt_tt_1': u' 19 February 1993 (USA)\\n    ',\n",
       " 'http://www.imdb.com/title/tt1031969/?ref_=fn_tt_tt_1': u' 20 August 2008 (USA)\\n    ',\n",
       " 'http://www.imdb.com/title/tt1121977/?ref_=fn_tt_tt_1': u' 2 July 2010 (Spain)\\n    ',\n",
       " 'http://www.imdb.com/title/tt0276033/?ref_=fn_tt_tt_1': u' 26 July 2002 (USA)\\n    ',\n",
       " 'http://www.imdb.com/title/tt0457572/?ref_=fn_tt_tt_1': u' 16 March 2007 (Canada)\\n    ',\n",
       " 'http://www.imdb.com/title/tt2279339/?ref_=fn_tt_tt_1': u' 13 November 2015 (USA)\\n    ',\n",
       " 'http://www.imdb.com/title/tt0097499/?ref_=fn_tt_tt_1': u' 8 November 1989 (USA)\\n    ',\n",
       " 'http://www.imdb.com/title/tt0066995/?ref_=fn_tt_tt_1': u' 17 December 1971 (USA)\\n    ',\n",
       " 'http://www.imdb.com/title/tt0079116/?ref_=fn_tt_tt_1': u' 22 June 1979 (USA)\\n    ',\n",
       " 'http://www.imdb.com/title/tt0087363/?ref_=fn_tt_tt_1': u' 8 June 1984 (USA)\\n    ',\n",
       " 'http://www.imdb.com/title/tt1967545/?ref_=fn_tt_tt_1': u' 31 January 2014 (USA)\\n    ',\n",
       " 'http://www.imdb.com/title/tt2318092/?ref_=fn_tt_tt_1': u' 14 February 2014 (USA)\\n    ',\n",
       " 'http://www.imdb.com/title/tt2080374/?ref_=fn_tt_tt_1': u' 23 October 2015 (USA)\\n    ',\n",
       " 'http://www.imdb.com/title/tt4939066/?ref_=fn_tt_tt_1': u' 12 August 2016 (USA)\\n    ',\n",
       " 'http://www.imdb.com/title/tt0255819/?ref_=fn_tt_tt_1': u' 27 June 2001 (USA)\\n    ',\n",
       " 'http://www.imdb.com/title/tt0055614/?ref_=fn_tt_tt_1': u' 23 December 1961 (Japan)\\n    ',\n",
       " 'http://www.imdb.com/title/tt3063516/?ref_=fn_tt_tt_1': u' 25 October 2013 (USA)\\n    ',\n",
       " 'http://www.imdb.com/title/tt0486551/?ref_=fn_tt_tt_1': u' 25 August 2006 (USA)\\n    ',\n",
       " 'http://www.imdb.com/title/tt1702443/?ref_=fn_tt_tt_1': u' 11 February 2011 (USA)\\n    ',\n",
       " 'http://www.imdb.com/title/tt0375210/?ref_=fn_tt_tt_1': u' 7 January 2005 (USA)\\n    ',\n",
       " 'http://www.imdb.com/title/tt0110759/?ref_=fn_tt_tt_1': u' 29 April 1994 (USA)\\n    ',\n",
       " 'http://www.imdb.com/title/tt0144084/?ref_=fn_tt_tt_1': u' 14 April 2000 (USA)\\n    ',\n",
       " 'http://www.imdb.com/title/tt2752688/?ref_=fn_tt_tt_1': u' 27 November 2014 (Israel)\\n    ',\n",
       " 'http://www.imdb.com/title/tt1621045/?ref_=fn_tt_tt_1': u' 20 April 2012 (USA)\\n    ',\n",
       " 'http://www.imdb.com/title/tt0473102/?ref_=fn_tt_tt_1': u' 16 April 2010 (USA)\\n    ',\n",
       " 'http://www.imdb.com/title/tt0118901/?ref_=fn_tt_tt_1': u' 31 October 1997 (USA)\\n    ',\n",
       " 'http://www.imdb.com/title/tt0072684/?ref_=fn_tt_tt_1': u' 18 December 1975 (USA)\\n    ',\n",
       " 'http://www.imdb.com/title/tt0081633/?ref_=fn_tt_tt_1': u' 6 November 1981 (USA)\\n    ',\n",
       " 'http://www.imdb.com/title/tt0419256/?ref_=fn_tt_tt_1': u' 2 June 2006 (UK)\\n    ',\n",
       " 'http://www.imdb.com/title/tt1876451/?ref_=fn_tt_tt_1': u' 17 August 2012 (USA)\\n    ',\n",
       " 'http://www.imdb.com/title/tt0453494/?ref_=fn_tt_tt_1': u' 5 May 2006 (USA)\\n    ',\n",
       " 'http://www.imdb.com/title/tt4139124/?ref_=fn_tt_tt_1': u' 29 April 2016 (USA)\\n    ',\n",
       " 'http://www.imdb.com/title/tt0397044/?ref_=fn_tt_tt_1': u' 26 January 2007 (USA)\\n    ',\n",
       " 'http://www.imdb.com/title/tt0339034/?ref_=fn_tt_tt_1': u' 20 June 2003 (USA)\\n    ',\n",
       " 'http://www.imdb.com/title/tt0342272/?ref_=fn_tt_tt_1': u' 4 February 2005 (Denmark)\\n    ',\n",
       " 'http://www.imdb.com/title/tt0118749/?ref_=fn_tt_tt_1': u' 31 October 1997 (USA)\\n    ',\n",
       " 'http://www.imdb.com/title/tt2980516/?ref_=fn_tt_tt_1': u' 26 November 2014 (USA)\\n    ',\n",
       " 'http://www.imdb.com/title/tt0350194/?ref_=fn_tt_tt_1': u' 16 January 2004 (USA)\\n    ',\n",
       " 'http://www.imdb.com/title/tt2058107/?ref_=fn_tt_tt_1': u' 23 May 2014 (USA)\\n    ',\n",
       " 'http://www.imdb.com/title/tt1233227/?ref_=fn_tt_tt_1': u' 23 October 2009 (USA)\\n    ',\n",
       " 'http://www.imdb.com/title/tt0098084/?ref_=fn_tt_tt_1': u' 21 April 1989 (USA)\\n    ',\n",
       " 'http://www.imdb.com/title/tt0372532/?ref_=fn_tt_tt_1': u' 4 February 2005 (USA)\\n    ',\n",
       " 'http://www.imdb.com/title/tt0139239/?ref_=fn_tt_tt_1': u' 9 April 1999 (USA)\\n    ',\n",
       " 'http://www.imdb.com/title/tt0376196/?ref_=fn_tt_tt_1': u' 13 April 2007 (USA)\\n    ',\n",
       " 'http://www.imdb.com/title/tt0929632/?ref_=fn_tt_tt_1': u' 20 November 2009 (USA)\\n    ',\n",
       " 'http://www.imdb.com/title/tt2503944/?ref_=fn_tt_tt_1': u' 30 October 2015 (USA)\\n    ',\n",
       " 'http://www.imdb.com/title/tt0017136/?ref_=fn_tt_tt_1': u' 13 March 1927 (USA)\\n    ',\n",
       " 'http://www.imdb.com/title/tt0283530/?ref_=fn_tt_tt_1': u' 22 November 2002 (USA)\\n    ',\n",
       " 'http://www.imdb.com/title/tt0887912/?ref_=fn_tt_tt_1': u' 31 July 2009 (USA)\\n    ',\n",
       " 'http://www.imdb.com/title/tt0416508/?ref_=fn_tt_tt_1': u' 10 August 2007 (USA)\\n    ',\n",
       " 'http://www.imdb.com/title/tt0424993/?ref_=fn_tt_tt_1': u' 6 October 2006 (USA)\\n    ',\n",
       " 'http://www.imdb.com/title/tt1924435/?ref_=fn_tt_tt_1': u' 13 August 2014 (USA)\\n    ',\n",
       " 'http://www.imdb.com/title/tt0413015/?ref_=fn_tt_tt_1': u' 17 February 2006 (USA)\\n    ',\n",
       " 'http://www.imdb.com/title/tt0981227/?ref_=fn_tt_tt_1': u' 3 October 2008 (USA)\\n    ',\n",
       " 'http://www.imdb.com/title/tt1334260/?ref_=fn_tt_tt_1': u' 15 October 2010 (USA)\\n    ',\n",
       " 'http://www.imdb.com/title/tt0454919/?ref_=fn_tt_tt_1': u' 11 August 2006 (USA)\\n    ',\n",
       " 'http://www.imdb.com/title/tt0091203/?ref_=fn_tt_tt_1': u' 7 March 1986 (USA)\\n    ',\n",
       " 'http://www.imdb.com/title/tt1148165/?ref_=fn_tt_tt_1': u' 14 January 2010 (Australia)\\n    ',\n",
       " 'http://www.imdb.com/title/tt0483726/?ref_=fn_tt_tt_1': u' 13 October 2006 (USA)\\n    ',\n",
       " 'http://www.imdb.com/title/tt1126590/?ref_=fn_tt_tt_1': u' 25 December 2014 (USA)\\n    ',\n",
       " 'http://www.imdb.com/title/tt2305051/?ref_=fn_tt_tt_1': u' 19 December 2014 (USA)\\n    ',\n",
       " 'http://www.imdb.com/title/tt0120882/?ref_=fn_tt_tt_1': u' 27 March 1998 (USA)\\n    ',\n",
       " 'http://www.imdb.com/title/tt0120609/?ref_=fn_tt_tt_1': u' 24 April 1998 (USA)\\n    ',\n",
       " 'http://www.imdb.com/title/tt1491044/?ref_=fn_tt_tt_1': u' 2 May 2013 (Lebanon)\\n    ',\n",
       " 'http://www.imdb.com/title/tt0104868/?ref_=fn_tt_tt_1': u' 2 October 1992 (USA)\\n    ',\n",
       " 'http://www.imdb.com/title/tt0373445/?ref_=fn_tt_tt_1': u' 3 August 2005 (Belgium)\\n    ',\n",
       " 'http://www.imdb.com/title/tt0791304/?ref_=fn_tt_tt_1': u' 11 May 2007 (USA)\\n    ',\n",
       " 'http://www.imdb.com/title/tt1220220/?ref_=fn_tt_tt_1': u' 28 August 2009 (Spain)\\n    ',\n",
       " 'http://www.imdb.com/title/tt0084855/?ref_=fn_tt_tt_1': u' 17 December 1982 (USA)\\n    ',\n",
       " 'http://www.imdb.com/title/tt0212712/?ref_=fn_tt_tt_1': u' 29 September 2004 (Hong Kong)\\n    ',\n",
       " 'http://www.imdb.com/title/tt0976222/?ref_=fn_tt_tt_1': u' 14 August 2009 (USA)\\n    ',\n",
       " 'http://www.imdb.com/title/tt0058331/?ref_=fn_tt_tt_1': u' 3 December 1964 (Argentina)\\n    ',\n",
       " 'http://www.imdb.com/title/tt0120148/?ref_=fn_tt_tt_1': u' 1 May 1998 (USA)\\n    ',\n",
       " 'http://www.imdb.com/title/tt1911644/?ref_=fn_tt_tt_1': u' 15 March 2013 (USA)\\n    ',\n",
       " 'http://www.imdb.com/title/tt0109707/?ref_=fn_tt_tt_1': u' 7 October 1994 (USA)\\n    ',\n",
       " 'http://www.imdb.com/title/tt0118665/?ref_=fn_tt_tt_1': u' 12 March 1999 (USA)\\n    ',\n",
       " 'http://www.imdb.com/title/tt0168786/?ref_=fn_tt_tt_1': u' 10 January 2003 (USA)\\n    ',\n",
       " 'http://www.imdb.com/title/tt1010048/?ref_=fn_tt_tt_1': u' 25 December 2008 (USA)\\n    ',\n",
       " 'http://www.imdb.com/title/tt0091276/?ref_=fn_tt_tt_1': u' 6 June 1986 (USA)\\n    ',\n",
       " 'http://www.imdb.com/title/tt0468492/?ref_=fn_tt_tt_1': u' 30 March 2007 (USA)\\n    ',\n",
       " 'http://www.imdb.com/title/tt1414382/?ref_=fn_tt_tt_1': u' 24 September 2010 (USA)\\n    ',\n",
       " 'http://www.imdb.com/title/tt0799934/?ref_=fn_tt_tt_1': u' 22 February 2008 (USA)\\n    ',\n",
       " 'http://www.imdb.com/title/tt0404390/?ref_=fn_tt_tt_1': u' 24 February 2006 (USA)\\n    ',\n",
       " 'http://www.imdb.com/title/tt0899106/?ref_=fn_tt_tt_1': u' 18 September 2009 (USA)\\n    ',\n",
       " 'http://www.imdb.com/title/tt0250720/?ref_=fn_tt_tt_1': u' 2 March 2001 (USA)\\n    ',\n",
       " 'http://www.imdb.com/title/tt0206275/?ref_=fn_tt_tt_1': u' 12 January 2001 (USA)\\n    ',\n",
       " 'http://www.imdb.com/title/tt0120324/?ref_=fn_tt_tt_1': u' 22 January 1999 (USA)\\n    ',\n",
       " 'http://www.imdb.com/title/tt1981677/?ref_=fn_tt_tt_1': u' 5 October 2012 (USA)\\n    ',\n",
       " 'http://www.imdb.com/title/tt0310910/?ref_=fn_tt_tt_1': u' 25 April 2003 (USA)\\n    ',\n",
       " 'http://www.imdb.com/title/tt0114279/?ref_=fn_tt_tt_1': u' 29 December 1995 (USA)\\n    ',\n",
       " 'http://www.imdb.com/title/tt0086465/?ref_=fn_tt_tt_1': u' 8 June 1983 (USA)\\n    ',\n",
       " 'http://www.imdb.com/title/tt0295700/?ref_=fn_tt_tt_1': u' 30 May 2003 (USA)\\n    ',\n",
       " 'http://www.imdb.com/title/tt0097239/?ref_=fn_tt_tt_1': u' 26 January 1990 (USA)\\n    ',\n",
       " 'http://www.imdb.com/title/tt0395584/?ref_=fn_tt_tt_1': u' 22 July 2005 (USA)\\n    ',\n",
       " 'http://www.imdb.com/title/tt3125324/?ref_=fn_tt_tt_1': u' 14 November 2014 (USA)\\n    ',\n",
       " 'http://www.imdb.com/title/tt0088993/?ref_=fn_tt_tt_1': u' 19 July 1985 (USA)\\n    ',\n",
       " 'http://www.imdb.com/title/tt1013753/?ref_=fn_tt_tt_1': u' 30 January 2009 (USA)\\n    ',\n",
       " 'http://www.imdb.com/title/tt1658801/?ref_=fn_tt_tt_1': u' 5 November 2015 (Italy)\\n    ',\n",
       " 'http://www.imdb.com/title/tt0182000/?ref_=fn_tt_tt_1': u' 20 September 2001 (Malaysia)\\n    ',\n",
       " 'http://www.imdb.com/title/tt2083355/?ref_=fn_tt_tt_1': u' 15 November 2013 (USA)\\n    ',\n",
       " 'http://www.imdb.com/title/tt0420294/?ref_=fn_tt_tt_1': u' 6 October 2006 (USA)\\n    ',\n",
       " 'http://www.imdb.com/title/tt0280460/?ref_=fn_tt_tt_1': u' 20 September 2002 (USA)\\n    ',\n",
       " 'http://www.imdb.com/title/tt0462504/?ref_=fn_tt_tt_1': u' 27 July 2007 (USA)\\n    ',\n",
       " 'http://www.imdb.com/title/tt0090605/?ref_=fn_tt_tt_1': u' 18 July 1986 (USA)\\n    ',\n",
       " 'http://www.imdb.com/title/tt0913354/?ref_=fn_tt_tt_1': u' 4 December 2009 (USA)\\n    ',\n",
       " 'http://www.imdb.com/title/tt0215545/?ref_=fn_tt_tt_1': u' 20 October 2000 (USA)\\n    ',\n",
       " 'http://www.imdb.com/title/tt0421994/?ref_=fn_tt_tt_1': u' 25 May 2006 (Germany)\\n    ',\n",
       " 'http://www.imdb.com/title/tt0386741/?ref_=fn_tt_tt_1': u' 15 March 2006 (France)\\n    ',\n",
       " 'http://www.imdb.com/title/tt0265632/?ref_=fn_tt_tt_1': u' 16 February 2001 (USA)\\n    ',\n",
       " 'http://www.imdb.com/title/tt0058385/?ref_=fn_tt_tt_1': u' 25 December 1964 (USA)\\n    ',\n",
       " 'http://www.imdb.com/title/tt0298388/?ref_=fn_tt_tt_1': u' 4 October 2002 (USA)\\n    ',\n",
       " 'http://www.imdb.com/title/tt3369806/?ref_=fn_tt_tt_1': u' 26 June 2015 (USA)\\n    ',\n",
       " 'http://www.imdb.com/title/tt0138946/?ref_=fn_tt_tt_1': u' 27 October 2000 (USA)\\n    ',\n",
       " 'http://www.imdb.com/title/tt1213663/?ref_=fn_tt_tt_1': u' 23 August 2013 (USA)\\n    ',\n",
       " 'http://www.imdb.com/title/tt0088763/?ref_=fn_tt_tt_1': u' 3 July 1985 (USA)\\n    ',\n",
       " 'http://www.imdb.com/title/tt1151922/?ref_=fn_tt_tt_1': u' 13 March 2009 (USA)\\n    ',\n",
       " 'http://www.imdb.com/title/tt0436364/?ref_=fn_tt_tt_1': u' 11 December 2008 (Hungary)\\n    ',\n",
       " 'http://www.imdb.com/title/tt0253798/?ref_=fn_tt_tt_1': u' 21 November 2001 (USA)\\n    ',\n",
       " 'http://www.imdb.com/title/tt0815236/?ref_=fn_tt_tt_1': u' 12 March 2010 (USA)\\n    ',\n",
       " 'http://www.imdb.com/title/tt0906108/?ref_=fn_tt_tt_1': u' 12 October 2007 (USA)\\n    ',\n",
       " 'http://www.imdb.com/title/tt1723811/?ref_=fn_tt_tt_1': u' 13 January 2012 (UK)\\n    ',\n",
       " 'http://www.imdb.com/title/tt1022603/?ref_=fn_tt_tt_1': u' 7 August 2009 (USA)\\n    ',\n",
       " 'http://www.imdb.com/title/tt1425922/?ref_=fn_tt_tt_1': u' 27 November 2013 (USA)\\n    ',\n",
       " 'http://www.imdb.com/title/tt0091934/?ref_=fn_tt_tt_1': u' 29 August 1986 (USA)\\n    ',\n",
       " 'http://www.imdb.com/title/tt1340800/?ref_=fn_tt_tt_1': u' 6 January 2012 (USA)\\n    ',\n",
       " 'http://www.imdb.com/title/tt0139809/?ref_=fn_tt_tt_1': u' 28 May 1999 (USA)\\n    ',\n",
       " 'http://www.imdb.com/title/tt0765010/?ref_=fn_tt_tt_1': u' 4 December 2009 (USA)\\n    ',\n",
       " 'http://www.imdb.com/title/tt0467406/?ref_=fn_tt_tt_1': u' 25 December 2007 (USA)\\n    ',\n",
       " 'http://www.imdb.com/title/tt0108320/?ref_=fn_tt_tt_1': u' 2 September 1994 (USA)\\n    ',\n",
       " 'http://www.imdb.com/title/tt0489270/?ref_=fn_tt_tt_1': u' 27 October 2006 (USA)\\n    ',\n",
       " 'http://www.imdb.com/title/tt1242460/?ref_=fn_tt_tt_1': u' 21 October 2011 (UK)\\n    ',\n",
       " 'http://www.imdb.com/title/tt0427309/?ref_=fn_tt_tt_1': u' 25 December 2007 (USA)\\n    ',\n",
       " 'http://www.imdb.com/title/tt0938330/?ref_=fn_tt_tt_1': u' 26 October 2012 (USA)\\n    ',\n",
       " 'http://www.imdb.com/title/tt0815178/?ref_=fn_tt_tt_1': u' 5 September 2008 (Poland)\\n    ',\n",
       " 'http://www.imdb.com/title/tt2023587/?ref_=fn_tt_tt_1': u' 18 January 2013 (USA)\\n    ',\n",
       " 'http://www.imdb.com/title/tt0064757/?ref_=fn_tt_tt_1': u' 19 December 1969 (USA)\\n    ',\n",
       " 'http://www.imdb.com/title/tt0482599/?ref_=fn_tt_tt_1': u' 21 March 2008 (USA)\\n    ',\n",
       " 'http://www.imdb.com/title/tt1160368/?ref_=fn_tt_tt_1': u' 27 March 2009 (USA)\\n    ',\n",
       " 'http://www.imdb.com/title/tt0373024/?ref_=fn_tt_tt_1': u' 10 November 2005 (Germany)\\n    ',\n",
       " 'http://www.imdb.com/title/tt0914798/?ref_=fn_tt_tt_1': u' 26 November 2008 (USA)\\n    ',\n",
       " 'http://www.imdb.com/title/tt0120662/?ref_=fn_tt_tt_1': u' 28 January 2000 (USA)\\n    ',\n",
       " 'http://www.imdb.com/title/tt0120613/?ref_=fn_tt_tt_1': u' 23 April 1999 (USA)\\n    ',\n",
       " 'http://www.imdb.com/title/tt0785077/?ref_=fn_tt_tt_1': u' 27 July 2007 (USA)\\n    ',\n",
       " 'http://www.imdb.com/title/tt0120877/?ref_=fn_tt_tt_1': u' 30 October 1998 (USA)\\n    ',\n",
       " 'http://www.imdb.com/title/tt0166924/?ref_=fn_tt_tt_1': u' 19 October 2001 (USA)\\n    ',\n",
       " 'http://www.imdb.com/title/tt0114113/?ref_=fn_tt_tt_1': u' 12 May 1995 (USA)\\n    ',\n",
       " 'http://www.imdb.com/title/tt1116184/?ref_=fn_tt_tt_1': u' 15 October 2010 (USA)\\n    ',\n",
       " 'http://www.imdb.com/title/tt0416044/?ref_=fn_tt_tt_1': u' 4 July 2008 (USA)\\n    ',\n",
       " 'http://www.imdb.com/title/tt4094724/?ref_=fn_tt_tt_1': u' 1 July 2016 (USA)\\n    ',\n",
       " 'http://www.imdb.com/title/tt0114814/?ref_=fn_tt_tt_1': u' 15 September 1995 (USA)\\n    ',\n",
       " 'http://www.imdb.com/title/tt2390361/?ref_=fn_tt_tt_1': u' 11 October 2013 (USA)\\n    ',\n",
       " 'http://www.imdb.com/title/tt1226232/?ref_=fn_tt_tt_1': u' 5 November 2009 (Israel)\\n    ',\n",
       " 'http://www.imdb.com/title/tt0110367/?ref_=fn_tt_tt_1': u' 25 December 1994 (USA)\\n    ',\n",
       " 'http://www.imdb.com/title/tt2215285/?ref_=fn_tt_tt_1': u' 29 June 2012 (USA)\\n    ',\n",
       " 'http://www.imdb.com/title/tt0455857/?ref_=fn_tt_tt_1': u' 3 February 2006 (USA)\\n    ',\n",
       " 'http://www.imdb.com/title/tt1226271/?ref_=fn_tt_tt_1': u' 27 March 2009 (UK)\\n    ',\n",
       " 'http://www.imdb.com/title/tt0454841/?ref_=fn_tt_tt_1': u' 10 March 2006 (USA)\\n    ',\n",
       " 'http://www.imdb.com/title/tt1178663/?ref_=fn_tt_tt_1': u' 3 July 2009 (USA)\\n    ',\n",
       " 'http://www.imdb.com/title/tt0110475/?ref_=fn_tt_tt_1': u' 29 July 1994 (USA)\\n    ',\n",
       " 'http://www.imdb.com/title/tt0279286/?ref_=fn_tt_tt_1': u' 26 October 2001 (USA)\\n    ',\n",
       " 'http://www.imdb.com/title/tt1564585/?ref_=fn_tt_tt_1': u' 12 November 2010 (USA)\\n    ',\n",
       " 'http://www.imdb.com/title/tt1540133/?ref_=fn_tt_tt_1': u' 7 July 2011 (Ireland)\\n    ',\n",
       " 'http://www.imdb.com/title/tt1188996/?ref_=fn_tt_tt_1': u' 12 February 2010 (USA)\\n    ',\n",
       " 'http://www.imdb.com/title/tt0142192/?ref_=fn_tt_tt_1': u' 12 March 1999 (USA)\\n    ',\n",
       " 'http://www.imdb.com/title/tt1431181/?ref_=fn_tt_tt_1': u' 4 February 2011 (USA)\\n    ',\n",
       " 'http://www.imdb.com/title/tt0365737/?ref_=fn_tt_tt_1': u' 9 December 2005 (USA)\\n    ',\n",
       " 'http://www.imdb.com/title/tt0110399/?ref_=fn_tt_tt_1': u' 23 November 1994 (USA)\\n    ',\n",
       " 'http://www.imdb.com/title/tt0274711/?ref_=fn_tt_tt_1': u' 21 November 2002 (Peru)\\n    ',\n",
       " 'http://www.imdb.com/title/tt0435625/?ref_=fn_tt_tt_1': u' 4 August 2006 (USA)\\n    ',\n",
       " 'http://www.imdb.com/title/tt0258470/?ref_=fn_tt_tt_1': u' 24 August 2001 (USA)\\n    ',\n",
       " 'http://www.imdb.com/title/tt3387542/?ref_=fn_tt_tt_1': u' 8 January 2016 (USA)\\n    ',\n",
       " 'http://www.imdb.com/title/tt0073195/?ref_=fn_tt_tt_1': u' 20 June 1975 (USA)\\n    ',\n",
       " 'http://www.imdb.com/title/tt1197628/?ref_=fn_tt_tt_1': u' 10 April 2009 (USA)\\n    ',\n",
       " 'http://www.imdb.com/title/tt1104001/?ref_=fn_tt_tt_1': u' 17 December 2010 (USA)\\n    ',\n",
       " 'http://www.imdb.com/title/tt0116242/?ref_=fn_tt_tt_1': u' 17 January 1997 (USA)\\n    ',\n",
       " 'http://www.imdb.com/title/tt0142201/?ref_=fn_tt_tt_1': u' 22 October 1999 (USA)\\n    ',\n",
       " 'http://www.imdb.com/title/tt1243974/?ref_=fn_tt_tt_1': u' 29 May 2015 (USA)\\n    ',\n",
       " 'http://www.imdb.com/title/tt0497465/?ref_=fn_tt_tt_1': u' 15 August 2008 (USA)\\n    ',\n",
       " 'http://www.imdb.com/title/tt1258972/?ref_=fn_tt_tt_1': u' 2 November 2012 (USA)\\n    ',\n",
       " 'http://www.imdb.com/title/tt0127723/?ref_=fn_tt_tt_1': u' 12 June 1998 (USA)\\n    ',\n",
       " 'http://www.imdb.com/title/tt4052882/?ref_=fn_tt_tt_1': u' 24 June 2016 (USA)\\n    ',\n",
       " 'http://www.imdb.com/title/tt0469623/?ref_=fn_tt_tt_1': u' 19 October 2007 (USA)\\n    ',\n",
       " 'http://www.imdb.com/title/tt0104431/?ref_=fn_tt_tt_1': u' 20 November 1992 (USA)\\n    ',\n",
       " 'http://www.imdb.com/title/tt0090863/?ref_=fn_tt_tt_1': u' 17 October 1986 (USA)\\n    ',\n",
       " 'http://www.imdb.com/title/tt0066206/?ref_=fn_tt_tt_1': u' 2 April 1970 (USA)\\n    ',\n",
       " 'http://www.imdb.com/title/tt0234829/?ref_=fn_tt_tt_1': u' 24 August 2001 (USA)\\n    ',\n",
       " 'http://www.imdb.com/title/tt0120907/?ref_=fn_tt_tt_1': u' 23 April 1999 (USA)\\n    ',\n",
       " 'http://www.imdb.com/title/tt0425112/?ref_=fn_tt_tt_1': u' 20 April 2007 (USA)\\n    ',\n",
       " 'http://www.imdb.com/title/tt0107983/?ref_=fn_tt_tt_1': u' 4 February 1994 (USA)\\n    ',\n",
       " 'http://www.imdb.com/title/tt0120716/?ref_=fn_tt_tt_1': u' 24 September 1999 (USA)\\n    ',\n",
       " 'http://www.imdb.com/title/tt1274300/?ref_=fn_tt_tt_1': u' 7 January 2011 (Brazil)\\n    ',\n",
       " 'http://www.imdb.com/title/tt0199725/?ref_=fn_tt_tt_1': u' 21 April 2000 (USA)\\n    ',\n",
       " 'http://www.imdb.com/title/tt1194263/?ref_=fn_tt_tt_1': u' 27 August 2010 (USA)\\n    ',\n",
       " 'http://www.imdb.com/title/tt1007029/?ref_=fn_tt_tt_1': u' 13 January 2012 (USA)\\n    ',\n",
       " 'http://www.imdb.com/title/tt0804497/?ref_=fn_tt_tt_1': u' 8 October 2010 (USA)\\n    ',\n",
       " 'http://www.imdb.com/title/tt0101412/?ref_=fn_tt_tt_1': u' 30 August 1991 (USA)\\n    ',\n",
       " 'http://www.imdb.com/title/tt0086960/?ref_=fn_tt_tt_1': u' 5 December 1984 (USA)\\n    ',\n",
       " 'http://www.imdb.com/title/tt0083866/?ref_=fn_tt_tt_1': u' 11 June 1982 (USA)\\n    ',\n",
       " 'http://www.imdb.com/title/tt1535612/?ref_=fn_tt_tt_1': u' 9 July 2011 (Japan)\\n    ',\n",
       " 'http://www.imdb.com/title/tt0100814/?ref_=fn_tt_tt_1': u' 19 January 1990 (USA)\\n    ',\n",
       " 'http://www.imdb.com/title/tt1791528/?ref_=fn_tt_tt_1': u' 9 January 2015 (USA)\\n    ',\n",
       " 'http://www.imdb.com/title/tt0082484/?ref_=fn_tt_tt_1': u' 12 February 1982 (USA)\\n    ',\n",
       " 'http://www.imdb.com/title/tt0313792/?ref_=fn_tt_tt_1': u' 19 September 2003 (USA)\\n    ',\n",
       " 'http://www.imdb.com/title/tt0377092/?ref_=fn_tt_tt_1': u' 30 April 2004 (USA)\\n    ',\n",
       " 'http://www.imdb.com/title/tt0808417/?ref_=fn_tt_tt_1': u' 22 February 2008 (USA)\\n    ',\n",
       " 'http://www.imdb.com/title/tt0238924/?ref_=fn_tt_tt_1': u' 28 June 2002 (USA)\\n    ',\n",
       " 'http://www.imdb.com/title/tt0109015/?ref_=fn_tt_tt_1': u' 6 May 1994 (USA)\\n    ',\n",
       " 'http://www.imdb.com/title/tt0247444/?ref_=fn_tt_tt_1': u' 21 June 2002 (USA)\\n    ',\n",
       " 'http://www.imdb.com/title/tt0043949/?ref_=fn_tt_tt_1': u' 25 December 1951 (USA)\\n    ',\n",
       " 'http://www.imdb.com/title/tt0164003/?ref_=fn_tt_tt_1': u' 27 March 2003 (Israel)\\n    ',\n",
       " 'http://www.imdb.com/title/tt0087262/?ref_=fn_tt_tt_1': u' 11 May 1984 (USA)\\n    ',\n",
       " 'http://www.imdb.com/title/tt1527186/?ref_=fn_tt_tt_1': u' 26 May 2011 (Denmark)\\n    ',\n",
       " 'http://www.imdb.com/title/tt1421051/?ref_=fn_tt_tt_1': u' 21 January 2011 (USA)\\n    ',\n",
       " 'http://www.imdb.com/title/tt0861739/?ref_=fn_tt_tt_1': u' 12 October 2007 (Brazil)\\n    ',\n",
       " 'http://www.imdb.com/title/tt0305396/?ref_=fn_tt_tt_1': u' 12 July 2002 (USA)\\n    ',\n",
       " 'http://www.imdb.com/title/tt1033575/?ref_=fn_tt_tt_1': u' 9 December 2011 (USA)\\n    ',\n",
       " 'http://www.imdb.com/title/tt0340012/?ref_=fn_tt_tt_1': u' 18 February 2005 (USA)\\n    ',\n",
       " 'http://www.imdb.com/title/tt3719896/?ref_=fn_tt_tt_1': u' 13 November 2015 (USA)\\n    ',\n",
       " 'http://www.imdb.com/title/tt0095497/?ref_=fn_tt_tt_1': u' 9 September 1988 (UK)\\n    ',\n",
       " 'http://www.imdb.com/title/tt0291502/?ref_=fn_tt_tt_1': u' 11 October 2002 (USA)\\n    ',\n",
       " 'http://www.imdb.com/title/tt0241760/?ref_=fn_tt_tt_1': u' 10 May 2002 (USA)\\n    ',\n",
       " 'http://www.imdb.com/title/tt0098273/?ref_=fn_tt_tt_1': u' 15 September 1989 (USA)\\n    ',\n",
       " 'http://www.imdb.com/title/tt0455590/?ref_=fn_tt_tt_1': u' 19 January 2007 (USA)\\n    ',\n",
       " 'http://www.imdb.com/title/tt1520498/?ref_=fn_tt_tt_1': u' 29 August 2012 (USA)\\n    ',\n",
       " 'http://www.imdb.com/title/tt1176740/?ref_=fn_tt_tt_1': u' 26 June 2009 (USA)\\n    ',\n",
       " 'http://www.imdb.com/title/tt0103247/?ref_=fn_tt_tt_1': u' 18 January 1991 (USA)\\n    ',\n",
       " 'http://www.imdb.com/title/tt0362269/?ref_=fn_tt_tt_1': u' 7 January 2005 (USA)\\n    ',\n",
       " 'http://www.imdb.com/title/tt0884328/?ref_=fn_tt_tt_1': u' 21 November 2007 (USA)\\n    ',\n",
       " 'http://www.imdb.com/title/tt0253126/?ref_=fn_tt_tt_1': u' 26 October 2001 (USA)\\n    ',\n",
       " 'http://www.imdb.com/title/tt1294213/?ref_=fn_tt_tt_1': u' 25 June 2010 (USA)\\n    ',\n",
       " 'http://www.imdb.com/title/tt1741273/?ref_=fn_tt_tt_1': u' 20 November 2015 (USA)\\n    ',\n",
       " 'http://www.imdb.com/title/tt0403702/?ref_=fn_tt_tt_1': u' 8 January 2010 (USA)\\n    ',\n",
       " 'http://www.imdb.com/title/tt1403177/?ref_=fn_tt_tt_1': u' 25 June 2011 (Japan)\\n    ',\n",
       " 'http://www.imdb.com/title/tt3453052/?ref_=fn_tt_tt_1': u' 11 November 2015 (USA)\\n    ',\n",
       " 'http://www.imdb.com/title/tt1352824/?ref_=fn_tt_tt_1': u' 26 March 2010 (USA)\\n    ',\n",
       " 'http://www.imdb.com/title/tt0093773/?ref_=fn_tt_tt_1': u' 12 June 1987 (USA)\\n    ',\n",
       " 'http://www.imdb.com/title/tt0077631/?ref_=fn_tt_tt_1': u' 16 June 1978 (USA)\\n    ',\n",
       " 'http://www.imdb.com/title/tt0399095/?ref_=fn_tt_tt_1': u' 18 October 2007 (Germany)\\n    ',\n",
       " 'http://www.imdb.com/title/tt0462590/?ref_=fn_tt_tt_1': u' 11 August 2006 (USA)\\n    ',\n",
       " 'http://www.imdb.com/title/tt1699755/?ref_=fn_tt_tt_1': u' 10 May 2013 (USA)\\n    ',\n",
       " 'http://www.imdb.com/title/tt0089461/?ref_=fn_tt_tt_1': u' 22 March 1985 (USA)\\n    ',\n",
       " 'http://www.imdb.com/title/tt0096969/?ref_=fn_tt_tt_1': u' 5 January 1990 (USA)\\n    ',\n",
       " 'http://www.imdb.com/title/tt0433362/?ref_=fn_tt_tt_1': u' 8 January 2010 (USA)\\n    ',\n",
       " 'http://www.imdb.com/title/tt0113321/?ref_=fn_tt_tt_1': u' 3 November 1995 (USA)\\n    ',\n",
       " 'http://www.imdb.com/title/tt0118577/?ref_=fn_tt_tt_1': u' 8 May 1998 (Thailand)\\n    ',\n",
       " 'http://www.imdb.com/title/tt0084516/?ref_=fn_tt_tt_1': u' 4 June 1982 (USA)\\n    ',\n",
       " 'http://www.imdb.com/title/tt0775539/?ref_=fn_tt_tt_1': u' 12 January 2007 (USA)\\n    ',\n",
       " 'http://www.imdb.com/title/tt0280720/?ref_=fn_tt_tt_1': u' 14 February 2003 (USA)\\n    ',\n",
       " 'http://www.imdb.com/title/tt0323807/?ref_=fn_tt_tt_1': u' 14 February 2003 (Italy)\\n    ',\n",
       " 'http://www.imdb.com/title/tt0164181/?ref_=fn_tt_tt_1': u' 10 September 1999 (USA)\\n    ',\n",
       " 'http://www.imdb.com/title/tt0238380/?ref_=fn_tt_tt_1': u' 6 December 2002 (USA)\\n    ',\n",
       " 'http://www.imdb.com/title/tt0107818/?ref_=fn_tt_tt_1': u' 14 January 1994 (USA)\\n    ',\n",
       " 'http://www.imdb.com/title/tt0119843/?ref_=fn_tt_tt_1': u' 31 December 1997 (USA)\\n    ',\n",
       " 'http://www.imdb.com/title/tt0328589/?ref_=fn_tt_tt_1': u' 26 September 2003 (USA)\\n    ',\n",
       " 'http://www.imdb.com/title/tt0846308/?ref_=fn_tt_tt_1': u' 2 July 2008 (USA)\\n    ',\n",
       " 'http://www.imdb.com/title/tt1045772/?ref_=fn_tt_tt_1': u' 7 January 2011 (USA)\\n    ',\n",
       " 'http://www.imdb.com/title/tt0211933/?ref_=fn_tt_tt_1': u' 30 November 2007 (USA)\\n    ',\n",
       " 'http://www.imdb.com/title/tt0419294/?ref_=fn_tt_tt_1': u' 24 February 2006 (USA)\\n    ',\n",
       " 'http://www.imdb.com/title/tt0084805/?ref_=fn_tt_tt_1': u' 17 December 1982 (USA)\\n    ',\n",
       " 'http://www.imdb.com/title/tt0947798/?ref_=fn_tt_tt_1': u' 17 December 2010 (USA)\\n    ',\n",
       " 'http://www.imdb.com/title/tt0449059/?ref_=fn_tt_tt_1': u' 18 August 2006 (USA)\\n    ',\n",
       " 'http://www.imdb.com/title/tt0363163/?ref_=fn_tt_tt_1': u' 8 April 2005 (USA)\\n    ',\n",
       " 'http://www.imdb.com/title/tt0104215/?ref_=fn_tt_tt_1': u' 14 May 1993 (USA)\\n    ',\n",
       " 'http://www.imdb.com/title/tt0089530/?ref_=fn_tt_tt_1': u' 10 July 1985 (USA)\\n    ',\n",
       " 'http://www.imdb.com/title/tt0449467/?ref_=fn_tt_tt_1': u' 10 November 2006 (USA)\\n    ',\n",
       " 'http://www.imdb.com/title/tt0302674/?ref_=fn_tt_tt_1': u' 20 September 2002 (Greece)\\n    ',\n",
       " 'http://www.imdb.com/title/tt0816442/?ref_=fn_tt_tt_1': u' 27 November 2013 (USA)\\n    ',\n",
       " 'http://www.imdb.com/title/tt0250274/?ref_=fn_tt_tt_1': u' 23 March 2001 (USA)\\n    ',\n",
       " 'http://www.imdb.com/title/tt0181984/?ref_=fn_tt_tt_1': u' 18 February 2000 (USA)\\n    ',\n",
       " 'http://www.imdb.com/title/tt4196848/?ref_=fn_tt_tt_1': u' 11 November 2016 (Netherlands)\\n    ',\n",
       " 'http://www.imdb.com/title/tt3322940/?ref_=fn_tt_tt_1': u' 3 October 2014 (USA)\\n    ',\n",
       " 'http://www.imdb.com/title/tt3707106/?ref_=fn_tt_tt_1': u' 9 December 2015 (France)\\n    ',\n",
       " 'http://www.imdb.com/title/tt1152398/?ref_=fn_tt_tt_1': u' 4 March 2011 (USA)\\n    ',\n",
       " 'http://www.imdb.com/title/tt0240900/?ref_=fn_tt_tt_1': u' 1 February 2002 (USA)\\n    ',\n",
       " 'http://www.imdb.com/title/tt1709143/?ref_=fn_tt_tt_1': u' 19 September 2013 (UK)\\n    ',\n",
       " 'http://www.imdb.com/title/tt0441909/?ref_=fn_tt_tt_1': u' 26 January 2007 (USA)\\n    ',\n",
       " 'http://www.imdb.com/title/tt0234354/?ref_=fn_tt_tt_1': u' 14 December 2001 (USA)\\n    ',\n",
       " 'http://www.imdb.com/title/tt0433383/?ref_=fn_tt_tt_1': u' 4 November 2005 (USA)\\n    ',\n",
       " 'http://www.imdb.com/title/tt1659337/?ref_=fn_tt_tt_1': u' 12 October 2012 (USA)\\n    ',\n",
       " 'http://www.imdb.com/title/tt1470023/?ref_=fn_tt_tt_1': u' 21 May 2010 (USA)\\n    ',\n",
       " 'http://www.imdb.com/title/tt0083131/?ref_=fn_tt_tt_1': u' 26 June 1981 (USA)\\n    ',\n",
       " 'http://www.imdb.com/title/tt0475944/?ref_=fn_tt_tt_1': u' 8 September 2006 (USA)\\n    ',\n",
       " 'http://www.imdb.com/title/tt0114681/?ref_=fn_tt_tt_1': u' 6 October 1995 (USA)\\n    ',\n",
       " 'http://www.imdb.com/title/tt0092005/?ref_=fn_tt_tt_1': u' 26 November 1986 (USA)\\n    ',\n",
       " 'http://www.imdb.com/title/tt0829482/?ref_=fn_tt_tt_1': u' 17 August 2007 (USA)\\n    ',\n",
       " 'http://www.imdb.com/title/tt1190617/?ref_=fn_tt_tt_1': u' 3 October 2008 (USA)\\n    ',\n",
       " 'http://www.imdb.com/title/tt0086582/?ref_=fn_tt_tt_1': u' 28 October 1983 (USA)\\n    ',\n",
       " 'http://www.imdb.com/title/tt1213644/?ref_=fn_tt_tt_1': u' 29 August 2008 (USA)\\n    ',\n",
       " 'http://www.imdb.com/title/tt0096928/?ref_=fn_tt_tt_1': u' 17 February 1989 (USA)\\n    ',\n",
       " 'http://www.imdb.com/title/tt1602098/?ref_=fn_tt_tt_1': u' 22 February 2012 (France)\\n    ',\n",
       " 'http://www.imdb.com/title/tt0964517/?ref_=fn_tt_tt_1': u' 17 December 2010 (USA)\\n    ',\n",
       " 'http://www.imdb.com/title/tt0159421/?ref_=fn_tt_tt_1': u' 1 October 1999 (USA)\\n    ',\n",
       " 'http://www.imdb.com/title/tt2103254/?ref_=fn_tt_tt_1': u' 2 July 2014 (USA)\\n    ',\n",
       " 'http://www.imdb.com/title/tt0093378/?ref_=fn_tt_tt_1': u' 24 July 1987 (USA)\\n    ',\n",
       " 'http://www.imdb.com/title/tt0146882/?ref_=fn_tt_tt_1': u' 31 March 2000 (USA)\\n    ',\n",
       " 'http://www.imdb.com/title/tt0386064/?ref_=fn_tt_tt_1': u' 24 September 2004 (USA)\\n    ',\n",
       " 'http://www.imdb.com/title/tt0359423/?ref_=fn_tt_tt_1': u' 14 October 2004 (Netherlands)\\n    ',\n",
       " 'http://www.imdb.com/title/tt0805570/?ref_=fn_tt_tt_1': u' 7 August 2008 (Russia)\\n    ',\n",
       " 'http://www.imdb.com/title/tt1032755/?ref_=fn_tt_tt_1': u' 31 October 2008 (USA)\\n    ',\n",
       " 'http://www.imdb.com/title/tt0236784/?ref_=fn_tt_tt_1': u' 30 March 2001 (USA)\\n    ',\n",
       " 'http://www.imdb.com/title/tt1625346/?ref_=fn_tt_tt_1': u' 16 December 2011 (USA)\\n    ',\n",
       " 'http://www.imdb.com/title/tt0422295/?ref_=fn_tt_tt_1': u' 20 October 2006 (Italy)\\n    ',\n",
       " 'http://www.imdb.com/title/tt0323944/?ref_=fn_tt_tt_1': u' 26 November 2003 (USA)\\n    ',\n",
       " 'http://www.imdb.com/title/tt0293662/?ref_=fn_tt_tt_1': u' 11 October 2002 (USA)\\n    ',\n",
       " 'http://www.imdb.com/title/tt0325258/?ref_=fn_tt_tt_1': u' 5 September 2003 (USA)\\n    ',\n",
       " 'http://www.imdb.com/title/tt0098519/?ref_=fn_tt_tt_1': u' 24 March 1989 (USA)\\n    ',\n",
       " 'http://www.imdb.com/title/tt1014775/?ref_=fn_tt_tt_1': u' 3 October 2008 (USA)\\n    ',\n",
       " 'http://www.imdb.com/title/tt0101452/?ref_=fn_tt_tt_1': u' 19 July 1991 (USA)\\n    ',\n",
       " 'http://www.imdb.com/title/tt0082198/?ref_=fn_tt_tt_1': u' 14 May 1982 (USA)\\n    ',\n",
       " 'http://www.imdb.com/title/tt0180734/?ref_=fn_tt_tt_1': u' 14 September 2001 (USA)\\n    ',\n",
       " 'http://www.imdb.com/title/tt1135985/?ref_=fn_tt_tt_1': u' 17 October 2008 (USA)\\n    ',\n",
       " 'http://www.imdb.com/title/tt0109504/?ref_=fn_tt_tt_1': u' 13 May 1994 (USA)\\n    ',\n",
       " 'http://www.imdb.com/title/tt0884224/?ref_=fn_tt_tt_1': u' 13 June 2008 (USA)\\n    ',\n",
       " 'http://www.imdb.com/title/tt0093779/?ref_=fn_tt_tt_1': u' 9 October 1987 (USA)\\n    ',\n",
       " 'http://www.imdb.com/title/tt0120885/?ref_=fn_tt_tt_1': u' 9 January 1998 (USA)\\n    ',\n",
       " 'http://www.imdb.com/title/tt0101507/?ref_=fn_tt_tt_1': u' 12 July 1991 (USA)\\n    ',\n",
       " 'http://www.imdb.com/title/tt0889573/?ref_=fn_tt_tt_1': u' 20 August 2010 (USA)\\n    ',\n",
       " 'http://www.imdb.com/title/tt0147800/?ref_=fn_tt_tt_1': u' 31 March 1999 (USA)\\n    ',\n",
       " 'http://www.imdb.com/title/tt0081505/?ref_=fn_tt_tt_1': u' 13 June 1980 (USA)\\n    ',\n",
       " 'http://www.imdb.com/title/tt2562232/?ref_=fn_tt_tt_1': u' 14 November 2014 (USA)\\n    ',\n",
       " 'http://www.imdb.com/title/tt0094291/?ref_=fn_tt_tt_1': u' 11 December 1987 (USA)\\n    ',\n",
       " 'http://www.imdb.com/title/tt0469263/?ref_=fn_tt_tt_1': u' 23 February 2007 (USA)\\n    ',\n",
       " 'http://www.imdb.com/title/tt1311067/?ref_=fn_tt_tt_1': u' 28 August 2009 (USA)\\n    ',\n",
       " 'http://www.imdb.com/title/tt0117891/?ref_=fn_tt_tt_1': u' 3 April 1996 (USA)\\n    ',\n",
       " 'http://www.imdb.com/title/tt0120722/?ref_=fn_tt_tt_1': u' 6 November 1998 (USA)\\n    ',\n",
       " 'http://www.imdb.com/title/tt1106860/?ref_=fn_tt_tt_1': u' 26 March 2010 (USA)\\n    ',\n",
       " 'http://www.imdb.com/title/tt0114388/?ref_=fn_tt_tt_1': u' 26 January 1996 (USA)\\n    ',\n",
       " 'http://www.imdb.com/title/tt1232783/?ref_=fn_tt_tt_1': u' 11 September 2009 (USA)\\n    ',\n",
       " 'http://www.imdb.com/title/tt0265459/?ref_=fn_tt_tt_1': u' 13 September 2002 (USA)\\n    ',\n",
       " 'http://www.imdb.com/title/tt0383028/?ref_=fn_tt_tt_1': u' 21 November 2008 (USA)\\n    ',\n",
       " 'http://www.imdb.com/title/tt1935179/?ref_=fn_tt_tt_1': u' 10 May 2013 (USA)\\n    ',\n",
       " 'http://www.imdb.com/title/tt0481536/?ref_=fn_tt_tt_1': u' 25 April 2008 (USA)\\n    ',\n",
       " 'http://www.imdb.com/title/tt0283503/?ref_=fn_tt_tt_1': u' 28 May 2009 (Israel)\\n    ',\n",
       " 'http://www.imdb.com/title/tt0252444/?ref_=fn_tt_tt_1': u' 31 January 2003 (USA)\\n    ',\n",
       " 'http://www.imdb.com/title/tt0285861/?ref_=fn_tt_tt_1': u' 25 September 2003 (Argentina)\\n    ',\n",
       " 'http://www.imdb.com/title/tt0102492/?ref_=fn_tt_tt_1': u' 27 November 1991 (USA)\\n    ',\n",
       " 'http://www.imdb.com/title/tt1441951/?ref_=fn_tt_tt_1': u' 1 March 2013 (USA)\\n    ',\n",
       " 'http://www.imdb.com/title/tt0120483/?ref_=fn_tt_tt_1': u' 14 November 1997 (USA)\\n    ',\n",
       " 'http://www.imdb.com/title/tt1655420/?ref_=fn_tt_tt_1': u' 23 December 2011 (USA)\\n    ',\n",
       " 'http://www.imdb.com/title/tt0470752/?ref_=fn_tt_tt_1': u' 24 April 2015 (USA)\\n    ',\n",
       " 'http://www.imdb.com/title/tt0120890/?ref_=fn_tt_tt_1': u' 20 March 1998 (USA)\\n    ',\n",
       " 'http://www.imdb.com/title/tt0086993/?ref_=fn_tt_tt_1': u' 4 May 1984 (USA)\\n    ',\n",
       " 'http://www.imdb.com/title/tt1663143/?ref_=fn_tt_tt_1': u' 26 October 2012 (USA)\\n    ',\n",
       " 'http://www.imdb.com/title/tt0844671/?ref_=fn_tt_tt_1': u' 29 August 2008 (USA)\\n    ',\n",
       " 'http://www.imdb.com/title/tt0086491/?ref_=fn_tt_tt_1': u' 24 June 1983 (USA)\\n    ',\n",
       " 'http://www.imdb.com/title/tt1234721/?ref_=fn_tt_tt_1': u' 12 February 2014 (USA)\\n    ',\n",
       " 'http://www.imdb.com/title/tt0465142/?ref_=fn_tt_tt_1': u' 21 April 2006 (USA)\\n    ',\n",
       " 'http://www.imdb.com/title/tt1243957/?ref_=fn_tt_tt_1': u' 10 December 2010 (USA)\\n    ',\n",
       " 'http://www.imdb.com/title/tt0082648/?ref_=fn_tt_tt_1': u' 22 May 1981 (USA)\\n    ',\n",
       " 'http://www.imdb.com/title/tt0882977/?ref_=fn_tt_tt_1': u' 22 February 2013 (USA)\\n    ',\n",
       " 'http://www.imdb.com/title/tt0231448/?ref_=fn_tt_tt_1': u' 3 May 2002 (USA)\\n    ',\n",
       " 'http://www.imdb.com/title/tt1604171/?ref_=fn_tt_tt_1': u' 29 April 2011 (USA)\\n    ',\n",
       " 'http://www.imdb.com/title/tt0245686/?ref_=fn_tt_tt_1': u' 11 April 2001 (USA)\\n    ',\n",
       " 'http://www.imdb.com/title/tt0095690/?ref_=fn_tt_tt_1': u' 21 October 1988 (USA)\\n    ',\n",
       " 'http://www.imdb.com/title/tt0405296/?ref_=fn_tt_tt_1': u' 28 July 2006 (USA)\\n    ',\n",
       " 'http://www.imdb.com/title/tt0161100/?ref_=fn_tt_tt_1': u' 16 July 1999 (USA)\\n    ',\n",
       " 'http://www.imdb.com/title/tt0222851/?ref_=fn_tt_tt_1': u' 27 January 2001 (Japan)\\n    ',\n",
       " 'http://www.imdb.com/title/tt0056197/?ref_=fn_tt_tt_1': u' 4 October 1962 (USA)\\n    ',\n",
       " 'http://www.imdb.com/title/tt0283026/?ref_=fn_tt_tt_1': u' 6 September 2002 (USA)\\n    ',\n",
       " 'http://www.imdb.com/title/tt0399327/?ref_=fn_tt_tt_1': u' 9 September 2005 (USA)\\n    ',\n",
       " 'http://www.imdb.com/title/tt0080487/?ref_=fn_tt_tt_1': u' 25 July 1980 (USA)\\n    ',\n",
       " 'http://www.imdb.com/title/tt0283084/?ref_=fn_tt_tt_1': u' 11 October 2002 (USA)\\n    ',\n",
       " 'http://www.imdb.com/title/tt0475276/?ref_=fn_tt_tt_1': u' 28 April 2006 (USA)\\n    ',\n",
       " 'http://www.imdb.com/title/tt3760922/?ref_=fn_tt_tt_1': u' 25 March 2016 (USA)\\n    ',\n",
       " 'http://www.imdb.com/title/tt0477071/?ref_=fn_tt_tt_1': u' 16 March 2007 (USA)\\n    ',\n",
       " 'http://www.imdb.com/title/tt0108551/?ref_=fn_tt_tt_1': u' 25 June 1993 (USA)\\n    ',\n",
       " 'http://www.imdb.com/title/tt0097981/?ref_=fn_tt_tt_1': u' 11 August 1989 (USA)\\n    ',\n",
       " 'http://www.imdb.com/title/tt0095742/?ref_=fn_tt_tt_1': u' 19 August 1988 (USA)\\n    ',\n",
       " 'http://www.imdb.com/title/tt0133751/?ref_=fn_tt_tt_1': u' 25 December 1998 (USA)\\n    ',\n",
       " 'http://www.imdb.com/title/tt2515030/?ref_=fn_tt_tt_1': u' 26 June 2015 (USA)\\n    ',\n",
       " 'http://www.imdb.com/title/tt0489282/?ref_=fn_tt_tt_1': u' 1 February 2008 (USA)\\n    ',\n",
       " 'http://www.imdb.com/title/tt0075860/?ref_=fn_tt_tt_1': u' 14 December 1977 (USA)\\n    ',\n",
       " 'http://www.imdb.com/title/tt0125971/?ref_=fn_tt_tt_1': u' 1 September 1999 (USA)\\n    ',\n",
       " 'http://www.imdb.com/title/tt0137338/?ref_=fn_tt_tt_1': u' 26 February 1999 (USA)\\n    ',\n",
       " 'http://www.imdb.com/title/tt0328099/?ref_=fn_tt_tt_1': u' 18 April 2003 (USA)\\n    ',\n",
       " 'http://www.imdb.com/title/tt0083001/?ref_=fn_tt_tt_1': u' 12 November 1981 (Australia)\\n    ',\n",
       " 'http://www.imdb.com/title/tt2215719/?ref_=fn_tt_tt_1': u' 5 July 2012 (USA)\\n    ',\n",
       " 'http://www.imdb.com/title/tt1636826/?ref_=fn_tt_tt_1': u' 2 March 2012 (USA)\\n    ',\n",
       " 'http://www.imdb.com/title/tt0345074/?ref_=fn_tt_tt_1': u' 16 April 2004 (USA)\\n    ',\n",
       " 'http://www.imdb.com/title/tt0095489/?ref_=fn_tt_tt_1': u' 18 November 1988 (USA)\\n    ',\n",
       " 'http://www.imdb.com/title/tt0168501/?ref_=fn_tt_tt_1': u' 22 October 1999 (USA)\\n    ',\n",
       " 'http://www.imdb.com/title/tt1121931/?ref_=fn_tt_tt_1': u' 17 April 2009 (USA)\\n    ',\n",
       " 'http://www.imdb.com/title/tt0765432/?ref_=fn_tt_tt_1': u' 25 September 2008 (Germany)\\n    ',\n",
       " 'http://www.imdb.com/title/tt0171356/?ref_=fn_tt_tt_1': u' 9 March 2000 (Australia)\\n    ',\n",
       " 'http://www.imdb.com/title/tt0375912/?ref_=fn_tt_tt_1': u' 3 June 2005 (USA)\\n    ',\n",
       " 'http://www.imdb.com/title/tt2167202/?ref_=fn_tt_tt_1': u' 30 August 2013 (USA)\\n    ',\n",
       " 'http://www.imdb.com/title/tt2002718/?ref_=fn_tt_tt_1': u' 11 October 2013 (USA)\\n    ',\n",
       " 'http://www.imdb.com/title/tt0176783/?ref_=fn_tt_tt_1': u' 21 April 2000 (USA)\\n    ',\n",
       " 'http://www.imdb.com/title/tt0109348/?ref_=fn_tt_tt_1': u' 24 February 1995 (USA)\\n    ',\n",
       " 'http://www.imdb.com/title/tt0326900/?ref_=fn_tt_tt_1': u' 10 October 2003 (USA)\\n    ',\n",
       " 'http://www.imdb.com/title/tt1859650/?ref_=fn_tt_tt_1': u' 6 July 2012 (USA)\\n    ',\n",
       " 'http://www.imdb.com/title/tt0119349/?ref_=fn_tt_tt_1': u' 26 November 1997 (USA)\\n    ',\n",
       " 'http://www.imdb.com/title/tt1591479/?ref_=fn_tt_tt_1': u' 24 February 2012 (USA)\\n    ',\n",
       " 'http://www.imdb.com/title/tt0094612/?ref_=fn_tt_tt_1': u' 12 February 1988 (USA)\\n    ',\n",
       " 'http://www.imdb.com/title/tt0205461/?ref_=fn_tt_tt_1': u' 26 July 2000 (USA)\\n    ',\n",
       " 'http://www.imdb.com/title/tt2674426/?ref_=fn_tt_tt_1': u' 3 June 2016 (USA)\\n    ',\n",
       " 'http://www.imdb.com/title/tt0252299/?ref_=fn_tt_tt_1': u' 31 October 2002 (Germany)\\n    ',\n",
       " 'http://www.imdb.com/title/tt0443543/?ref_=fn_tt_tt_1': u' 1 September 2006 (USA)\\n    ',\n",
       " 'http://www.imdb.com/title/tt1895587/?ref_=fn_tt_tt_1': u' 20 November 2015 (USA)\\n    ',\n",
       " 'http://www.imdb.com/title/tt1333125/?ref_=fn_tt_tt_1': u' 25 January 2013 (USA)\\n    ',\n",
       " 'http://www.imdb.com/title/tt1566501/?ref_=fn_tt_tt_1': u' 1 June 2012 (USA)\\n    ',\n",
       " 'http://www.imdb.com/title/tt0263734/?ref_=fn_tt_tt_1': u' 22 November 2002 (Turkey)\\n    ',\n",
       " 'http://www.imdb.com/title/tt0330099/?ref_=fn_tt_tt_1': u' 14 November 2003 (Austria)\\n    ',\n",
       " 'http://www.imdb.com/title/tt0107711/?ref_=fn_tt_tt_1': u' 15 January 1993 (USA)\\n    ',\n",
       " 'http://www.imdb.com/title/tt0379725/?ref_=fn_tt_tt_1': u' 3 February 2006 (USA)\\n    ',\n",
       " 'http://www.imdb.com/title/tt0038499/?ref_=fn_tt_tt_1': u' 12 September 1947 (Mexico)\\n    ',\n",
       " 'http://www.imdb.com/title/tt2183034/?ref_=fn_tt_tt_1': u' 2 July 2014 (USA)\\n    ',\n",
       " 'http://www.imdb.com/title/tt0416212/?ref_=fn_tt_tt_1': u' 17 October 2008 (USA)\\n    ',\n",
       " 'http://www.imdb.com/title/tt0278295/?ref_=fn_tt_tt_1': u' 8 March 2002 (USA)\\n    ',\n",
       " 'http://www.imdb.com/title/tt0120775/?ref_=fn_tt_tt_1': u' 8 October 1999 (Mexico)\\n    ',\n",
       " 'http://www.imdb.com/title/tt0368578/?ref_=fn_tt_tt_1': u' 21 January 2005 (USA)\\n    ',\n",
       " 'http://www.imdb.com/title/tt0361596/?ref_=fn_tt_tt_1': u' 25 June 2004 (USA)\\n    ',\n",
       " 'http://www.imdb.com/title/tt1915581/?ref_=fn_tt_tt_1': u' 29 June 2012 (USA)\\n    ',\n",
       " 'http://www.imdb.com/title/tt0385004/?ref_=fn_tt_tt_1': u' 14 January 2005 (USA)\\n    ',\n",
       " 'http://www.imdb.com/title/tt0064782/?ref_=fn_tt_tt_1': u' 15 October 1969 (USA)\\n    ',\n",
       " 'http://www.imdb.com/title/tt0367085/?ref_=fn_tt_tt_1': u' 28 May 2004 (USA)\\n    ',\n",
       " 'http://www.imdb.com/title/tt0118887/?ref_=fn_tt_tt_1': u' 15 August 1997 (USA)\\n    ',\n",
       " 'http://www.imdb.com/title/tt1099212/?ref_=fn_tt_tt_1': u' 21 November 2008 (USA)\\n    ',\n",
       " 'http://www.imdb.com/title/tt0365485/?ref_=fn_tt_tt_1': u' 27 January 2006 (USA)\\n    ',\n",
       " 'http://www.imdb.com/title/tt0107474/?ref_=fn_tt_tt_1': u' 20 March 1998 (USA)\\n    ',\n",
       " 'http://www.imdb.com/title/tt0071562/?ref_=fn_tt_tt_1': u' 20 December 1974 (USA)\\n    ',\n",
       " 'http://www.imdb.com/title/tt0090555/?ref_=fn_tt_tt_1': u' 26 September 1986 (USA)\\n    ',\n",
       " 'http://www.imdb.com/title/tt1100119/?ref_=fn_tt_tt_1': u' 21 August 2009 (USA)\\n    ',\n",
       " 'http://www.imdb.com/title/tt0118655/?ref_=fn_tt_tt_1': u' 2 May 1997 (USA)\\n    ',\n",
       " 'http://www.imdb.com/title/tt0086066/?ref_=fn_tt_tt_1': u' 25 March 1983 (USA)\\n    ',\n",
       " 'http://www.imdb.com/title/tt0120703/?ref_=fn_tt_tt_1': u' 14 August 1998 (USA)\\n    ',\n",
       " 'http://www.imdb.com/title/tt1019452/?ref_=fn_tt_tt_1': u' 6 November 2009 (USA)\\n    ',\n",
       " 'http://www.imdb.com/title/tt0804505/?ref_=fn_tt_tt_1': u' 28 March 2008 (USA)\\n    ',\n",
       " 'http://www.imdb.com/title/tt0107048/?ref_=fn_tt_tt_1': u' 12 February 1993 (USA)\\n    ',\n",
       " 'http://www.imdb.com/title/tt1023481/?ref_=fn_tt_tt_1': u' 14 February 2008 (USA)\\n    ',\n",
       " 'http://www.imdb.com/title/tt0094625/?ref_=fn_tt_tt_1': u' 16 July 1988 (Japan)\\n    ',\n",
       " 'http://www.imdb.com/title/tt1216492/?ref_=fn_tt_tt_1': u' 8 January 2010 (USA)\\n    ',\n",
       " 'http://www.imdb.com/title/tt0245674/?ref_=fn_tt_tt_1': u' 26 October 2001 (USA)\\n    ',\n",
       " 'http://www.imdb.com/title/tt0954947/?ref_=fn_tt_tt_1': u' 8 June 2010 (UK)\\n    ',\n",
       " 'http://www.imdb.com/title/tt0427968/?ref_=fn_tt_tt_1': u' 1 September 2006 (USA)\\n    ',\n",
       " 'http://www.imdb.com/title/tt1441395/?ref_=fn_tt_tt_1': u' 14 March 2014 (UK)\\n    ',\n",
       " 'http://www.imdb.com/title/tt0188453/?ref_=fn_tt_tt_1': u' 1 February 2002 (USA)\\n    ',\n",
       " 'http://www.imdb.com/title/tt0763304/?ref_=fn_tt_tt_1': u' 24 February 2006 (USA)\\n    ',\n",
       " 'http://www.imdb.com/title/tt0264796/?ref_=fn_tt_tt_1': u' 9 November 2001 (USA)\\n    ',\n",
       " 'http://www.imdb.com/title/tt0082517/?ref_=fn_tt_tt_1': u' 12 June 1981 (USA)\\n    ',\n",
       " 'http://www.imdb.com/title/tt0463854/?ref_=fn_tt_tt_1': u' 11 May 2007 (USA)\\n    ',\n",
       " 'http://www.imdb.com/title/tt0105695/?ref_=fn_tt_tt_1': u' 7 August 1992 (USA)\\n    ',\n",
       " 'http://www.imdb.com/title/tt0120679/?ref_=fn_tt_tt_1': u' 22 November 2002 (USA)\\n    ',\n",
       " 'http://www.imdb.com/title/tt0366551/?ref_=fn_tt_tt_1': u' 30 July 2004 (USA)\\n    ',\n",
       " 'http://www.imdb.com/title/tt0102915/?ref_=fn_tt_tt_1': u' 23 August 1991 (USA)\\n    ',\n",
       " 'http://www.imdb.com/title/tt1182350/?ref_=fn_tt_tt_1': u' 22 October 2010 (USA)\\n    ',\n",
       " 'http://www.imdb.com/title/tt0094721/?ref_=fn_tt_tt_1': u' 30 March 1988 (USA)\\n    ',\n",
       " 'http://www.imdb.com/title/tt0091129/?ref_=fn_tt_tt_1': u' 12 December 1986 (USA)\\n    ',\n",
       " 'http://www.imdb.com/title/tt0436697/?ref_=fn_tt_tt_1': u' 17 November 2006 (USA)\\n    ',\n",
       " 'http://www.imdb.com/title/tt1255953/?ref_=fn_tt_tt_1': u' 12 January 2011 (France)\\n    ',\n",
       " 'http://www.imdb.com/title/tt0419749/?ref_=fn_tt_tt_1': u' 17 March 2006 (USA)\\n    ',\n",
       " 'http://www.imdb.com/title/tt1714209/?ref_=fn_tt_tt_1': u' 16 February 2012 (Netherlands)\\n    ',\n",
       " 'http://www.imdb.com/title/tt1592873/?ref_=fn_tt_tt_1': u' 1 March 2012 (Singapore)\\n    ',\n",
       " 'http://www.imdb.com/title/tt0189998/?ref_=fn_tt_tt_1': u' 26 January 2001 (USA)\\n    ',\n",
       " 'http://www.imdb.com/title/tt1704573/?ref_=fn_tt_tt_1': u' 22 June 2012 (Iceland)\\n    ',\n",
       " 'http://www.imdb.com/title/tt0499554/?ref_=fn_tt_tt_1': u' 23 February 2007 (USA)\\n    ',\n",
       " 'http://www.imdb.com/title/tt0315983/?ref_=fn_tt_tt_1': u' 9 January 2004 (USA)\\n    ',\n",
       " 'http://www.imdb.com/title/tt0208092/?ref_=fn_tt_tt_1': u' 19 January 2001 (USA)\\n    ',\n",
       " 'http://www.imdb.com/title/tt0109686/?ref_=fn_tt_tt_1': u' 16 December 1994 (USA)\\n    ',\n",
       " 'http://www.imdb.com/title/tt0124879/?ref_=fn_tt_tt_1': u' 11 September 1998 (USA)\\n    ',\n",
       " 'http://www.imdb.com/title/tt0220099/?ref_=fn_tt_tt_1': u' 11 February 2000 (USA)\\n    ',\n",
       " 'http://www.imdb.com/title/tt0829459/?ref_=fn_tt_tt_1': u' 22 June 2007 (USA)\\n    ',\n",
       " 'http://www.imdb.com/title/tt0119229/?ref_=fn_tt_tt_1': u' 11 April 1997 (USA)\\n    ',\n",
       " 'http://www.imdb.com/title/tt0087451/?ref_=fn_tt_tt_1': u' 16 March 1984 (USA)\\n    ',\n",
       " 'http://www.imdb.com/title/tt1149362/?ref_=fn_tt_tt_1': u' 5 March 2010 (USA)\\n    ',\n",
       " 'http://www.imdb.com/title/tt1924429/?ref_=fn_tt_tt_1': u' 27 March 2013 (UK)\\n    ',\n",
       " 'http://www.imdb.com/title/tt1284575/?ref_=fn_tt_tt_1': u' 24 June 2011 (USA)\\n    ',\n",
       " 'http://www.imdb.com/title/tt1307068/?ref_=fn_tt_tt_1': u' 22 June 2012 (USA)\\n    ',\n",
       " 'http://www.imdb.com/title/tt0151804/?ref_=fn_tt_tt_1': u' 19 February 1999 (USA)\\n    ',\n",
       " 'http://www.imdb.com/title/tt0090329/?ref_=fn_tt_tt_1': u' 8 February 1985 (USA)\\n    ',\n",
       " 'http://www.imdb.com/title/tt0301390/?ref_=fn_tt_tt_1': u' 2 May 2003 (UK)\\n    ',\n",
       " 'http://www.imdb.com/title/tt1764234/?ref_=fn_tt_tt_1': u' 30 November 2012 (USA)\\n    ',\n",
       " 'http://www.imdb.com/title/tt0119572/?ref_=fn_tt_tt_1': u' 14 March 1997 (USA)\\n    ',\n",
       " 'http://www.imdb.com/title/tt0901487/?ref_=fn_tt_tt_1': u' 17 July 2008 (South Korea)\\n    ',\n",
       " 'http://www.imdb.com/title/tt0251736/?ref_=fn_tt_tt_1': u' 11 April 2003 (USA)\\n    ',\n",
       " 'http://www.imdb.com/title/tt0332379/?ref_=fn_tt_tt_1': u' 3 October 2003 (USA)\\n    ',\n",
       " 'http://www.imdb.com/title/tt0186045/?ref_=fn_tt_tt_1': u' 3 March 2000 (USA)\\n    ',\n",
       " 'http://www.imdb.com/title/tt0157503/?ref_=fn_tt_tt_1': u' 23 July 1999 (USA)\\n    ',\n",
       " 'http://www.imdb.com/title/tt0119304/?ref_=fn_tt_tt_1': u' 25 November 1998 (USA)\\n    ',\n",
       " 'http://www.imdb.com/title/tt1185344/?ref_=fn_tt_tt_1': u' 14 May 2010 (USA)\\n    ',\n",
       " 'http://www.imdb.com/title/tt0059113/?ref_=fn_tt_tt_1': u' 31 December 1965 (USA)\\n    ',\n",
       " 'http://www.imdb.com/title/tt0087428/?ref_=fn_tt_tt_1': u' 9 March 1984 (USA)\\n    ',\n",
       " 'http://www.imdb.com/title/tt2042568/?ref_=fn_tt_tt_1': u' 10 January 2014 (USA)\\n    ',\n",
       " 'http://www.imdb.com/title/tt2784678/?ref_=fn_tt_tt_1': u' 12 December 2014 (USA)\\n    ',\n",
       " 'http://www.imdb.com/title/tt1032815/?ref_=fn_tt_tt_1': u' 10 July 2009 (USA)\\n    ',\n",
       " 'http://www.imdb.com/title/tt0120693/?ref_=fn_tt_tt_1': u' 16 January 1998 (USA)\\n    ',\n",
       " 'http://www.imdb.com/title/tt0094862/?ref_=fn_tt_tt_1': u' 9 November 1988 (USA)\\n    ',\n",
       " 'http://www.imdb.com/title/tt0116745/?ref_=fn_tt_tt_1': u' 16 August 1996 (USA)\\n    ',\n",
       " 'http://www.imdb.com/title/tt0470765/?ref_=fn_tt_tt_1': u' 22 November 2006 (USA)\\n    ',\n",
       " 'http://www.imdb.com/title/tt0338013/?ref_=fn_tt_tt_1': u' 19 March 2004 (USA)\\n    ',\n",
       " 'http://www.imdb.com/title/tt1103275/?ref_=fn_tt_tt_1': u' 20 March 2009 (USA)\\n    ',\n",
       " 'http://www.imdb.com/title/tt0290879/?ref_=fn_tt_tt_1': u' 17 August 2001 (Thailand)\\n    ',\n",
       " 'http://www.imdb.com/title/tt0215129/?ref_=fn_tt_tt_1': u' 19 May 2000 (USA)\\n    ',\n",
       " 'http://www.imdb.com/title/tt1247662/?ref_=fn_tt_tt_1': u' 19 February 2010 (USA)\\n    ',\n",
       " 'http://www.imdb.com/title/tt0498353/?ref_=fn_tt_tt_1': u' 8 June 2007 (USA)\\n    ',\n",
       " 'http://www.imdb.com/title/tt0245429/?ref_=fn_tt_tt_1': u' 28 March 2003 (USA)\\n    ',\n",
       " 'http://www.imdb.com/title/tt1592525/?ref_=fn_tt_tt_1': u' 13 April 2012 (USA)\\n    ',\n",
       " 'http://www.imdb.com/title/tt0110857/?ref_=fn_tt_tt_1': u' 26 August 1994 (USA)\\n    ',\n",
       " 'http://www.imdb.com/title/tt0098625/?ref_=fn_tt_tt_1': u' 15 December 1989 (USA)\\n    ',\n",
       " 'http://www.imdb.com/title/tt1572315/?ref_=fn_tt_tt_1': u' 4 January 2013 (USA)\\n    ',\n",
       " 'http://www.imdb.com/title/tt0093010/?ref_=fn_tt_tt_1': u' 18 September 1987 (USA)\\n    ',\n",
       " 'http://www.imdb.com/title/tt0438315/?ref_=fn_tt_tt_1': u' 23 June 2006 (USA)\\n    ',\n",
       " 'http://www.imdb.com/title/tt0800241/?ref_=fn_tt_tt_1': u' 5 September 2008 (USA)\\n    ',\n",
       " 'http://www.imdb.com/title/tt0130444/?ref_=fn_tt_tt_1': u' 11 February 1999 (Germany)\\n    ',\n",
       " 'http://www.imdb.com/title/tt0108500/?ref_=fn_tt_tt_1': u' 12 July 1996 (USA)\\n    ',\n",
       " 'http://www.imdb.com/title/tt1596365/?ref_=fn_tt_tt_1': u' 3 February 2012 (USA)\\n    ',\n",
       " 'http://www.imdb.com/title/tt0434215/?ref_=fn_tt_tt_1': u' 20 October 2006 (USA)\\n    ',\n",
       " 'http://www.imdb.com/title/tt0083254/?ref_=fn_tt_tt_1': u' 31 July 1981 (USA)\\n    ',\n",
       " 'http://www.imdb.com/title/tt1800246/?ref_=fn_tt_tt_1': u' 31 January 2014 (USA)\\n    ',\n",
       " 'http://www.imdb.com/title/tt1130964/?ref_=fn_tt_tt_1': u' 25 March 2011 (USA)\\n    ',\n",
       " 'http://www.imdb.com/title/tt0163676/?ref_=fn_tt_tt_1': u' 19 July 2000 (USA)\\n    ',\n",
       " 'http://www.imdb.com/title/tt0083642/?ref_=fn_tt_tt_1': u' 23 July 1982 (USA)\\n    ',\n",
       " 'http://www.imdb.com/title/tt0361696/?ref_=fn_tt_tt_1': u' 8 October 2004 (USA)\\n    ',\n",
       " 'http://www.imdb.com/title/tt0405336/?ref_=fn_tt_tt_1': u' 7 December 2007 (UK)\\n    ',\n",
       " 'http://www.imdb.com/title/tt0265298/?ref_=fn_tt_tt_1': u' 8 February 2002 (USA)\\n    ',\n",
       " 'http://www.imdb.com/title/tt0085549/?ref_=fn_tt_tt_1': u' 15 April 1983 (USA)\\n    ',\n",
       " 'http://www.imdb.com/title/tt1972571/?ref_=fn_tt_tt_1': u' 1 August 2014 (USA)\\n    ',\n",
       " 'http://www.imdb.com/title/tt0343996/?ref_=fn_tt_tt_1': u' 26 May 2006 (USA)\\n    ',\n",
       " 'http://www.imdb.com/title/tt0113463/?ref_=fn_tt_tt_1': u' 31 March 1995 (USA)\\n    ',\n",
       " 'http://www.imdb.com/title/tt0098635/?ref_=fn_tt_tt_1': u' 21 July 1989 (USA)\\n    ',\n",
       " 'http://www.imdb.com/title/tt3531824/?ref_=fn_tt_tt_1': u' 27 July 2016 (USA)\\n    ',\n",
       " 'http://www.imdb.com/title/tt0168446/?ref_=fn_tt_tt_1': u' 8 September 2000 (Norway)\\n    ',\n",
       " 'http://www.imdb.com/title/tt0410454/?ref_=fn_tt_tt_1': u' 21 January 2005 (USA)\\n    ',\n",
       " 'http://www.imdb.com/title/tt1210042/?ref_=fn_tt_tt_1': u' 5 March 2010 (USA)\\n    ',\n",
       " 'http://www.imdb.com/title/tt0995039/?ref_=fn_tt_tt_1': u' 19 September 2008 (USA)\\n    ',\n",
       " 'http://www.imdb.com/title/tt0359517/?ref_=fn_tt_tt_1': u' 7 April 2004 (USA)\\n    ',\n",
       " 'http://www.imdb.com/title/tt0295289/?ref_=fn_tt_tt_1': u' 17 January 2003 (USA)\\n    ',\n",
       " 'http://www.imdb.com/title/tt0420087/?ref_=fn_tt_tt_1': u' 9 June 2006 (USA)\\n    ',\n",
       " 'http://www.imdb.com/title/tt2503954/?ref_=fn_tt_tt_1': u' 10 April 2015 (USA)\\n    ',\n",
       " 'http://www.imdb.com/title/tt1265990/?ref_=fn_tt_tt_1': u' 4 February 2011 (USA)\\n    ',\n",
       " 'http://www.imdb.com/title/tt1007018/?ref_=fn_tt_tt_1': u' 28 August 2009 (USA)\\n    ',\n",
       " 'http://www.imdb.com/title/tt0269341/?ref_=fn_tt_tt_1': u' 7 September 2001 (USA)\\n    ',\n",
       " 'http://www.imdb.com/title/tt0108399/?ref_=fn_tt_tt_1': u' 10 September 1993 (USA)\\n    ',\n",
       " 'http://www.imdb.com/title/tt0111686/?ref_=fn_tt_tt_1': u' 14 October 1994 (USA)\\n    ',\n",
       " 'http://www.imdb.com/title/tt0258068/?ref_=fn_tt_tt_1': u' 7 March 2003 (USA)\\n    ',\n",
       " 'http://www.imdb.com/title/tt0485601/?ref_=fn_tt_tt_1': u' 22 June 2016 (USA)\\n    ',\n",
       " 'http://www.imdb.com/title/tt0164114/?ref_=fn_tt_tt_1': u' 1 October 1999 (USA)\\n    ',\n",
       " 'http://www.imdb.com/title/tt1980929/?ref_=fn_tt_tt_1': u' 11 July 2014 (USA)\\n    ',\n",
       " 'http://www.imdb.com/title/tt0089767/?ref_=fn_tt_tt_1': u' 28 June 1985 (USA)\\n    ',\n",
       " 'http://www.imdb.com/title/tt0120601/?ref_=fn_tt_tt_1': u' 3 December 1999 (USA)\\n    ',\n",
       " 'http://www.imdb.com/title/tt0430431/?ref_=fn_tt_tt_1': u' 13 October 2006 (USA)\\n    ',\n",
       " 'http://www.imdb.com/title/tt0785035/?ref_=fn_tt_tt_1': u' 4 December 2008 (Thailand)\\n    ',\n",
       " 'http://www.imdb.com/title/tt0145893/?ref_=fn_tt_tt_1': u' 5 February 1999 (USA)\\n    ',\n",
       " 'http://www.imdb.com/title/tt1929263/?ref_=fn_tt_tt_1': u' 16 April 2014 (USA)\\n    ',\n",
       " 'http://www.imdb.com/title/tt0217630/?ref_=fn_tt_tt_1': u' 21 July 2000 (USA)\\n    ',\n",
       " 'http://www.imdb.com/title/tt0088247/?ref_=fn_tt_tt_1': u' 26 October 1984 (USA)\\n    ',\n",
       " 'http://www.imdb.com/title/tt0417225/?ref_=fn_tt_tt_1': u' 25 August 2006 (USA)\\n    ',\n",
       " 'http://www.imdb.com/title/tt0139699/?ref_=fn_tt_tt_1': u' 15 January 1999 (USA)\\n    ',\n",
       " 'http://www.imdb.com/title/tt2937898/?ref_=fn_tt_tt_1': u' 30 January 2015 (USA)\\n    ',\n",
       " 'http://www.imdb.com/title/tt0475998/?ref_=fn_tt_tt_1': u' 11 January 2008 (USA)\\n    ',\n",
       " 'http://www.imdb.com/title/tt0089893/?ref_=fn_tt_tt_1': u' 3 July 1985 (USA)\\n    ',\n",
       " 'http://www.imdb.com/title/tt0096487/?ref_=fn_tt_tt_1': u' 12 August 1988 (USA)\\n    ',\n",
       " 'http://www.imdb.com/title/tt0083944/?ref_=fn_tt_tt_1': u' 22 October 1982 (USA)\\n    ',\n",
       " 'http://www.imdb.com/title/tt0446755/?ref_=fn_tt_tt_1': u' 19 January 2007 (USA)\\n    ',\n",
       " 'http://www.imdb.com/title/tt1772288/?ref_=fn_tt_tt_1': u' 10 April 2015 (USA)\\n    ',\n",
       " 'http://www.imdb.com/title/tt0964539/?ref_=fn_tt_tt_1': u' 11 April 2008 (UK)\\n    ',\n",
       " 'http://www.imdb.com/title/tt1712261/?ref_=fn_tt_tt_1': u' 26 February 2016 (USA)\\n    ',\n",
       " 'http://www.imdb.com/title/tt1191111/?ref_=fn_tt_tt_1': u' 5 May 2010 (France)\\n    ',\n",
       " 'http://www.imdb.com/title/tt0326856/?ref_=fn_tt_tt_1': u' 30 April 2004 (USA)\\n    ',\n",
       " 'http://www.imdb.com/title/tt0263488/?ref_=fn_tt_tt_1': u' 31 August 2001 (USA)\\n    ',\n",
       " 'http://www.imdb.com/title/tt2872718/?ref_=fn_tt_tt_1': u' 31 October 2014 (USA)\\n    ',\n",
       " 'http://www.imdb.com/title/tt0144814/?ref_=fn_tt_tt_1': u' 12 March 1999 (USA)\\n    ',\n",
       " 'http://www.imdb.com/title/tt0985694/?ref_=fn_tt_tt_1': u' 3 September 2010 (USA)\\n    ',\n",
       " 'http://www.imdb.com/title/tt0116477/?ref_=fn_tt_tt_1': u' 25 December 1996 (USA)\\n    ',\n",
       " 'http://www.imdb.com/title/tt0158983/?ref_=fn_tt_tt_1': u' 30 June 1999 (USA)\\n    ',\n",
       " 'http://www.imdb.com/title/tt0106950/?ref_=fn_tt_tt_1': u' 3 September 1993 (USA)\\n    ',\n",
       " 'http://www.imdb.com/title/tt0107750/?ref_=fn_tt_tt_1': u' 27 August 1993 (USA)\\n    ',\n",
       " 'http://www.imdb.com/title/tt1668200/?ref_=fn_tt_tt_1': u' 22 July 2011 (USA)\\n    ',\n",
       " 'http://www.imdb.com/title/tt2975578/?ref_=fn_tt_tt_1': u' 18 July 2014 (USA)\\n    ',\n",
       " 'http://www.imdb.com/title/tt0398027/?ref_=fn_tt_tt_1': u' 9 December 2005 (Sweden)\\n    ',\n",
       " 'http://www.imdb.com/title/tt0337917/?ref_=fn_tt_tt_1': u' 6 February 2004 (USA)\\n    ',\n",
       " 'http://www.imdb.com/title/tt2870708/?ref_=fn_tt_tt_1': u' 25 July 2014 (USA)\\n    ',\n",
       " 'http://www.imdb.com/title/tt0457308/?ref_=fn_tt_tt_1': u' 31 August 2007 (Brazil)\\n    ',\n",
       " 'http://www.imdb.com/title/tt0100168/?ref_=fn_tt_tt_1': u' 3 August 1990 (USA)\\n    ',\n",
       " 'http://www.imdb.com/title/tt0083767/?ref_=fn_tt_tt_1': u' 12 November 1982 (USA)\\n    ',\n",
       " 'http://www.imdb.com/title/tt0116493/?ref_=fn_tt_tt_1': u' 10 July 1996 (USA)\\n    ',\n",
       " 'http://www.imdb.com/title/tt4257926/?ref_=fn_tt_tt_1': u' 16 March 2016 (USA)\\n    ',\n",
       " 'http://www.imdb.com/title/tt2404425/?ref_=fn_tt_tt_1': u' 10 April 2015 (USA)\\n    ',\n",
       " 'http://www.imdb.com/title/tt3170832/?ref_=fn_tt_tt_1': u' 22 January 2016 (USA)\\n    ',\n",
       " 'http://www.imdb.com/title/tt0139134/?ref_=fn_tt_tt_1': u' 5 March 1999 (USA)\\n    ',\n",
       " 'http://www.imdb.com/title/tt2247476/?ref_=fn_tt_tt_1': u' 22 August 2014 (USA)\\n    ',\n",
       " 'http://www.imdb.com/title/tt0356470/?ref_=fn_tt_tt_1': u' 16 July 2004 (USA)\\n    ',\n",
       " 'http://www.imdb.com/title/tt2402157/?ref_=fn_tt_tt_1': u' 27 August 2014 (USA)\\n    ',\n",
       " 'http://www.imdb.com/title/tt0427944/?ref_=fn_tt_tt_1': u' 14 April 2006 (USA)\\n    ',\n",
       " 'http://www.imdb.com/title/tt0107822/?ref_=fn_tt_tt_1': u' 11 February 1994 (USA)\\n    ',\n",
       " 'http://www.imdb.com/title/tt1225822/?ref_=fn_tt_tt_1': u' 4 September 2009 (USA)\\n    ',\n",
       " 'http://www.imdb.com/title/tt0439289/?ref_=fn_tt_tt_1': u' 27 October 2006 (USA)\\n    ',\n",
       " 'http://www.imdb.com/title/tt0101764/?ref_=fn_tt_tt_1': u' 9 August 1991 (USA)\\n    ',\n",
       " 'http://www.imdb.com/title/tt0099785/?ref_=fn_tt_tt_1': u' 16 November 1990 (USA)\\n    ',\n",
       " 'http://www.imdb.com/title/tt0817177/?ref_=fn_tt_tt_1': u' 10 September 2010 (USA)\\n    ',\n",
       " 'http://www.imdb.com/title/tt0242998/?ref_=fn_tt_tt_1': u' 2 February 2001 (USA)\\n    ',\n",
       " 'http://www.imdb.com/title/tt1457767/?ref_=fn_tt_tt_1': u' 19 July 2013 (USA)\\n    ',\n",
       " 'http://www.imdb.com/title/tt1571222/?ref_=fn_tt_tt_1': u' 10 November 2011 (Germany)\\n    ',\n",
       " 'http://www.imdb.com/title/tt0088161/?ref_=fn_tt_tt_1': u' 9 March 1984 (USA)\\n    ',\n",
       " 'http://www.imdb.com/title/tt0758758/?ref_=fn_tt_tt_1': u' 19 October 2007 (USA)\\n    ',\n",
       " 'http://www.imdb.com/title/tt4178092/?ref_=fn_tt_tt_1': u' 7 August 2015 (USA)\\n    ',\n",
       " 'http://www.imdb.com/title/tt0102744/?ref_=fn_tt_tt_1': u' 19 October 1990 (USA)\\n    ',\n",
       " 'http://www.imdb.com/title/tt0443453/?ref_=fn_tt_tt_1': u' 3 November 2006 (USA)\\n    ',\n",
       " 'http://www.imdb.com/title/tt0205000/?ref_=fn_tt_tt_1': u' 10 December 1999 (USA)\\n    ',\n",
       " 'http://www.imdb.com/title/tt0248845/?ref_=fn_tt_tt_1': u' 31 August 2001 (USA)\\n    ',\n",
       " 'http://www.imdb.com/title/tt0114608/?ref_=fn_tt_tt_1': u' 13 January 1995 (USA)\\n    ',\n",
       " 'http://www.imdb.com/title/tt0111127/?ref_=fn_tt_tt_1': u' 13 April 1994 (USA)\\n    ',\n",
       " 'http://www.imdb.com/title/tt0466893/?ref_=fn_tt_tt_1': u' 1 June 2012 (Italy)\\n    ',\n",
       " 'http://www.imdb.com/title/tt0384680/?ref_=fn_tt_tt_1': u' 28 October 2005 (USA)\\n    ',\n",
       " 'http://www.imdb.com/title/tt0081375/?ref_=fn_tt_tt_1': u' 10 October 1980 (USA)\\n    ',\n",
       " 'http://www.imdb.com/title/tt0372588/?ref_=fn_tt_tt_1': u' 15 October 2004 (USA)\\n    ',\n",
       " 'http://www.imdb.com/title/tt0097165/?ref_=fn_tt_tt_1': u' 9 June 1989 (USA)\\n    ',\n",
       " 'http://www.imdb.com/title/tt0078748/?ref_=fn_tt_tt_1': u' 22 June 1979 (USA)\\n    ',\n",
       " 'http://www.imdb.com/title/tt2649554/?ref_=fn_tt_tt_1': u' 21 April 2016 (Greece)\\n    ',\n",
       " 'http://www.imdb.com/title/tt0119937/?ref_=fn_tt_tt_1': u' 24 January 1997 (USA)\\n    ',\n",
       " 'http://www.imdb.com/title/tt0279113/?ref_=fn_tt_tt_1': u' 30 August 2002 (USA)\\n    ',\n",
       " 'http://www.imdb.com/title/tt0204946/?ref_=fn_tt_tt_1': u' 25 August 2000 (USA)\\n    ',\n",
       " 'http://www.imdb.com/title/tt3231054/?ref_=fn_tt_tt_1': u' 19 February 2016 (USA)\\n    ',\n",
       " 'http://www.imdb.com/title/tt1306980/?ref_=fn_tt_tt_1': u' 30 September 2011 (USA)\\n    ',\n",
       " 'http://www.imdb.com/title/tt0168629/?ref_=fn_tt_tt_1': u' 6 October 2000 (USA)\\n    ',\n",
       " 'http://www.imdb.com/title/tt0058085/?ref_=fn_tt_tt_1': u' 26 March 1964 (USA)\\n    ',\n",
       " 'http://www.imdb.com/title/tt0086984/?ref_=fn_tt_tt_1': u' 26 October 1984 (USA)\\n    ',\n",
       " 'http://www.imdb.com/title/tt0279781/?ref_=fn_tt_tt_1': u' 22 March 2002 (USA)\\n    ',\n",
       " 'http://www.imdb.com/title/tt0164085/?ref_=fn_tt_tt_1': u' 7 July 1999 (France)\\n    ',\n",
       " 'http://www.imdb.com/title/tt0094074/?ref_=fn_tt_tt_1': u' 24 July 1987 (USA)\\n    ',\n",
       " 'http://www.imdb.com/title/tt1125849/?ref_=fn_tt_tt_1': u' 30 January 2009 (USA)\\n    ',\n",
       " 'http://www.imdb.com/title/tt0075909/?ref_=fn_tt_tt_1': u' 21 October 1977 (USA)\\n    ',\n",
       " 'http://www.imdb.com/title/tt2436386/?ref_=fn_tt_tt_1': u' 30 January 2015 (USA)\\n    ',\n",
       " 'http://www.imdb.com/title/tt1371155/?ref_=fn_tt_tt_1': u' 20 September 2010 (UK)\\n    ',\n",
       " 'http://www.imdb.com/title/tt0810784/?ref_=fn_tt_tt_1': u' 9 October 2009 (USA)\\n    ',\n",
       " 'http://www.imdb.com/title/tt1477076/?ref_=fn_tt_tt_1': u' 29 October 2010 (USA)\\n    ',\n",
       " 'http://www.imdb.com/title/tt0272207/?ref_=fn_tt_tt_1': u' 10 January 2003 (USA)\\n    ',\n",
       " 'http://www.imdb.com/title/tt1666186/?ref_=fn_tt_tt_1': u' 18 August 2010 (USA)\\n    ',\n",
       " 'http://www.imdb.com/title/tt0144168/?ref_=fn_tt_tt_1': u' 4 August 1999 (USA)\\n    ',\n",
       " 'http://www.imdb.com/title/tt0800320/?ref_=fn_tt_tt_1': u' 2 April 2010 (USA)\\n    ',\n",
       " 'http://www.imdb.com/title/tt2494384/?ref_=fn_tt_tt_1': u' 23 January 2015 (Spain)\\n    ',\n",
       " 'http://www.imdb.com/title/tt0384806/?ref_=fn_tt_tt_1': u' 15 April 2005 (USA)\\n    ',\n",
       " 'http://www.imdb.com/title/tt0462229/?ref_=fn_tt_tt_1': u' 5 January 2007 (USA)\\n    ',\n",
       " 'http://www.imdb.com/title/tt0097815/?ref_=fn_tt_tt_1': u' 7 April 1989 (USA)\\n    ',\n",
       " 'http://www.imdb.com/title/tt0310357/?ref_=fn_tt_tt_1': u' 14 March 2003 (USA)\\n    ',\n",
       " 'http://www.imdb.com/title/tt0314676/?ref_=fn_tt_tt_1': u' 14 November 2003 (UK)\\n    ',\n",
       " 'http://www.imdb.com/title/tt0250371/?ref_=fn_tt_tt_1': u' 12 April 2002 (USA)\\n    ',\n",
       " 'http://www.imdb.com/title/tt1412386/?ref_=fn_tt_tt_1': u' 25 May 2012 (USA)\\n    ',\n",
       " 'http://www.imdb.com/title/tt1289406/?ref_=fn_tt_tt_1': u' 14 May 2010 (USA)\\n    ',\n",
       " 'http://www.imdb.com/title/tt0056800/?ref_=fn_tt_tt_1': u' 6 May 1963 (UK)\\n    ',\n",
       " 'http://www.imdb.com/title/tt0120531/?ref_=fn_tt_tt_1': u' 8 May 1998 (USA)\\n    ',\n",
       " 'http://www.imdb.com/title/tt0173716/?ref_=fn_tt_tt_1': u' 1 September 2000 (USA)\\n    ',\n",
       " 'http://www.imdb.com/title/tt1213012/?ref_=fn_tt_tt_1': u' 17 September 2010 (USA)\\n    ',\n",
       " 'http://www.imdb.com/title/tt0270980/?ref_=fn_tt_tt_1': u' 22 August 2003 (USA)\\n    ',\n",
       " 'http://www.imdb.com/title/tt0087538/?ref_=fn_tt_tt_1': u' 22 June 1984 (USA)\\n    ',\n",
       " 'http://www.imdb.com/title/tt0082934/?ref_=fn_tt_tt_1': u' 20 March 1981 (USA)\\n    ',\n",
       " 'http://www.imdb.com/title/tt0077269/?ref_=fn_tt_tt_1': u' 6 October 1978 (USA)\\n    ',\n",
       " 'http://www.imdb.com/title/tt1282140/?ref_=fn_tt_tt_1': u' 17 September 2010 (USA)\\n    ',\n",
       " 'http://www.imdb.com/title/tt0498380/?ref_=fn_tt_tt_1': u' 2 February 2007 (USA)\\n    ',\n",
       " 'http://www.imdb.com/title/tt1291150/?ref_=fn_tt_tt_1': u' 8 August 2014 (USA)\\n    ',\n",
       " 'http://www.imdb.com/title/tt1629757/?ref_=fn_tt_tt_1': u' 26 October 2012 (USA)\\n    ',\n",
       " 'http://www.imdb.com/title/tt1315981/?ref_=fn_tt_tt_1': u' 5 February 2010 (USA)\\n    ',\n",
       " 'http://www.imdb.com/title/tt1563738/?ref_=fn_tt_tt_1': u' 19 August 2011 (USA)\\n    ',\n",
       " 'http://www.imdb.com/title/tt0785007/?ref_=fn_tt_tt_1': u' 1 February 2008 (USA)\\n    ',\n",
       " 'http://www.imdb.com/title/tt0286261/?ref_=fn_tt_tt_1': u' 18 October 2002 (UK)\\n    ',\n",
       " ...}"
      ]
     },
     "execution_count": 112,
     "metadata": {},
     "output_type": "execute_result"
    }
   ],
   "source": [
    "imdb_month_2"
   ]
  },
  {
   "cell_type": "code",
   "execution_count": null,
   "metadata": {
    "collapsed": true
   },
   "outputs": [],
   "source": []
  },
  {
   "cell_type": "code",
   "execution_count": null,
   "metadata": {
    "collapsed": true
   },
   "outputs": [],
   "source": []
  },
  {
   "cell_type": "code",
   "execution_count": null,
   "metadata": {
    "collapsed": true
   },
   "outputs": [],
   "source": []
  },
  {
   "cell_type": "code",
   "execution_count": 85,
   "metadata": {
    "collapsed": false
   },
   "outputs": [],
   "source": [
    "r = requests.get('https://www.imdb.com/title/tt0398286/?ref_=fn_tt_tt_1')\n",
    "text = r.text\n",
    "soup = BeautifulSoup(text)\n",
    "month_location = soup.find(name='h4', attrs={'class':'inline'}, string='Release Date:')"
   ]
  },
  {
   "cell_type": "code",
   "execution_count": 88,
   "metadata": {
    "collapsed": false
   },
   "outputs": [
    {
     "data": {
      "text/plain": [
       "u' 24 November 2010 (USA)\\n    '"
      ]
     },
     "execution_count": 88,
     "metadata": {},
     "output_type": "execute_result"
    }
   ],
   "source": [
    "month_location.nextSibling"
   ]
  },
  {
   "cell_type": "code",
   "execution_count": null,
   "metadata": {
    "collapsed": true
   },
   "outputs": [],
   "source": []
  }
 ],
 "metadata": {
  "kernelspec": {
   "display_name": "Python 2",
   "language": "python",
   "name": "python2"
  },
  "language_info": {
   "codemirror_mode": {
    "name": "ipython",
    "version": 2
   },
   "file_extension": ".py",
   "mimetype": "text/x-python",
   "name": "python",
   "nbconvert_exporter": "python",
   "pygments_lexer": "ipython2",
   "version": "2.7.11"
  }
 },
 "nbformat": 4,
 "nbformat_minor": 1
}
