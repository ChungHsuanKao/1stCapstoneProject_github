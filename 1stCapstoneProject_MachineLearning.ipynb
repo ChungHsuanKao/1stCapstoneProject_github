{
 "cells": [
  {
   "cell_type": "code",
   "execution_count": 2,
   "metadata": {
    "collapsed": true
   },
   "outputs": [],
   "source": [
    "import pandas as pd\n",
    "import numpy as np\n",
    "import math\n",
    "from collections import Counter\n",
    "import re\n",
    "import json\n",
    "import requests\n",
    "from bs4 import BeautifulSoup\n",
    "import datetime\n",
    "from pprint import pprint"
   ]
  },
  {
   "cell_type": "code",
   "execution_count": 3,
   "metadata": {
    "collapsed": true
   },
   "outputs": [],
   "source": [
    "import matplotlib.pyplot as plt\n",
    "import seaborn as sns\n",
    "%matplotlib inline"
   ]
  },
  {
   "cell_type": "code",
   "execution_count": 4,
   "metadata": {
    "collapsed": false
   },
   "outputs": [
    {
     "data": {
      "text/html": [
       "<div>\n",
       "<style scoped>\n",
       "    .dataframe tbody tr th:only-of-type {\n",
       "        vertical-align: middle;\n",
       "    }\n",
       "\n",
       "    .dataframe tbody tr th {\n",
       "        vertical-align: top;\n",
       "    }\n",
       "\n",
       "    .dataframe thead th {\n",
       "        text-align: right;\n",
       "    }\n",
       "</style>\n",
       "<table border=\"1\" class=\"dataframe\">\n",
       "  <thead>\n",
       "    <tr style=\"text-align: right;\">\n",
       "      <th></th>\n",
       "      <th>color</th>\n",
       "      <th>director_name</th>\n",
       "      <th>num_critic_for_reviews</th>\n",
       "      <th>duration</th>\n",
       "      <th>director_facebook_likes</th>\n",
       "      <th>actor_3_facebook_likes</th>\n",
       "      <th>actor_2_name</th>\n",
       "      <th>actor_1_facebook_likes</th>\n",
       "      <th>gross</th>\n",
       "      <th>genres</th>\n",
       "      <th>...</th>\n",
       "      <th>num_user_for_reviews</th>\n",
       "      <th>language</th>\n",
       "      <th>country</th>\n",
       "      <th>content_rating</th>\n",
       "      <th>budget</th>\n",
       "      <th>title_year</th>\n",
       "      <th>actor_2_facebook_likes</th>\n",
       "      <th>imdb_score</th>\n",
       "      <th>aspect_ratio</th>\n",
       "      <th>movie_facebook_likes</th>\n",
       "    </tr>\n",
       "  </thead>\n",
       "  <tbody>\n",
       "    <tr>\n",
       "      <th>0</th>\n",
       "      <td>Color</td>\n",
       "      <td>James Cameron</td>\n",
       "      <td>723.0</td>\n",
       "      <td>178.0</td>\n",
       "      <td>0.0</td>\n",
       "      <td>855.0</td>\n",
       "      <td>Joel David Moore</td>\n",
       "      <td>1000.0</td>\n",
       "      <td>760505847.0</td>\n",
       "      <td>Action|Adventure|Fantasy|Sci-Fi</td>\n",
       "      <td>...</td>\n",
       "      <td>3054.0</td>\n",
       "      <td>English</td>\n",
       "      <td>USA</td>\n",
       "      <td>PG-13</td>\n",
       "      <td>237000000.0</td>\n",
       "      <td>2009.0</td>\n",
       "      <td>936.0</td>\n",
       "      <td>7.9</td>\n",
       "      <td>1.78</td>\n",
       "      <td>33000</td>\n",
       "    </tr>\n",
       "    <tr>\n",
       "      <th>1</th>\n",
       "      <td>Color</td>\n",
       "      <td>Gore Verbinski</td>\n",
       "      <td>302.0</td>\n",
       "      <td>169.0</td>\n",
       "      <td>563.0</td>\n",
       "      <td>1000.0</td>\n",
       "      <td>Orlando Bloom</td>\n",
       "      <td>40000.0</td>\n",
       "      <td>309404152.0</td>\n",
       "      <td>Action|Adventure|Fantasy</td>\n",
       "      <td>...</td>\n",
       "      <td>1238.0</td>\n",
       "      <td>English</td>\n",
       "      <td>USA</td>\n",
       "      <td>PG-13</td>\n",
       "      <td>300000000.0</td>\n",
       "      <td>2007.0</td>\n",
       "      <td>5000.0</td>\n",
       "      <td>7.1</td>\n",
       "      <td>2.35</td>\n",
       "      <td>0</td>\n",
       "    </tr>\n",
       "    <tr>\n",
       "      <th>2</th>\n",
       "      <td>Color</td>\n",
       "      <td>Sam Mendes</td>\n",
       "      <td>602.0</td>\n",
       "      <td>148.0</td>\n",
       "      <td>0.0</td>\n",
       "      <td>161.0</td>\n",
       "      <td>Rory Kinnear</td>\n",
       "      <td>11000.0</td>\n",
       "      <td>200074175.0</td>\n",
       "      <td>Action|Adventure|Thriller</td>\n",
       "      <td>...</td>\n",
       "      <td>994.0</td>\n",
       "      <td>English</td>\n",
       "      <td>UK</td>\n",
       "      <td>PG-13</td>\n",
       "      <td>245000000.0</td>\n",
       "      <td>2015.0</td>\n",
       "      <td>393.0</td>\n",
       "      <td>6.8</td>\n",
       "      <td>2.35</td>\n",
       "      <td>85000</td>\n",
       "    </tr>\n",
       "    <tr>\n",
       "      <th>3</th>\n",
       "      <td>Color</td>\n",
       "      <td>Christopher Nolan</td>\n",
       "      <td>813.0</td>\n",
       "      <td>164.0</td>\n",
       "      <td>22000.0</td>\n",
       "      <td>23000.0</td>\n",
       "      <td>Christian Bale</td>\n",
       "      <td>27000.0</td>\n",
       "      <td>448130642.0</td>\n",
       "      <td>Action|Thriller</td>\n",
       "      <td>...</td>\n",
       "      <td>2701.0</td>\n",
       "      <td>English</td>\n",
       "      <td>USA</td>\n",
       "      <td>PG-13</td>\n",
       "      <td>250000000.0</td>\n",
       "      <td>2012.0</td>\n",
       "      <td>23000.0</td>\n",
       "      <td>8.5</td>\n",
       "      <td>2.35</td>\n",
       "      <td>164000</td>\n",
       "    </tr>\n",
       "    <tr>\n",
       "      <th>5</th>\n",
       "      <td>Color</td>\n",
       "      <td>Andrew Stanton</td>\n",
       "      <td>462.0</td>\n",
       "      <td>132.0</td>\n",
       "      <td>475.0</td>\n",
       "      <td>530.0</td>\n",
       "      <td>Samantha Morton</td>\n",
       "      <td>640.0</td>\n",
       "      <td>73058679.0</td>\n",
       "      <td>Action|Adventure|Sci-Fi</td>\n",
       "      <td>...</td>\n",
       "      <td>738.0</td>\n",
       "      <td>English</td>\n",
       "      <td>USA</td>\n",
       "      <td>PG-13</td>\n",
       "      <td>263700000.0</td>\n",
       "      <td>2012.0</td>\n",
       "      <td>632.0</td>\n",
       "      <td>6.6</td>\n",
       "      <td>2.35</td>\n",
       "      <td>24000</td>\n",
       "    </tr>\n",
       "  </tbody>\n",
       "</table>\n",
       "<p>5 rows × 28 columns</p>\n",
       "</div>"
      ],
      "text/plain": [
       "   color      director_name  num_critic_for_reviews  duration  \\\n",
       "0  Color      James Cameron                   723.0     178.0   \n",
       "1  Color     Gore Verbinski                   302.0     169.0   \n",
       "2  Color         Sam Mendes                   602.0     148.0   \n",
       "3  Color  Christopher Nolan                   813.0     164.0   \n",
       "5  Color     Andrew Stanton                   462.0     132.0   \n",
       "\n",
       "   director_facebook_likes  actor_3_facebook_likes      actor_2_name  \\\n",
       "0                      0.0                   855.0  Joel David Moore   \n",
       "1                    563.0                  1000.0     Orlando Bloom   \n",
       "2                      0.0                   161.0      Rory Kinnear   \n",
       "3                  22000.0                 23000.0    Christian Bale   \n",
       "5                    475.0                   530.0   Samantha Morton   \n",
       "\n",
       "   actor_1_facebook_likes        gross                           genres  \\\n",
       "0                  1000.0  760505847.0  Action|Adventure|Fantasy|Sci-Fi   \n",
       "1                 40000.0  309404152.0         Action|Adventure|Fantasy   \n",
       "2                 11000.0  200074175.0        Action|Adventure|Thriller   \n",
       "3                 27000.0  448130642.0                  Action|Thriller   \n",
       "5                   640.0   73058679.0          Action|Adventure|Sci-Fi   \n",
       "\n",
       "          ...          num_user_for_reviews language  country  content_rating  \\\n",
       "0         ...                        3054.0  English      USA           PG-13   \n",
       "1         ...                        1238.0  English      USA           PG-13   \n",
       "2         ...                         994.0  English       UK           PG-13   \n",
       "3         ...                        2701.0  English      USA           PG-13   \n",
       "5         ...                         738.0  English      USA           PG-13   \n",
       "\n",
       "        budget  title_year actor_2_facebook_likes imdb_score  aspect_ratio  \\\n",
       "0  237000000.0      2009.0                  936.0        7.9          1.78   \n",
       "1  300000000.0      2007.0                 5000.0        7.1          2.35   \n",
       "2  245000000.0      2015.0                  393.0        6.8          2.35   \n",
       "3  250000000.0      2012.0                23000.0        8.5          2.35   \n",
       "5  263700000.0      2012.0                  632.0        6.6          2.35   \n",
       "\n",
       "  movie_facebook_likes  \n",
       "0                33000  \n",
       "1                    0  \n",
       "2                85000  \n",
       "3               164000  \n",
       "5                24000  \n",
       "\n",
       "[5 rows x 28 columns]"
      ]
     },
     "execution_count": 4,
     "metadata": {},
     "output_type": "execute_result"
    }
   ],
   "source": [
    "# load wrangle.csv file\n",
    "df = pd.read_csv('wrangle.csv', index_col=0)\n",
    "df.head()"
   ]
  },
  {
   "cell_type": "code",
   "execution_count": 5,
   "metadata": {
    "collapsed": false
   },
   "outputs": [],
   "source": [
    "# add revenue column\n",
    "# change unit to 1 million\n",
    "df['revenue'] = df.gross - df.budget\n",
    "df.budget = df['budget'] / 1000000\n",
    "df.gross = df['gross'] / 1000000\n",
    "df.revenue = df['revenue'] / 1000000\n"
   ]
  },
  {
   "cell_type": "code",
   "execution_count": 6,
   "metadata": {
    "collapsed": false
   },
   "outputs": [],
   "source": [
    "# remove gross column\n",
    "df = df.drop('gross', axis=1)"
   ]
  },
  {
   "cell_type": "markdown",
   "metadata": {},
   "source": [
    "### Add month column"
   ]
  },
  {
   "cell_type": "code",
   "execution_count": 7,
   "metadata": {
    "collapsed": true
   },
   "outputs": [],
   "source": [
    "import json\n",
    "with open('scraping/imdb_month.json', 'r') as f:\n",
    "    imdb_month = json.load(f)"
   ]
  },
  {
   "cell_type": "code",
   "execution_count": 8,
   "metadata": {
    "collapsed": false
   },
   "outputs": [],
   "source": [
    "# use link to put month into month column\n",
    "df['month'] = df.movie_imdb_link.map(imdb_month)"
   ]
  },
  {
   "cell_type": "code",
   "execution_count": 9,
   "metadata": {
    "collapsed": false
   },
   "outputs": [],
   "source": [
    "df.loc[:, 'month'] = df['month'].str[0]"
   ]
  },
  {
   "cell_type": "code",
   "execution_count": 10,
   "metadata": {
    "collapsed": false
   },
   "outputs": [
    {
     "data": {
      "text/plain": [
       "0"
      ]
     },
     "execution_count": 10,
     "metadata": {},
     "output_type": "execute_result"
    }
   ],
   "source": [
    "# remove all NaNs from month list\n",
    "df = df.dropna(axis=0)\n",
    "len(df[df.month.isnull()])"
   ]
  },
  {
   "cell_type": "code",
   "execution_count": 11,
   "metadata": {
    "collapsed": false
   },
   "outputs": [],
   "source": [
    "df.loc[:, 'month'] =df.loc[:, 'month'].str.replace('\\d+ ', '')"
   ]
  },
  {
   "cell_type": "code",
   "execution_count": 12,
   "metadata": {
    "collapsed": false
   },
   "outputs": [],
   "source": [
    "# change month to datetime format\n",
    "df.loc[:, 'month'] = pd.to_datetime(df['month'], format='%B', errors='coerce').dt.month"
   ]
  },
  {
   "cell_type": "code",
   "execution_count": 13,
   "metadata": {
    "collapsed": false
   },
   "outputs": [
    {
     "name": "stdout",
     "output_type": "stream",
     "text": [
      "Movie data now has 3569 observations\n"
     ]
    }
   ],
   "source": [
    "print \"Movie data now has {} observations\".format(len(df))"
   ]
  },
  {
   "cell_type": "code",
   "execution_count": 14,
   "metadata": {
    "collapsed": false
   },
   "outputs": [],
   "source": [
    "# reset index to a sequential number\n",
    "df = df.reset_index(drop=True)"
   ]
  },
  {
   "cell_type": "markdown",
   "metadata": {},
   "source": [
    "### Drop budget column"
   ]
  },
  {
   "cell_type": "code",
   "execution_count": 15,
   "metadata": {
    "collapsed": true
   },
   "outputs": [],
   "source": [
    "df = df.drop('budget', axis=1)"
   ]
  },
  {
   "cell_type": "markdown",
   "metadata": {
    "collapsed": false
   },
   "source": [
    "**Subgroup budget by positive or negative revenue**\n",
    "df['budget_group'] = np.NaN\n",
    "for i in range(0, 3569):\n",
    "    if df.loc[i, 'revenue'] > 0:\n",
    "        df.loc[i, 'budget_group'] = 1\n",
    "    else:\n",
    "        df.loc[i, 'budget_group'] = 0"
   ]
  },
  {
   "cell_type": "markdown",
   "metadata": {},
   "source": [
    "### Transform color into numerics"
   ]
  },
  {
   "cell_type": "code",
   "execution_count": 16,
   "metadata": {
    "collapsed": true
   },
   "outputs": [],
   "source": [
    "for i in range(0, 3569):\n",
    "    if df.loc[i, 'color'] == 'Color':\n",
    "        df.loc[i, 'color'] = 1\n",
    "    else:\n",
    "        df.loc[i, 'color'] = 0"
   ]
  },
  {
   "cell_type": "markdown",
   "metadata": {},
   "source": [
    "### Replace director_name to their frequency"
   ]
  },
  {
   "cell_type": "code",
   "execution_count": 17,
   "metadata": {
    "collapsed": true
   },
   "outputs": [],
   "source": [
    "director_freq = Counter(df.director_name)"
   ]
  },
  {
   "cell_type": "code",
   "execution_count": 18,
   "metadata": {
    "collapsed": false
   },
   "outputs": [],
   "source": [
    "df.director_name = df.director_name.map(director_freq)"
   ]
  },
  {
   "cell_type": "markdown",
   "metadata": {},
   "source": [
    "### Replace actor_name to their frequency"
   ]
  },
  {
   "cell_type": "code",
   "execution_count": 29,
   "metadata": {
    "collapsed": false
   },
   "outputs": [],
   "source": [
    "actor = ['actor_1_name', 'actor_2_name', 'actor_3_name']\n",
    "for i in actor:\n",
    "    freq = Counter(df[i])\n",
    "    df[i] = df[i].map(freq)"
   ]
  },
  {
   "cell_type": "markdown",
   "metadata": {},
   "source": [
    "### Transform genres column to dummies"
   ]
  },
  {
   "cell_type": "code",
   "execution_count": 19,
   "metadata": {
    "collapsed": true
   },
   "outputs": [],
   "source": [
    "s = df['genres'].str.split('|', expand=False)\n",
    "dummy = pd.get_dummies(s.apply(pd.Series).stack()).sum(level=0)\n",
    "dummy = dummy.astype('float')"
   ]
  },
  {
   "cell_type": "code",
   "execution_count": 20,
   "metadata": {
    "collapsed": true
   },
   "outputs": [],
   "source": [
    "df = pd.concat([df, dummy], axis=1)"
   ]
  },
  {
   "cell_type": "code",
   "execution_count": 21,
   "metadata": {
    "collapsed": false
   },
   "outputs": [],
   "source": [
    "df = df.drop('genres', axis=1)"
   ]
  },
  {
   "cell_type": "markdown",
   "metadata": {},
   "source": [
    "### Remove unrelated columns"
   ]
  },
  {
   "cell_type": "code",
   "execution_count": 22,
   "metadata": {
    "collapsed": false
   },
   "outputs": [],
   "source": [
    "df= df.drop(['content_rating', 'aspect_ratio', 'plot_keywords', 'movie_imdb_link'], axis=1)"
   ]
  },
  {
   "cell_type": "markdown",
   "metadata": {},
   "source": [
    "### Change country and language columns to dummies"
   ]
  },
  {
   "cell_type": "code",
   "execution_count": 23,
   "metadata": {
    "collapsed": false
   },
   "outputs": [],
   "source": [
    "for i in range(0, 3569):\n",
    "    if df.loc[i, 'country'] == 'USA':\n",
    "        df.loc[i, 'country'] = 0\n",
    "    else:\n",
    "        df.loc[i, 'country'] = 1"
   ]
  },
  {
   "cell_type": "code",
   "execution_count": 24,
   "metadata": {
    "collapsed": true
   },
   "outputs": [],
   "source": [
    "for i in range(0, 3569):\n",
    "    if df.loc[i, 'language'] == 'English':\n",
    "        df.loc[i, 'language'] = 0\n",
    "    else:\n",
    "        df.loc[i, 'language'] = 1"
   ]
  },
  {
   "cell_type": "markdown",
   "metadata": {
    "collapsed": true
   },
   "source": [
    "country_language = ['country', 'language']\n",
    "for i in country_language:\n",
    "    freq = Counter(df[i])\n",
    "    df[i] = df[i].map(freq)"
   ]
  },
  {
   "cell_type": "code",
   "execution_count": 25,
   "metadata": {
    "collapsed": false
   },
   "outputs": [
    {
     "data": {
      "text/plain": [
       "(array([0, 1]), <a list of 2 Text xticklabel objects>)"
      ]
     },
     "execution_count": 25,
     "metadata": {},
     "output_type": "execute_result"
    },
    {
     "data": {
      "image/png": "[encoded data removed]",
      "text/plain": [
       "<matplotlib.figure.Figure at 0x111d70f90>"
      ]
     },
     "metadata": {},
     "output_type": "display_data"
    }
   ],
   "source": [
    "sns.countplot(x='country', data=df)\n",
    "plt.xticks(rotation=90)"
   ]
  },
  {
   "cell_type": "markdown",
   "metadata": {},
   "source": [
    "### Set index to be movie_title"
   ]
  },
  {
   "cell_type": "code",
   "execution_count": 26,
   "metadata": {
    "collapsed": false
   },
   "outputs": [],
   "source": [
    "df = df.set_index(df.movie_title)"
   ]
  },
  {
   "cell_type": "code",
   "execution_count": 27,
   "metadata": {
    "collapsed": false
   },
   "outputs": [],
   "source": [
    "df = df.drop('movie_title', axis=1)"
   ]
  },
  {
   "cell_type": "code",
   "execution_count": 30,
   "metadata": {
    "collapsed": false
   },
   "outputs": [
    {
     "name": "stdout",
     "output_type": "stream",
     "text": [
      "<class 'pandas.core.frame.DataFrame'>\n",
      "Index: 3569 entries, Avatar to My Date with Drew\n",
      "Data columns (total 44 columns):\n",
      "color                        3569 non-null int64\n",
      "director_name                3569 non-null int64\n",
      "num_critic_for_reviews       3569 non-null float64\n",
      "duration                     3569 non-null float64\n",
      "director_facebook_likes      3569 non-null float64\n",
      "actor_3_facebook_likes       3569 non-null float64\n",
      "actor_2_name                 3569 non-null int64\n",
      "actor_1_facebook_likes       3569 non-null float64\n",
      "actor_1_name                 3569 non-null int64\n",
      "num_voted_users              3569 non-null int64\n",
      "cast_total_facebook_likes    3569 non-null int64\n",
      "actor_3_name                 3569 non-null int64\n",
      "facenumber_in_poster         3569 non-null float64\n",
      "num_user_for_reviews         3569 non-null float64\n",
      "language                     3569 non-null int64\n",
      "country                      3569 non-null int64\n",
      "title_year                   3569 non-null float64\n",
      "actor_2_facebook_likes       3569 non-null float64\n",
      "imdb_score                   3569 non-null float64\n",
      "movie_facebook_likes         3569 non-null int64\n",
      "revenue                      3569 non-null float64\n",
      "month                        3569 non-null int64\n",
      "Action                       3569 non-null float64\n",
      "Adventure                    3569 non-null float64\n",
      "Animation                    3569 non-null float64\n",
      "Biography                    3569 non-null float64\n",
      "Comedy                       3569 non-null float64\n",
      "Crime                        3569 non-null float64\n",
      "Documentary                  3569 non-null float64\n",
      "Drama                        3569 non-null float64\n",
      "Family                       3569 non-null float64\n",
      "Fantasy                      3569 non-null float64\n",
      "Film-Noir                    3569 non-null float64\n",
      "History                      3569 non-null float64\n",
      "Horror                       3569 non-null float64\n",
      "Music                        3569 non-null float64\n",
      "Musical                      3569 non-null float64\n",
      "Mystery                      3569 non-null float64\n",
      "Romance                      3569 non-null float64\n",
      "Sci-Fi                       3569 non-null float64\n",
      "Sport                        3569 non-null float64\n",
      "Thriller                     3569 non-null float64\n",
      "War                          3569 non-null float64\n",
      "Western                      3569 non-null float64\n",
      "dtypes: float64(33), int64(11)\n",
      "memory usage: 1.2+ MB\n"
     ]
    }
   ],
   "source": [
    "df.info()"
   ]
  },
  {
   "cell_type": "markdown",
   "metadata": {},
   "source": [
    "### Check correlation matrix\n",
    "* actor_1_facebook_likes & cast_total_facebook_likes columns have ~ 0.8 correlation\n",
    "* drop actor_1_facebook_likes column"
   ]
  },
  {
   "cell_type": "code",
   "execution_count": 31,
   "metadata": {
    "collapsed": true
   },
   "outputs": [],
   "source": [
    "cor = df.corr()"
   ]
  },
  {
   "cell_type": "code",
   "execution_count": 32,
   "metadata": {
    "collapsed": false
   },
   "outputs": [
    {
     "data": {
      "text/plain": [
       "<matplotlib.axes._subplots.AxesSubplot at 0x112235410>"
      ]
     },
     "execution_count": 32,
     "metadata": {},
     "output_type": "execute_result"
    },
    {
     "data": {
      "image/png": "[encoded data removed]",
      "text/plain": [
       "<matplotlib.figure.Figure at 0x112329850>"
      ]
     },
     "metadata": {},
     "output_type": "display_data"
    }
   ],
   "source": [
    "plt.figure(figsize=(15, 15))\n",
    "sns.heatmap(cor, xticklabels=cor.columns, yticklabels=cor.columns, cmap='PiYG', vmax=1, vmin=-1) \n",
    "# Put annotation in the heatmap by two parameters: annot=True, annot_kws={\"size\": 10}"
   ]
  },
  {
   "cell_type": "code",
   "execution_count": 33,
   "metadata": {
    "collapsed": false
   },
   "outputs": [
    {
     "name": "stdout",
     "output_type": "stream",
     "text": [
      "actor_1_facebook_likes / cast_total_facebook_likes\n",
      "cast_total_facebook_likes / actor_1_facebook_likes\n"
     ]
    }
   ],
   "source": [
    "# check the highest coreelation between two features\n",
    "for i in cor.columns:\n",
    "    for j in cor.index:\n",
    "        if (cor.loc[j, i] > 0.8) & (cor.loc[j, i] < 1):\n",
    "            print i + ' / ' + j"
   ]
  },
  {
   "cell_type": "code",
   "execution_count": 34,
   "metadata": {
    "collapsed": false
   },
   "outputs": [
    {
     "data": {
      "text/plain": [
       "<matplotlib.text.Text at 0x112cd0a50>"
      ]
     },
     "execution_count": 34,
     "metadata": {},
     "output_type": "execute_result"
    },
    {
     "data": {
      "image/png": "[encoded data removed]",
      "text/plain": [
       "<matplotlib.figure.Figure at 0x1120c15d0>"
      ]
     },
     "metadata": {},
     "output_type": "display_data"
    }
   ],
   "source": [
    "plt.scatter(x=df.actor_1_facebook_likes, y=df.cast_total_facebook_likes)\n",
    "plt.xlabel('actor_1_facebook_likes')\n",
    "plt.ylabel('cast_tottal_facebook_likes')"
   ]
  },
  {
   "cell_type": "code",
   "execution_count": 35,
   "metadata": {
    "collapsed": true
   },
   "outputs": [],
   "source": [
    "df = df.drop('actor_1_facebook_likes', axis=1)"
   ]
  },
  {
   "cell_type": "markdown",
   "metadata": {},
   "source": [
    "### Seaborn pairplot\n",
    "* revenue's distribution is too skewed\n",
    " * set revenue > -400"
   ]
  },
  {
   "cell_type": "code",
   "execution_count": null,
   "metadata": {
    "collapsed": false
   },
   "outputs": [],
   "source": [
    "sns.pairplot(df.iloc[:, 0:22])\n",
    "sns.set(font_scale=3)"
   ]
  },
  {
   "cell_type": "code",
   "execution_count": 36,
   "metadata": {
    "collapsed": false
   },
   "outputs": [
    {
     "data": {
      "text/plain": [
       "<matplotlib.collections.PathCollection at 0x112831f90>"
      ]
     },
     "execution_count": 36,
     "metadata": {},
     "output_type": "execute_result"
    },
    {
     "data": {
      "image/png": "[encoded data removed]",
      "text/plain": [
       "<matplotlib.figure.Figure at 0x112e006d0>"
      ]
     },
     "metadata": {},
     "output_type": "display_data"
    }
   ],
   "source": [
    "plt.scatter(x='movie_facebook_likes', y='num_voted_users', data=df)"
   ]
  },
  {
   "cell_type": "code",
   "execution_count": 37,
   "metadata": {
    "collapsed": true
   },
   "outputs": [],
   "source": [
    "df = df[(df.revenue > -400)]"
   ]
  },
  {
   "cell_type": "code",
   "execution_count": 38,
   "metadata": {
    "collapsed": false
   },
   "outputs": [
    {
     "data": {
      "text/plain": [
       "<matplotlib.axes._subplots.AxesSubplot at 0x112e6ef10>"
      ]
     },
     "execution_count": 38,
     "metadata": {},
     "output_type": "execute_result"
    },
    {
     "data": {
      "image/png": "[encoded data removed]",
      "text/plain": [
       "<matplotlib.figure.Figure at 0x11282f190>"
      ]
     },
     "metadata": {},
     "output_type": "display_data"
    }
   ],
   "source": [
    "df['revenue'].plot(kind='hist')"
   ]
  },
  {
   "cell_type": "markdown",
   "metadata": {},
   "source": [
    "### save df to .csv file"
   ]
  },
  {
   "cell_type": "code",
   "execution_count": 39,
   "metadata": {
    "collapsed": true
   },
   "outputs": [],
   "source": [
    "df.to_csv('ml.csv')"
   ]
  },
  {
   "cell_type": "markdown",
   "metadata": {},
   "source": [
    "# --------------------------"
   ]
  },
  {
   "cell_type": "markdown",
   "metadata": {},
   "source": [
    "# Data prep for classification"
   ]
  },
  {
   "cell_type": "code",
   "execution_count": 110,
   "metadata": {
    "collapsed": false
   },
   "outputs": [],
   "source": [
    "df_logit = df.copy()\n",
    "df_logit = df_logit.reset_index(drop=True)"
   ]
  },
  {
   "cell_type": "code",
   "execution_count": 111,
   "metadata": {
    "collapsed": false
   },
   "outputs": [],
   "source": [
    "for i in range(0, 3559):\n",
    "    if df_logit.loc[i, 'revenue'] > 0:\n",
    "        df_logit.loc[i, 'revenue'] = 1\n",
    "    else:\n",
    "        df_logit.loc[i, 'revenue'] = 0"
   ]
  },
  {
   "cell_type": "code",
   "execution_count": 112,
   "metadata": {
    "collapsed": false
   },
   "outputs": [
    {
     "data": {
      "text/html": [
       "<div>\n",
       "<style scoped>\n",
       "    .dataframe tbody tr th:only-of-type {\n",
       "        vertical-align: middle;\n",
       "    }\n",
       "\n",
       "    .dataframe tbody tr th {\n",
       "        vertical-align: top;\n",
       "    }\n",
       "\n",
       "    .dataframe thead th {\n",
       "        text-align: right;\n",
       "    }\n",
       "</style>\n",
       "<table border=\"1\" class=\"dataframe\">\n",
       "  <thead>\n",
       "    <tr style=\"text-align: right;\">\n",
       "      <th></th>\n",
       "      <th>color</th>\n",
       "      <th>director_name</th>\n",
       "      <th>num_critic_for_reviews</th>\n",
       "      <th>duration</th>\n",
       "      <th>director_facebook_likes</th>\n",
       "      <th>actor_3_facebook_likes</th>\n",
       "      <th>actor_2_name</th>\n",
       "      <th>actor_1_name</th>\n",
       "      <th>num_voted_users</th>\n",
       "      <th>cast_total_facebook_likes</th>\n",
       "      <th>...</th>\n",
       "      <th>facenumber_in_poster</th>\n",
       "      <th>num_user_for_reviews</th>\n",
       "      <th>language</th>\n",
       "      <th>country</th>\n",
       "      <th>title_year</th>\n",
       "      <th>actor_2_facebook_likes</th>\n",
       "      <th>imdb_score</th>\n",
       "      <th>movie_facebook_likes</th>\n",
       "      <th>revenue</th>\n",
       "      <th>month</th>\n",
       "    </tr>\n",
       "  </thead>\n",
       "  <tbody>\n",
       "    <tr>\n",
       "      <th>0</th>\n",
       "      <td>1</td>\n",
       "      <td>4</td>\n",
       "      <td>723.0</td>\n",
       "      <td>178.0</td>\n",
       "      <td>0.0</td>\n",
       "      <td>855.0</td>\n",
       "      <td>3</td>\n",
       "      <td>3</td>\n",
       "      <td>886204</td>\n",
       "      <td>4834</td>\n",
       "      <td>...</td>\n",
       "      <td>0.0</td>\n",
       "      <td>3054.0</td>\n",
       "      <td>0</td>\n",
       "      <td>0</td>\n",
       "      <td>2009.0</td>\n",
       "      <td>936.0</td>\n",
       "      <td>7.9</td>\n",
       "      <td>33000</td>\n",
       "      <td>1.0</td>\n",
       "      <td>12</td>\n",
       "    </tr>\n",
       "    <tr>\n",
       "      <th>1</th>\n",
       "      <td>1</td>\n",
       "      <td>3</td>\n",
       "      <td>302.0</td>\n",
       "      <td>169.0</td>\n",
       "      <td>563.0</td>\n",
       "      <td>1000.0</td>\n",
       "      <td>1</td>\n",
       "      <td>28</td>\n",
       "      <td>471220</td>\n",
       "      <td>48350</td>\n",
       "      <td>...</td>\n",
       "      <td>0.0</td>\n",
       "      <td>1238.0</td>\n",
       "      <td>0</td>\n",
       "      <td>0</td>\n",
       "      <td>2007.0</td>\n",
       "      <td>5000.0</td>\n",
       "      <td>7.1</td>\n",
       "      <td>0</td>\n",
       "      <td>1.0</td>\n",
       "      <td>5</td>\n",
       "    </tr>\n",
       "    <tr>\n",
       "      <th>2</th>\n",
       "      <td>1</td>\n",
       "      <td>8</td>\n",
       "      <td>602.0</td>\n",
       "      <td>148.0</td>\n",
       "      <td>0.0</td>\n",
       "      <td>161.0</td>\n",
       "      <td>2</td>\n",
       "      <td>2</td>\n",
       "      <td>275868</td>\n",
       "      <td>11700</td>\n",
       "      <td>...</td>\n",
       "      <td>1.0</td>\n",
       "      <td>994.0</td>\n",
       "      <td>0</td>\n",
       "      <td>1</td>\n",
       "      <td>2015.0</td>\n",
       "      <td>393.0</td>\n",
       "      <td>6.8</td>\n",
       "      <td>85000</td>\n",
       "      <td>0.0</td>\n",
       "      <td>11</td>\n",
       "    </tr>\n",
       "    <tr>\n",
       "      <th>3</th>\n",
       "      <td>1</td>\n",
       "      <td>4</td>\n",
       "      <td>813.0</td>\n",
       "      <td>164.0</td>\n",
       "      <td>22000.0</td>\n",
       "      <td>23000.0</td>\n",
       "      <td>4</td>\n",
       "      <td>8</td>\n",
       "      <td>1144337</td>\n",
       "      <td>106759</td>\n",
       "      <td>...</td>\n",
       "      <td>0.0</td>\n",
       "      <td>2701.0</td>\n",
       "      <td>0</td>\n",
       "      <td>0</td>\n",
       "      <td>2012.0</td>\n",
       "      <td>23000.0</td>\n",
       "      <td>8.5</td>\n",
       "      <td>164000</td>\n",
       "      <td>1.0</td>\n",
       "      <td>7</td>\n",
       "    </tr>\n",
       "    <tr>\n",
       "      <th>4</th>\n",
       "      <td>1</td>\n",
       "      <td>1</td>\n",
       "      <td>462.0</td>\n",
       "      <td>132.0</td>\n",
       "      <td>475.0</td>\n",
       "      <td>530.0</td>\n",
       "      <td>3</td>\n",
       "      <td>2</td>\n",
       "      <td>212204</td>\n",
       "      <td>1873</td>\n",
       "      <td>...</td>\n",
       "      <td>1.0</td>\n",
       "      <td>738.0</td>\n",
       "      <td>0</td>\n",
       "      <td>0</td>\n",
       "      <td>2012.0</td>\n",
       "      <td>632.0</td>\n",
       "      <td>6.6</td>\n",
       "      <td>24000</td>\n",
       "      <td>0.0</td>\n",
       "      <td>3</td>\n",
       "    </tr>\n",
       "  </tbody>\n",
       "</table>\n",
       "<p>5 rows × 21 columns</p>\n",
       "</div>"
      ],
      "text/plain": [
       "   color  director_name  num_critic_for_reviews  duration  \\\n",
       "0      1              4                   723.0     178.0   \n",
       "1      1              3                   302.0     169.0   \n",
       "2      1              8                   602.0     148.0   \n",
       "3      1              4                   813.0     164.0   \n",
       "4      1              1                   462.0     132.0   \n",
       "\n",
       "   director_facebook_likes  actor_3_facebook_likes  actor_2_name  \\\n",
       "0                      0.0                   855.0             3   \n",
       "1                    563.0                  1000.0             1   \n",
       "2                      0.0                   161.0             2   \n",
       "3                  22000.0                 23000.0             4   \n",
       "4                    475.0                   530.0             3   \n",
       "\n",
       "   actor_1_name  num_voted_users  cast_total_facebook_likes  ...    \\\n",
       "0             3           886204                       4834  ...     \n",
       "1            28           471220                      48350  ...     \n",
       "2             2           275868                      11700  ...     \n",
       "3             8          1144337                     106759  ...     \n",
       "4             2           212204                       1873  ...     \n",
       "\n",
       "   facenumber_in_poster  num_user_for_reviews  language  country  title_year  \\\n",
       "0                   0.0                3054.0         0        0      2009.0   \n",
       "1                   0.0                1238.0         0        0      2007.0   \n",
       "2                   1.0                 994.0         0        1      2015.0   \n",
       "3                   0.0                2701.0         0        0      2012.0   \n",
       "4                   1.0                 738.0         0        0      2012.0   \n",
       "\n",
       "   actor_2_facebook_likes  imdb_score  movie_facebook_likes  revenue  month  \n",
       "0                   936.0         7.9                 33000      1.0     12  \n",
       "1                  5000.0         7.1                     0      1.0      5  \n",
       "2                   393.0         6.8                 85000      0.0     11  \n",
       "3                 23000.0         8.5                164000      1.0      7  \n",
       "4                   632.0         6.6                 24000      0.0      3  \n",
       "\n",
       "[5 rows x 21 columns]"
      ]
     },
     "execution_count": 112,
     "metadata": {},
     "output_type": "execute_result"
    }
   ],
   "source": [
    "# Check dataframe 5 rows and 21 cols\n",
    "df_logit.iloc[:5, :21]"
   ]
  },
  {
   "cell_type": "code",
   "execution_count": 113,
   "metadata": {
    "collapsed": true
   },
   "outputs": [],
   "source": [
    "X = df_logit.drop('revenue', axis=1)\n",
    "y = df_logit['revenue']"
   ]
  },
  {
   "cell_type": "code",
   "execution_count": 114,
   "metadata": {
    "collapsed": true
   },
   "outputs": [],
   "source": [
    "from sklearn.model_selection import train_test_split\n",
    "X_train, X_test, y_train, y_test = train_test_split(X, y, test_size=0.3, random_state=1, stratify=y)"
   ]
  },
  {
   "cell_type": "code",
   "execution_count": 115,
   "metadata": {
    "collapsed": false
   },
   "outputs": [],
   "source": [
    "from sklearn.preprocessing import StandardScaler\n",
    "sc = StandardScaler()\n",
    "sc.fit(X_train)\n",
    "X_train_std = sc.transform(X_train)\n",
    "X_test_std = sc.transform(X_test)"
   ]
  },
  {
   "cell_type": "markdown",
   "metadata": {},
   "source": [
    "# 1. Logistic regression"
   ]
  },
  {
   "cell_type": "code",
   "execution_count": 46,
   "metadata": {
    "collapsed": true
   },
   "outputs": [],
   "source": [
    "from sklearn.linear_model import LogisticRegression\n",
    "logit = LogisticRegression(C=100, random_state=1)"
   ]
  },
  {
   "cell_type": "code",
   "execution_count": 47,
   "metadata": {
    "collapsed": false
   },
   "outputs": [
    {
     "data": {
      "text/plain": [
       "LogisticRegression(C=100, class_weight=None, dual=False, fit_intercept=True,\n",
       "          intercept_scaling=1, max_iter=100, multi_class='ovr', n_jobs=1,\n",
       "          penalty='l2', random_state=1, solver='liblinear', tol=0.0001,\n",
       "          verbose=0, warm_start=False)"
      ]
     },
     "execution_count": 47,
     "metadata": {},
     "output_type": "execute_result"
    }
   ],
   "source": [
    "logit.fit(X_train_std, y_train)"
   ]
  },
  {
   "cell_type": "code",
   "execution_count": 48,
   "metadata": {
    "collapsed": true
   },
   "outputs": [],
   "source": [
    "y_pred = logit.predict(X_test_std)"
   ]
  },
  {
   "cell_type": "code",
   "execution_count": 49,
   "metadata": {
    "collapsed": false
   },
   "outputs": [
    {
     "data": {
      "text/plain": [
       "0.72097378277153557"
      ]
     },
     "execution_count": 49,
     "metadata": {},
     "output_type": "execute_result"
    }
   ],
   "source": [
    "from sklearn.metrics import accuracy_score\n",
    "accuracy_score(y_test, y_pred)"
   ]
  },
  {
   "cell_type": "markdown",
   "metadata": {},
   "source": [
    "### look for the best hyperparameter C for logistic regression"
   ]
  },
  {
   "cell_type": "code",
   "execution_count": 210,
   "metadata": {
    "collapsed": false
   },
   "outputs": [],
   "source": [
    "params, score = [], []\n",
    "for c in np.arange(-5, 5):\n",
    "    lr = LogisticRegression(C=10.**c, random_state=1)\n",
    "    lr.fit(X_train_std, y_train)\n",
    "    predict = lr.predict(X_test_std)\n",
    "    score.append(accuracy_score(y_test, predict))\n",
    "    params.append(10.**c)"
   ]
  },
  {
   "cell_type": "code",
   "execution_count": 229,
   "metadata": {
    "collapsed": false
   },
   "outputs": [
    {
     "data": {
      "text/plain": [
       "<matplotlib.text.Text at 0x1272e1710>"
      ]
     },
     "execution_count": 229,
     "metadata": {},
     "output_type": "execute_result"
    },
    {
     "data": {
      "image/png": "[encoded data removed]",
      "text/plain": [
       "<matplotlib.figure.Figure at 0x125d28490>"
      ]
     },
     "metadata": {},
     "output_type": "display_data"
    }
   ],
   "source": [
    "# C=0.001 has the highest accuracy\n",
    "plt.plot(params, score)\n",
    "plt.xscale('log')\n",
    "plt.xlabel('Hyperparamter C')\n",
    "plt.ylabel('Accuracy')"
   ]
  },
  {
   "cell_type": "code",
   "execution_count": 252,
   "metadata": {
    "collapsed": false
   },
   "outputs": [],
   "source": [
    "result = dict(zip(params, score))"
   ]
  },
  {
   "cell_type": "code",
   "execution_count": 259,
   "metadata": {
    "collapsed": false
   },
   "outputs": [
    {
     "name": "stdout",
     "output_type": "stream",
     "text": [
      "'The best C is 0.001 and the best accuracy score is 0.728464419476'\n"
     ]
    }
   ],
   "source": [
    "pprint('The best C is {} and the best accuracy score is {}'.format(max(result, key=lambda k: result[k]), max(result.values())))"
   ]
  },
  {
   "cell_type": "markdown",
   "metadata": {},
   "source": [
    "# 2. SVM"
   ]
  },
  {
   "cell_type": "code",
   "execution_count": 260,
   "metadata": {
    "collapsed": false
   },
   "outputs": [],
   "source": [
    "from sklearn.svm import SVC\n",
    "svm = SVC(kernel='linear', C=1.0, probability=True, random_state=1)"
   ]
  },
  {
   "cell_type": "code",
   "execution_count": 261,
   "metadata": {
    "collapsed": false
   },
   "outputs": [
    {
     "data": {
      "text/plain": [
       "SVC(C=1.0, cache_size=200, class_weight=None, coef0=0.0,\n",
       "  decision_function_shape='ovr', degree=3, gamma='auto', kernel='linear',\n",
       "  max_iter=-1, probability=True, random_state=1, shrinking=True, tol=0.001,\n",
       "  verbose=False)"
      ]
     },
     "execution_count": 261,
     "metadata": {},
     "output_type": "execute_result"
    }
   ],
   "source": [
    "svm.fit(X_train_std, y_train)"
   ]
  },
  {
   "cell_type": "code",
   "execution_count": 262,
   "metadata": {
    "collapsed": true
   },
   "outputs": [],
   "source": [
    "y_pred = svm.predict(X_test_std)"
   ]
  },
  {
   "cell_type": "code",
   "execution_count": 263,
   "metadata": {
    "collapsed": false
   },
   "outputs": [
    {
     "data": {
      "text/plain": [
       "0.72940074906367036"
      ]
     },
     "execution_count": 263,
     "metadata": {},
     "output_type": "execute_result"
    }
   ],
   "source": [
    "accuracy_score(y_test, y_pred)"
   ]
  },
  {
   "cell_type": "code",
   "execution_count": 58,
   "metadata": {
    "collapsed": false
   },
   "outputs": [
    {
     "data": {
      "text/plain": [
       "<matplotlib.text.Text at 0x1126ea990>"
      ]
     },
     "execution_count": 58,
     "metadata": {},
     "output_type": "execute_result"
    },
    {
     "data": {
      "image/png": "[encoded data removed]",
      "text/plain": [
       "<matplotlib.figure.Figure at 0x112e8ec50>"
      ]
     },
     "metadata": {},
     "output_type": "display_data"
    }
   ],
   "source": [
    "# Import necessary modules\n",
    "from sklearn.metrics import roc_curve\n",
    "\n",
    "# Compute predicted probabilities: y_pred_prob\n",
    "y_pred_prob = svm.predict_proba(X_test_std)[:,1]\n",
    "\n",
    "# Generate ROC curve values: fpr, tpr, thresholds\n",
    "fpr, tpr, thresholds = roc_curve(y_test, y_pred_prob)\n",
    "\n",
    "# Plot ROC curve\n",
    "plt.plot([0, 1], [0, 1], 'k--')\n",
    "plt.plot(fpr, tpr)\n",
    "plt.xlabel('False Positive Rate')\n",
    "plt.ylabel('True Positive Rate')\n",
    "plt.title('ROC Curve')"
   ]
  },
  {
   "cell_type": "markdown",
   "metadata": {},
   "source": [
    "### look for hyperparameter C for SVM by for loop"
   ]
  },
  {
   "cell_type": "code",
   "execution_count": 264,
   "metadata": {
    "collapsed": false
   },
   "outputs": [],
   "source": [
    "params, score = [], []\n",
    "for c in np.arange(-1, 4):\n",
    "    clf = SVC(kernel='linear', C=10.**c, random_state=1)\n",
    "    clf.fit(X_train_std, y_train)\n",
    "    predict = clf.predict(X_test_std)\n",
    "    score.append(accuracy_score(y_test, predict))\n",
    "    params.append(10.**c)"
   ]
  },
  {
   "cell_type": "code",
   "execution_count": 265,
   "metadata": {
    "collapsed": false
   },
   "outputs": [
    {
     "data": {
      "text/plain": [
       "<matplotlib.text.Text at 0x127738b10>"
      ]
     },
     "execution_count": 265,
     "metadata": {},
     "output_type": "execute_result"
    },
    {
     "data": {
      "image/png": "[encoded data removed]",
      "text/plain": [
       "<matplotlib.figure.Figure at 0x11354c090>"
      ]
     },
     "metadata": {},
     "output_type": "display_data"
    }
   ],
   "source": [
    "# C=100 has the highest accuracy\n",
    "plt.plot(params, score)\n",
    "plt.xscale('log')\n",
    "plt.xlabel('Hyperparamter C')\n",
    "plt.ylabel('Accuracy')"
   ]
  },
  {
   "cell_type": "code",
   "execution_count": 266,
   "metadata": {
    "collapsed": true
   },
   "outputs": [],
   "source": [
    "result = dict(zip(params, score))"
   ]
  },
  {
   "cell_type": "code",
   "execution_count": 269,
   "metadata": {
    "collapsed": false
   },
   "outputs": [
    {
     "name": "stdout",
     "output_type": "stream",
     "text": [
      "The best C for SVM is 100.0 and accuracy score is 0.733146067416\n"
     ]
    }
   ],
   "source": [
    "print 'The best C for SVM is {} and accuracy score is {}'.format(max(result, key= lambda k: result[k]), max(result.values()))"
   ]
  },
  {
   "cell_type": "markdown",
   "metadata": {},
   "source": [
    "### GridSearch CV"
   ]
  },
  {
   "cell_type": "code",
   "execution_count": 96,
   "metadata": {
    "collapsed": false
   },
   "outputs": [
    {
     "name": "stdout",
     "output_type": "stream",
     "text": [
      "Tuned svm_rbf Parameters: {'C': 2.154434690031882}\n",
      "Best score is 0.71176234444\n"
     ]
    }
   ],
   "source": [
    "# Import necessary modules\n",
    "from sklearn.model_selection import GridSearchCV\n",
    "\n",
    "# Setup the hyperparameter grid\n",
    "c = np.logspace(-5, 3, 10)\n",
    "param_grid = {'C': c}\n",
    "\n",
    "# Instantiate a logistic regression classifier: logreg\n",
    "svm = SVC(kernel='linear', random_state=1)\n",
    "\n",
    "# Instantiate the GridSearchCV object: logreg_cv\n",
    "svm_cv = GridSearchCV(svm, param_grid, cv=5)\n",
    "\n",
    "# Fit it to the data\n",
    "svm_cv.fit(X_train_std, y_train)\n",
    "\n",
    "# Print the tuned parameters and score (TYPO ALERT!!! it should be svm instead of svm_rbf)\n",
    "print(\"Tuned svm_rbf Parameters: {}\".format(svm_cv.best_params_)) \n",
    "print(\"Best score is {}\".format(svm_cv.best_score_))"
   ]
  },
  {
   "cell_type": "code",
   "execution_count": 270,
   "metadata": {
    "collapsed": false
   },
   "outputs": [
    {
     "name": "stdout",
     "output_type": "stream",
     "text": [
      "The best C from SVM grid search is 2.1544 and the accuracy score is 0.730337078652\n"
     ]
    }
   ],
   "source": [
    "# test hold-out data\n",
    "print 'The best C from SVM grid search is {} and the accuracy score is {}'.format(2.1544, accuracy_score(y_test, svm_cv.predict(X_test_std)))"
   ]
  },
  {
   "cell_type": "markdown",
   "metadata": {},
   "source": [
    "# 3. Kernel SVM "
   ]
  },
  {
   "cell_type": "code",
   "execution_count": 89,
   "metadata": {
    "collapsed": false
   },
   "outputs": [
    {
     "data": {
      "text/plain": [
       "SVC(C=1.0, cache_size=200, class_weight=None, coef0=0.0,\n",
       "  decision_function_shape='ovr', degree=3, gamma=0.1, kernel='rbf',\n",
       "  max_iter=-1, probability=False, random_state=1, shrinking=True,\n",
       "  tol=0.001, verbose=False)"
      ]
     },
     "execution_count": 89,
     "metadata": {},
     "output_type": "execute_result"
    }
   ],
   "source": [
    "from sklearn.svm import SVC\n",
    "svm_rbf = SVC(kernel='rbf', gamma = 0.1, C=1.0, random_state=1)\n",
    "svm_rbf.fit(X_train_std, y_train)"
   ]
  },
  {
   "cell_type": "code",
   "execution_count": 90,
   "metadata": {
    "collapsed": false
   },
   "outputs": [
    {
     "name": "stdout",
     "output_type": "stream",
     "text": [
      "0.936571657969 0.695692883895\n"
     ]
    }
   ],
   "source": [
    "print accuracy_score(y_train, svm_rbf.predict(X_train_std)), accuracy_score(y_test, svm_rbf.predict(X_test_std))"
   ]
  },
  {
   "cell_type": "markdown",
   "metadata": {},
   "source": [
    "### look for the best gamma and C in kernel SVM "
   ]
  },
  {
   "cell_type": "code",
   "execution_count": 94,
   "metadata": {
    "collapsed": false
   },
   "outputs": [
    {
     "name": "stdout",
     "output_type": "stream",
     "text": [
      "Tuned svm_rbf Parameters: {'C': 1.0301856513773824, 'gamma': 1.0000230261160268}\n",
      "Best score is 0.56322761943\n"
     ]
    }
   ],
   "source": [
    "# Import necessary modules\n",
    "from sklearn.model_selection import GridSearchCV\n",
    "\n",
    "# Setup the hyperparameter grid\n",
    "r = np.logspace(-5, 2, 10)\n",
    "c = np.logspace(-5, 2, 10)\n",
    "param_grid = {'gamma': 10.**r, 'C': 10.**c}\n",
    "\n",
    "# Instantiate a logistic regression classifier: logreg\n",
    "svm_rbf = SVC(kernel='rbf', random_state=1)\n",
    "\n",
    "# Instantiate the GridSearchCV object: logreg_cv\n",
    "svm_rbf_cv = GridSearchCV(svm_rbf, param_grid, cv=5)\n",
    "\n",
    "# Fit it to the data\n",
    "svm_rbf_cv.fit(X_train_std, y_train)\n",
    "\n",
    "# Print the tuned parameters and score\n",
    "print(\"Tuned svm_rbf Parameters: {}\".format(svm_rbf_cv.best_params_)) \n",
    "print(\"Best score is {}\".format(svm_rbf_cv.best_score_))"
   ]
  },
  {
   "cell_type": "code",
   "execution_count": 271,
   "metadata": {
    "collapsed": false
   },
   "outputs": [
    {
     "name": "stdout",
     "output_type": "stream",
     "text": [
      "The best gamma is 1 and the best C is 1. The accuracy score is 0.567415730337\n"
     ]
    }
   ],
   "source": [
    "# test hold-out data\n",
    "print 'The best gamma is {} and the best C is {}. The accuracy score is {}'.format(1, 1, accuracy_score(y_test, svm_rbf_cv.predict(X_test_std)))"
   ]
  },
  {
   "cell_type": "markdown",
   "metadata": {},
   "source": [
    "# 4. KNN"
   ]
  },
  {
   "cell_type": "code",
   "execution_count": 272,
   "metadata": {
    "collapsed": false
   },
   "outputs": [
    {
     "data": {
      "text/plain": [
       "KNeighborsClassifier(algorithm='auto', leaf_size=30, metric='minkowski',\n",
       "           metric_params=None, n_jobs=1, n_neighbors=5, p=2,\n",
       "           weights='uniform')"
      ]
     },
     "execution_count": 272,
     "metadata": {},
     "output_type": "execute_result"
    }
   ],
   "source": [
    "from sklearn.neighbors import KNeighborsClassifier\n",
    "knn = KNeighborsClassifier(n_neighbors=5, metric='minkowski', p=2)\n",
    "knn.fit(X_train_std, y_train)"
   ]
  },
  {
   "cell_type": "code",
   "execution_count": 273,
   "metadata": {
    "collapsed": false
   },
   "outputs": [
    {
     "name": "stdout",
     "output_type": "stream",
     "text": [
      "0.765154556403 0.65074906367\n"
     ]
    }
   ],
   "source": [
    "print accuracy_score(y_train, knn.predict(X_train_std)), accuracy_score(y_test, knn.predict(X_test_std))"
   ]
  },
  {
   "cell_type": "markdown",
   "metadata": {},
   "source": [
    "### look for best K with KNN (Euclidean)"
   ]
  },
  {
   "cell_type": "code",
   "execution_count": 274,
   "metadata": {
    "collapsed": false
   },
   "outputs": [],
   "source": [
    "train_score = []\n",
    "test_score = []\n",
    "for k in range(1, 21):\n",
    "    knn = KNeighborsClassifier(n_neighbors=k, metric='minkowski', p=2)\n",
    "    knn.fit(X_train_std, y_train)\n",
    "    predict1 = knn.predict(X_train_std)\n",
    "    score1 = accuracy_score(y_train, predict1)\n",
    "    train_score.append(score1)\n",
    "    predict2 = knn.predict(X_test_std)\n",
    "    score2 = accuracy_score(y_test, predict2)\n",
    "    test_score.append(score2)"
   ]
  },
  {
   "cell_type": "code",
   "execution_count": 276,
   "metadata": {
    "collapsed": false
   },
   "outputs": [
    {
     "data": {
      "text/plain": [
       "<matplotlib.legend.Legend at 0x128579410>"
      ]
     },
     "execution_count": 276,
     "metadata": {},
     "output_type": "execute_result"
    },
    {
     "data": {
      "image/png": "[encoded data removed]",
      "text/plain": [
       "<matplotlib.figure.Figure at 0x12840d450>"
      ]
     },
     "metadata": {},
     "output_type": "display_data"
    }
   ],
   "source": [
    "k_range = range(1, 21)\n",
    "plt.plot(k_range, train_score, marker='o', label='training score')\n",
    "plt.plot(k_range, test_score, marker='+', color='red', label='testing score')\n",
    "plt.xlabel('k')\n",
    "plt.ylabel('Accuracy')\n",
    "plt.title('Search the best k for knn (Eluclidean)')\n",
    "plt.legend()"
   ]
  },
  {
   "cell_type": "code",
   "execution_count": 278,
   "metadata": {
    "collapsed": true
   },
   "outputs": [],
   "source": [
    "result= dict(zip(k_range, test_score))"
   ]
  },
  {
   "cell_type": "code",
   "execution_count": 279,
   "metadata": {
    "collapsed": false
   },
   "outputs": [
    {
     "name": "stdout",
     "output_type": "stream",
     "text": [
      "The best K is 12 and the accuracy score is 0.681647940075\n"
     ]
    }
   ],
   "source": [
    "print 'The best K is {} and the accuracy score is {}'.format(max(result, key=lambda k: result[k]),max(test_score))"
   ]
  },
  {
   "cell_type": "markdown",
   "metadata": {},
   "source": [
    "### look for the best K with KNN (Manhattan)"
   ]
  },
  {
   "cell_type": "code",
   "execution_count": 291,
   "metadata": {
    "collapsed": true
   },
   "outputs": [],
   "source": [
    "train_score = []\n",
    "test_score = []\n",
    "for k in range(1, 21):\n",
    "    knn = KNeighborsClassifier(n_neighbors=k, metric='minkowski', p=1)\n",
    "    knn.fit(X_train_std, y_train)\n",
    "    predict1 = knn.predict(X_train_std)\n",
    "    score1 = accuracy_score(y_train, predict1)\n",
    "    train_score.append(score1)\n",
    "    predict2 = knn.predict(X_test_std)\n",
    "    score2 = accuracy_score(y_test, predict2)\n",
    "    test_score.append(score2)"
   ]
  },
  {
   "cell_type": "code",
   "execution_count": 292,
   "metadata": {
    "collapsed": false
   },
   "outputs": [
    {
     "data": {
      "text/plain": [
       "<matplotlib.legend.Legend at 0x12a8736d0>"
      ]
     },
     "execution_count": 292,
     "metadata": {},
     "output_type": "execute_result"
    },
    {
     "data": {
      "image/png": "[encoded data removed]",
      "text/plain": [
       "<matplotlib.figure.Figure at 0x129d68050>"
      ]
     },
     "metadata": {},
     "output_type": "display_data"
    }
   ],
   "source": [
    "k_range = range(1, 21)\n",
    "plt.plot(k_range, train_score, marker='o', label='training score')\n",
    "plt.plot(k_range, test_score, marker='+', color='red', label='testing score')\n",
    "plt.xlabel('k')\n",
    "plt.ylabel('Accuracy')\n",
    "plt.title('Search the best k for knn (Manhattan)')\n",
    "plt.legend()"
   ]
  },
  {
   "cell_type": "code",
   "execution_count": 293,
   "metadata": {
    "collapsed": true
   },
   "outputs": [],
   "source": [
    "result= dict(zip(k_range, test_score))"
   ]
  },
  {
   "cell_type": "code",
   "execution_count": 294,
   "metadata": {
    "collapsed": false
   },
   "outputs": [
    {
     "name": "stdout",
     "output_type": "stream",
     "text": [
      "The best K is 19 and the accuracy score is 0.712546816479\n"
     ]
    }
   ],
   "source": [
    "print 'The best K is {} and the accuracy score is {}'.format(max(result, key=lambda k: result[k]),max(test_score))"
   ]
  },
  {
   "cell_type": "markdown",
   "metadata": {},
   "source": [
    "# 5. Decision tree"
   ]
  },
  {
   "cell_type": "code",
   "execution_count": 284,
   "metadata": {
    "collapsed": false
   },
   "outputs": [
    {
     "data": {
      "text/plain": [
       "DecisionTreeClassifier(class_weight=None, criterion='gini', max_depth=4,\n",
       "            max_features=None, max_leaf_nodes=None,\n",
       "            min_impurity_decrease=0.0, min_impurity_split=None,\n",
       "            min_samples_leaf=1, min_samples_split=2,\n",
       "            min_weight_fraction_leaf=0.0, presort=False, random_state=1,\n",
       "            splitter='best')"
      ]
     },
     "execution_count": 284,
     "metadata": {},
     "output_type": "execute_result"
    }
   ],
   "source": [
    "from sklearn.tree import DecisionTreeClassifier\n",
    "tree = DecisionTreeClassifier(criterion='gini', max_depth=4, random_state=1)\n",
    "tree.fit(X_train_std, y_train)"
   ]
  },
  {
   "cell_type": "code",
   "execution_count": 285,
   "metadata": {
    "collapsed": false
   },
   "outputs": [
    {
     "name": "stdout",
     "output_type": "stream",
     "text": [
      "0.693295865114 0.681647940075\n"
     ]
    }
   ],
   "source": [
    "print accuracy_score(y_train, tree.predict(X_train_std)), accuracy_score(y_test, tree.predict(X_test_std))"
   ]
  },
  {
   "cell_type": "markdown",
   "metadata": {},
   "source": [
    "### look for the best max_depth with tree"
   ]
  },
  {
   "cell_type": "code",
   "execution_count": 286,
   "metadata": {
    "collapsed": true
   },
   "outputs": [],
   "source": [
    "depth = range(1, 21)\n",
    "train_score = []\n",
    "test_score = []\n",
    "for t in depth:\n",
    "    tree = DecisionTreeClassifier(criterion='gini', max_depth=t, random_state=1)\n",
    "    tree.fit(X_train_std, y_train)\n",
    "    predict1 = tree.predict(X_train_std)\n",
    "    score1 = accuracy_score(y_train, predict1)\n",
    "    train_score.append(score1)\n",
    "    predict2 = tree.predict(X_test_std)\n",
    "    score2 = accuracy_score(y_test, predict2)\n",
    "    test_score.append(score2)"
   ]
  },
  {
   "cell_type": "code",
   "execution_count": 287,
   "metadata": {
    "collapsed": false
   },
   "outputs": [
    {
     "data": {
      "text/plain": [
       "<matplotlib.legend.Legend at 0x125ff15d0>"
      ]
     },
     "execution_count": 287,
     "metadata": {},
     "output_type": "execute_result"
    },
    {
     "data": {
      "image/png": "[encoded data removed]",
      "text/plain": [
       "<matplotlib.figure.Figure at 0x129dc0f90>"
      ]
     },
     "metadata": {},
     "output_type": "display_data"
    }
   ],
   "source": [
    "plt.plot(depth, train_score, marker='o', label='training score')\n",
    "plt.plot(depth, test_score, marker='+', color='red', label='testing score')\n",
    "plt.xlabel('max_depth')\n",
    "plt.ylabel('Accuracy')\n",
    "plt.title('Search the best max_depth for tree (Gini)')\n",
    "plt.legend(loc=2)"
   ]
  },
  {
   "cell_type": "code",
   "execution_count": 289,
   "metadata": {
    "collapsed": true
   },
   "outputs": [],
   "source": [
    "result=dict(zip(depth, test_score))"
   ]
  },
  {
   "cell_type": "code",
   "execution_count": 290,
   "metadata": {
    "collapsed": false
   },
   "outputs": [
    {
     "name": "stdout",
     "output_type": "stream",
     "text": [
      "The best max_depth is 6 and the accuracy score is 0.688202247191\n"
     ]
    }
   ],
   "source": [
    "print 'The best max_depth is {} and the accuracy score is {}'.format(max(result, key=lambda k: result[k]),max(test_score))"
   ]
  },
  {
   "cell_type": "markdown",
   "metadata": {},
   "source": [
    "# 6. Random Forest"
   ]
  },
  {
   "cell_type": "code",
   "execution_count": 295,
   "metadata": {
    "collapsed": false
   },
   "outputs": [
    {
     "data": {
      "text/plain": [
       "RandomForestClassifier(bootstrap=True, class_weight=None, criterion='gini',\n",
       "            max_depth=None, max_features='auto', max_leaf_nodes=None,\n",
       "            min_impurity_decrease=0.0, min_impurity_split=None,\n",
       "            min_samples_leaf=1, min_samples_split=2,\n",
       "            min_weight_fraction_leaf=0.0, n_estimators=25, n_jobs=1,\n",
       "            oob_score=False, random_state=1, verbose=0, warm_start=False)"
      ]
     },
     "execution_count": 295,
     "metadata": {},
     "output_type": "execute_result"
    }
   ],
   "source": [
    "from sklearn.ensemble import RandomForestClassifier\n",
    "forest = RandomForestClassifier(criterion='gini', n_estimators=25, random_state=1)\n",
    "forest.fit(X_train_std, y_train)"
   ]
  },
  {
   "cell_type": "code",
   "execution_count": 296,
   "metadata": {
    "collapsed": false
   },
   "outputs": [
    {
     "name": "stdout",
     "output_type": "stream",
     "text": [
      "0.998394219189 0.714419475655\n"
     ]
    }
   ],
   "source": [
    "print accuracy_score(y_train, forest.predict(X_train_std)), accuracy_score(y_test, forest.predict(X_test_std))"
   ]
  },
  {
   "cell_type": "markdown",
   "metadata": {},
   "source": [
    "### look for the best n_estimators"
   ]
  },
  {
   "cell_type": "code",
   "execution_count": 297,
   "metadata": {
    "collapsed": false
   },
   "outputs": [],
   "source": [
    "num = np.arange(5, 105, 5)\n",
    "train_score = []\n",
    "test_score = []\n",
    "for i in num:\n",
    "    forest = RandomForestClassifier(criterion='gini', n_estimators=i, random_state=1)\n",
    "    forest.fit(X_train_std, y_train)\n",
    "    predict1 = forest.predict(X_train_std)\n",
    "    score1 = accuracy_score(y_train, predict1)\n",
    "    train_score.append(score1)\n",
    "    predict2 = forest.predict(X_test_std)\n",
    "    score2 = accuracy_score(y_test, predict2)\n",
    "    test_score.append(score2)"
   ]
  },
  {
   "cell_type": "code",
   "execution_count": 298,
   "metadata": {
    "collapsed": false
   },
   "outputs": [
    {
     "data": {
      "text/plain": [
       "(0.65, 1.05)"
      ]
     },
     "execution_count": 298,
     "metadata": {},
     "output_type": "execute_result"
    },
    {
     "data": {
      "image/png": "[encoded data removed]",
      "text/plain": [
       "<matplotlib.figure.Figure at 0x1265983d0>"
      ]
     },
     "metadata": {},
     "output_type": "display_data"
    }
   ],
   "source": [
    "plt.plot(num, train_score, marker='o', label='train')\n",
    "plt.plot(num, test_score, marker='+', color='red', label='test')\n",
    "plt.xlabel('n_estimators')\n",
    "plt.ylabel('Accuracy')\n",
    "plt.title('Search the best n_estimators for RF (Gini)')\n",
    "plt.legend(loc=7)\n",
    "plt.ylim(0.65, 1.05)"
   ]
  },
  {
   "cell_type": "code",
   "execution_count": 299,
   "metadata": {
    "collapsed": false
   },
   "outputs": [
    {
     "name": "stdout",
     "output_type": "stream",
     "text": [
      "The best n_estimator is 55 and the accuracy score is 0.73595505618\n"
     ]
    }
   ],
   "source": [
    "result=dict(zip(num, test_score))\n",
    "print 'The best n_estimator is {} and the accuracy score is {}'.format(max(result, key=lambda k: result[k]),max(test_score))"
   ]
  },
  {
   "cell_type": "code",
   "execution_count": null,
   "metadata": {
    "collapsed": true
   },
   "outputs": [],
   "source": []
  },
  {
   "cell_type": "markdown",
   "metadata": {},
   "source": [
    "### RandomizedSearchCV"
   ]
  },
  {
   "cell_type": "code",
   "execution_count": 185,
   "metadata": {
    "collapsed": false
   },
   "outputs": [
    {
     "name": "stdout",
     "output_type": "stream",
     "text": [
      "{'bootstrap': [True, False], 'min_samples_leaf': [1, 2, 4], 'n_estimators': [200, 400, 600, 800, 1000, 1200, 1400, 1600, 1800, 2000], 'min_samples_split': [2, 5, 10], 'max_features': ['auto', 'sqrt'], 'max_depth': [10, 20, 30, 40, 50, 60, 70, 80, 90, 100, 110, None]}\n"
     ]
    }
   ],
   "source": [
    "from sklearn.model_selection import RandomizedSearchCV\n",
    "# Number of trees in random forest\n",
    "n_estimators = [int(x) for x in np.linspace(start = 200, stop = 2000, num = 10)]\n",
    "# Number of features to consider at every split\n",
    "max_features = ['auto', 'sqrt']\n",
    "# Maximum number of levels in tree\n",
    "max_depth = [int(x) for x in np.linspace(10, 110, num = 11)]\n",
    "max_depth.append(None)\n",
    "# Minimum number of samples required to split a node\n",
    "min_samples_split = [2, 5, 10]\n",
    "# Minimum number of samples required at each leaf node\n",
    "min_samples_leaf = [1, 2, 4]\n",
    "# Method of selecting samples for training each tree\n",
    "bootstrap = [True, False]\n",
    "# Create the random grid\n",
    "random_grid = {'n_estimators': n_estimators,\n",
    "               'max_features': max_features,\n",
    "               'max_depth': max_depth,\n",
    "               'min_samples_split': min_samples_split,\n",
    "               'min_samples_leaf': min_samples_leaf,\n",
    "               'bootstrap': bootstrap}\n",
    "print(random_grid)"
   ]
  },
  {
   "cell_type": "code",
   "execution_count": 186,
   "metadata": {
    "collapsed": true
   },
   "outputs": [
    {
     "name": "stdout",
     "output_type": "stream",
     "text": [
      "Fitting 3 folds for each of 100 candidates, totalling 300 fits\n"
     ]
    },
    {
     "name": "stderr",
     "output_type": "stream",
     "text": [
      "[Parallel(n_jobs=-1)]: Done  25 tasks      | elapsed:   42.7s\n",
      "[Parallel(n_jobs=-1)]: Done 146 tasks      | elapsed:  3.8min\n",
      "[Parallel(n_jobs=-1)]: Done 300 out of 300 | elapsed:  7.7min finished\n"
     ]
    },
    {
     "name": "stdout",
     "output_type": "stream",
     "text": [
      "[CV] bootstrap=True, min_samples_leaf=1, n_estimators=400, min_samples_split=5, max_features=sqrt, max_depth=30 \n",
      "[CV] bootstrap=True, min_samples_leaf=1, n_estimators=400, min_samples_split=5, max_features=sqrt, max_depth=30 \n",
      "[CV] bootstrap=True, min_samples_leaf=1, n_estimators=400, min_samples_split=5, max_features=sqrt, max_depth=30 \n",
      "[CV] bootstrap=True, min_samples_leaf=1, n_estimators=2000, min_samples_split=5, max_features=sqrt, max_depth=10 \n",
      "[CV] bootstrap=True, min_samples_leaf=1, n_estimators=2000, min_samples_split=5, max_features=sqrt, max_depth=10 \n",
      "[CV] bootstrap=True, min_samples_leaf=1, n_estimators=2000, min_samples_split=5, max_features=sqrt, max_depth=10 \n",
      "[CV] bootstrap=False, min_samples_leaf=2, n_estimators=1200, min_samples_split=5, max_features=sqrt, max_depth=10 \n",
      "[CV] bootstrap=False, min_samples_leaf=2, n_estimators=1200, min_samples_split=5, max_features=sqrt, max_depth=10 \n",
      "[CV]  bootstrap=True, min_samples_leaf=1, n_estimators=400, min_samples_split=5, max_features=sqrt, max_depth=30, total=   3.8s[CV]  bootstrap=True, min_samples_leaf=1, n_estimators=400, min_samples_split=5, max_features=sqrt, max_depth=30, total=   3.8s[CV]  bootstrap=True, min_samples_leaf=1, n_estimators=400, min_samples_split=5, max_features=sqrt, max_depth=30, total=   3.9s[CV]  bootstrap=True, min_samples_leaf=1, n_estimators=2000, min_samples_split=5, max_features=sqrt, max_depth=10, total=  17.8s[CV]  bootstrap=True, min_samples_leaf=1, n_estimators=2000, min_samples_split=5, max_features=sqrt, max_depth=10, total=  17.9s[CV]  bootstrap=True, min_samples_leaf=1, n_estimators=2000, min_samples_split=5, max_features=sqrt, max_depth=10, total=  18.0s[CV]  bootstrap=False, min_samples_leaf=2, n_estimators=1200, min_samples_split=5, max_features=sqrt, max_depth=10, total=  11.6s[CV]  bootstrap=False, min_samples_leaf=2, n_estimators=1200, min_samples_split=5, max_features=sqrt, max_depth=10, total=  11.6s\n",
      "\n",
      "\n",
      "\n",
      "\n",
      "\n",
      "\n",
      "\n",
      "[CV] bootstrap=False, min_samples_leaf=2, n_estimators=1200, min_samples_split=5, max_features=sqrt, max_depth=10 \n",
      "[CV] bootstrap=False, min_samples_leaf=4, n_estimators=2000, min_samples_split=2, max_features=auto, max_depth=30 \n",
      "[CV] bootstrap=False, min_samples_leaf=4, n_estimators=2000, min_samples_split=2, max_features=auto, max_depth=30 \n",
      "[CV] bootstrap=True, min_samples_leaf=4, n_estimators=1600, min_samples_split=2, max_features=sqrt, max_depth=10 \n",
      "[CV] bootstrap=False, min_samples_leaf=4, n_estimators=800, min_samples_split=5, max_features=sqrt, max_depth=30 \n",
      "[CV] bootstrap=False, min_samples_leaf=4, n_estimators=800, min_samples_split=5, max_features=sqrt, max_depth=30 \n",
      "[CV] bootstrap=True, min_samples_leaf=4, n_estimators=1600, min_samples_split=2, max_features=sqrt, max_depth=10 \n",
      "[CV] bootstrap=False, min_samples_leaf=4, n_estimators=2000, min_samples_split=2, max_features=auto, max_depth=30 \n",
      "[CV]  bootstrap=False, min_samples_leaf=2, n_estimators=1200, min_samples_split=5, max_features=sqrt, max_depth=10, total=  11.6s[CV]  bootstrap=False, min_samples_leaf=4, n_estimators=2000, min_samples_split=2, max_features=auto, max_depth=30, total=  21.5s[CV]  bootstrap=False, min_samples_leaf=4, n_estimators=2000, min_samples_split=2, max_features=auto, max_depth=30, total=  21.3s[CV]  bootstrap=True, min_samples_leaf=4, n_estimators=1600, min_samples_split=2, max_features=sqrt, max_depth=10, total=  13.8s[CV]  bootstrap=False, min_samples_leaf=4, n_estimators=800, min_samples_split=5, max_features=sqrt, max_depth=30, total=   8.5s[CV]  bootstrap=False, min_samples_leaf=4, n_estimators=800, min_samples_split=5, max_features=sqrt, max_depth=30, total=   8.4s[CV]  bootstrap=True, min_samples_leaf=4, n_estimators=1600, min_samples_split=2, max_features=sqrt, max_depth=10, total=  14.6s[CV]  bootstrap=False, min_samples_leaf=4, n_estimators=2000, min_samples_split=2, max_features=auto, max_depth=30, total=  21.9s\n",
      "\n",
      "\n",
      "\n",
      "\n",
      "\n",
      "\n",
      "\n",
      "[CV] bootstrap=True, min_samples_leaf=4, n_estimators=1600, min_samples_split=2, max_features=sqrt, max_depth=10 \n",
      "[CV] bootstrap=False, min_samples_leaf=2, n_estimators=1000, min_samples_split=5, max_features=sqrt, max_depth=100 \n",
      "[CV] bootstrap=False, min_samples_leaf=4, n_estimators=800, min_samples_split=5, max_features=sqrt, max_depth=30 \n",
      "[CV] bootstrap=False, min_samples_leaf=1, n_estimators=600, min_samples_split=5, max_features=sqrt, max_depth=60 \n",
      "[CV] bootstrap=False, min_samples_leaf=2, n_estimators=1000, min_samples_split=5, max_features=sqrt, max_depth=100 \n",
      "[CV] bootstrap=False, min_samples_leaf=1, n_estimators=600, min_samples_split=5, max_features=sqrt, max_depth=60 \n",
      "[CV] bootstrap=False, min_samples_leaf=2, n_estimators=1000, min_samples_split=5, max_features=sqrt, max_depth=100 \n",
      "[CV] bootstrap=False, min_samples_leaf=1, n_estimators=1000, min_samples_split=2, max_features=auto, max_depth=50 \n",
      "[CV]  bootstrap=True, min_samples_leaf=4, n_estimators=1600, min_samples_split=2, max_features=sqrt, max_depth=10, total=  14.5s[CV]  bootstrap=False, min_samples_leaf=2, n_estimators=1000, min_samples_split=5, max_features=sqrt, max_depth=100, total=  10.8s[CV]  bootstrap=False, min_samples_leaf=4, n_estimators=800, min_samples_split=5, max_features=sqrt, max_depth=30, total=   8.4s[CV]  bootstrap=False, min_samples_leaf=1, n_estimators=600, min_samples_split=5, max_features=sqrt, max_depth=60, total=   6.6s[CV]  bootstrap=False, min_samples_leaf=2, n_estimators=1000, min_samples_split=5, max_features=sqrt, max_depth=100, total=  10.9s[CV]  bootstrap=False, min_samples_leaf=1, n_estimators=600, min_samples_split=5, max_features=sqrt, max_depth=60, total=   6.5s[CV]  bootstrap=False, min_samples_leaf=2, n_estimators=1000, min_samples_split=5, max_features=sqrt, max_depth=100, total=  10.8s[CV]  bootstrap=False, min_samples_leaf=1, n_estimators=1000, min_samples_split=2, max_features=auto, max_depth=50, total=  11.1s\n",
      "\n",
      "\n",
      "\n",
      "\n",
      "\n",
      "\n",
      "\n",
      "[CV] bootstrap=False, min_samples_leaf=1, n_estimators=600, min_samples_split=5, max_features=sqrt, max_depth=60 \n",
      "[CV] bootstrap=False, min_samples_leaf=4, n_estimators=1800, min_samples_split=5, max_features=auto, max_depth=10 \n",
      "[CV] bootstrap=False, min_samples_leaf=1, n_estimators=1000, min_samples_split=2, max_features=auto, max_depth=50 \n",
      "[CV] bootstrap=True, min_samples_leaf=4, n_estimators=400, min_samples_split=10, max_features=auto, max_depth=70 \n",
      "[CV] bootstrap=True, min_samples_leaf=4, n_estimators=400, min_samples_split=10, max_features=auto, max_depth=70 \n",
      "[CV] bootstrap=False, min_samples_leaf=1, n_estimators=1000, min_samples_split=2, max_features=auto, max_depth=50 \n",
      "[CV] bootstrap=False, min_samples_leaf=4, n_estimators=1800, min_samples_split=5, max_features=auto, max_depth=10 \n",
      "[CV] bootstrap=False, min_samples_leaf=1, n_estimators=2000, min_samples_split=10, max_features=sqrt, max_depth=10 \n",
      "[CV]  bootstrap=False, min_samples_leaf=1, n_estimators=600, min_samples_split=5, max_features=sqrt, max_depth=60, total=   6.5s[CV]  bootstrap=False, min_samples_leaf=4, n_estimators=1800, min_samples_split=5, max_features=auto, max_depth=10, total=  17.9s[CV]  bootstrap=False, min_samples_leaf=1, n_estimators=1000, min_samples_split=2, max_features=auto, max_depth=50, total=  11.4s[CV]  bootstrap=True, min_samples_leaf=4, n_estimators=400, min_samples_split=10, max_features=auto, max_depth=70, total=   3.4s[CV]  bootstrap=True, min_samples_leaf=4, n_estimators=400, min_samples_split=10, max_features=auto, max_depth=70, total=   3.4s[CV]  bootstrap=False, min_samples_leaf=1, n_estimators=1000, min_samples_split=2, max_features=auto, max_depth=50, total=  11.1s[CV]  bootstrap=False, min_samples_leaf=4, n_estimators=1800, min_samples_split=5, max_features=auto, max_depth=10, total=  17.9s[CV]  bootstrap=False, min_samples_leaf=1, n_estimators=2000, min_samples_split=10, max_features=sqrt, max_depth=10, total=  21.4s\n",
      "\n",
      "\n",
      "\n",
      "\n",
      "\n",
      "\n",
      "\n",
      "[CV] bootstrap=False, min_samples_leaf=4, n_estimators=1800, min_samples_split=5, max_features=auto, max_depth=10 \n",
      "[CV] bootstrap=False, min_samples_leaf=2, n_estimators=1600, min_samples_split=5, max_features=sqrt, max_depth=10 \n",
      "[CV] bootstrap=False, min_samples_leaf=1, n_estimators=2000, min_samples_split=10, max_features=sqrt, max_depth=10 \n",
      "[CV] bootstrap=False, min_samples_leaf=1, n_estimators=800, min_samples_split=5, max_features=sqrt, max_depth=90 \n",
      "[CV] bootstrap=True, min_samples_leaf=4, n_estimators=400, min_samples_split=10, max_features=auto, max_depth=70 \n",
      "[CV] bootstrap=False, min_samples_leaf=1, n_estimators=800, min_samples_split=5, max_features=sqrt, max_depth=90 \n",
      "[CV] bootstrap=False, min_samples_leaf=2, n_estimators=800, min_samples_split=10, max_features=sqrt, max_depth=30 \n",
      "[CV] bootstrap=False, min_samples_leaf=4, n_estimators=1800, min_samples_split=2, max_features=auto, max_depth=50 \n",
      "[CV]  bootstrap=False, min_samples_leaf=4, n_estimators=1800, min_samples_split=5, max_features=auto, max_depth=10, total=  17.8s[CV]  bootstrap=False, min_samples_leaf=2, n_estimators=1600, min_samples_split=5, max_features=sqrt, max_depth=10, total=  17.0s[CV]  bootstrap=False, min_samples_leaf=1, n_estimators=2000, min_samples_split=10, max_features=sqrt, max_depth=10, total=  21.1s[CV]  bootstrap=False, min_samples_leaf=1, n_estimators=800, min_samples_split=5, max_features=sqrt, max_depth=90, total=   9.3s[CV]  bootstrap=True, min_samples_leaf=4, n_estimators=400, min_samples_split=10, max_features=auto, max_depth=70, total=   3.6s[CV]  bootstrap=False, min_samples_leaf=1, n_estimators=800, min_samples_split=5, max_features=sqrt, max_depth=90, total=   9.2s[CV]  bootstrap=False, min_samples_leaf=2, n_estimators=800, min_samples_split=10, max_features=sqrt, max_depth=30, total=   9.0s[CV]  bootstrap=False, min_samples_leaf=4, n_estimators=1800, min_samples_split=2, max_features=auto, max_depth=50, total=  19.6s\n",
      "\n",
      "\n",
      "\n",
      "\n",
      "\n",
      "\n",
      "\n",
      "[CV] bootstrap=False, min_samples_leaf=2, n_estimators=800, min_samples_split=10, max_features=sqrt, max_depth=30 \n",
      "[CV] bootstrap=False, min_samples_leaf=2, n_estimators=600, min_samples_split=5, max_features=auto, max_depth=70 \n",
      "[CV] bootstrap=False, min_samples_leaf=4, n_estimators=1800, min_samples_split=2, max_features=auto, max_depth=50 \n",
      "[CV] bootstrap=False, min_samples_leaf=1, n_estimators=2000, min_samples_split=10, max_features=sqrt, max_depth=10 \n",
      "[CV] bootstrap=False, min_samples_leaf=1, n_estimators=800, min_samples_split=5, max_features=sqrt, max_depth=90 \n",
      "[CV] bootstrap=False, min_samples_leaf=2, n_estimators=1600, min_samples_split=5, max_features=sqrt, max_depth=10 \n",
      "[CV] bootstrap=False, min_samples_leaf=4, n_estimators=1800, min_samples_split=2, max_features=auto, max_depth=50 \n",
      "[CV] bootstrap=True, min_samples_leaf=1, n_estimators=600, min_samples_split=5, max_features=auto, max_depth=80 \n",
      "[CV]  bootstrap=False, min_samples_leaf=2, n_estimators=800, min_samples_split=10, max_features=sqrt, max_depth=30, total=   9.2s[CV]  bootstrap=False, min_samples_leaf=2, n_estimators=600, min_samples_split=5, max_features=auto, max_depth=70, total=   7.0s[CV]  bootstrap=False, min_samples_leaf=4, n_estimators=1800, min_samples_split=2, max_features=auto, max_depth=50, total=  19.7s[CV]  bootstrap=False, min_samples_leaf=1, n_estimators=2000, min_samples_split=10, max_features=sqrt, max_depth=10, total=  21.3s[CV]  bootstrap=False, min_samples_leaf=1, n_estimators=800, min_samples_split=5, max_features=sqrt, max_depth=90, total=   9.3s[CV]  bootstrap=False, min_samples_leaf=2, n_estimators=1600, min_samples_split=5, max_features=sqrt, max_depth=10, total=  17.0s[CV]  bootstrap=False, min_samples_leaf=4, n_estimators=1800, min_samples_split=2, max_features=auto, max_depth=50, total=  19.8s[CV]  bootstrap=True, min_samples_leaf=1, n_estimators=600, min_samples_split=5, max_features=auto, max_depth=80, total=   6.6s\n",
      "\n",
      "\n",
      "\n",
      "\n",
      "\n",
      "\n",
      "\n",
      "[CV] bootstrap=False, min_samples_leaf=2, n_estimators=800, min_samples_split=10, max_features=sqrt, max_depth=30 \n",
      "[CV] bootstrap=False, min_samples_leaf=2, n_estimators=1800, min_samples_split=10, max_features=auto, max_depth=110 \n",
      "[CV] bootstrap=False, min_samples_leaf=1, n_estimators=1800, min_samples_split=10, max_features=sqrt, max_depth=30 \n",
      "[CV] bootstrap=True, min_samples_leaf=1, n_estimators=1000, min_samples_split=2, max_features=sqrt, max_depth=20 \n",
      "[CV] bootstrap=False, min_samples_leaf=2, n_estimators=1600, min_samples_split=5, max_features=sqrt, max_depth=10 \n",
      "[CV] bootstrap=False, min_samples_leaf=2, n_estimators=600, min_samples_split=5, max_features=auto, max_depth=70 \n",
      "[CV] bootstrap=True, min_samples_leaf=1, n_estimators=600, min_samples_split=5, max_features=auto, max_depth=80 \n",
      "[CV] bootstrap=False, min_samples_leaf=1, n_estimators=1600, min_samples_split=5, max_features=sqrt, max_depth=70 \n",
      "[CV]  bootstrap=False, min_samples_leaf=2, n_estimators=800, min_samples_split=10, max_features=sqrt, max_depth=30, total=   9.7s[CV]  bootstrap=False, min_samples_leaf=2, n_estimators=1800, min_samples_split=10, max_features=auto, max_depth=110, total=  19.7s[CV]  bootstrap=False, min_samples_leaf=1, n_estimators=1800, min_samples_split=10, max_features=sqrt, max_depth=30, total=  20.4s[CV]  bootstrap=True, min_samples_leaf=1, n_estimators=1000, min_samples_split=2, max_features=sqrt, max_depth=20, total=   9.7s[CV]  bootstrap=False, min_samples_leaf=2, n_estimators=1600, min_samples_split=5, max_features=sqrt, max_depth=10, total=  17.0s[CV]  bootstrap=False, min_samples_leaf=2, n_estimators=600, min_samples_split=5, max_features=auto, max_depth=70, total=   7.3s[CV]  bootstrap=True, min_samples_leaf=1, n_estimators=600, min_samples_split=5, max_features=auto, max_depth=80, total=   6.4s[CV]  bootstrap=False, min_samples_leaf=1, n_estimators=1600, min_samples_split=5, max_features=sqrt, max_depth=70, total=  17.7s\n",
      "\n",
      "\n",
      "\n",
      "\n",
      "\n",
      "\n",
      "\n",
      "[CV] bootstrap=True, min_samples_leaf=1, n_estimators=1000, min_samples_split=2, max_features=sqrt, max_depth=20 \n",
      "[CV] bootstrap=True, min_samples_leaf=4, n_estimators=1400, min_samples_split=5, max_features=sqrt, max_depth=80 \n",
      "[CV] bootstrap=True, min_samples_leaf=4, n_estimators=1400, min_samples_split=5, max_features=sqrt, max_depth=80 \n",
      "[CV] bootstrap=False, min_samples_leaf=2, n_estimators=1800, min_samples_split=10, max_features=auto, max_depth=110 \n",
      "[CV] bootstrap=False, min_samples_leaf=2, n_estimators=600, min_samples_split=5, max_features=auto, max_depth=70 \n",
      "[CV] bootstrap=True, min_samples_leaf=1, n_estimators=1000, min_samples_split=2, max_features=sqrt, max_depth=20 \n",
      "[CV] bootstrap=False, min_samples_leaf=1, n_estimators=1600, min_samples_split=5, max_features=sqrt, max_depth=70 \n",
      "[CV] bootstrap=False, min_samples_leaf=1, n_estimators=1400, min_samples_split=5, max_features=sqrt, max_depth=80 \n",
      "[CV]  bootstrap=True, min_samples_leaf=1, n_estimators=1000, min_samples_split=2, max_features=sqrt, max_depth=20, total=   9.5s[CV]  bootstrap=True, min_samples_leaf=4, n_estimators=1400, min_samples_split=5, max_features=sqrt, max_depth=80, total=  12.4s[CV]  bootstrap=True, min_samples_leaf=4, n_estimators=1400, min_samples_split=5, max_features=sqrt, max_depth=80, total=  12.3s[CV]  bootstrap=False, min_samples_leaf=2, n_estimators=1800, min_samples_split=10, max_features=auto, max_depth=110, total=  20.3s[CV]  bootstrap=False, min_samples_leaf=2, n_estimators=600, min_samples_split=5, max_features=auto, max_depth=70, total=   6.8s[CV]  bootstrap=True, min_samples_leaf=1, n_estimators=1000, min_samples_split=2, max_features=sqrt, max_depth=20, total=   9.8s[CV]  bootstrap=False, min_samples_leaf=1, n_estimators=1600, min_samples_split=5, max_features=sqrt, max_depth=70, total=  17.7s[CV]  bootstrap=False, min_samples_leaf=1, n_estimators=1400, min_samples_split=5, max_features=sqrt, max_depth=80, total=  16.8s\n",
      "\n",
      "\n",
      "\n",
      "\n",
      "\n",
      "\n",
      "\n",
      "[CV] bootstrap=True, min_samples_leaf=1, n_estimators=600, min_samples_split=5, max_features=auto, max_depth=80 \n",
      "[CV] bootstrap=False, min_samples_leaf=1, n_estimators=1400, min_samples_split=5, max_features=sqrt, max_depth=80 \n",
      "[CV] bootstrap=False, min_samples_leaf=1, n_estimators=400, min_samples_split=2, max_features=sqrt, max_depth=None \n",
      "[CV] bootstrap=True, min_samples_leaf=4, n_estimators=1400, min_samples_split=5, max_features=sqrt, max_depth=80 \n",
      "[CV] bootstrap=False, min_samples_leaf=2, n_estimators=1800, min_samples_split=10, max_features=auto, max_depth=110 \n",
      "[CV] bootstrap=False, min_samples_leaf=1, n_estimators=1800, min_samples_split=10, max_features=sqrt, max_depth=30 \n",
      "[CV] bootstrap=True, min_samples_leaf=2, n_estimators=1800, min_samples_split=2, max_features=auto, max_depth=None \n",
      "[CV] bootstrap=True, min_samples_leaf=2, n_estimators=1000, min_samples_split=5, max_features=sqrt, max_depth=20 \n",
      "[CV]  bootstrap=True, min_samples_leaf=1, n_estimators=600, min_samples_split=5, max_features=auto, max_depth=80, total=   6.0s[CV]  bootstrap=False, min_samples_leaf=1, n_estimators=1400, min_samples_split=5, max_features=sqrt, max_depth=80, total=  16.9s[CV]  bootstrap=False, min_samples_leaf=1, n_estimators=400, min_samples_split=2, max_features=sqrt, max_depth=None, total=   5.7s[CV]  bootstrap=True, min_samples_leaf=4, n_estimators=1400, min_samples_split=5, max_features=sqrt, max_depth=80, total=  12.2s[CV]  bootstrap=False, min_samples_leaf=2, n_estimators=1800, min_samples_split=10, max_features=auto, max_depth=110, total=  19.8s[CV]  bootstrap=False, min_samples_leaf=1, n_estimators=1800, min_samples_split=10, max_features=sqrt, max_depth=30, total=  20.1s[CV]  bootstrap=True, min_samples_leaf=2, n_estimators=1800, min_samples_split=2, max_features=auto, max_depth=None, total=  17.5s[CV]  bootstrap=True, min_samples_leaf=2, n_estimators=1000, min_samples_split=5, max_features=sqrt, max_depth=20, total=   9.7s\n",
      "\n",
      "\n",
      "\n",
      "\n",
      "\n",
      "\n",
      "\n",
      "[CV] bootstrap=False, min_samples_leaf=1, n_estimators=1800, min_samples_split=10, max_features=sqrt, max_depth=30 \n",
      "[CV] bootstrap=False, min_samples_leaf=4, n_estimators=2000, min_samples_split=10, max_features=auto, max_depth=100 \n",
      "[CV] bootstrap=False, min_samples_leaf=1, n_estimators=1400, min_samples_split=2, max_features=auto, max_depth=40 \n",
      "[CV] bootstrap=False, min_samples_leaf=1, n_estimators=1400, min_samples_split=5, max_features=sqrt, max_depth=80 \n",
      "[CV] bootstrap=False, min_samples_leaf=1, n_estimators=1600, min_samples_split=5, max_features=sqrt, max_depth=70 \n",
      "[CV] bootstrap=True, min_samples_leaf=2, n_estimators=1800, min_samples_split=2, max_features=auto, max_depth=None \n",
      "[CV] bootstrap=False, min_samples_leaf=1, n_estimators=1400, min_samples_split=2, max_features=auto, max_depth=40 \n",
      "[CV] bootstrap=True, min_samples_leaf=2, n_estimators=1200, min_samples_split=2, max_features=sqrt, max_depth=20 \n",
      "[CV]  bootstrap=False, min_samples_leaf=1, n_estimators=1800, min_samples_split=10, max_features=sqrt, max_depth=30, total=  20.0s[CV]  bootstrap=False, min_samples_leaf=4, n_estimators=2000, min_samples_split=10, max_features=auto, max_depth=100, total=  22.8s[CV]  bootstrap=False, min_samples_leaf=1, n_estimators=1400, min_samples_split=2, max_features=auto, max_depth=40, total=  16.6s[CV]  bootstrap=False, min_samples_leaf=1, n_estimators=1400, min_samples_split=5, max_features=sqrt, max_depth=80, total=  17.7s[CV]  bootstrap=False, min_samples_leaf=1, n_estimators=1600, min_samples_split=5, max_features=sqrt, max_depth=70, total=  18.1s[CV]  bootstrap=True, min_samples_leaf=2, n_estimators=1800, min_samples_split=2, max_features=auto, max_depth=None, total=  17.8s[CV]  bootstrap=False, min_samples_leaf=1, n_estimators=1400, min_samples_split=2, max_features=auto, max_depth=40, total=  17.3s[CV]  bootstrap=True, min_samples_leaf=2, n_estimators=1200, min_samples_split=2, max_features=sqrt, max_depth=20, total=  13.1s\n",
      "\n",
      "\n",
      "\n",
      "\n",
      "\n",
      "\n",
      "\n",
      "[CV] bootstrap=True, min_samples_leaf=2, n_estimators=1800, min_samples_split=2, max_features=auto, max_depth=None \n",
      "[CV] bootstrap=False, min_samples_leaf=2, n_estimators=800, min_samples_split=2, max_features=sqrt, max_depth=50 \n",
      "[CV] bootstrap=True, min_samples_leaf=2, n_estimators=1200, min_samples_split=2, max_features=sqrt, max_depth=20 \n",
      "[CV] bootstrap=False, min_samples_leaf=4, n_estimators=2000, min_samples_split=10, max_features=auto, max_depth=100 [CV] bootstrap=False, min_samples_leaf=1, n_estimators=400, min_samples_split=2, max_features=sqrt, max_depth=None \n",
      "[CV] bootstrap=False, min_samples_leaf=1, n_estimators=1400, min_samples_split=2, max_features=auto, max_depth=40 \n",
      "[CV] bootstrap=False, min_samples_leaf=4, n_estimators=1200, min_samples_split=10, max_features=sqrt, max_depth=20 \n",
      "[CV] bootstrap=False, min_samples_leaf=2, n_estimators=800, min_samples_split=2, max_features=sqrt, max_depth=50 \n",
      "[CV]  bootstrap=True, min_samples_leaf=2, n_estimators=1800, min_samples_split=2, max_features=auto, max_depth=None, total=  18.0s[CV]  bootstrap=False, min_samples_leaf=2, n_estimators=800, min_samples_split=2, max_features=sqrt, max_depth=50, total=   8.9s[CV]  bootstrap=True, min_samples_leaf=2, n_estimators=1200, min_samples_split=2, max_features=sqrt, max_depth=20, total=  12.4s\n",
      "[CV]  bootstrap=False, min_samples_leaf=1, n_estimators=400, min_samples_split=2, max_features=sqrt, max_depth=None, total=   4.8s[CV]  bootstrap=False, min_samples_leaf=1, n_estimators=1400, min_samples_split=2, max_features=auto, max_depth=40, total=  17.2s[CV]  bootstrap=False, min_samples_leaf=4, n_estimators=1200, min_samples_split=10, max_features=sqrt, max_depth=20, total=  13.4s[CV]  bootstrap=False, min_samples_leaf=2, n_estimators=800, min_samples_split=2, max_features=sqrt, max_depth=50, total=   8.9s"
     ]
    },
    {
     "data": {
      "text/plain": [
       "RandomizedSearchCV(cv=3, error_score='raise',\n",
       "          estimator=RandomForestClassifier(bootstrap=True, class_weight=None, criterion='gini',\n",
       "            max_depth=None, max_features='auto', max_leaf_nodes=None,\n",
       "            min_impurity_decrease=0.0, min_impurity_split=None,\n",
       "            min_samples_leaf=1, min_samples_split=2,\n",
       "            min_weight_fraction_leaf=0.0, n_estimators=10, n_jobs=1,\n",
       "            oob_score=False, random_state=None, verbose=0,\n",
       "            warm_start=False),\n",
       "          fit_params=None, iid=True, n_iter=100, n_jobs=-1,\n",
       "          param_distributions={'bootstrap': [True, False], 'min_samples_leaf': [1, 2, 4], 'n_estimators': [200, 400, 600, 800, 1000, 1200, 1400, 1600, 1800, 2000], 'min_samples_split': [2, 5, 10], 'max_features': ['auto', 'sqrt'], 'max_depth': [10, 20, 30, 40, 50, 60, 70, 80, 90, 100, 110, None]},\n",
       "          pre_dispatch='2*n_jobs', random_state=42, refit=True,\n",
       "          return_train_score='warn', scoring=None, verbose=2)"
      ]
     },
     "execution_count": 186,
     "metadata": {},
     "output_type": "execute_result"
    },
    {
     "name": "stdout",
     "output_type": "stream",
     "text": [
      "\n",
      "\n",
      "\n",
      "[CV]  bootstrap=False, min_samples_leaf=4, n_estimators=2000, min_samples_split=10, max_features=auto, max_depth=100, total=  22.7s\n",
      "\n",
      "\n",
      "\n",
      "[CV] bootstrap=True, min_samples_leaf=2, n_estimators=1000, min_samples_split=5, max_features=sqrt, max_depth=20 \n",
      "[CV] bootstrap=True, min_samples_leaf=4, n_estimators=800, min_samples_split=10, max_features=sqrt, max_depth=50 \n",
      "[CV] bootstrap=False, min_samples_leaf=2, n_estimators=800, min_samples_split=2, max_features=sqrt, max_depth=50 \n",
      "\n",
      "[CV] bootstrap=False, min_samples_leaf=1, n_estimators=400, min_samples_split=2, max_features=sqrt, max_depth=None \n",
      "[CV] bootstrap=False, min_samples_leaf=4, n_estimators=1200, min_samples_split=10, max_features=sqrt, max_depth=20 \n",
      "[CV] bootstrap=False, min_samples_leaf=1, n_estimators=800, min_samples_split=5, max_features=sqrt, max_depth=100 \n",
      "[CV] bootstrap=True, min_samples_leaf=4, n_estimators=800, min_samples_split=10, max_features=sqrt, max_depth=50 \n",
      "[CV]  bootstrap=True, min_samples_leaf=2, n_estimators=1000, min_samples_split=5, max_features=sqrt, max_depth=20, total=   9.9s[CV]  bootstrap=True, min_samples_leaf=4, n_estimators=800, min_samples_split=10, max_features=sqrt, max_depth=50, total=   7.3s[CV]  bootstrap=False, min_samples_leaf=2, n_estimators=800, min_samples_split=2, max_features=sqrt, max_depth=50, total=   9.1s[CV] bootstrap=False, min_samples_leaf=1, n_estimators=800, min_samples_split=5, max_features=sqrt, max_depth=100 \n",
      "[CV]  bootstrap=False, min_samples_leaf=1, n_estimators=400, min_samples_split=2, max_features=sqrt, max_depth=None, total=   5.2s[CV]  bootstrap=False, min_samples_leaf=4, n_estimators=1200, min_samples_split=10, max_features=sqrt, max_depth=20, total=  13.7s[CV]  bootstrap=False, min_samples_leaf=1, n_estimators=800, min_samples_split=5, max_features=sqrt, max_depth=100, total=   9.2s[CV]  bootstrap=True, min_samples_leaf=4, n_estimators=800, min_samples_split=10, max_features=sqrt, max_depth=50, total=   7.1s\n",
      "\n",
      "\n",
      "[CV]  bootstrap=False, min_samples_leaf=1, n_estimators=800, min_samples_split=5, max_features=sqrt, max_depth=100, total=   9.1s\n",
      "\n",
      "\n",
      "\n",
      "[CV] bootstrap=True, min_samples_leaf=2, n_estimators=1200, min_samples_split=2, max_features=sqrt, max_depth=20 \n",
      "[CV] bootstrap=True, min_samples_leaf=2, n_estimators=1200, min_samples_split=5, max_features=sqrt, max_depth=20 \n",
      "[CV] bootstrap=True, min_samples_leaf=4, n_estimators=1800, min_samples_split=2, max_features=sqrt, max_depth=90 \n",
      "\n",
      "[CV] bootstrap=True, min_samples_leaf=2, n_estimators=1000, min_samples_split=5, max_features=sqrt, max_depth=20 \n",
      "[CV] bootstrap=False, min_samples_leaf=1, n_estimators=800, min_samples_split=5, max_features=sqrt, max_depth=100 \n",
      "[CV] bootstrap=False, min_samples_leaf=2, n_estimators=800, min_samples_split=10, max_features=sqrt, max_depth=20 \n",
      "[CV] bootstrap=False, min_samples_leaf=2, n_estimators=800, min_samples_split=10, max_features=sqrt, max_depth=20 \n",
      "[CV]  bootstrap=True, min_samples_leaf=2, n_estimators=1200, min_samples_split=2, max_features=sqrt, max_depth=20, total=  12.7s[CV]  bootstrap=True, min_samples_leaf=2, n_estimators=1200, min_samples_split=5, max_features=sqrt, max_depth=20, total=  11.1s[CV]  bootstrap=True, min_samples_leaf=4, n_estimators=1800, min_samples_split=2, max_features=sqrt, max_depth=90, total=  16.4s[CV] bootstrap=True, min_samples_leaf=4, n_estimators=1800, min_samples_split=2, max_features=sqrt, max_depth=90 \n",
      "[CV]  bootstrap=True, min_samples_leaf=2, n_estimators=1000, min_samples_split=5, max_features=sqrt, max_depth=20, total=   9.8s[CV]  bootstrap=False, min_samples_leaf=1, n_estimators=800, min_samples_split=5, max_features=sqrt, max_depth=100, total=   9.3s[CV]  bootstrap=False, min_samples_leaf=2, n_estimators=800, min_samples_split=10, max_features=sqrt, max_depth=20, total=   8.5s[CV]  bootstrap=False, min_samples_leaf=2, n_estimators=800, min_samples_split=10, max_features=sqrt, max_depth=20, total=   8.4s\n",
      "\n",
      "\n",
      "[CV]  bootstrap=True, min_samples_leaf=4, n_estimators=1800, min_samples_split=2, max_features=sqrt, max_depth=90, total=  17.5s\n",
      "\n",
      "\n",
      "\n",
      "[CV] bootstrap=False, min_samples_leaf=4, n_estimators=1200, min_samples_split=10, max_features=sqrt, max_depth=20 \n",
      "[CV] bootstrap=True, min_samples_leaf=2, n_estimators=800, min_samples_split=5, max_features=auto, max_depth=None \n",
      "[CV] bootstrap=True, min_samples_leaf=2, n_estimators=800, min_samples_split=5, max_features=auto, max_depth=None \n",
      "\n",
      "[CV] bootstrap=False, min_samples_leaf=4, n_estimators=2000, min_samples_split=10, max_features=auto, max_depth=100 \n",
      "[CV] bootstrap=False, min_samples_leaf=2, n_estimators=800, min_samples_split=10, max_features=sqrt, max_depth=20 \n",
      "[CV] bootstrap=True, min_samples_leaf=2, n_estimators=1200, min_samples_split=5, max_features=sqrt, max_depth=20 \n",
      "[CV] bootstrap=True, min_samples_leaf=1, n_estimators=800, min_samples_split=2, max_features=auto, max_depth=100 \n",
      "[CV]  bootstrap=False, min_samples_leaf=4, n_estimators=1200, min_samples_split=10, max_features=sqrt, max_depth=20, total=  12.8s[CV]  bootstrap=True, min_samples_leaf=2, n_estimators=800, min_samples_split=5, max_features=auto, max_depth=None, total=   9.9s[CV]  bootstrap=True, min_samples_leaf=2, n_estimators=800, min_samples_split=5, max_features=auto, max_depth=None, total=   9.5s[CV] bootstrap=True, min_samples_leaf=2, n_estimators=1000, min_samples_split=2, max_features=sqrt, max_depth=60 \n",
      "[CV]  bootstrap=False, min_samples_leaf=4, n_estimators=2000, min_samples_split=10, max_features=auto, max_depth=100, total=  23.2s[CV]  bootstrap=False, min_samples_leaf=2, n_estimators=800, min_samples_split=10, max_features=sqrt, max_depth=20, total=   8.6s[CV]  bootstrap=True, min_samples_leaf=2, n_estimators=1200, min_samples_split=5, max_features=sqrt, max_depth=20, total=  14.0s[CV]  bootstrap=True, min_samples_leaf=1, n_estimators=800, min_samples_split=2, max_features=auto, max_depth=100, total=   9.8s\n",
      "\n",
      "\n",
      "[CV]  bootstrap=True, min_samples_leaf=2, n_estimators=1000, min_samples_split=2, max_features=sqrt, max_depth=60, total=  10.4s\n",
      "\n",
      "\n",
      "\n",
      "[CV] bootstrap=True, min_samples_leaf=4, n_estimators=1800, min_samples_split=2, max_features=sqrt, max_depth=90 \n",
      "[CV] bootstrap=True, min_samples_leaf=4, n_estimators=200, min_samples_split=5, max_features=auto, max_depth=10 \n",
      "[CV] bootstrap=True, min_samples_leaf=2, n_estimators=600, min_samples_split=10, max_features=sqrt, max_depth=60 \n",
      "\n",
      "[CV] bootstrap=True, min_samples_leaf=4, n_estimators=800, min_samples_split=10, max_features=sqrt, max_depth=50 \n",
      "[CV] bootstrap=True, min_samples_leaf=1, n_estimators=800, min_samples_split=2, max_features=auto, max_depth=100 \n",
      "[CV] bootstrap=True, min_samples_leaf=4, n_estimators=200, min_samples_split=5, max_features=auto, max_depth=10 \n",
      "[CV] bootstrap=True, min_samples_leaf=2, n_estimators=1000, min_samples_split=2, max_features=sqrt, max_depth=60 \n",
      "[CV]  bootstrap=True, min_samples_leaf=4, n_estimators=1800, min_samples_split=2, max_features=sqrt, max_depth=90, total=  16.3s[CV]  bootstrap=True, min_samples_leaf=4, n_estimators=200, min_samples_split=5, max_features=auto, max_depth=10, total=   1.8s[CV]  bootstrap=True, min_samples_leaf=2, n_estimators=600, min_samples_split=10, max_features=sqrt, max_depth=60, total=   5.5s[CV] bootstrap=True, min_samples_leaf=4, n_estimators=800, min_samples_split=2, max_features=sqrt, max_depth=90 \n",
      "[CV]  bootstrap=True, min_samples_leaf=4, n_estimators=800, min_samples_split=10, max_features=sqrt, max_depth=50, total=   7.2s[CV]  bootstrap=True, min_samples_leaf=1, n_estimators=800, min_samples_split=2, max_features=auto, max_depth=100, total=  10.0s[CV]  bootstrap=True, min_samples_leaf=4, n_estimators=200, min_samples_split=5, max_features=auto, max_depth=10, total=   1.7s[CV]  bootstrap=True, min_samples_leaf=2, n_estimators=1000, min_samples_split=2, max_features=sqrt, max_depth=60, total=   9.6s\n",
      "\n",
      "\n",
      "[CV]  bootstrap=True, min_samples_leaf=4, n_estimators=800, min_samples_split=2, max_features=sqrt, max_depth=90, total=   7.2s\n",
      "\n",
      "\n",
      "\n",
      "[CV] bootstrap=True, min_samples_leaf=2, n_estimators=800, min_samples_split=5, max_features=auto, max_depth=None \n",
      "[CV] bootstrap=True, min_samples_leaf=2, n_estimators=600, min_samples_split=10, max_features=sqrt, max_depth=60 \n",
      "[CV] bootstrap=False, min_samples_leaf=2, n_estimators=200, min_samples_split=5, max_features=auto, max_depth=90 \n",
      "\n",
      "[CV] bootstrap=True, min_samples_leaf=2, n_estimators=1200, min_samples_split=5, max_features=sqrt, max_depth=20 \n",
      "[CV] bootstrap=True, min_samples_leaf=2, n_estimators=1000, min_samples_split=2, max_features=sqrt, max_depth=60 \n",
      "[CV] bootstrap=True, min_samples_leaf=4, n_estimators=800, min_samples_split=2, max_features=sqrt, max_depth=90 \n",
      "[CV] bootstrap=True, min_samples_leaf=4, n_estimators=400, min_samples_split=10, max_features=sqrt, max_depth=90 \n",
      "[CV]  bootstrap=True, min_samples_leaf=2, n_estimators=800, min_samples_split=5, max_features=auto, max_depth=None, total=   9.6s[CV]  bootstrap=True, min_samples_leaf=2, n_estimators=600, min_samples_split=10, max_features=sqrt, max_depth=60, total=   5.6s[CV]  bootstrap=False, min_samples_leaf=2, n_estimators=200, min_samples_split=5, max_features=auto, max_depth=90, total=   2.1s[CV] bootstrap=False, min_samples_leaf=4, n_estimators=400, min_samples_split=10, max_features=sqrt, max_depth=80 \n",
      "[CV]  bootstrap=True, min_samples_leaf=2, n_estimators=1200, min_samples_split=5, max_features=sqrt, max_depth=20, total=  11.1s[CV]  bootstrap=True, min_samples_leaf=2, n_estimators=1000, min_samples_split=2, max_features=sqrt, max_depth=60, total=   9.7s[CV]  bootstrap=True, min_samples_leaf=4, n_estimators=800, min_samples_split=2, max_features=sqrt, max_depth=90, total=   7.3s[CV]  bootstrap=True, min_samples_leaf=4, n_estimators=400, min_samples_split=10, max_features=sqrt, max_depth=90, total=   3.5s\n",
      "\n",
      "\n",
      "[CV]  bootstrap=False, min_samples_leaf=4, n_estimators=400, min_samples_split=10, max_features=sqrt, max_depth=80, total=   4.5s\n",
      "\n",
      "\n",
      "\n",
      "[CV] bootstrap=True, min_samples_leaf=2, n_estimators=600, min_samples_split=10, max_features=sqrt, max_depth=60 \n",
      "[CV] bootstrap=False, min_samples_leaf=2, n_estimators=200, min_samples_split=5, max_features=auto, max_depth=90 \n",
      "[CV] bootstrap=False, min_samples_leaf=2, n_estimators=200, min_samples_split=5, max_features=auto, max_depth=90 \n",
      "\n",
      "[CV] bootstrap=True, min_samples_leaf=1, n_estimators=800, min_samples_split=2, max_features=auto, max_depth=100 \n",
      "[CV] bootstrap=True, min_samples_leaf=4, n_estimators=400, min_samples_split=10, max_features=sqrt, max_depth=90 \n",
      "[CV] bootstrap=True, min_samples_leaf=1, n_estimators=1000, min_samples_split=2, max_features=sqrt, max_depth=110 \n",
      "[CV] bootstrap=True, min_samples_leaf=2, n_estimators=2000, min_samples_split=2, max_features=auto, max_depth=90 \n",
      "[CV]  bootstrap=True, min_samples_leaf=2, n_estimators=600, min_samples_split=10, max_features=sqrt, max_depth=60, total=   5.6s[CV]  bootstrap=False, min_samples_leaf=2, n_estimators=200, min_samples_split=5, max_features=auto, max_depth=90, total=   2.2s[CV]  bootstrap=False, min_samples_leaf=2, n_estimators=200, min_samples_split=5, max_features=auto, max_depth=90, total=   2.3s[CV] bootstrap=False, min_samples_leaf=4, n_estimators=1200, min_samples_split=2, max_features=sqrt, max_depth=70 \n",
      "[CV]  bootstrap=True, min_samples_leaf=1, n_estimators=800, min_samples_split=2, max_features=auto, max_depth=100, total=  10.3s[CV]  bootstrap=True, min_samples_leaf=4, n_estimators=400, min_samples_split=10, max_features=sqrt, max_depth=90, total=   3.6s[CV]  bootstrap=True, min_samples_leaf=1, n_estimators=1000, min_samples_split=2, max_features=sqrt, max_depth=110, total=   9.8s[CV]  bootstrap=True, min_samples_leaf=2, n_estimators=2000, min_samples_split=2, max_features=auto, max_depth=90, total=  19.7s\n",
      "\n",
      "\n",
      "[CV]  bootstrap=False, min_samples_leaf=4, n_estimators=1200, min_samples_split=2, max_features=sqrt, max_depth=70, total=  13.4s\n",
      "\n",
      "\n",
      "\n",
      "[CV] bootstrap=True, min_samples_leaf=4, n_estimators=400, min_samples_split=10, max_features=sqrt, max_depth=90 \n",
      "[CV] bootstrap=True, min_samples_leaf=1, n_estimators=1000, min_samples_split=2, max_features=sqrt, max_depth=110 \n",
      "[CV] bootstrap=False, min_samples_leaf=4, n_estimators=400, min_samples_split=10, max_features=sqrt, max_depth=80 \n",
      "\n",
      "[CV] bootstrap=True, min_samples_leaf=4, n_estimators=200, min_samples_split=5, max_features=auto, max_depth=10 \n",
      "[CV] bootstrap=True, min_samples_leaf=2, n_estimators=2000, min_samples_split=2, max_features=auto, max_depth=90 \n",
      "[CV] bootstrap=False, min_samples_leaf=4, n_estimators=1200, min_samples_split=2, max_features=sqrt, max_depth=70 \n",
      "[CV] bootstrap=False, min_samples_leaf=1, n_estimators=1800, min_samples_split=2, max_features=auto, max_depth=20 \n",
      "[CV]  bootstrap=True, min_samples_leaf=4, n_estimators=400, min_samples_split=10, max_features=sqrt, max_depth=90, total=   3.5s[CV]  bootstrap=True, min_samples_leaf=1, n_estimators=1000, min_samples_split=2, max_features=sqrt, max_depth=110, total=   9.8s[CV]  bootstrap=False, min_samples_leaf=4, n_estimators=400, min_samples_split=10, max_features=sqrt, max_depth=80, total=   4.2s[CV] bootstrap=False, min_samples_leaf=2, n_estimators=2000, min_samples_split=10, max_features=auto, max_depth=50 \n",
      "[CV]  bootstrap=True, min_samples_leaf=4, n_estimators=200, min_samples_split=5, max_features=auto, max_depth=10, total=   1.8s[CV]  bootstrap=True, min_samples_leaf=2, n_estimators=2000, min_samples_split=2, max_features=auto, max_depth=90, total=  19.7s[CV]  bootstrap=False, min_samples_leaf=4, n_estimators=1200, min_samples_split=2, max_features=sqrt, max_depth=70, total=  14.4s[CV]  bootstrap=False, min_samples_leaf=1, n_estimators=1800, min_samples_split=2, max_features=auto, max_depth=20, total=  21.1s\n",
      "\n",
      "\n",
      "[CV]  bootstrap=False, min_samples_leaf=2, n_estimators=2000, min_samples_split=10, max_features=auto, max_depth=50, total=  21.9s\n",
      "\n",
      "\n",
      "\n",
      "[CV] bootstrap=True, min_samples_leaf=2, n_estimators=2000, min_samples_split=2, max_features=auto, max_depth=90 \n",
      "[CV] bootstrap=False, min_samples_leaf=2, n_estimators=600, min_samples_split=2, max_features=sqrt, max_depth=110 \n",
      "[CV] bootstrap=False, min_samples_leaf=4, n_estimators=400, min_samples_split=10, max_features=sqrt, max_depth=80 \n",
      "\n",
      "[CV] bootstrap=True, min_samples_leaf=4, n_estimators=800, min_samples_split=2, max_features=sqrt, max_depth=90 \n",
      "[CV] bootstrap=False, min_samples_leaf=1, n_estimators=1800, min_samples_split=2, max_features=auto, max_depth=20 \n",
      "[CV] bootstrap=False, min_samples_leaf=4, n_estimators=1000, min_samples_split=10, max_features=auto, max_depth=50 \n",
      "[CV] bootstrap=False, min_samples_leaf=4, n_estimators=1000, min_samples_split=5, max_features=auto, max_depth=30 \n",
      "[CV]  bootstrap=True, min_samples_leaf=2, n_estimators=2000, min_samples_split=2, max_features=auto, max_depth=90, total=  19.9s[CV]  bootstrap=False, min_samples_leaf=2, n_estimators=600, min_samples_split=2, max_features=sqrt, max_depth=110, total=   6.8s[CV]  bootstrap=False, min_samples_leaf=4, n_estimators=400, min_samples_split=10, max_features=sqrt, max_depth=80, total=   4.4s[CV] bootstrap=False, min_samples_leaf=2, n_estimators=1400, min_samples_split=5, max_features=sqrt, max_depth=None \n",
      "[CV]  bootstrap=True, min_samples_leaf=4, n_estimators=800, min_samples_split=2, max_features=sqrt, max_depth=90, total=   7.4s[CV]  bootstrap=False, min_samples_leaf=1, n_estimators=1800, min_samples_split=2, max_features=auto, max_depth=20, total=  21.5s[CV]  bootstrap=False, min_samples_leaf=4, n_estimators=1000, min_samples_split=10, max_features=auto, max_depth=50, total=  10.1s[CV]  bootstrap=False, min_samples_leaf=4, n_estimators=1000, min_samples_split=5, max_features=auto, max_depth=30, total=  11.1s\n",
      "\n",
      "\n",
      "[CV]  bootstrap=False, min_samples_leaf=2, n_estimators=1400, min_samples_split=5, max_features=sqrt, max_depth=None, total=  16.2s\n",
      "\n",
      "\n",
      "\n",
      "[CV] bootstrap=False, min_samples_leaf=2, n_estimators=2000, min_samples_split=10, max_features=auto, max_depth=50 \n",
      "[CV] bootstrap=False, min_samples_leaf=2, n_estimators=600, min_samples_split=2, max_features=sqrt, max_depth=110 \n",
      "[CV] bootstrap=False, min_samples_leaf=2, n_estimators=600, min_samples_split=2, max_features=sqrt, max_depth=110 \n",
      "\n",
      "[CV] bootstrap=True, min_samples_leaf=1, n_estimators=1000, min_samples_split=2, max_features=sqrt, max_depth=110 \n",
      "[CV] bootstrap=False, min_samples_leaf=2, n_estimators=1400, min_samples_split=5, max_features=sqrt, max_depth=None \n",
      "[CV] bootstrap=False, min_samples_leaf=4, n_estimators=1000, min_samples_split=10, max_features=auto, max_depth=50 \n",
      "[CV] bootstrap=True, min_samples_leaf=2, n_estimators=1800, min_samples_split=2, max_features=auto, max_depth=80 \n",
      "[CV]  bootstrap=False, min_samples_leaf=2, n_estimators=2000, min_samples_split=10, max_features=auto, max_depth=50, total=  22.0s[CV]  bootstrap=False, min_samples_leaf=2, n_estimators=600, min_samples_split=2, max_features=sqrt, max_depth=110, total=   8.1s[CV]  bootstrap=False, min_samples_leaf=2, n_estimators=600, min_samples_split=2, max_features=sqrt, max_depth=110, total=   7.2s[CV] bootstrap=True, min_samples_leaf=1, n_estimators=1400, min_samples_split=2, max_features=auto, max_depth=100 \n",
      "[CV]  bootstrap=True, min_samples_leaf=1, n_estimators=1000, min_samples_split=2, max_features=sqrt, max_depth=110, total=   9.7s[CV]  bootstrap=False, min_samples_leaf=2, n_estimators=1400, min_samples_split=5, max_features=sqrt, max_depth=None, total=  16.0s[CV]  bootstrap=False, min_samples_leaf=4, n_estimators=1000, min_samples_split=10, max_features=auto, max_depth=50, total=  10.9s[CV]  bootstrap=True, min_samples_leaf=2, n_estimators=1800, min_samples_split=2, max_features=auto, max_depth=80, total=  17.3s\n",
      "\n",
      "\n",
      "[CV]  bootstrap=True, min_samples_leaf=1, n_estimators=1400, min_samples_split=2, max_features=auto, max_depth=100, total=  14.1s\n",
      "\n",
      "\n",
      "\n",
      "[CV] bootstrap=False, min_samples_leaf=2, n_estimators=1400, min_samples_split=5, max_features=sqrt, max_depth=None \n",
      "[CV] bootstrap=False, min_samples_leaf=4, n_estimators=1000, min_samples_split=10, max_features=auto, max_depth=50 \n",
      "[CV] bootstrap=False, min_samples_leaf=1, n_estimators=1800, min_samples_split=2, max_features=auto, max_depth=20 \n",
      "\n",
      "[CV] bootstrap=False, min_samples_leaf=4, n_estimators=1200, min_samples_split=2, max_features=sqrt, max_depth=70 \n",
      "[CV] bootstrap=True, min_samples_leaf=2, n_estimators=1800, min_samples_split=2, max_features=auto, max_depth=80 \n",
      "[CV] bootstrap=False, min_samples_leaf=4, n_estimators=600, min_samples_split=2, max_features=sqrt, max_depth=60 \n",
      "[CV] bootstrap=True, min_samples_leaf=1, n_estimators=200, min_samples_split=2, max_features=sqrt, max_depth=50 \n",
      "[CV]  bootstrap=False, min_samples_leaf=2, n_estimators=1400, min_samples_split=5, max_features=sqrt, max_depth=None, total=  16.1s[CV]  bootstrap=False, min_samples_leaf=4, n_estimators=1000, min_samples_split=10, max_features=auto, max_depth=50, total=  10.2s[CV]  bootstrap=False, min_samples_leaf=1, n_estimators=1800, min_samples_split=2, max_features=auto, max_depth=20, total=  21.2s[CV] bootstrap=True, min_samples_leaf=4, n_estimators=400, min_samples_split=2, max_features=sqrt, max_depth=10 \n",
      "[CV]  bootstrap=False, min_samples_leaf=4, n_estimators=1200, min_samples_split=2, max_features=sqrt, max_depth=70, total=  13.7s[CV]  bootstrap=True, min_samples_leaf=2, n_estimators=1800, min_samples_split=2, max_features=auto, max_depth=80, total=  17.7s[CV]  bootstrap=False, min_samples_leaf=4, n_estimators=600, min_samples_split=2, max_features=sqrt, max_depth=60, total=   6.4s[CV]  bootstrap=True, min_samples_leaf=1, n_estimators=200, min_samples_split=2, max_features=sqrt, max_depth=50, total=   2.0s\n",
      "\n",
      "\n",
      "[CV]  bootstrap=True, min_samples_leaf=4, n_estimators=400, min_samples_split=2, max_features=sqrt, max_depth=10, total=   3.5s\n",
      "\n",
      "\n",
      "\n",
      "[CV] bootstrap=True, min_samples_leaf=1, n_estimators=1400, min_samples_split=2, max_features=auto, max_depth=100 \n",
      "[CV] bootstrap=False, min_samples_leaf=4, n_estimators=1000, min_samples_split=5, max_features=auto, max_depth=30 \n",
      "[CV] bootstrap=False, min_samples_leaf=4, n_estimators=1000, min_samples_split=5, max_features=auto, max_depth=30 \n",
      "\n",
      "[CV] bootstrap=False, min_samples_leaf=2, n_estimators=2000, min_samples_split=10, max_features=auto, max_depth=50 \n",
      "[CV] bootstrap=False, min_samples_leaf=4, n_estimators=1000, min_samples_split=10, max_features=auto, max_depth=80 \n",
      "[CV] bootstrap=True, min_samples_leaf=1, n_estimators=1600, min_samples_split=5, max_features=auto, max_depth=10 \n",
      "[CV] bootstrap=True, min_samples_leaf=1, n_estimators=200, min_samples_split=2, max_features=sqrt, max_depth=50 \n",
      "[CV]  bootstrap=True, min_samples_leaf=1, n_estimators=1400, min_samples_split=2, max_features=auto, max_depth=100, total=  13.9s[CV]  bootstrap=False, min_samples_leaf=4, n_estimators=1000, min_samples_split=5, max_features=auto, max_depth=30, total=  10.9s[CV]  bootstrap=False, min_samples_leaf=4, n_estimators=1000, min_samples_split=5, max_features=auto, max_depth=30, total=  11.0s[CV] bootstrap=False, min_samples_leaf=4, n_estimators=1000, min_samples_split=10, max_features=auto, max_depth=80 \n",
      "[CV]  bootstrap=False, min_samples_leaf=2, n_estimators=2000, min_samples_split=10, max_features=auto, max_depth=50, total=  22.1s[CV]  bootstrap=False, min_samples_leaf=4, n_estimators=1000, min_samples_split=10, max_features=auto, max_depth=80, total=  10.7s[CV]  bootstrap=True, min_samples_leaf=1, n_estimators=1600, min_samples_split=5, max_features=auto, max_depth=10, total=  14.4s[CV]  bootstrap=True, min_samples_leaf=1, n_estimators=200, min_samples_split=2, max_features=sqrt, max_depth=50, total=   2.1s\n",
      "\n",
      "\n",
      "[CV]  bootstrap=False, min_samples_leaf=4, n_estimators=1000, min_samples_split=10, max_features=auto, max_depth=80, total=  10.8s\n",
      "\n",
      "\n",
      "\n",
      "[CV] bootstrap=True, min_samples_leaf=1, n_estimators=200, min_samples_split=2, max_features=sqrt, max_depth=50 \n",
      "[CV] bootstrap=False, min_samples_leaf=4, n_estimators=600, min_samples_split=2, max_features=sqrt, max_depth=60 \n",
      "[CV] bootstrap=True, min_samples_leaf=1, n_estimators=1600, min_samples_split=5, max_features=auto, max_depth=10 \n",
      "\n",
      "[CV] bootstrap=False, min_samples_leaf=4, n_estimators=600, min_samples_split=2, max_features=sqrt, max_depth=60 \n",
      "[CV] bootstrap=True, min_samples_leaf=1, n_estimators=1600, min_samples_split=10, max_features=sqrt, max_depth=20 \n",
      "[CV] bootstrap=True, min_samples_leaf=2, n_estimators=1400, min_samples_split=10, max_features=sqrt, max_depth=80 \n",
      "[CV] bootstrap=True, min_samples_leaf=4, n_estimators=400, min_samples_split=2, max_features=sqrt, max_depth=10 \n",
      "[CV]  bootstrap=True, min_samples_leaf=1, n_estimators=200, min_samples_split=2, max_features=sqrt, max_depth=50, total=   2.2s[CV]  bootstrap=False, min_samples_leaf=4, n_estimators=600, min_samples_split=2, max_features=sqrt, max_depth=60, total=   6.5s[CV]  bootstrap=True, min_samples_leaf=1, n_estimators=1600, min_samples_split=5, max_features=auto, max_depth=10, total=  14.3s[CV] bootstrap=True, min_samples_leaf=2, n_estimators=1600, min_samples_split=10, max_features=auto, max_depth=None \n",
      "[CV]  bootstrap=False, min_samples_leaf=4, n_estimators=600, min_samples_split=2, max_features=sqrt, max_depth=60, total=   6.4s[CV]  bootstrap=True, min_samples_leaf=1, n_estimators=1600, min_samples_split=10, max_features=sqrt, max_depth=20, total=  15.1s[CV]  bootstrap=True, min_samples_leaf=2, n_estimators=1400, min_samples_split=10, max_features=sqrt, max_depth=80, total=  13.3s[CV]  bootstrap=True, min_samples_leaf=4, n_estimators=400, min_samples_split=2, max_features=sqrt, max_depth=10, total=   3.5s\n",
      "\n",
      "\n",
      "[CV]  bootstrap=True, min_samples_leaf=2, n_estimators=1600, min_samples_split=10, max_features=auto, max_depth=None, total=  14.8s\n",
      "\n",
      "\n",
      "\n",
      "[CV] bootstrap=True, min_samples_leaf=4, n_estimators=400, min_samples_split=2, max_features=sqrt, max_depth=10 \n",
      "[CV] bootstrap=True, min_samples_leaf=2, n_estimators=1800, min_samples_split=2, max_features=auto, max_depth=80 \n",
      "[CV] bootstrap=True, min_samples_leaf=1, n_estimators=1400, min_samples_split=2, max_features=auto, max_depth=100 \n",
      "\n",
      "[CV] bootstrap=True, min_samples_leaf=1, n_estimators=1600, min_samples_split=5, max_features=auto, max_depth=10 \n",
      "[CV] bootstrap=True, min_samples_leaf=2, n_estimators=1400, min_samples_split=2, max_features=auto, max_depth=70 \n",
      "[CV] bootstrap=False, min_samples_leaf=2, n_estimators=1200, min_samples_split=10, max_features=auto, max_depth=None \n",
      "[CV] bootstrap=False, min_samples_leaf=4, n_estimators=1000, min_samples_split=10, max_features=auto, max_depth=80 \n",
      "[CV]  bootstrap=True, min_samples_leaf=4, n_estimators=400, min_samples_split=2, max_features=sqrt, max_depth=10, total=   3.6s[CV]  bootstrap=True, min_samples_leaf=2, n_estimators=1800, min_samples_split=2, max_features=auto, max_depth=80, total=  17.0s[CV]  bootstrap=True, min_samples_leaf=1, n_estimators=1400, min_samples_split=2, max_features=auto, max_depth=100, total=  14.3s[CV] bootstrap=True, min_samples_leaf=2, n_estimators=1400, min_samples_split=2, max_features=auto, max_depth=70 \n",
      "[CV]  bootstrap=True, min_samples_leaf=1, n_estimators=1600, min_samples_split=5, max_features=auto, max_depth=10, total=  14.5s[CV]  bootstrap=True, min_samples_leaf=2, n_estimators=1400, min_samples_split=2, max_features=auto, max_depth=70, total=  14.0s[CV]  bootstrap=False, min_samples_leaf=2, n_estimators=1200, min_samples_split=10, max_features=auto, max_depth=None, total=  13.1s[CV]  bootstrap=False, min_samples_leaf=4, n_estimators=1000, min_samples_split=10, max_features=auto, max_depth=80, total=  10.6s\n",
      "\n",
      "\n",
      "[CV]  bootstrap=True, min_samples_leaf=2, n_estimators=1400, min_samples_split=2, max_features=auto, max_depth=70, total=  14.0s\n",
      "\n",
      "\n",
      "\n",
      "[CV] bootstrap=False, min_samples_leaf=2, n_estimators=1200, min_samples_split=10, max_features=auto, max_depth=None \n",
      "[CV] bootstrap=True, min_samples_leaf=2, n_estimators=1400, min_samples_split=10, max_features=sqrt, max_depth=80 \n",
      "[CV] bootstrap=False, min_samples_leaf=2, n_estimators=1200, min_samples_split=10, max_features=auto, max_depth=None \n",
      "\n",
      "[CV] bootstrap=True, min_samples_leaf=2, n_estimators=1400, min_samples_split=10, max_features=sqrt, max_depth=80 \n",
      "[CV] bootstrap=False, min_samples_leaf=4, n_estimators=1400, min_samples_split=2, max_features=sqrt, max_depth=80 \n",
      "[CV] bootstrap=False, min_samples_leaf=4, n_estimators=1800, min_samples_split=2, max_features=auto, max_depth=10 \n",
      "[CV] bootstrap=True, min_samples_leaf=2, n_estimators=1600, min_samples_split=10, max_features=auto, max_depth=None \n",
      "[CV]  bootstrap=False, min_samples_leaf=2, n_estimators=1200, min_samples_split=10, max_features=auto, max_depth=None, total=  13.1s[CV]  bootstrap=True, min_samples_leaf=2, n_estimators=1400, min_samples_split=10, max_features=sqrt, max_depth=80, total=  13.4s[CV]  bootstrap=False, min_samples_leaf=2, n_estimators=1200, min_samples_split=10, max_features=auto, max_depth=None, total=  13.0s[CV] bootstrap=False, min_samples_leaf=4, n_estimators=1400, min_samples_split=2, max_features=sqrt, max_depth=80 \n",
      "[CV]  bootstrap=True, min_samples_leaf=2, n_estimators=1400, min_samples_split=10, max_features=sqrt, max_depth=80, total=  13.2s[CV]  bootstrap=False, min_samples_leaf=4, n_estimators=1400, min_samples_split=2, max_features=sqrt, max_depth=80, total=  15.0s[CV]  bootstrap=False, min_samples_leaf=4, n_estimators=1800, min_samples_split=2, max_features=auto, max_depth=10, total=  18.4s[CV]  bootstrap=True, min_samples_leaf=2, n_estimators=1600, min_samples_split=10, max_features=auto, max_depth=None, total=  15.0s\n",
      "\n",
      "\n",
      "[CV]  bootstrap=False, min_samples_leaf=4, n_estimators=1400, min_samples_split=2, max_features=sqrt, max_depth=80, total=  15.2s\n",
      "\n",
      "\n",
      "\n",
      "[CV] bootstrap=True, min_samples_leaf=2, n_estimators=1600, min_samples_split=10, max_features=auto, max_depth=None \n",
      "[CV] bootstrap=True, min_samples_leaf=1, n_estimators=1600, min_samples_split=10, max_features=sqrt, max_depth=20 \n",
      "[CV] bootstrap=False, min_samples_leaf=4, n_estimators=1800, min_samples_split=2, max_features=auto, max_depth=10 \n",
      "\n",
      "[CV] bootstrap=True, min_samples_leaf=1, n_estimators=1600, min_samples_split=10, max_features=sqrt, max_depth=20 \n",
      "[CV] bootstrap=True, min_samples_leaf=2, n_estimators=1800, min_samples_split=5, max_features=sqrt, max_depth=60 \n",
      "[CV] bootstrap=False, min_samples_leaf=2, n_estimators=2000, min_samples_split=10, max_features=auto, max_depth=60 \n",
      "[CV] bootstrap=False, min_samples_leaf=1, n_estimators=1000, min_samples_split=10, max_features=sqrt, max_depth=80 \n",
      "[CV]  bootstrap=True, min_samples_leaf=2, n_estimators=1600, min_samples_split=10, max_features=auto, max_depth=None, total=  15.3s[CV]  bootstrap=True, min_samples_leaf=1, n_estimators=1600, min_samples_split=10, max_features=sqrt, max_depth=20, total=  14.9s[CV]  bootstrap=False, min_samples_leaf=4, n_estimators=1800, min_samples_split=2, max_features=auto, max_depth=10, total=  18.5s[CV] bootstrap=False, min_samples_leaf=1, n_estimators=400, min_samples_split=5, max_features=auto, max_depth=90 \n",
      "[CV]  bootstrap=True, min_samples_leaf=1, n_estimators=1600, min_samples_split=10, max_features=sqrt, max_depth=20, total=  15.0s[CV]  bootstrap=True, min_samples_leaf=2, n_estimators=1800, min_samples_split=5, max_features=sqrt, max_depth=60, total=  16.7s[CV]  bootstrap=False, min_samples_leaf=2, n_estimators=2000, min_samples_split=10, max_features=auto, max_depth=60, total=  22.3s[CV]  bootstrap=False, min_samples_leaf=1, n_estimators=1000, min_samples_split=10, max_features=sqrt, max_depth=80, total=  11.5s\n",
      "\n",
      "\n",
      "[CV]  bootstrap=False, min_samples_leaf=1, n_estimators=400, min_samples_split=5, max_features=auto, max_depth=90, total=   4.6s\n",
      "\n",
      "\n",
      "\n",
      "[CV] bootstrap=False, min_samples_leaf=1, n_estimators=1000, min_samples_split=10, max_features=sqrt, max_depth=80 \n",
      "[CV] bootstrap=True, min_samples_leaf=2, n_estimators=1400, min_samples_split=2, max_features=auto, max_depth=70 \n",
      "[CV] bootstrap=False, min_samples_leaf=1, n_estimators=1000, min_samples_split=10, max_features=sqrt, max_depth=80 \n",
      "\n",
      "[CV] bootstrap=False, min_samples_leaf=4, n_estimators=1800, min_samples_split=2, max_features=auto, max_depth=10 \n",
      "[CV] bootstrap=True, min_samples_leaf=1, n_estimators=2000, min_samples_split=5, max_features=sqrt, max_depth=100 \n",
      "[CV] bootstrap=False, min_samples_leaf=1, n_estimators=400, min_samples_split=5, max_features=auto, max_depth=90 \n",
      "[CV] bootstrap=False, min_samples_leaf=4, n_estimators=1400, min_samples_split=2, max_features=sqrt, max_depth=80 \n",
      "[CV]  bootstrap=False, min_samples_leaf=1, n_estimators=1000, min_samples_split=10, max_features=sqrt, max_depth=80, total=  11.6s[CV]  bootstrap=True, min_samples_leaf=2, n_estimators=1400, min_samples_split=2, max_features=auto, max_depth=70, total=  13.8s[CV]  bootstrap=False, min_samples_leaf=1, n_estimators=1000, min_samples_split=10, max_features=sqrt, max_depth=80, total=  11.9s[CV] bootstrap=True, min_samples_leaf=1, n_estimators=1600, min_samples_split=5, max_features=auto, max_depth=90 \n",
      "[CV]  bootstrap=False, min_samples_leaf=4, n_estimators=1800, min_samples_split=2, max_features=auto, max_depth=10, total=  18.6s[CV]  bootstrap=True, min_samples_leaf=1, n_estimators=2000, min_samples_split=5, max_features=sqrt, max_depth=100, total=  19.2s[CV]  bootstrap=False, min_samples_leaf=1, n_estimators=400, min_samples_split=5, max_features=auto, max_depth=90, total=   4.5s[CV]  bootstrap=False, min_samples_leaf=4, n_estimators=1400, min_samples_split=2, max_features=sqrt, max_depth=80, total=  15.0s\n",
      "\n",
      "\n",
      "[CV]  bootstrap=True, min_samples_leaf=1, n_estimators=1600, min_samples_split=5, max_features=auto, max_depth=90, total=  15.2s\n",
      "\n",
      "\n",
      "\n",
      "[CV] bootstrap=False, min_samples_leaf=4, n_estimators=800, min_samples_split=2, max_features=sqrt, max_depth=20 \n",
      "[CV] bootstrap=False, min_samples_leaf=2, n_estimators=2000, min_samples_split=10, max_features=auto, max_depth=60 \n",
      "[CV] bootstrap=False, min_samples_leaf=4, n_estimators=800, min_samples_split=2, max_features=sqrt, max_depth=20 \n",
      "\n",
      "[CV] bootstrap=False, min_samples_leaf=2, n_estimators=2000, min_samples_split=10, max_features=auto, max_depth=60 \n",
      "[CV] bootstrap=True, min_samples_leaf=2, n_estimators=600, min_samples_split=10, max_features=auto, max_depth=100 \n",
      "[CV] bootstrap=False, min_samples_leaf=2, n_estimators=400, min_samples_split=10, max_features=sqrt, max_depth=90 \n",
      "[CV] bootstrap=True, min_samples_leaf=2, n_estimators=1800, min_samples_split=5, max_features=sqrt, max_depth=60 \n",
      "[CV]  bootstrap=False, min_samples_leaf=4, n_estimators=800, min_samples_split=2, max_features=sqrt, max_depth=20, total=   8.5s[CV]  bootstrap=False, min_samples_leaf=2, n_estimators=2000, min_samples_split=10, max_features=auto, max_depth=60, total=  21.8s[CV]  bootstrap=False, min_samples_leaf=4, n_estimators=800, min_samples_split=2, max_features=sqrt, max_depth=20, total=   8.6s[CV] bootstrap=True, min_samples_leaf=2, n_estimators=1000, min_samples_split=5, max_features=sqrt, max_depth=10 \n",
      "[CV]  bootstrap=False, min_samples_leaf=2, n_estimators=2000, min_samples_split=10, max_features=auto, max_depth=60, total=  22.4s[CV]  bootstrap=True, min_samples_leaf=2, n_estimators=600, min_samples_split=10, max_features=auto, max_depth=100, total=   5.6s[CV]  bootstrap=False, min_samples_leaf=2, n_estimators=400, min_samples_split=10, max_features=sqrt, max_depth=90, total=   4.3s[CV]  bootstrap=True, min_samples_leaf=2, n_estimators=1800, min_samples_split=5, max_features=sqrt, max_depth=60, total=  16.6s\n",
      "\n",
      "\n",
      "[CV]  bootstrap=True, min_samples_leaf=2, n_estimators=1000, min_samples_split=5, max_features=sqrt, max_depth=10, total=   8.7s\n",
      "\n",
      "\n",
      "\n",
      "[CV] bootstrap=False, min_samples_leaf=4, n_estimators=800, min_samples_split=2, max_features=sqrt, max_depth=20 \n",
      "[CV] bootstrap=False, min_samples_leaf=1, n_estimators=400, min_samples_split=5, max_features=auto, max_depth=90 \n",
      "[CV] bootstrap=True, min_samples_leaf=2, n_estimators=1800, min_samples_split=5, max_features=sqrt, max_depth=60 \n",
      "\n",
      "[CV] bootstrap=True, min_samples_leaf=1, n_estimators=1600, min_samples_split=5, max_features=auto, max_depth=90 \n",
      "[CV] bootstrap=False, min_samples_leaf=2, n_estimators=800, min_samples_split=10, max_features=auto, max_depth=None \n",
      "[CV] bootstrap=False, min_samples_leaf=2, n_estimators=400, min_samples_split=10, max_features=sqrt, max_depth=90 \n",
      "[CV] bootstrap=True, min_samples_leaf=1, n_estimators=1600, min_samples_split=10, max_features=sqrt, max_depth=None \n",
      "[CV]  bootstrap=False, min_samples_leaf=4, n_estimators=800, min_samples_split=2, max_features=sqrt, max_depth=20, total=   8.5s[CV]  bootstrap=False, min_samples_leaf=1, n_estimators=400, min_samples_split=5, max_features=auto, max_depth=90, total=   4.6s[CV]  bootstrap=True, min_samples_leaf=2, n_estimators=1800, min_samples_split=5, max_features=sqrt, max_depth=60, total=  16.6s[CV] bootstrap=True, min_samples_leaf=4, n_estimators=200, min_samples_split=5, max_features=auto, max_depth=80 \n",
      "[CV]  bootstrap=True, min_samples_leaf=1, n_estimators=1600, min_samples_split=5, max_features=auto, max_depth=90, total=  15.2s[CV]  bootstrap=False, min_samples_leaf=2, n_estimators=800, min_samples_split=10, max_features=auto, max_depth=None, total=   8.4s[CV]  bootstrap=False, min_samples_leaf=2, n_estimators=400, min_samples_split=10, max_features=sqrt, max_depth=90, total=   4.4s[CV]  bootstrap=True, min_samples_leaf=1, n_estimators=1600, min_samples_split=10, max_features=sqrt, max_depth=None, total=  14.9s\n",
      "\n",
      "\n",
      "[CV]  bootstrap=True, min_samples_leaf=4, n_estimators=200, min_samples_split=5, max_features=auto, max_depth=80, total=   1.8s\n",
      "\n",
      "\n",
      "\n",
      "[CV] bootstrap=True, min_samples_leaf=1, n_estimators=1600, min_samples_split=5, max_features=auto, max_depth=90 \n",
      "[CV] bootstrap=False, min_samples_leaf=2, n_estimators=400, min_samples_split=10, max_features=sqrt, max_depth=90 \n",
      "[CV] bootstrap=True, min_samples_leaf=1, n_estimators=2000, min_samples_split=5, max_features=sqrt, max_depth=100 \n",
      "\n",
      "[CV] bootstrap=True, min_samples_leaf=2, n_estimators=1000, min_samples_split=5, max_features=sqrt, max_depth=10 \n",
      "[CV] bootstrap=False, min_samples_leaf=1, n_estimators=600, min_samples_split=10, max_features=sqrt, max_depth=40 \n",
      "[CV] bootstrap=True, min_samples_leaf=1, n_estimators=1600, min_samples_split=10, max_features=sqrt, max_depth=None \n",
      "[CV] bootstrap=True, min_samples_leaf=4, n_estimators=200, min_samples_split=5, max_features=auto, max_depth=80 \n",
      "[CV]  bootstrap=True, min_samples_leaf=1, n_estimators=1600, min_samples_split=5, max_features=auto, max_depth=90, total=  15.1s[CV]  bootstrap=False, min_samples_leaf=2, n_estimators=400, min_samples_split=10, max_features=sqrt, max_depth=90, total=   4.3s[CV]  bootstrap=True, min_samples_leaf=1, n_estimators=2000, min_samples_split=5, max_features=sqrt, max_depth=100, total=  19.0s[CV] bootstrap=False, min_samples_leaf=4, n_estimators=2000, min_samples_split=2, max_features=auto, max_depth=60 \n",
      "[CV]  bootstrap=True, min_samples_leaf=2, n_estimators=1000, min_samples_split=5, max_features=sqrt, max_depth=10, total=   8.7s[CV]  bootstrap=False, min_samples_leaf=1, n_estimators=600, min_samples_split=10, max_features=sqrt, max_depth=40, total=   6.8s[CV]  bootstrap=True, min_samples_leaf=1, n_estimators=1600, min_samples_split=10, max_features=sqrt, max_depth=None, total=  15.0s[CV]  bootstrap=True, min_samples_leaf=4, n_estimators=200, min_samples_split=5, max_features=auto, max_depth=80, total=   1.8s\n",
      "\n",
      "\n",
      "[CV]  bootstrap=False, min_samples_leaf=4, n_estimators=2000, min_samples_split=2, max_features=auto, max_depth=60, total=  21.2s\n",
      "\n",
      "\n",
      "\n",
      "[CV] bootstrap=True, min_samples_leaf=1, n_estimators=2000, min_samples_split=5, max_features=sqrt, max_depth=100 \n",
      "[CV] bootstrap=True, min_samples_leaf=1, n_estimators=1600, min_samples_split=10, max_features=sqrt, max_depth=None \n",
      "[CV] bootstrap=True, min_samples_leaf=4, n_estimators=1000, min_samples_split=5, max_features=auto, max_depth=100 \n",
      "\n",
      "[CV] bootstrap=True, min_samples_leaf=4, n_estimators=200, min_samples_split=5, max_features=auto, max_depth=80 \n",
      "[CV] bootstrap=True, min_samples_leaf=4, n_estimators=1600, min_samples_split=2, max_features=sqrt, max_depth=80 \n",
      "[CV] bootstrap=False, min_samples_leaf=4, n_estimators=2000, min_samples_split=2, max_features=auto, max_depth=60 \n",
      "[CV] bootstrap=True, min_samples_leaf=2, n_estimators=600, min_samples_split=10, max_features=auto, max_depth=100 \n",
      "[CV]  bootstrap=True, min_samples_leaf=1, n_estimators=2000, min_samples_split=5, max_features=sqrt, max_depth=100, total=  19.2s[CV]  bootstrap=True, min_samples_leaf=1, n_estimators=1600, min_samples_split=10, max_features=sqrt, max_depth=None, total=  14.8s[CV]  bootstrap=True, min_samples_leaf=4, n_estimators=1000, min_samples_split=5, max_features=auto, max_depth=100, total=   9.0s[CV] bootstrap=False, min_samples_leaf=1, n_estimators=600, min_samples_split=10, max_features=sqrt, max_depth=40 \n",
      "[CV]  bootstrap=True, min_samples_leaf=4, n_estimators=200, min_samples_split=5, max_features=auto, max_depth=80, total=   1.8s[CV]  bootstrap=True, min_samples_leaf=4, n_estimators=1600, min_samples_split=2, max_features=sqrt, max_depth=80, total=  14.6s[CV]  bootstrap=False, min_samples_leaf=4, n_estimators=2000, min_samples_split=2, max_features=auto, max_depth=60, total=  21.2s[CV]  bootstrap=True, min_samples_leaf=2, n_estimators=600, min_samples_split=10, max_features=auto, max_depth=100, total=   5.6s\n",
      "\n",
      "\n",
      "[CV]  bootstrap=False, min_samples_leaf=1, n_estimators=600, min_samples_split=10, max_features=sqrt, max_depth=40, total=   6.9s\n",
      "\n",
      "\n",
      "\n",
      "[CV] bootstrap=True, min_samples_leaf=4, n_estimators=1000, min_samples_split=5, max_features=auto, max_depth=100 \n",
      "[CV] bootstrap=True, min_samples_leaf=2, n_estimators=1000, min_samples_split=5, max_features=sqrt, max_depth=10 \n",
      "[CV] bootstrap=False, min_samples_leaf=2, n_estimators=800, min_samples_split=10, max_features=auto, max_depth=None \n",
      "\n",
      "[CV] bootstrap=False, min_samples_leaf=4, n_estimators=2000, min_samples_split=2, max_features=auto, max_depth=60 \n",
      "[CV] bootstrap=False, min_samples_leaf=4, n_estimators=2000, min_samples_split=5, max_features=sqrt, max_depth=None \n",
      "[CV] bootstrap=False, min_samples_leaf=1, n_estimators=600, min_samples_split=10, max_features=sqrt, max_depth=40 \n",
      "[CV] bootstrap=True, min_samples_leaf=4, n_estimators=1000, min_samples_split=5, max_features=auto, max_depth=100 \n",
      "[CV]  bootstrap=True, min_samples_leaf=4, n_estimators=1000, min_samples_split=5, max_features=auto, max_depth=100, total=   9.0s[CV]  bootstrap=True, min_samples_leaf=2, n_estimators=1000, min_samples_split=5, max_features=sqrt, max_depth=10, total=   9.1s[CV]  bootstrap=False, min_samples_leaf=2, n_estimators=800, min_samples_split=10, max_features=auto, max_depth=None, total=   8.6s[CV] bootstrap=True, min_samples_leaf=2, n_estimators=1000, min_samples_split=10, max_features=sqrt, max_depth=10 \n",
      "[CV]  bootstrap=False, min_samples_leaf=4, n_estimators=2000, min_samples_split=2, max_features=auto, max_depth=60, total=  21.5s[CV]  bootstrap=False, min_samples_leaf=4, n_estimators=2000, min_samples_split=5, max_features=sqrt, max_depth=None, total=  24.6s[CV]  bootstrap=False, min_samples_leaf=1, n_estimators=600, min_samples_split=10, max_features=sqrt, max_depth=40, total=   6.8s[CV]  bootstrap=True, min_samples_leaf=4, n_estimators=1000, min_samples_split=5, max_features=auto, max_depth=100, total=   9.1s\n",
      "\n",
      "\n",
      "[CV]  bootstrap=True, min_samples_leaf=2, n_estimators=1000, min_samples_split=10, max_features=sqrt, max_depth=10, total=   8.7s\n",
      "\n",
      "\n",
      "\n"
     ]
    }
   ],
   "source": [
    "forest = RandomForestClassifier()\n",
    "rf_random = RandomizedSearchCV(estimator = forest, param_distributions = random_grid, n_iter = 100, cv = 3, verbose=2, random_state=42, n_jobs = -1)\n",
    "# Fit the random search model\n",
    "rf_random.fit(X_train_std, y_train)"
   ]
  },
  {
   "cell_type": "code",
   "execution_count": 302,
   "metadata": {
    "collapsed": false
   },
   "outputs": [],
   "source": [
    "best = rf_random.best_params_"
   ]
  },
  {
   "cell_type": "code",
   "execution_count": 303,
   "metadata": {
    "collapsed": false
   },
   "outputs": [
    {
     "name": "stdout",
     "output_type": "stream",
     "text": [
      "The best parametmers are {'bootstrap': True, 'min_samples_leaf': 1, 'n_estimators': 400, 'max_features': 'sqrt', 'min_samples_split': 5, 'max_depth': 100} and the accuracy is 0.737827715356\n"
     ]
    }
   ],
   "source": [
    "print 'The best parametmers are {} and the accuracy is {}'.format(best, accuracy_score(y_test, rf_random.predict(X_test_std)))"
   ]
  },
  {
   "cell_type": "markdown",
   "metadata": {},
   "source": [
    "### GridCV Search"
   ]
  },
  {
   "cell_type": "code",
   "execution_count": 202,
   "metadata": {
    "collapsed": false
   },
   "outputs": [],
   "source": [
    "from sklearn.model_selection import GridSearchCV\n",
    "# Create the parameter grid based on the results of random search \n",
    "param_grid = {\n",
    "    'bootstrap': [True],\n",
    "    'max_depth': [80, 90, 100, 110],\n",
    "    'max_features': ['sqrt'],\n",
    "    'min_samples_leaf': [1, 2, 3],\n",
    "    'min_samples_split': [2, 5, 10],\n",
    "    'n_estimators': [100, 200, 300, 400, 500, 600]\n",
    "}\n",
    "# Create a based modela\n",
    "rf = RandomForestClassifier()\n",
    "# Instantiate the grid search model\n",
    "grid_search = GridSearchCV(estimator = rf, param_grid = param_grid, \n",
    "                          cv = 3, n_jobs = -1, verbose = 2)"
   ]
  },
  {
   "cell_type": "code",
   "execution_count": 203,
   "metadata": {
    "collapsed": true
   },
   "outputs": [
    {
     "name": "stdout",
     "output_type": "stream",
     "text": [
      "Fitting 3 folds for each of 216 candidates, totalling 648 fits\n"
     ]
    },
    {
     "name": "stderr",
     "output_type": "stream",
     "text": [
      "[Parallel(n_jobs=-1)]: Done  25 tasks      | elapsed:   10.5s\n",
      "[Parallel(n_jobs=-1)]: Done 146 tasks      | elapsed:   57.9s\n",
      "[Parallel(n_jobs=-1)]: Done 349 tasks      | elapsed:  2.4min\n",
      "[Parallel(n_jobs=-1)]: Done 632 tasks      | elapsed:  4.4min\n",
      "[Parallel(n_jobs=-1)]: Done 648 out of 648 | elapsed:  4.6min finished\n"
     ]
    },
    {
     "name": "stdout",
     "output_type": "stream",
     "text": [
      "[CV] bootstrap=True, min_samples_leaf=1, n_estimators=100, max_features=sqrt, min_samples_split=2, max_depth=80 \n",
      "[CV] bootstrap=True, min_samples_leaf=1, n_estimators=100, max_features=sqrt, min_samples_split=2, max_depth=80 \n",
      "[CV] bootstrap=True, min_samples_leaf=1, n_estimators=100, max_features=sqrt, min_samples_split=2, max_depth=80 \n",
      "[CV] bootstrap=True, min_samples_leaf=1, n_estimators=200, max_features=sqrt, min_samples_split=2, max_depth=80 \n",
      "[CV] bootstrap=True, min_samples_leaf=1, n_estimators=200, max_features=sqrt, min_samples_split=2, max_depth=80 \n",
      "[CV] bootstrap=True, min_samples_leaf=1, n_estimators=200, max_features=sqrt, min_samples_split=2, max_depth=80 \n",
      "[CV] bootstrap=True, min_samples_leaf=1, n_estimators=300, max_features=sqrt, min_samples_split=2, max_depth=80 \n",
      "[CV] bootstrap=True, min_samples_leaf=1, n_estimators=300, max_features=sqrt, min_samples_split=2, max_depth=80 \n",
      "[CV]  bootstrap=True, min_samples_leaf=1, n_estimators=100, max_features=sqrt, min_samples_split=2, max_depth=80, total=   1.0s[CV]  bootstrap=True, min_samples_leaf=1, n_estimators=100, max_features=sqrt, min_samples_split=2, max_depth=80, total=   1.0s[CV]  bootstrap=True, min_samples_leaf=1, n_estimators=100, max_features=sqrt, min_samples_split=2, max_depth=80, total=   1.0s[CV]  bootstrap=True, min_samples_leaf=1, n_estimators=200, max_features=sqrt, min_samples_split=2, max_depth=80, total=   1.9s[CV]  bootstrap=True, min_samples_leaf=1, n_estimators=200, max_features=sqrt, min_samples_split=2, max_depth=80, total=   1.9s[CV]  bootstrap=True, min_samples_leaf=1, n_estimators=200, max_features=sqrt, min_samples_split=2, max_depth=80, total=   1.9s[CV]  bootstrap=True, min_samples_leaf=1, n_estimators=300, max_features=sqrt, min_samples_split=2, max_depth=80, total=   2.7s[CV]  bootstrap=True, min_samples_leaf=1, n_estimators=300, max_features=sqrt, min_samples_split=2, max_depth=80, total=   2.7s\n",
      "\n",
      "\n",
      "\n",
      "\n",
      "\n",
      "\n",
      "\n",
      "[CV] bootstrap=True, min_samples_leaf=1, n_estimators=400, max_features=sqrt, min_samples_split=2, max_depth=80 \n",
      "[CV] bootstrap=True, min_samples_leaf=1, n_estimators=300, max_features=sqrt, min_samples_split=2, max_depth=80 \n",
      "[CV] bootstrap=True, min_samples_leaf=1, n_estimators=400, max_features=sqrt, min_samples_split=2, max_depth=80 \n",
      "[CV] bootstrap=True, min_samples_leaf=1, n_estimators=500, max_features=sqrt, min_samples_split=2, max_depth=80 \n",
      "[CV] bootstrap=True, min_samples_leaf=1, n_estimators=500, max_features=sqrt, min_samples_split=2, max_depth=80 \n",
      "[CV] bootstrap=True, min_samples_leaf=1, n_estimators=400, max_features=sqrt, min_samples_split=2, max_depth=80 \n",
      "[CV] bootstrap=True, min_samples_leaf=1, n_estimators=600, max_features=sqrt, min_samples_split=2, max_depth=80 \n",
      "[CV] bootstrap=True, min_samples_leaf=1, n_estimators=500, max_features=sqrt, min_samples_split=2, max_depth=80 \n",
      "[CV]  bootstrap=True, min_samples_leaf=1, n_estimators=400, max_features=sqrt, min_samples_split=2, max_depth=80, total=   3.6s[CV]  bootstrap=True, min_samples_leaf=1, n_estimators=300, max_features=sqrt, min_samples_split=2, max_depth=80, total=   2.8s[CV]  bootstrap=True, min_samples_leaf=1, n_estimators=400, max_features=sqrt, min_samples_split=2, max_depth=80, total=   3.6s[CV]  bootstrap=True, min_samples_leaf=1, n_estimators=500, max_features=sqrt, min_samples_split=2, max_depth=80, total=   4.5s[CV]  bootstrap=True, min_samples_leaf=1, n_estimators=500, max_features=sqrt, min_samples_split=2, max_depth=80, total=   4.5s[CV]  bootstrap=True, min_samples_leaf=1, n_estimators=400, max_features=sqrt, min_samples_split=2, max_depth=80, total=   3.6s[CV]  bootstrap=True, min_samples_leaf=1, n_estimators=600, max_features=sqrt, min_samples_split=2, max_depth=80, total=   5.4s[CV]  bootstrap=True, min_samples_leaf=1, n_estimators=500, max_features=sqrt, min_samples_split=2, max_depth=80, total=   4.5s\n",
      "\n",
      "\n",
      "\n",
      "\n",
      "\n",
      "\n",
      "\n",
      "[CV] bootstrap=True, min_samples_leaf=1, n_estimators=600, max_features=sqrt, min_samples_split=2, max_depth=80 \n",
      "[CV] bootstrap=True, min_samples_leaf=1, n_estimators=600, max_features=sqrt, min_samples_split=2, max_depth=80 \n",
      "[CV] bootstrap=True, min_samples_leaf=1, n_estimators=100, max_features=sqrt, min_samples_split=5, max_depth=80 \n",
      "[CV] bootstrap=True, min_samples_leaf=1, n_estimators=300, max_features=sqrt, min_samples_split=5, max_depth=80 \n",
      "[CV] bootstrap=True, min_samples_leaf=1, n_estimators=200, max_features=sqrt, min_samples_split=5, max_depth=80 \n",
      "[CV] bootstrap=True, min_samples_leaf=1, n_estimators=100, max_features=sqrt, min_samples_split=5, max_depth=80 \n",
      "[CV] bootstrap=True, min_samples_leaf=1, n_estimators=400, max_features=sqrt, min_samples_split=5, max_depth=80 \n",
      "[CV] bootstrap=True, min_samples_leaf=1, n_estimators=300, max_features=sqrt, min_samples_split=5, max_depth=80 \n",
      "[CV]  bootstrap=True, min_samples_leaf=1, n_estimators=600, max_features=sqrt, min_samples_split=2, max_depth=80, total=   5.4s[CV]  bootstrap=True, min_samples_leaf=1, n_estimators=600, max_features=sqrt, min_samples_split=2, max_depth=80, total=   5.3s[CV]  bootstrap=True, min_samples_leaf=1, n_estimators=100, max_features=sqrt, min_samples_split=5, max_depth=80, total=   0.9s[CV]  bootstrap=True, min_samples_leaf=1, n_estimators=300, max_features=sqrt, min_samples_split=5, max_depth=80, total=   2.6s[CV]  bootstrap=True, min_samples_leaf=1, n_estimators=200, max_features=sqrt, min_samples_split=5, max_depth=80, total=   1.8s[CV]  bootstrap=True, min_samples_leaf=1, n_estimators=100, max_features=sqrt, min_samples_split=5, max_depth=80, total=   0.9s[CV]  bootstrap=True, min_samples_leaf=1, n_estimators=400, max_features=sqrt, min_samples_split=5, max_depth=80, total=   3.5s[CV]  bootstrap=True, min_samples_leaf=1, n_estimators=300, max_features=sqrt, min_samples_split=5, max_depth=80, total=   2.6s\n",
      "\n",
      "\n",
      "\n",
      "\n",
      "\n",
      "\n",
      "\n",
      "[CV] bootstrap=True, min_samples_leaf=1, n_estimators=600, max_features=sqrt, min_samples_split=5, max_depth=80 \n",
      "[CV] bootstrap=True, min_samples_leaf=1, n_estimators=500, max_features=sqrt, min_samples_split=5, max_depth=80 \n",
      "[CV] bootstrap=True, min_samples_leaf=1, n_estimators=100, max_features=sqrt, min_samples_split=5, max_depth=80 \n",
      "[CV] bootstrap=True, min_samples_leaf=1, n_estimators=500, max_features=sqrt, min_samples_split=5, max_depth=80 \n",
      "[CV] bootstrap=True, min_samples_leaf=1, n_estimators=400, max_features=sqrt, min_samples_split=5, max_depth=80 \n",
      "[CV] bootstrap=True, min_samples_leaf=1, n_estimators=200, max_features=sqrt, min_samples_split=5, max_depth=80 \n",
      "[CV] bootstrap=True, min_samples_leaf=1, n_estimators=100, max_features=sqrt, min_samples_split=10, max_depth=80 \n",
      "[CV] bootstrap=True, min_samples_leaf=1, n_estimators=500, max_features=sqrt, min_samples_split=5, max_depth=80 \n",
      "[CV]  bootstrap=True, min_samples_leaf=1, n_estimators=600, max_features=sqrt, min_samples_split=5, max_depth=80, total=   5.2s[CV]  bootstrap=True, min_samples_leaf=1, n_estimators=500, max_features=sqrt, min_samples_split=5, max_depth=80, total=   4.4s[CV]  bootstrap=True, min_samples_leaf=1, n_estimators=100, max_features=sqrt, min_samples_split=5, max_depth=80, total=   0.9s[CV]  bootstrap=True, min_samples_leaf=1, n_estimators=500, max_features=sqrt, min_samples_split=5, max_depth=80, total=   4.4s[CV]  bootstrap=True, min_samples_leaf=1, n_estimators=400, max_features=sqrt, min_samples_split=5, max_depth=80, total=   3.5s[CV]  bootstrap=True, min_samples_leaf=1, n_estimators=200, max_features=sqrt, min_samples_split=5, max_depth=80, total=   1.7s[CV]  bootstrap=True, min_samples_leaf=1, n_estimators=100, max_features=sqrt, min_samples_split=10, max_depth=80, total=   0.8s[CV]  bootstrap=True, min_samples_leaf=1, n_estimators=500, max_features=sqrt, min_samples_split=5, max_depth=80, total=   4.4s\n",
      "\n",
      "\n",
      "\n",
      "\n",
      "\n",
      "\n",
      "\n",
      "[CV] bootstrap=True, min_samples_leaf=1, n_estimators=400, max_features=sqrt, min_samples_split=10, max_depth=80 \n",
      "[CV] bootstrap=True, min_samples_leaf=1, n_estimators=300, max_features=sqrt, min_samples_split=10, max_depth=80 \n",
      "[CV] bootstrap=True, min_samples_leaf=1, n_estimators=200, max_features=sqrt, min_samples_split=5, max_depth=80 \n",
      "[CV] bootstrap=True, min_samples_leaf=1, n_estimators=200, max_features=sqrt, min_samples_split=10, max_depth=80 \n",
      "[CV] bootstrap=True, min_samples_leaf=1, n_estimators=600, max_features=sqrt, min_samples_split=5, max_depth=80 \n",
      "[CV] bootstrap=True, min_samples_leaf=1, n_estimators=400, max_features=sqrt, min_samples_split=5, max_depth=80 \n",
      "[CV] bootstrap=True, min_samples_leaf=1, n_estimators=200, max_features=sqrt, min_samples_split=10, max_depth=80 \n",
      "[CV] bootstrap=True, min_samples_leaf=1, n_estimators=300, max_features=sqrt, min_samples_split=10, max_depth=80 \n",
      "[CV]  bootstrap=True, min_samples_leaf=1, n_estimators=400, max_features=sqrt, min_samples_split=10, max_depth=80, total=   3.4s[CV]  bootstrap=True, min_samples_leaf=1, n_estimators=300, max_features=sqrt, min_samples_split=10, max_depth=80, total=   2.5s[CV]  bootstrap=True, min_samples_leaf=1, n_estimators=200, max_features=sqrt, min_samples_split=5, max_depth=80, total=   1.7s[CV]  bootstrap=True, min_samples_leaf=1, n_estimators=200, max_features=sqrt, min_samples_split=10, max_depth=80, total=   1.7s[CV]  bootstrap=True, min_samples_leaf=1, n_estimators=600, max_features=sqrt, min_samples_split=5, max_depth=80, total=   5.3s[CV]  bootstrap=True, min_samples_leaf=1, n_estimators=400, max_features=sqrt, min_samples_split=5, max_depth=80, total=   3.5s[CV]  bootstrap=True, min_samples_leaf=1, n_estimators=200, max_features=sqrt, min_samples_split=10, max_depth=80, total=   1.7s[CV]  bootstrap=True, min_samples_leaf=1, n_estimators=300, max_features=sqrt, min_samples_split=10, max_depth=80, total=   2.6s\n",
      "\n",
      "\n",
      "\n",
      "\n",
      "\n",
      "\n",
      "\n",
      "[CV] bootstrap=True, min_samples_leaf=2, n_estimators=100, max_features=sqrt, min_samples_split=2, max_depth=80 \n",
      "[CV] bootstrap=True, min_samples_leaf=1, n_estimators=500, max_features=sqrt, min_samples_split=10, max_depth=80 \n",
      "[CV] bootstrap=True, min_samples_leaf=1, n_estimators=300, max_features=sqrt, min_samples_split=5, max_depth=80 \n",
      "[CV] bootstrap=True, min_samples_leaf=1, n_estimators=400, max_features=sqrt, min_samples_split=10, max_depth=80 \n",
      "[CV] bootstrap=True, min_samples_leaf=1, n_estimators=600, max_features=sqrt, min_samples_split=10, max_depth=80 \n",
      "[CV] bootstrap=True, min_samples_leaf=1, n_estimators=100, max_features=sqrt, min_samples_split=10, max_depth=80 \n",
      "[CV] bootstrap=True, min_samples_leaf=1, n_estimators=300, max_features=sqrt, min_samples_split=10, max_depth=80 \n",
      "[CV] bootstrap=True, min_samples_leaf=1, n_estimators=600, max_features=sqrt, min_samples_split=10, max_depth=80 \n",
      "[CV]  bootstrap=True, min_samples_leaf=2, n_estimators=100, max_features=sqrt, min_samples_split=2, max_depth=80, total=   0.9s[CV]  bootstrap=True, min_samples_leaf=1, n_estimators=500, max_features=sqrt, min_samples_split=10, max_depth=80, total=   4.3s[CV]  bootstrap=True, min_samples_leaf=1, n_estimators=300, max_features=sqrt, min_samples_split=5, max_depth=80, total=   2.7s[CV]  bootstrap=True, min_samples_leaf=1, n_estimators=400, max_features=sqrt, min_samples_split=10, max_depth=80, total=   3.4s[CV]  bootstrap=True, min_samples_leaf=1, n_estimators=600, max_features=sqrt, min_samples_split=10, max_depth=80, total=   5.1s[CV]  bootstrap=True, min_samples_leaf=1, n_estimators=100, max_features=sqrt, min_samples_split=10, max_depth=80, total=   0.9s[CV]  bootstrap=True, min_samples_leaf=1, n_estimators=300, max_features=sqrt, min_samples_split=10, max_depth=80, total=   2.6s[CV]  bootstrap=True, min_samples_leaf=1, n_estimators=600, max_features=sqrt, min_samples_split=10, max_depth=80, total=   5.1s\n",
      "\n",
      "\n",
      "\n",
      "\n",
      "\n",
      "\n",
      "\n",
      "[CV] bootstrap=True, min_samples_leaf=2, n_estimators=200, max_features=sqrt, min_samples_split=2, max_depth=80 \n",
      "[CV] bootstrap=True, min_samples_leaf=2, n_estimators=200, max_features=sqrt, min_samples_split=2, max_depth=80 \n",
      "[CV] bootstrap=True, min_samples_leaf=1, n_estimators=600, max_features=sqrt, min_samples_split=5, max_depth=80 \n",
      "[CV] bootstrap=True, min_samples_leaf=1, n_estimators=600, max_features=sqrt, min_samples_split=10, max_depth=80 \n",
      "[CV] bootstrap=True, min_samples_leaf=2, n_estimators=400, max_features=sqrt, min_samples_split=2, max_depth=80 \n",
      "[CV] bootstrap=True, min_samples_leaf=1, n_estimators=100, max_features=sqrt, min_samples_split=10, max_depth=80 \n",
      "[CV] bootstrap=True, min_samples_leaf=1, n_estimators=500, max_features=sqrt, min_samples_split=10, max_depth=80 \n",
      "[CV] bootstrap=True, min_samples_leaf=2, n_estimators=400, max_features=sqrt, min_samples_split=2, max_depth=80 \n",
      "[CV]  bootstrap=True, min_samples_leaf=2, n_estimators=200, max_features=sqrt, min_samples_split=2, max_depth=80, total=   1.7s[CV]  bootstrap=True, min_samples_leaf=2, n_estimators=200, max_features=sqrt, min_samples_split=2, max_depth=80, total=   1.7s[CV]  bootstrap=True, min_samples_leaf=1, n_estimators=600, max_features=sqrt, min_samples_split=5, max_depth=80, total=   5.2s[CV]  bootstrap=True, min_samples_leaf=1, n_estimators=600, max_features=sqrt, min_samples_split=10, max_depth=80, total=   5.2s[CV]  bootstrap=True, min_samples_leaf=2, n_estimators=400, max_features=sqrt, min_samples_split=2, max_depth=80, total=   3.4s[CV]  bootstrap=True, min_samples_leaf=1, n_estimators=100, max_features=sqrt, min_samples_split=10, max_depth=80, total=   0.9s[CV]  bootstrap=True, min_samples_leaf=1, n_estimators=500, max_features=sqrt, min_samples_split=10, max_depth=80, total=   4.3s[CV]  bootstrap=True, min_samples_leaf=2, n_estimators=400, max_features=sqrt, min_samples_split=2, max_depth=80, total=   3.5s\n",
      "\n",
      "\n",
      "\n",
      "\n",
      "\n",
      "\n",
      "\n",
      "[CV] bootstrap=True, min_samples_leaf=2, n_estimators=300, max_features=sqrt, min_samples_split=2, max_depth=80 \n",
      "[CV] bootstrap=True, min_samples_leaf=2, n_estimators=500, max_features=sqrt, min_samples_split=2, max_depth=80 \n",
      "[CV] bootstrap=True, min_samples_leaf=1, n_estimators=500, max_features=sqrt, min_samples_split=10, max_depth=80 \n",
      "[CV] bootstrap=True, min_samples_leaf=2, n_estimators=500, max_features=sqrt, min_samples_split=2, max_depth=80 \n",
      "[CV] bootstrap=True, min_samples_leaf=2, n_estimators=600, max_features=sqrt, min_samples_split=2, max_depth=80 \n",
      "[CV] bootstrap=True, min_samples_leaf=1, n_estimators=200, max_features=sqrt, min_samples_split=10, max_depth=80 \n",
      "[CV] bootstrap=True, min_samples_leaf=2, n_estimators=300, max_features=sqrt, min_samples_split=2, max_depth=80 \n",
      "[CV] bootstrap=True, min_samples_leaf=2, n_estimators=100, max_features=sqrt, min_samples_split=5, max_depth=80 \n",
      "[CV]  bootstrap=True, min_samples_leaf=2, n_estimators=300, max_features=sqrt, min_samples_split=2, max_depth=80, total=   2.7s[CV]  bootstrap=True, min_samples_leaf=2, n_estimators=500, max_features=sqrt, min_samples_split=2, max_depth=80, total=   4.3s[CV]  bootstrap=True, min_samples_leaf=1, n_estimators=500, max_features=sqrt, min_samples_split=10, max_depth=80, total=   4.2s[CV]  bootstrap=True, min_samples_leaf=2, n_estimators=500, max_features=sqrt, min_samples_split=2, max_depth=80, total=   4.3s[CV]  bootstrap=True, min_samples_leaf=2, n_estimators=600, max_features=sqrt, min_samples_split=2, max_depth=80, total=   5.2s[CV]  bootstrap=True, min_samples_leaf=1, n_estimators=200, max_features=sqrt, min_samples_split=10, max_depth=80, total=   1.7s[CV]  bootstrap=True, min_samples_leaf=2, n_estimators=300, max_features=sqrt, min_samples_split=2, max_depth=80, total=   2.6s[CV]  bootstrap=True, min_samples_leaf=2, n_estimators=100, max_features=sqrt, min_samples_split=5, max_depth=80, total=   0.9s\n",
      "\n",
      "\n",
      "\n",
      "\n",
      "\n",
      "\n",
      "\n",
      "[CV] bootstrap=True, min_samples_leaf=2, n_estimators=600, max_features=sqrt, min_samples_split=2, max_depth=80 \n",
      "[CV] bootstrap=True, min_samples_leaf=2, n_estimators=100, max_features=sqrt, min_samples_split=5, max_depth=80 \n",
      "[CV] bootstrap=True, min_samples_leaf=2, n_estimators=200, max_features=sqrt, min_samples_split=2, max_depth=80 \n",
      "[CV] bootstrap=True, min_samples_leaf=2, n_estimators=300, max_features=sqrt, min_samples_split=5, max_depth=80 \n",
      "[CV] bootstrap=True, min_samples_leaf=2, n_estimators=600, max_features=sqrt, min_samples_split=5, max_depth=80 \n",
      "[CV] bootstrap=True, min_samples_leaf=1, n_estimators=400, max_features=sqrt, min_samples_split=10, max_depth=80 \n",
      "[CV] bootstrap=True, min_samples_leaf=2, n_estimators=600, max_features=sqrt, min_samples_split=2, max_depth=80 \n",
      "[CV] bootstrap=True, min_samples_leaf=2, n_estimators=200, max_features=sqrt, min_samples_split=5, max_depth=80 \n",
      "[CV]  bootstrap=True, min_samples_leaf=2, n_estimators=600, max_features=sqrt, min_samples_split=2, max_depth=80, total=   5.1s[CV]  bootstrap=True, min_samples_leaf=2, n_estimators=100, max_features=sqrt, min_samples_split=5, max_depth=80, total=   0.9s[CV]  bootstrap=True, min_samples_leaf=2, n_estimators=200, max_features=sqrt, min_samples_split=2, max_depth=80, total=   1.7s[CV]  bootstrap=True, min_samples_leaf=2, n_estimators=300, max_features=sqrt, min_samples_split=5, max_depth=80, total=   2.5s[CV]  bootstrap=True, min_samples_leaf=2, n_estimators=600, max_features=sqrt, min_samples_split=5, max_depth=80, total=   5.2s[CV]  bootstrap=True, min_samples_leaf=1, n_estimators=400, max_features=sqrt, min_samples_split=10, max_depth=80, total=   3.5s[CV]  bootstrap=True, min_samples_leaf=2, n_estimators=600, max_features=sqrt, min_samples_split=2, max_depth=80, total=   5.1s[CV]  bootstrap=True, min_samples_leaf=2, n_estimators=200, max_features=sqrt, min_samples_split=5, max_depth=80, total=   1.7s\n",
      "\n",
      "\n",
      "\n",
      "\n",
      "\n",
      "\n",
      "\n",
      "[CV] bootstrap=True, min_samples_leaf=2, n_estimators=500, max_features=sqrt, min_samples_split=5, max_depth=80 \n",
      "[CV] bootstrap=True, min_samples_leaf=2, n_estimators=200, max_features=sqrt, min_samples_split=5, max_depth=80 \n",
      "[CV] bootstrap=True, min_samples_leaf=2, n_estimators=400, max_features=sqrt, min_samples_split=2, max_depth=80 \n",
      "[CV] bootstrap=True, min_samples_leaf=2, n_estimators=500, max_features=sqrt, min_samples_split=5, max_depth=80 \n",
      "[CV] bootstrap=True, min_samples_leaf=2, n_estimators=500, max_features=sqrt, min_samples_split=10, max_depth=80 \n",
      "[CV] bootstrap=True, min_samples_leaf=2, n_estimators=100, max_features=sqrt, min_samples_split=2, max_depth=80 \n",
      "[CV] bootstrap=True, min_samples_leaf=2, n_estimators=400, max_features=sqrt, min_samples_split=5, max_depth=80 \n",
      "[CV] bootstrap=True, min_samples_leaf=2, n_estimators=400, max_features=sqrt, min_samples_split=5, max_depth=80 \n",
      "[CV]  bootstrap=True, min_samples_leaf=2, n_estimators=500, max_features=sqrt, min_samples_split=5, max_depth=80, total=   4.3s[CV]  bootstrap=True, min_samples_leaf=2, n_estimators=200, max_features=sqrt, min_samples_split=5, max_depth=80, total=   1.7s[CV]  bootstrap=True, min_samples_leaf=2, n_estimators=400, max_features=sqrt, min_samples_split=2, max_depth=80, total=   3.5s[CV]  bootstrap=True, min_samples_leaf=2, n_estimators=500, max_features=sqrt, min_samples_split=5, max_depth=80, total=   4.3s[CV]  bootstrap=True, min_samples_leaf=2, n_estimators=500, max_features=sqrt, min_samples_split=10, max_depth=80, total=   4.2s[CV]  bootstrap=True, min_samples_leaf=2, n_estimators=100, max_features=sqrt, min_samples_split=2, max_depth=80, total=   0.8s[CV]  bootstrap=True, min_samples_leaf=2, n_estimators=400, max_features=sqrt, min_samples_split=5, max_depth=80, total=   3.4s[CV]  bootstrap=True, min_samples_leaf=2, n_estimators=400, max_features=sqrt, min_samples_split=5, max_depth=80, total=   3.4s\n",
      "\n",
      "\n",
      "\n",
      "\n",
      "\n",
      "\n",
      "\n",
      "[CV] bootstrap=True, min_samples_leaf=2, n_estimators=200, max_features=sqrt, min_samples_split=10, max_depth=80 \n",
      "[CV] bootstrap=True, min_samples_leaf=2, n_estimators=400, max_features=sqrt, min_samples_split=5, max_depth=80 \n",
      "[CV] bootstrap=True, min_samples_leaf=2, n_estimators=100, max_features=sqrt, min_samples_split=5, max_depth=80 \n",
      "[CV] bootstrap=True, min_samples_leaf=2, n_estimators=300, max_features=sqrt, min_samples_split=10, max_depth=80 \n",
      "[CV] bootstrap=True, min_samples_leaf=3, n_estimators=200, max_features=sqrt, min_samples_split=2, max_depth=80 \n",
      "[CV] bootstrap=True, min_samples_leaf=2, n_estimators=100, max_features=sqrt, min_samples_split=2, max_depth=80 \n",
      "[CV] bootstrap=True, min_samples_leaf=2, n_estimators=100, max_features=sqrt, min_samples_split=10, max_depth=80 \n",
      "[CV] bootstrap=True, min_samples_leaf=2, n_estimators=600, max_features=sqrt, min_samples_split=5, max_depth=80 \n",
      "[CV]  bootstrap=True, min_samples_leaf=2, n_estimators=200, max_features=sqrt, min_samples_split=10, max_depth=80, total=   1.7s[CV]  bootstrap=True, min_samples_leaf=2, n_estimators=400, max_features=sqrt, min_samples_split=5, max_depth=80, total=   3.5s[CV]  bootstrap=True, min_samples_leaf=2, n_estimators=100, max_features=sqrt, min_samples_split=5, max_depth=80, total=   0.9s[CV]  bootstrap=True, min_samples_leaf=2, n_estimators=300, max_features=sqrt, min_samples_split=10, max_depth=80, total=   2.5s[CV]  bootstrap=True, min_samples_leaf=3, n_estimators=200, max_features=sqrt, min_samples_split=2, max_depth=80, total=   1.7s[CV]  bootstrap=True, min_samples_leaf=2, n_estimators=100, max_features=sqrt, min_samples_split=2, max_depth=80, total=   0.9s[CV]  bootstrap=True, min_samples_leaf=2, n_estimators=100, max_features=sqrt, min_samples_split=10, max_depth=80, total=   0.8s[CV]  bootstrap=True, min_samples_leaf=2, n_estimators=600, max_features=sqrt, min_samples_split=5, max_depth=80, total=   5.1s"
     ]
    },
    {
     "ename": "AttributeError",
     "evalue": "'GridSearchCV' object has no attribute 'best_param_'",
     "output_type": "error",
     "traceback": [
      "\u001b[0;31m---------------------------------------------------------------------------\u001b[0m",
      "\u001b[0;31mAttributeError\u001b[0m                            Traceback (most recent call last)",
      "\u001b[0;32m<ipython-input-203-44f865b5d3b9>\u001b[0m in \u001b[0;36m<module>\u001b[0;34m()\u001b[0m\n\u001b[1;32m      1\u001b[0m \u001b[0mgrid_search\u001b[0m\u001b[0;34m.\u001b[0m\u001b[0mfit\u001b[0m\u001b[0;34m(\u001b[0m\u001b[0mX_train_std\u001b[0m\u001b[0;34m,\u001b[0m \u001b[0my_train\u001b[0m\u001b[0;34m)\u001b[0m\u001b[0;34m\u001b[0m\u001b[0m\n\u001b[0;32m----> 2\u001b[0;31m \u001b[0mgrid_search\u001b[0m\u001b[0;34m.\u001b[0m\u001b[0mbest_param_\u001b[0m\u001b[0;34m\u001b[0m\u001b[0m\n\u001b[0m",
      "\u001b[0;31mAttributeError\u001b[0m: 'GridSearchCV' object has no attribute 'best_param_'"
     ]
    },
    {
     "name": "stdout",
     "output_type": "stream",
     "text": [
      "\n",
      "\n",
      "\n",
      "\n",
      "\n",
      "\n",
      "\n",
      "\n",
      "[CV] bootstrap=True, min_samples_leaf=2, n_estimators=400, max_features=sqrt, min_samples_split=10, max_depth=80 \n",
      "[CV] bootstrap=True, min_samples_leaf=2, n_estimators=100, max_features=sqrt, min_samples_split=10, max_depth=80 \n",
      "[CV] bootstrap=True, min_samples_leaf=2, n_estimators=200, max_features=sqrt, min_samples_split=5, max_depth=80 \n",
      "[CV] bootstrap=True, min_samples_leaf=2, n_estimators=600, max_features=sqrt, min_samples_split=10, max_depth=80 \n",
      "[CV] bootstrap=True, min_samples_leaf=3, n_estimators=400, max_features=sqrt, min_samples_split=2, max_depth=80 \n",
      "[CV] bootstrap=True, min_samples_leaf=2, n_estimators=300, max_features=sqrt, min_samples_split=2, max_depth=80 \n",
      "[CV] bootstrap=True, min_samples_leaf=2, n_estimators=100, max_features=sqrt, min_samples_split=10, max_depth=80 \n",
      "[CV] bootstrap=True, min_samples_leaf=2, n_estimators=500, max_features=sqrt, min_samples_split=10, max_depth=80 \n",
      "[CV]  bootstrap=True, min_samples_leaf=2, n_estimators=400, max_features=sqrt, min_samples_split=10, max_depth=80, total=   3.4s[CV]  bootstrap=True, min_samples_leaf=2, n_estimators=100, max_features=sqrt, min_samples_split=10, max_depth=80, total=   0.8s[CV]  bootstrap=True, min_samples_leaf=2, n_estimators=200, max_features=sqrt, min_samples_split=5, max_depth=80, total=   1.7s[CV]  bootstrap=True, min_samples_leaf=2, n_estimators=600, max_features=sqrt, min_samples_split=10, max_depth=80, total=   5.0s[CV]  bootstrap=True, min_samples_leaf=3, n_estimators=400, max_features=sqrt, min_samples_split=2, max_depth=80, total=   3.4s[CV]  bootstrap=True, min_samples_leaf=2, n_estimators=300, max_features=sqrt, min_samples_split=2, max_depth=80, total=   2.6s[CV]  bootstrap=True, min_samples_leaf=2, n_estimators=100, max_features=sqrt, min_samples_split=10, max_depth=80, total=   0.9s[CV]  bootstrap=True, min_samples_leaf=2, n_estimators=500, max_features=sqrt, min_samples_split=10, max_depth=80, total=   4.2s\n",
      "\n",
      "\n",
      "\n",
      "\n",
      "\n",
      "\n",
      "\n",
      "[CV] bootstrap=True, min_samples_leaf=2, n_estimators=600, max_features=sqrt, min_samples_split=10, max_depth=80 \n",
      "[CV] bootstrap=True, min_samples_leaf=2, n_estimators=200, max_features=sqrt, min_samples_split=10, max_depth=80 \n",
      "[CV] bootstrap=True, min_samples_leaf=2, n_estimators=300, max_features=sqrt, min_samples_split=5, max_depth=80 \n",
      "[CV] bootstrap=True, min_samples_leaf=3, n_estimators=400, max_features=sqrt, min_samples_split=2, max_depth=80 \n",
      "[CV] bootstrap=True, min_samples_leaf=3, n_estimators=600, max_features=sqrt, min_samples_split=2, max_depth=80 \n",
      "[CV] bootstrap=True, min_samples_leaf=2, n_estimators=500, max_features=sqrt, min_samples_split=2, max_depth=80 \n",
      "[CV] bootstrap=True, min_samples_leaf=2, n_estimators=200, max_features=sqrt, min_samples_split=10, max_depth=80 \n",
      "[CV] bootstrap=True, min_samples_leaf=3, n_estimators=300, max_features=sqrt, min_samples_split=2, max_depth=80 \n",
      "[CV]  bootstrap=True, min_samples_leaf=2, n_estimators=600, max_features=sqrt, min_samples_split=10, max_depth=80, total=   5.1s[CV]  bootstrap=True, min_samples_leaf=2, n_estimators=200, max_features=sqrt, min_samples_split=10, max_depth=80, total=   1.7s[CV]  bootstrap=True, min_samples_leaf=2, n_estimators=300, max_features=sqrt, min_samples_split=5, max_depth=80, total=   2.6s[CV]  bootstrap=True, min_samples_leaf=3, n_estimators=400, max_features=sqrt, min_samples_split=2, max_depth=80, total=   3.4s[CV]  bootstrap=True, min_samples_leaf=3, n_estimators=600, max_features=sqrt, min_samples_split=2, max_depth=80, total=   5.1s[CV]  bootstrap=True, min_samples_leaf=2, n_estimators=500, max_features=sqrt, min_samples_split=2, max_depth=80, total=   4.3s[CV]  bootstrap=True, min_samples_leaf=2, n_estimators=200, max_features=sqrt, min_samples_split=10, max_depth=80, total=   1.7s[CV]  bootstrap=True, min_samples_leaf=3, n_estimators=300, max_features=sqrt, min_samples_split=2, max_depth=80, total=   2.6s\n",
      "\n",
      "\n",
      "\n",
      "\n",
      "\n",
      "\n",
      "\n",
      "[CV] bootstrap=True, min_samples_leaf=3, n_estimators=600, max_features=sqrt, min_samples_split=2, max_depth=80 \n",
      "[CV] bootstrap=True, min_samples_leaf=2, n_estimators=300, max_features=sqrt, min_samples_split=10, max_depth=80 \n",
      "[CV] bootstrap=True, min_samples_leaf=2, n_estimators=600, max_features=sqrt, min_samples_split=5, max_depth=80 \n",
      "[CV] bootstrap=True, min_samples_leaf=3, n_estimators=100, max_features=sqrt, min_samples_split=5, max_depth=80 \n",
      "[CV] bootstrap=True, min_samples_leaf=3, n_estimators=500, max_features=sqrt, min_samples_split=5, max_depth=80 \n",
      "[CV] bootstrap=True, min_samples_leaf=2, n_estimators=300, max_features=sqrt, min_samples_split=5, max_depth=80 \n",
      "[CV] bootstrap=True, min_samples_leaf=2, n_estimators=400, max_features=sqrt, min_samples_split=10, max_depth=80 \n",
      "[CV] bootstrap=True, min_samples_leaf=3, n_estimators=500, max_features=sqrt, min_samples_split=2, max_depth=80 \n",
      "[CV]  bootstrap=True, min_samples_leaf=3, n_estimators=600, max_features=sqrt, min_samples_split=2, max_depth=80, total=   5.1s[CV]  bootstrap=True, min_samples_leaf=2, n_estimators=300, max_features=sqrt, min_samples_split=10, max_depth=80, total=   2.5s[CV]  bootstrap=True, min_samples_leaf=2, n_estimators=600, max_features=sqrt, min_samples_split=5, max_depth=80, total=   5.1s[CV]  bootstrap=True, min_samples_leaf=3, n_estimators=100, max_features=sqrt, min_samples_split=5, max_depth=80, total=   0.9s[CV]  bootstrap=True, min_samples_leaf=3, n_estimators=500, max_features=sqrt, min_samples_split=5, max_depth=80, total=   4.2s[CV]  bootstrap=True, min_samples_leaf=2, n_estimators=300, max_features=sqrt, min_samples_split=5, max_depth=80, total=   2.6s[CV]  bootstrap=True, min_samples_leaf=2, n_estimators=400, max_features=sqrt, min_samples_split=10, max_depth=80, total=   3.3s[CV]  bootstrap=True, min_samples_leaf=3, n_estimators=500, max_features=sqrt, min_samples_split=2, max_depth=80, total=   4.2s\n",
      "\n",
      "\n",
      "\n",
      "\n",
      "\n",
      "\n",
      "\n",
      "[CV] bootstrap=True, min_samples_leaf=3, n_estimators=400, max_features=sqrt, min_samples_split=5, max_depth=80 \n",
      "[CV] bootstrap=True, min_samples_leaf=2, n_estimators=600, max_features=sqrt, min_samples_split=10, max_depth=80 \n",
      "[CV] bootstrap=True, min_samples_leaf=2, n_estimators=400, max_features=sqrt, min_samples_split=10, max_depth=80 \n",
      "[CV] bootstrap=True, min_samples_leaf=3, n_estimators=200, max_features=sqrt, min_samples_split=5, max_depth=80 \n",
      "[CV] bootstrap=True, min_samples_leaf=3, n_estimators=300, max_features=sqrt, min_samples_split=10, max_depth=80 \n",
      "[CV] bootstrap=True, min_samples_leaf=2, n_estimators=500, max_features=sqrt, min_samples_split=5, max_depth=80 \n",
      "[CV] bootstrap=True, min_samples_leaf=3, n_estimators=100, max_features=sqrt, min_samples_split=2, max_depth=80 \n",
      "[CV] bootstrap=True, min_samples_leaf=3, n_estimators=300, max_features=sqrt, min_samples_split=5, max_depth=80 \n",
      "[CV]  bootstrap=True, min_samples_leaf=3, n_estimators=400, max_features=sqrt, min_samples_split=5, max_depth=80, total=   3.4s[CV]  bootstrap=True, min_samples_leaf=2, n_estimators=600, max_features=sqrt, min_samples_split=10, max_depth=80, total=   5.0s[CV]  bootstrap=True, min_samples_leaf=2, n_estimators=400, max_features=sqrt, min_samples_split=10, max_depth=80, total=   3.4s[CV]  bootstrap=True, min_samples_leaf=3, n_estimators=200, max_features=sqrt, min_samples_split=5, max_depth=80, total=   1.7s[CV]  bootstrap=True, min_samples_leaf=3, n_estimators=300, max_features=sqrt, min_samples_split=10, max_depth=80, total=   2.5s[CV]  bootstrap=True, min_samples_leaf=2, n_estimators=500, max_features=sqrt, min_samples_split=5, max_depth=80, total=   4.3s[CV]  bootstrap=True, min_samples_leaf=3, n_estimators=100, max_features=sqrt, min_samples_split=2, max_depth=80, total=   0.8s[CV]  bootstrap=True, min_samples_leaf=3, n_estimators=300, max_features=sqrt, min_samples_split=5, max_depth=80, total=   2.6s\n",
      "\n",
      "\n",
      "\n",
      "\n",
      "\n",
      "\n",
      "\n",
      "[CV] bootstrap=True, min_samples_leaf=3, n_estimators=100, max_features=sqrt, min_samples_split=10, max_depth=80 \n",
      "[CV] bootstrap=True, min_samples_leaf=3, n_estimators=500, max_features=sqrt, min_samples_split=2, max_depth=80 \n",
      "[CV] bootstrap=True, min_samples_leaf=3, n_estimators=100, max_features=sqrt, min_samples_split=2, max_depth=80 \n",
      "[CV] bootstrap=True, min_samples_leaf=3, n_estimators=300, max_features=sqrt, min_samples_split=5, max_depth=80 \n",
      "[CV] bootstrap=True, min_samples_leaf=3, n_estimators=500, max_features=sqrt, min_samples_split=10, max_depth=80 \n",
      "[CV] bootstrap=True, min_samples_leaf=2, n_estimators=300, max_features=sqrt, min_samples_split=10, max_depth=80 \n",
      "[CV] bootstrap=True, min_samples_leaf=3, n_estimators=100, max_features=sqrt, min_samples_split=2, max_depth=80 \n",
      "[CV] bootstrap=True, min_samples_leaf=3, n_estimators=500, max_features=sqrt, min_samples_split=5, max_depth=80 \n",
      "[CV]  bootstrap=True, min_samples_leaf=3, n_estimators=100, max_features=sqrt, min_samples_split=10, max_depth=80, total=   0.8s[CV]  bootstrap=True, min_samples_leaf=3, n_estimators=500, max_features=sqrt, min_samples_split=2, max_depth=80, total=   4.2s[CV]  bootstrap=True, min_samples_leaf=3, n_estimators=100, max_features=sqrt, min_samples_split=2, max_depth=80, total=   0.8s[CV]  bootstrap=True, min_samples_leaf=3, n_estimators=300, max_features=sqrt, min_samples_split=5, max_depth=80, total=   2.5s[CV]  bootstrap=True, min_samples_leaf=3, n_estimators=500, max_features=sqrt, min_samples_split=10, max_depth=80, total=   4.4s[CV]  bootstrap=True, min_samples_leaf=2, n_estimators=300, max_features=sqrt, min_samples_split=10, max_depth=80, total=   2.5s[CV]  bootstrap=True, min_samples_leaf=3, n_estimators=100, max_features=sqrt, min_samples_split=2, max_depth=80, total=   0.9s[CV]  bootstrap=True, min_samples_leaf=3, n_estimators=500, max_features=sqrt, min_samples_split=5, max_depth=80, total=   4.2s\n",
      "\n",
      "\n",
      "\n",
      "\n",
      "\n",
      "\n",
      "\n",
      "[CV] bootstrap=True, min_samples_leaf=3, n_estimators=100, max_features=sqrt, min_samples_split=10, max_depth=80 \n",
      "[CV] bootstrap=True, min_samples_leaf=3, n_estimators=200, max_features=sqrt, min_samples_split=5, max_depth=80 \n",
      "[CV] bootstrap=True, min_samples_leaf=3, n_estimators=200, max_features=sqrt, min_samples_split=2, max_depth=80 \n",
      "[CV] bootstrap=True, min_samples_leaf=3, n_estimators=600, max_features=sqrt, min_samples_split=5, max_depth=80 \n",
      "[CV] bootstrap=True, min_samples_leaf=1, n_estimators=300, max_features=sqrt, min_samples_split=2, max_depth=90 \n",
      "[CV] bootstrap=True, min_samples_leaf=2, n_estimators=500, max_features=sqrt, min_samples_split=10, max_depth=80 \n",
      "[CV] bootstrap=True, min_samples_leaf=3, n_estimators=200, max_features=sqrt, min_samples_split=2, max_depth=80 \n",
      "[CV] bootstrap=True, min_samples_leaf=3, n_estimators=300, max_features=sqrt, min_samples_split=10, max_depth=80 \n",
      "[CV]  bootstrap=True, min_samples_leaf=3, n_estimators=100, max_features=sqrt, min_samples_split=10, max_depth=80, total=   0.8s[CV]  bootstrap=True, min_samples_leaf=3, n_estimators=200, max_features=sqrt, min_samples_split=5, max_depth=80, total=   1.7s[CV]  bootstrap=True, min_samples_leaf=3, n_estimators=200, max_features=sqrt, min_samples_split=2, max_depth=80, total=   1.7s[CV]  bootstrap=True, min_samples_leaf=3, n_estimators=600, max_features=sqrt, min_samples_split=5, max_depth=80, total=   5.0s[CV]  bootstrap=True, min_samples_leaf=1, n_estimators=300, max_features=sqrt, min_samples_split=2, max_depth=90, total=   2.8s[CV]  bootstrap=True, min_samples_leaf=2, n_estimators=500, max_features=sqrt, min_samples_split=10, max_depth=80, total=   4.2s[CV]  bootstrap=True, min_samples_leaf=3, n_estimators=200, max_features=sqrt, min_samples_split=2, max_depth=80, total=   1.7s[CV]  bootstrap=True, min_samples_leaf=3, n_estimators=300, max_features=sqrt, min_samples_split=10, max_depth=80, total=   2.5s\n",
      "\n",
      "\n",
      "\n",
      "\n",
      "\n",
      "\n",
      "\n",
      "[CV] bootstrap=True, min_samples_leaf=3, n_estimators=200, max_features=sqrt, min_samples_split=10, max_depth=80 \n",
      "[CV] bootstrap=True, min_samples_leaf=3, n_estimators=400, max_features=sqrt, min_samples_split=5, max_depth=80 \n",
      "[CV] bootstrap=True, min_samples_leaf=3, n_estimators=300, max_features=sqrt, min_samples_split=2, max_depth=80 \n",
      "[CV] bootstrap=True, min_samples_leaf=3, n_estimators=500, max_features=sqrt, min_samples_split=10, max_depth=80 \n",
      "[CV] bootstrap=True, min_samples_leaf=1, n_estimators=600, max_features=sqrt, min_samples_split=2, max_depth=90 \n",
      "[CV] bootstrap=True, min_samples_leaf=3, n_estimators=300, max_features=sqrt, min_samples_split=2, max_depth=80 \n",
      "[CV] bootstrap=True, min_samples_leaf=3, n_estimators=400, max_features=sqrt, min_samples_split=2, max_depth=80 \n",
      "[CV] bootstrap=True, min_samples_leaf=3, n_estimators=500, max_features=sqrt, min_samples_split=10, max_depth=80 \n",
      "[CV]  bootstrap=True, min_samples_leaf=3, n_estimators=200, max_features=sqrt, min_samples_split=10, max_depth=80, total=   1.7s[CV]  bootstrap=True, min_samples_leaf=3, n_estimators=400, max_features=sqrt, min_samples_split=5, max_depth=80, total=   3.4s[CV]  bootstrap=True, min_samples_leaf=3, n_estimators=300, max_features=sqrt, min_samples_split=2, max_depth=80, total=   2.5s[CV]  bootstrap=True, min_samples_leaf=3, n_estimators=500, max_features=sqrt, min_samples_split=10, max_depth=80, total=   4.1s[CV]  bootstrap=True, min_samples_leaf=1, n_estimators=600, max_features=sqrt, min_samples_split=2, max_depth=90, total=   5.4s[CV]  bootstrap=True, min_samples_leaf=3, n_estimators=300, max_features=sqrt, min_samples_split=2, max_depth=80, total=   2.5s[CV]  bootstrap=True, min_samples_leaf=3, n_estimators=400, max_features=sqrt, min_samples_split=2, max_depth=80, total=   3.3s[CV]  bootstrap=True, min_samples_leaf=3, n_estimators=500, max_features=sqrt, min_samples_split=10, max_depth=80, total=   4.3s\n",
      "\n",
      "\n",
      "\n",
      "\n",
      "\n",
      "\n",
      "\n",
      "[CV] bootstrap=True, min_samples_leaf=3, n_estimators=400, max_features=sqrt, min_samples_split=10, max_depth=80 \n",
      "[CV] bootstrap=True, min_samples_leaf=3, n_estimators=600, max_features=sqrt, min_samples_split=5, max_depth=80 \n",
      "[CV] bootstrap=True, min_samples_leaf=3, n_estimators=600, max_features=sqrt, min_samples_split=2, max_depth=80 \n",
      "[CV] bootstrap=True, min_samples_leaf=1, n_estimators=200, max_features=sqrt, min_samples_split=2, max_depth=90 \n",
      "[CV] bootstrap=True, min_samples_leaf=1, n_estimators=400, max_features=sqrt, min_samples_split=5, max_depth=90 \n",
      "[CV] bootstrap=True, min_samples_leaf=3, n_estimators=500, max_features=sqrt, min_samples_split=2, max_depth=80 \n",
      "[CV] bootstrap=True, min_samples_leaf=3, n_estimators=100, max_features=sqrt, min_samples_split=5, max_depth=80 \n",
      "[CV] bootstrap=True, min_samples_leaf=1, n_estimators=300, max_features=sqrt, min_samples_split=2, max_depth=90 \n",
      "[CV]  bootstrap=True, min_samples_leaf=3, n_estimators=400, max_features=sqrt, min_samples_split=10, max_depth=80, total=   3.4s[CV]  bootstrap=True, min_samples_leaf=3, n_estimators=600, max_features=sqrt, min_samples_split=5, max_depth=80, total=   5.1s[CV]  bootstrap=True, min_samples_leaf=3, n_estimators=600, max_features=sqrt, min_samples_split=2, max_depth=80, total=   5.1s[CV]  bootstrap=True, min_samples_leaf=1, n_estimators=200, max_features=sqrt, min_samples_split=2, max_depth=90, total=   2.1s[CV]  bootstrap=True, min_samples_leaf=1, n_estimators=400, max_features=sqrt, min_samples_split=5, max_depth=90, total=   3.9s[CV]  bootstrap=True, min_samples_leaf=3, n_estimators=500, max_features=sqrt, min_samples_split=2, max_depth=80, total=   4.3s[CV]  bootstrap=True, min_samples_leaf=3, n_estimators=100, max_features=sqrt, min_samples_split=5, max_depth=80, total=   0.8s[CV]  bootstrap=True, min_samples_leaf=1, n_estimators=300, max_features=sqrt, min_samples_split=2, max_depth=90, total=   2.8s\n",
      "\n",
      "\n",
      "\n",
      "\n",
      "\n",
      "\n",
      "\n",
      "[CV] bootstrap=True, min_samples_leaf=1, n_estimators=100, max_features=sqrt, min_samples_split=2, max_depth=90 \n",
      "[CV] bootstrap=True, min_samples_leaf=3, n_estimators=600, max_features=sqrt, min_samples_split=10, max_depth=80 \n",
      "[CV] bootstrap=True, min_samples_leaf=3, n_estimators=500, max_features=sqrt, min_samples_split=5, max_depth=80 \n",
      "[CV] bootstrap=True, min_samples_leaf=1, n_estimators=400, max_features=sqrt, min_samples_split=2, max_depth=90 \n",
      "[CV] bootstrap=True, min_samples_leaf=1, n_estimators=100, max_features=sqrt, min_samples_split=10, max_depth=90 \n",
      "[CV] bootstrap=True, min_samples_leaf=3, n_estimators=300, max_features=sqrt, min_samples_split=5, max_depth=80 \n",
      "[CV] bootstrap=True, min_samples_leaf=3, n_estimators=100, max_features=sqrt, min_samples_split=5, max_depth=80 \n",
      "[CV] bootstrap=True, min_samples_leaf=1, n_estimators=500, max_features=sqrt, min_samples_split=2, max_depth=90 \n",
      "[CV]  bootstrap=True, min_samples_leaf=1, n_estimators=100, max_features=sqrt, min_samples_split=2, max_depth=90, total=   0.9s[CV]  bootstrap=True, min_samples_leaf=3, n_estimators=600, max_features=sqrt, min_samples_split=10, max_depth=80, total=   5.3s[CV]  bootstrap=True, min_samples_leaf=3, n_estimators=500, max_features=sqrt, min_samples_split=5, max_depth=80, total=   4.2s[CV]  bootstrap=True, min_samples_leaf=1, n_estimators=400, max_features=sqrt, min_samples_split=2, max_depth=90, total=   3.7s[CV]  bootstrap=True, min_samples_leaf=1, n_estimators=100, max_features=sqrt, min_samples_split=10, max_depth=90, total=   0.9s[CV]  bootstrap=True, min_samples_leaf=3, n_estimators=300, max_features=sqrt, min_samples_split=5, max_depth=80, total=   2.5s[CV]  bootstrap=True, min_samples_leaf=3, n_estimators=100, max_features=sqrt, min_samples_split=5, max_depth=80, total=   0.9s[CV]  bootstrap=True, min_samples_leaf=1, n_estimators=500, max_features=sqrt, min_samples_split=2, max_depth=90, total=   4.4s\n",
      "\n",
      "\n",
      "\n",
      "\n",
      "\n",
      "\n",
      "\n",
      "[CV] bootstrap=True, min_samples_leaf=1, n_estimators=200, max_features=sqrt, min_samples_split=2, max_depth=90 \n",
      "[CV] bootstrap=True, min_samples_leaf=1, n_estimators=400, max_features=sqrt, min_samples_split=2, max_depth=90 \n",
      "[CV] bootstrap=True, min_samples_leaf=3, n_estimators=200, max_features=sqrt, min_samples_split=10, max_depth=80 \n",
      "[CV] bootstrap=True, min_samples_leaf=1, n_estimators=600, max_features=sqrt, min_samples_split=2, max_depth=90 \n",
      "[CV] bootstrap=True, min_samples_leaf=1, n_estimators=200, max_features=sqrt, min_samples_split=10, max_depth=90 \n",
      "[CV] bootstrap=True, min_samples_leaf=3, n_estimators=600, max_features=sqrt, min_samples_split=5, max_depth=80 \n",
      "[CV] bootstrap=True, min_samples_leaf=3, n_estimators=200, max_features=sqrt, min_samples_split=5, max_depth=80 \n",
      "[CV] bootstrap=True, min_samples_leaf=1, n_estimators=300, max_features=sqrt, min_samples_split=5, max_depth=90 \n",
      "[CV]  bootstrap=True, min_samples_leaf=1, n_estimators=200, max_features=sqrt, min_samples_split=2, max_depth=90, total=   2.1s[CV]  bootstrap=True, min_samples_leaf=1, n_estimators=400, max_features=sqrt, min_samples_split=2, max_depth=90, total=   3.6s[CV]  bootstrap=True, min_samples_leaf=3, n_estimators=200, max_features=sqrt, min_samples_split=10, max_depth=80, total=   1.7s[CV]  bootstrap=True, min_samples_leaf=1, n_estimators=600, max_features=sqrt, min_samples_split=2, max_depth=90, total=   5.4s[CV]  bootstrap=True, min_samples_leaf=1, n_estimators=200, max_features=sqrt, min_samples_split=10, max_depth=90, total=   1.7s[CV]  bootstrap=True, min_samples_leaf=3, n_estimators=600, max_features=sqrt, min_samples_split=5, max_depth=80, total=   5.0s[CV]  bootstrap=True, min_samples_leaf=3, n_estimators=200, max_features=sqrt, min_samples_split=5, max_depth=80, total=   1.7s[CV]  bootstrap=True, min_samples_leaf=1, n_estimators=300, max_features=sqrt, min_samples_split=5, max_depth=90, total=   2.6s\n",
      "\n",
      "\n",
      "\n",
      "\n",
      "\n",
      "\n",
      "\n",
      "[CV] bootstrap=True, min_samples_leaf=1, n_estimators=300, max_features=sqrt, min_samples_split=2, max_depth=90 \n",
      "[CV] bootstrap=True, min_samples_leaf=1, n_estimators=100, max_features=sqrt, min_samples_split=5, max_depth=90 \n",
      "[CV] bootstrap=True, min_samples_leaf=3, n_estimators=400, max_features=sqrt, min_samples_split=10, max_depth=80 \n",
      "[CV] bootstrap=True, min_samples_leaf=1, n_estimators=600, max_features=sqrt, min_samples_split=5, max_depth=90 \n",
      "[CV] bootstrap=True, min_samples_leaf=1, n_estimators=400, max_features=sqrt, min_samples_split=10, max_depth=90 \n",
      "[CV] bootstrap=True, min_samples_leaf=3, n_estimators=400, max_features=sqrt, min_samples_split=10, max_depth=80 \n",
      "[CV] bootstrap=True, min_samples_leaf=3, n_estimators=400, max_features=sqrt, min_samples_split=5, max_depth=80 \n",
      "[CV] bootstrap=True, min_samples_leaf=1, n_estimators=500, max_features=sqrt, min_samples_split=5, max_depth=90 \n",
      "[CV]  bootstrap=True, min_samples_leaf=1, n_estimators=300, max_features=sqrt, min_samples_split=2, max_depth=90, total=   2.8s[CV]  bootstrap=True, min_samples_leaf=1, n_estimators=100, max_features=sqrt, min_samples_split=5, max_depth=90, total=   0.9s[CV]  bootstrap=True, min_samples_leaf=3, n_estimators=400, max_features=sqrt, min_samples_split=10, max_depth=80, total=   3.3s[CV]  bootstrap=True, min_samples_leaf=1, n_estimators=600, max_features=sqrt, min_samples_split=5, max_depth=90, total=   5.6s[CV]  bootstrap=True, min_samples_leaf=1, n_estimators=400, max_features=sqrt, min_samples_split=10, max_depth=90, total=   3.6s[CV]  bootstrap=True, min_samples_leaf=3, n_estimators=400, max_features=sqrt, min_samples_split=10, max_depth=80, total=   3.3s[CV]  bootstrap=True, min_samples_leaf=3, n_estimators=400, max_features=sqrt, min_samples_split=5, max_depth=80, total=   3.4s[CV]  bootstrap=True, min_samples_leaf=1, n_estimators=500, max_features=sqrt, min_samples_split=5, max_depth=90, total=   4.7s\n",
      "\n",
      "\n",
      "\n",
      "\n",
      "\n",
      "\n",
      "\n",
      "[CV] bootstrap=True, min_samples_leaf=1, n_estimators=600, max_features=sqrt, min_samples_split=2, max_depth=90 \n",
      "[CV] bootstrap=True, min_samples_leaf=1, n_estimators=100, max_features=sqrt, min_samples_split=5, max_depth=90 \n",
      "[CV] bootstrap=True, min_samples_leaf=3, n_estimators=600, max_features=sqrt, min_samples_split=10, max_depth=80 \n",
      "[CV] bootstrap=True, min_samples_leaf=1, n_estimators=500, max_features=sqrt, min_samples_split=10, max_depth=90 \n",
      "[CV] bootstrap=True, min_samples_leaf=1, n_estimators=600, max_features=sqrt, min_samples_split=10, max_depth=90 \n",
      "[CV] bootstrap=True, min_samples_leaf=1, n_estimators=100, max_features=sqrt, min_samples_split=2, max_depth=90 \n",
      "[CV] bootstrap=True, min_samples_leaf=3, n_estimators=100, max_features=sqrt, min_samples_split=10, max_depth=80 \n",
      "[CV] bootstrap=True, min_samples_leaf=1, n_estimators=300, max_features=sqrt, min_samples_split=10, max_depth=90 \n",
      "[CV]  bootstrap=True, min_samples_leaf=1, n_estimators=600, max_features=sqrt, min_samples_split=2, max_depth=90, total=   5.3s[CV]  bootstrap=True, min_samples_leaf=1, n_estimators=100, max_features=sqrt, min_samples_split=5, max_depth=90, total=   0.9s[CV]  bootstrap=True, min_samples_leaf=3, n_estimators=600, max_features=sqrt, min_samples_split=10, max_depth=80, total=   5.4s[CV]  bootstrap=True, min_samples_leaf=1, n_estimators=500, max_features=sqrt, min_samples_split=10, max_depth=90, total=   4.4s[CV]  bootstrap=True, min_samples_leaf=1, n_estimators=600, max_features=sqrt, min_samples_split=10, max_depth=90, total=   5.7s[CV]  bootstrap=True, min_samples_leaf=1, n_estimators=100, max_features=sqrt, min_samples_split=2, max_depth=90, total=   0.9s[CV]  bootstrap=True, min_samples_leaf=3, n_estimators=100, max_features=sqrt, min_samples_split=10, max_depth=80, total=   0.8s[CV]  bootstrap=True, min_samples_leaf=1, n_estimators=300, max_features=sqrt, min_samples_split=10, max_depth=90, total=   2.7s\n",
      "\n",
      "\n",
      "\n",
      "\n",
      "\n",
      "\n",
      "\n",
      "[CV] bootstrap=True, min_samples_leaf=1, n_estimators=500, max_features=sqrt, min_samples_split=5, max_depth=90 \n",
      "[CV] bootstrap=True, min_samples_leaf=1, n_estimators=200, max_features=sqrt, min_samples_split=5, max_depth=90 \n",
      "[CV] bootstrap=True, min_samples_leaf=1, n_estimators=500, max_features=sqrt, min_samples_split=2, max_depth=90 \n",
      "[CV] bootstrap=True, min_samples_leaf=2, n_estimators=200, max_features=sqrt, min_samples_split=2, max_depth=90 \n",
      "[CV] bootstrap=True, min_samples_leaf=2, n_estimators=500, max_features=sqrt, min_samples_split=2, max_depth=90 \n",
      "[CV] bootstrap=True, min_samples_leaf=1, n_estimators=100, max_features=sqrt, min_samples_split=2, max_depth=90 \n",
      "[CV] bootstrap=True, min_samples_leaf=3, n_estimators=200, max_features=sqrt, min_samples_split=10, max_depth=80 \n",
      "[CV] bootstrap=True, min_samples_leaf=1, n_estimators=600, max_features=sqrt, min_samples_split=10, max_depth=90 \n",
      "[CV]  bootstrap=True, min_samples_leaf=1, n_estimators=500, max_features=sqrt, min_samples_split=5, max_depth=90, total=   4.5s[CV]  bootstrap=True, min_samples_leaf=1, n_estimators=200, max_features=sqrt, min_samples_split=5, max_depth=90, total=   1.8s[CV]  bootstrap=True, min_samples_leaf=1, n_estimators=500, max_features=sqrt, min_samples_split=2, max_depth=90, total=   4.4s[CV]  bootstrap=True, min_samples_leaf=2, n_estimators=200, max_features=sqrt, min_samples_split=2, max_depth=90, total=   1.7s[CV]  bootstrap=True, min_samples_leaf=2, n_estimators=500, max_features=sqrt, min_samples_split=2, max_depth=90, total=   5.3s[CV]  bootstrap=True, min_samples_leaf=1, n_estimators=100, max_features=sqrt, min_samples_split=2, max_depth=90, total=   1.0s[CV]  bootstrap=True, min_samples_leaf=3, n_estimators=200, max_features=sqrt, min_samples_split=10, max_depth=80, total=   1.7s[CV]  bootstrap=True, min_samples_leaf=1, n_estimators=600, max_features=sqrt, min_samples_split=10, max_depth=90, total=   5.2s\n",
      "\n",
      "\n",
      "\n",
      "\n",
      "\n",
      "\n",
      "\n",
      "[CV] bootstrap=True, min_samples_leaf=1, n_estimators=200, max_features=sqrt, min_samples_split=10, max_depth=90 \n",
      "[CV] bootstrap=True, min_samples_leaf=1, n_estimators=400, max_features=sqrt, min_samples_split=5, max_depth=90 \n",
      "[CV] bootstrap=True, min_samples_leaf=1, n_estimators=300, max_features=sqrt, min_samples_split=5, max_depth=90 \n",
      "[CV] bootstrap=True, min_samples_leaf=2, n_estimators=300, max_features=sqrt, min_samples_split=2, max_depth=90 \n",
      "[CV] bootstrap=True, min_samples_leaf=2, n_estimators=300, max_features=sqrt, min_samples_split=5, max_depth=90 \n",
      "[CV] bootstrap=True, min_samples_leaf=1, n_estimators=200, max_features=sqrt, min_samples_split=2, max_depth=90 \n",
      "[CV] bootstrap=True, min_samples_leaf=3, n_estimators=300, max_features=sqrt, min_samples_split=10, max_depth=80 \n",
      "[CV] bootstrap=True, min_samples_leaf=2, n_estimators=400, max_features=sqrt, min_samples_split=2, max_depth=90 \n",
      "[CV]  bootstrap=True, min_samples_leaf=1, n_estimators=200, max_features=sqrt, min_samples_split=10, max_depth=90, total=   1.7s[CV]  bootstrap=True, min_samples_leaf=1, n_estimators=400, max_features=sqrt, min_samples_split=5, max_depth=90, total=   3.6s[CV]  bootstrap=True, min_samples_leaf=1, n_estimators=300, max_features=sqrt, min_samples_split=5, max_depth=90, total=   2.7s[CV]  bootstrap=True, min_samples_leaf=2, n_estimators=300, max_features=sqrt, min_samples_split=2, max_depth=90, total=   3.4s[CV]  bootstrap=True, min_samples_leaf=2, n_estimators=300, max_features=sqrt, min_samples_split=5, max_depth=90, total=   2.7s[CV]  bootstrap=True, min_samples_leaf=1, n_estimators=200, max_features=sqrt, min_samples_split=2, max_depth=90, total=   2.0s[CV]  bootstrap=True, min_samples_leaf=3, n_estimators=300, max_features=sqrt, min_samples_split=10, max_depth=80, total=   2.5s[CV]  bootstrap=True, min_samples_leaf=2, n_estimators=400, max_features=sqrt, min_samples_split=2, max_depth=90, total=   4.5s\n",
      "\n",
      "\n",
      "\n",
      "\n",
      "\n",
      "\n",
      "\n",
      "[CV] bootstrap=True, min_samples_leaf=1, n_estimators=300, max_features=sqrt, min_samples_split=10, max_depth=90 \n",
      "[CV] bootstrap=True, min_samples_leaf=1, n_estimators=100, max_features=sqrt, min_samples_split=10, max_depth=90 \n",
      "[CV] bootstrap=True, min_samples_leaf=1, n_estimators=500, max_features=sqrt, min_samples_split=5, max_depth=90 \n",
      "[CV] bootstrap=True, min_samples_leaf=2, n_estimators=600, max_features=sqrt, min_samples_split=2, max_depth=90 \n",
      "[CV] bootstrap=True, min_samples_leaf=2, n_estimators=500, max_features=sqrt, min_samples_split=5, max_depth=90 \n",
      "[CV] bootstrap=True, min_samples_leaf=1, n_estimators=400, max_features=sqrt, min_samples_split=2, max_depth=90 \n",
      "[CV] bootstrap=True, min_samples_leaf=3, n_estimators=600, max_features=sqrt, min_samples_split=10, max_depth=80 \n",
      "[CV] bootstrap=True, min_samples_leaf=2, n_estimators=100, max_features=sqrt, min_samples_split=5, max_depth=90 \n",
      "[CV]  bootstrap=True, min_samples_leaf=1, n_estimators=300, max_features=sqrt, min_samples_split=10, max_depth=90, total=   3.0s[CV]  bootstrap=True, min_samples_leaf=1, n_estimators=100, max_features=sqrt, min_samples_split=10, max_depth=90, total=   0.9s[CV]  bootstrap=True, min_samples_leaf=1, n_estimators=500, max_features=sqrt, min_samples_split=5, max_depth=90, total=   4.7s[CV]  bootstrap=True, min_samples_leaf=2, n_estimators=600, max_features=sqrt, min_samples_split=2, max_depth=90, total=   5.8s[CV]  bootstrap=True, min_samples_leaf=2, n_estimators=500, max_features=sqrt, min_samples_split=5, max_depth=90, total=   5.4s[CV]  bootstrap=True, min_samples_leaf=1, n_estimators=400, max_features=sqrt, min_samples_split=2, max_depth=90, total=   3.7s[CV]  bootstrap=True, min_samples_leaf=3, n_estimators=600, max_features=sqrt, min_samples_split=10, max_depth=80, total=   5.3s[CV]  bootstrap=True, min_samples_leaf=2, n_estimators=100, max_features=sqrt, min_samples_split=5, max_depth=90, total=   1.2s\n",
      "\n",
      "\n",
      "\n",
      "\n",
      "\n",
      "\n",
      "\n",
      "[CV] bootstrap=True, min_samples_leaf=1, n_estimators=600, max_features=sqrt, min_samples_split=10, max_depth=90 \n",
      "[CV] bootstrap=True, min_samples_leaf=1, n_estimators=100, max_features=sqrt, min_samples_split=10, max_depth=90 \n",
      "[CV] bootstrap=True, min_samples_leaf=1, n_estimators=300, max_features=sqrt, min_samples_split=10, max_depth=90 \n",
      "[CV] bootstrap=True, min_samples_leaf=2, n_estimators=500, max_features=sqrt, min_samples_split=5, max_depth=90 \n",
      "[CV] bootstrap=True, min_samples_leaf=2, n_estimators=300, max_features=sqrt, min_samples_split=10, max_depth=90 \n",
      "[CV] bootstrap=True, min_samples_leaf=1, n_estimators=100, max_features=sqrt, min_samples_split=5, max_depth=90 \n",
      "[CV] bootstrap=True, min_samples_leaf=1, n_estimators=500, max_features=sqrt, min_samples_split=2, max_depth=90 \n",
      "[CV] bootstrap=True, min_samples_leaf=2, n_estimators=100, max_features=sqrt, min_samples_split=5, max_depth=90 \n",
      "[CV]  bootstrap=True, min_samples_leaf=1, n_estimators=600, max_features=sqrt, min_samples_split=10, max_depth=90, total=   5.2s[CV]  bootstrap=True, min_samples_leaf=1, n_estimators=100, max_features=sqrt, min_samples_split=10, max_depth=90, total=   1.1s[CV]  bootstrap=True, min_samples_leaf=1, n_estimators=300, max_features=sqrt, min_samples_split=10, max_depth=90, total=   2.6s[CV]  bootstrap=True, min_samples_leaf=2, n_estimators=500, max_features=sqrt, min_samples_split=5, max_depth=90, total=   5.3s[CV]  bootstrap=True, min_samples_leaf=2, n_estimators=300, max_features=sqrt, min_samples_split=10, max_depth=90, total=   2.9s[CV]  bootstrap=True, min_samples_leaf=1, n_estimators=100, max_features=sqrt, min_samples_split=5, max_depth=90, total=   0.9s[CV]  bootstrap=True, min_samples_leaf=1, n_estimators=500, max_features=sqrt, min_samples_split=2, max_depth=90, total=   4.5s[CV]  bootstrap=True, min_samples_leaf=2, n_estimators=100, max_features=sqrt, min_samples_split=5, max_depth=90, total=   1.0s\n",
      "\n",
      "\n",
      "\n",
      "\n",
      "\n",
      "\n",
      "\n",
      "[CV] bootstrap=True, min_samples_leaf=2, n_estimators=500, max_features=sqrt, min_samples_split=2, max_depth=90 \n",
      "[CV] bootstrap=True, min_samples_leaf=1, n_estimators=200, max_features=sqrt, min_samples_split=10, max_depth=90 \n",
      "[CV] bootstrap=True, min_samples_leaf=1, n_estimators=500, max_features=sqrt, min_samples_split=10, max_depth=90 \n",
      "[CV] bootstrap=True, min_samples_leaf=2, n_estimators=200, max_features=sqrt, min_samples_split=10, max_depth=90 \n",
      "[CV] bootstrap=True, min_samples_leaf=2, n_estimators=500, max_features=sqrt, min_samples_split=10, max_depth=90 \n",
      "[CV] bootstrap=True, min_samples_leaf=1, n_estimators=200, max_features=sqrt, min_samples_split=5, max_depth=90 \n",
      "[CV] bootstrap=True, min_samples_leaf=1, n_estimators=200, max_features=sqrt, min_samples_split=5, max_depth=90 \n",
      "[CV] bootstrap=True, min_samples_leaf=2, n_estimators=200, max_features=sqrt, min_samples_split=5, max_depth=90 \n",
      "[CV]  bootstrap=True, min_samples_leaf=2, n_estimators=500, max_features=sqrt, min_samples_split=2, max_depth=90, total=   5.3s[CV]  bootstrap=True, min_samples_leaf=1, n_estimators=200, max_features=sqrt, min_samples_split=10, max_depth=90, total=   1.7s[CV]  bootstrap=True, min_samples_leaf=1, n_estimators=500, max_features=sqrt, min_samples_split=10, max_depth=90, total=   4.3s[CV]  bootstrap=True, min_samples_leaf=2, n_estimators=200, max_features=sqrt, min_samples_split=10, max_depth=90, total=   2.0s[CV]  bootstrap=True, min_samples_leaf=2, n_estimators=500, max_features=sqrt, min_samples_split=10, max_depth=90, total=   4.5s[CV]  bootstrap=True, min_samples_leaf=1, n_estimators=200, max_features=sqrt, min_samples_split=5, max_depth=90, total=   1.7s[CV]  bootstrap=True, min_samples_leaf=1, n_estimators=200, max_features=sqrt, min_samples_split=5, max_depth=90, total=   1.7s[CV]  bootstrap=True, min_samples_leaf=2, n_estimators=200, max_features=sqrt, min_samples_split=5, max_depth=90, total=   1.8s\n",
      "\n",
      "\n",
      "\n",
      "\n",
      "\n",
      "\n",
      "\n",
      "[CV] bootstrap=True, min_samples_leaf=2, n_estimators=200, max_features=sqrt, min_samples_split=5, max_depth=90 \n",
      "[CV] bootstrap=True, min_samples_leaf=1, n_estimators=400, max_features=sqrt, min_samples_split=10, max_depth=90 \n",
      "[CV] bootstrap=True, min_samples_leaf=2, n_estimators=300, max_features=sqrt, min_samples_split=2, max_depth=90 \n",
      "[CV] bootstrap=True, min_samples_leaf=2, n_estimators=400, max_features=sqrt, min_samples_split=10, max_depth=90 \n",
      "[CV] bootstrap=True, min_samples_leaf=3, n_estimators=300, max_features=sqrt, min_samples_split=2, max_depth=90 \n",
      "[CV] bootstrap=True, min_samples_leaf=1, n_estimators=300, max_features=sqrt, min_samples_split=5, max_depth=90 \n",
      "[CV] bootstrap=True, min_samples_leaf=1, n_estimators=400, max_features=sqrt, min_samples_split=5, max_depth=90 \n",
      "[CV] bootstrap=True, min_samples_leaf=2, n_estimators=400, max_features=sqrt, min_samples_split=5, max_depth=90 \n",
      "[CV]  bootstrap=True, min_samples_leaf=2, n_estimators=200, max_features=sqrt, min_samples_split=5, max_depth=90, total=   1.8s[CV]  bootstrap=True, min_samples_leaf=1, n_estimators=400, max_features=sqrt, min_samples_split=10, max_depth=90, total=   3.5s[CV]  bootstrap=True, min_samples_leaf=2, n_estimators=300, max_features=sqrt, min_samples_split=2, max_depth=90, total=   3.1s[CV]  bootstrap=True, min_samples_leaf=2, n_estimators=400, max_features=sqrt, min_samples_split=10, max_depth=90, total=   3.8s[CV]  bootstrap=True, min_samples_leaf=3, n_estimators=300, max_features=sqrt, min_samples_split=2, max_depth=90, total=   2.6s[CV]  bootstrap=True, min_samples_leaf=1, n_estimators=300, max_features=sqrt, min_samples_split=5, max_depth=90, total=   2.7s[CV]  bootstrap=True, min_samples_leaf=1, n_estimators=400, max_features=sqrt, min_samples_split=5, max_depth=90, total=   3.6s[CV]  bootstrap=True, min_samples_leaf=2, n_estimators=400, max_features=sqrt, min_samples_split=5, max_depth=90, total=   4.3s\n",
      "\n",
      "\n",
      "\n",
      "\n",
      "\n",
      "\n",
      "\n",
      "[CV] bootstrap=True, min_samples_leaf=2, n_estimators=400, max_features=sqrt, min_samples_split=5, max_depth=90 \n",
      "[CV] bootstrap=True, min_samples_leaf=2, n_estimators=100, max_features=sqrt, min_samples_split=2, max_depth=90 \n",
      "[CV] bootstrap=True, min_samples_leaf=2, n_estimators=500, max_features=sqrt, min_samples_split=2, max_depth=90 \n",
      "[CV] bootstrap=True, min_samples_leaf=2, n_estimators=600, max_features=sqrt, min_samples_split=10, max_depth=90 \n",
      "[CV] bootstrap=True, min_samples_leaf=3, n_estimators=500, max_features=sqrt, min_samples_split=2, max_depth=90 \n",
      "[CV] bootstrap=True, min_samples_leaf=1, n_estimators=600, max_features=sqrt, min_samples_split=5, max_depth=90 \n",
      "[CV] bootstrap=True, min_samples_leaf=1, n_estimators=600, max_features=sqrt, min_samples_split=5, max_depth=90 \n",
      "[CV] bootstrap=True, min_samples_leaf=2, n_estimators=100, max_features=sqrt, min_samples_split=10, max_depth=90 \n",
      "[CV]  bootstrap=True, min_samples_leaf=2, n_estimators=400, max_features=sqrt, min_samples_split=5, max_depth=90, total=   3.9s[CV]  bootstrap=True, min_samples_leaf=2, n_estimators=100, max_features=sqrt, min_samples_split=2, max_depth=90, total=   0.9s[CV]  bootstrap=True, min_samples_leaf=2, n_estimators=500, max_features=sqrt, min_samples_split=2, max_depth=90, total=   5.1s[CV]  bootstrap=True, min_samples_leaf=2, n_estimators=600, max_features=sqrt, min_samples_split=10, max_depth=90, total=   5.2s[CV]  bootstrap=True, min_samples_leaf=3, n_estimators=500, max_features=sqrt, min_samples_split=2, max_depth=90, total=   4.3s[CV]  bootstrap=True, min_samples_leaf=1, n_estimators=600, max_features=sqrt, min_samples_split=5, max_depth=90, total=   5.3s[CV]  bootstrap=True, min_samples_leaf=1, n_estimators=600, max_features=sqrt, min_samples_split=5, max_depth=90, total=   5.4s[CV]  bootstrap=True, min_samples_leaf=2, n_estimators=100, max_features=sqrt, min_samples_split=10, max_depth=90, total=   0.9s\n",
      "\n",
      "\n",
      "\n",
      "\n",
      "\n",
      "\n",
      "\n",
      "[CV] bootstrap=True, min_samples_leaf=2, n_estimators=600, max_features=sqrt, min_samples_split=5, max_depth=90 \n",
      "[CV] bootstrap=True, min_samples_leaf=2, n_estimators=100, max_features=sqrt, min_samples_split=2, max_depth=90 \n",
      "[CV] bootstrap=True, min_samples_leaf=2, n_estimators=300, max_features=sqrt, min_samples_split=5, max_depth=90 \n",
      "[CV] bootstrap=True, min_samples_leaf=3, n_estimators=500, max_features=sqrt, min_samples_split=2, max_depth=90 \n",
      "[CV] bootstrap=True, min_samples_leaf=3, n_estimators=300, max_features=sqrt, min_samples_split=5, max_depth=90 \n",
      "[CV] bootstrap=True, min_samples_leaf=1, n_estimators=400, max_features=sqrt, min_samples_split=10, max_depth=90 \n",
      "[CV] bootstrap=True, min_samples_leaf=1, n_estimators=500, max_features=sqrt, min_samples_split=10, max_depth=90 \n",
      "[CV] bootstrap=True, min_samples_leaf=2, n_estimators=100, max_features=sqrt, min_samples_split=10, max_depth=90 \n",
      "[CV]  bootstrap=True, min_samples_leaf=2, n_estimators=600, max_features=sqrt, min_samples_split=5, max_depth=90, total=   6.1s[CV]  bootstrap=True, min_samples_leaf=2, n_estimators=100, max_features=sqrt, min_samples_split=2, max_depth=90, total=   0.9s[CV]  bootstrap=True, min_samples_leaf=2, n_estimators=300, max_features=sqrt, min_samples_split=5, max_depth=90, total=   2.7s[CV]  bootstrap=True, min_samples_leaf=3, n_estimators=500, max_features=sqrt, min_samples_split=2, max_depth=90, total=   4.3s[CV]  bootstrap=True, min_samples_leaf=3, n_estimators=300, max_features=sqrt, min_samples_split=5, max_depth=90, total=   2.6s[CV]  bootstrap=True, min_samples_leaf=1, n_estimators=400, max_features=sqrt, min_samples_split=10, max_depth=90, total=   3.8s[CV]  bootstrap=True, min_samples_leaf=1, n_estimators=500, max_features=sqrt, min_samples_split=10, max_depth=90, total=   4.6s[CV]  bootstrap=True, min_samples_leaf=2, n_estimators=100, max_features=sqrt, min_samples_split=10, max_depth=90, total=   1.0s\n",
      "\n",
      "\n",
      "\n",
      "\n",
      "\n",
      "\n",
      "\n",
      "[CV] bootstrap=True, min_samples_leaf=2, n_estimators=500, max_features=sqrt, min_samples_split=10, max_depth=90 \n",
      "[CV] bootstrap=True, min_samples_leaf=2, n_estimators=200, max_features=sqrt, min_samples_split=2, max_depth=90 \n",
      "[CV] bootstrap=True, min_samples_leaf=2, n_estimators=500, max_features=sqrt, min_samples_split=5, max_depth=90 \n",
      "[CV] bootstrap=True, min_samples_leaf=3, n_estimators=300, max_features=sqrt, min_samples_split=5, max_depth=90 \n",
      "[CV] bootstrap=True, min_samples_leaf=3, n_estimators=500, max_features=sqrt, min_samples_split=5, max_depth=90 \n",
      "[CV] bootstrap=True, min_samples_leaf=2, n_estimators=100, max_features=sqrt, min_samples_split=2, max_depth=90 \n",
      "[CV] bootstrap=True, min_samples_leaf=2, n_estimators=300, max_features=sqrt, min_samples_split=2, max_depth=90 \n",
      "[CV] bootstrap=True, min_samples_leaf=2, n_estimators=200, max_features=sqrt, min_samples_split=10, max_depth=90 \n",
      "[CV]  bootstrap=True, min_samples_leaf=2, n_estimators=500, max_features=sqrt, min_samples_split=10, max_depth=90, total=   4.6s[CV]  bootstrap=True, min_samples_leaf=2, n_estimators=200, max_features=sqrt, min_samples_split=2, max_depth=90, total=   1.9s[CV]  bootstrap=True, min_samples_leaf=2, n_estimators=500, max_features=sqrt, min_samples_split=5, max_depth=90, total=   5.4s[CV]  bootstrap=True, min_samples_leaf=3, n_estimators=300, max_features=sqrt, min_samples_split=5, max_depth=90, total=   2.6s[CV]  bootstrap=True, min_samples_leaf=3, n_estimators=500, max_features=sqrt, min_samples_split=5, max_depth=90, total=   4.2s[CV]  bootstrap=True, min_samples_leaf=2, n_estimators=100, max_features=sqrt, min_samples_split=2, max_depth=90, total=   0.9s[CV]  bootstrap=True, min_samples_leaf=2, n_estimators=300, max_features=sqrt, min_samples_split=2, max_depth=90, total=   3.3s[CV]  bootstrap=True, min_samples_leaf=2, n_estimators=200, max_features=sqrt, min_samples_split=10, max_depth=90, total=   2.1s\n",
      "\n",
      "\n",
      "\n",
      "\n",
      "\n",
      "\n",
      "\n"
     ]
    }
   ],
   "source": [
    "grid_search.fit(X_train_std, y_train)"
   ]
  },
  {
   "cell_type": "code",
   "execution_count": 304,
   "metadata": {
    "collapsed": false
   },
   "outputs": [],
   "source": [
    "best = grid_search.best_params_"
   ]
  },
  {
   "cell_type": "code",
   "execution_count": 305,
   "metadata": {
    "collapsed": false
   },
   "outputs": [
    {
     "name": "stdout",
     "output_type": "stream",
     "text": [
      "The best parametmers are {'bootstrap': True, 'min_samples_leaf': 1, 'n_estimators': 300, 'min_samples_split': 2, 'max_features': 'sqrt', 'max_depth': 100} and the accuracy is 0.736891385768\n"
     ]
    }
   ],
   "source": [
    "print 'The best parametmers are {} and the accuracy is {}'.format(best, accuracy_score(y_test, grid_search.predict(X_test_std)))"
   ]
  },
  {
   "cell_type": "code",
   "execution_count": null,
   "metadata": {
    "collapsed": true
   },
   "outputs": [],
   "source": []
  },
  {
   "cell_type": "markdown",
   "metadata": {},
   "source": [
    "# --------------------------"
   ]
  }
 ],
 "metadata": {
  "kernelspec": {
   "display_name": "Python 2",
   "language": "python",
   "name": "python2"
  },
  "language_info": {
   "codemirror_mode": {
    "name": "ipython",
    "version": 2
   },
   "file_extension": ".py",
   "mimetype": "text/x-python",
   "name": "python",
   "nbconvert_exporter": "python",
   "pygments_lexer": "ipython2",
   "version": "2.7.11"
  }
 },
 "nbformat": 4,
 "nbformat_minor": 0
}
